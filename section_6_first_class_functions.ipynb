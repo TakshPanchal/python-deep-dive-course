{
 "cells": [
  {
   "cell_type": "markdown",
   "metadata": {},
   "source": [
    "# 6. First Class Functions"
   ]
  },
  {
   "cell_type": "markdown",
   "metadata": {},
   "source": [
    "## Function Annotation and Documentation\n",
    "\n",
    "We can document our functions, modules, classes by defining `docstring` in the code."
   ]
  },
  {
   "cell_type": "markdown",
   "metadata": {},
   "source": [
    "#### Docstring\n",
    "\n",
    "`docstring` is a string(not comment) which is the first line of the function body. \n",
    "\n",
    "```\n",
    "def my_func(a):\n",
    "    \"Document for my_func\"\n",
    "    return a\n",
    "```\n",
    "\n",
    "\n",
    "for more info read PEP 257."
   ]
  },
  {
   "cell_type": "code",
   "execution_count": null,
   "metadata": {},
   "outputs": [],
   "source": [
    "help(print)"
   ]
  },
  {
   "cell_type": "code",
   "execution_count": null,
   "metadata": {},
   "outputs": [],
   "source": [
    "print.__doc__"
   ]
  },
  {
   "cell_type": "code",
   "execution_count": 19,
   "metadata": {},
   "outputs": [],
   "source": [
    "def my_func(a, b = 1):\n",
    "    # Some comment\n",
    "    # \"Some comment here\"\n",
    "    '''Returns a * b\n",
    "    \n",
    "    Some additional docs here\n",
    "    \n",
    "    Inputs:\n",
    "    \n",
    "    Outputs:\n",
    "    \n",
    "    '''\n",
    "    return a * b"
   ]
  },
  {
   "cell_type": "code",
   "execution_count": 20,
   "metadata": {},
   "outputs": [
    {
     "name": "stdout",
     "output_type": "stream",
     "text": [
      "Help on function my_func in module __main__:\n",
      "\n",
      "my_func(a, b=1)\n",
      "    Returns a * b\n",
      "    \n",
      "    Some additional docs here\n",
      "    \n",
      "    Inputs:\n",
      "    \n",
      "    Outputs:\n",
      "\n"
     ]
    }
   ],
   "source": [
    "help(my_func)"
   ]
  },
  {
   "cell_type": "code",
   "execution_count": 21,
   "metadata": {},
   "outputs": [
    {
     "data": {
      "text/plain": [
       "'Returns a * b\\n    \\n    Some additional docs here\\n    \\n    Inputs:\\n    \\n    Outputs:\\n    \\n    '"
      ]
     },
     "execution_count": 21,
     "metadata": {},
     "output_type": "execute_result"
    }
   ],
   "source": [
    "my_func.__doc__"
   ]
  },
  {
   "cell_type": "markdown",
   "metadata": {},
   "source": [
    "Annotations can be any expressions.\n",
    "\n",
    "Annotations doesn't get stored in `__doc__` variable\n",
    "\n",
    "This is just a metadata, it doesn't affect in running function anyway. It just attached to the function for helping developers to understand. Mainly used by external tools or modules like `help` function. \n",
    "\n",
    "Sphinx is the app that generates documentation by scanning through docstrings and annotations from different functions and classes.\n",
    "\n",
    "Note that annotation expressions are run at definition time of the function."
   ]
  },
  {
   "cell_type": "code",
   "execution_count": 22,
   "metadata": {},
   "outputs": [],
   "source": [
    "def my_func(a: \"A param\", b: 'a Param') -> \"A string\":\n",
    "    pass"
   ]
  },
  {
   "cell_type": "code",
   "execution_count": 23,
   "metadata": {},
   "outputs": [
    {
     "data": {
      "text/plain": [
       "{'a': 'A param', 'b': 'a Param', 'return': 'A string'}"
      ]
     },
     "execution_count": 23,
     "metadata": {},
     "output_type": "execute_result"
    }
   ],
   "source": [
    "my_func.__annotations__"
   ]
  },
  {
   "cell_type": "markdown",
   "metadata": {},
   "source": [
    "## Lambda EXpression\n",
    "\n",
    "Another simple way of defining a function. It is also called as anonymous function."
   ]
  },
  {
   "cell_type": "markdown",
   "metadata": {},
   "source": [
    "In general, a function has a name, parameters and some code that returns something.\n",
    "\n",
    "```lambda [parameter list] : expression```\n",
    "\n",
    "`lambda` : is keyword\n",
    "\n",
    "parameter list is optional\n",
    "\n",
    "`expression` : is evaluated at the run time\n",
    "\n",
    "The whole expression returns a `function` object which also can be assigned to a variable which can be called later. \n",
    "\n",
    "function does not named at the time of definition that is why it is called an anonymous function."
   ]
  },
  {
   "cell_type": "code",
   "execution_count": 30,
   "metadata": {},
   "outputs": [
    {
     "data": {
      "text/plain": [
       "529"
      ]
     },
     "execution_count": 30,
     "metadata": {},
     "output_type": "execute_result"
    }
   ],
   "source": [
    "(lambda x : x**2)(23)"
   ]
  },
  {
   "cell_type": "code",
   "execution_count": 31,
   "metadata": {},
   "outputs": [
    {
     "name": "stdout",
     "output_type": "stream",
     "text": [
      "3\n"
     ]
    }
   ],
   "source": [
    "f1 = lambda x, y = 10: x + y\n",
    "print(f1(1, 2))"
   ]
  },
  {
   "cell_type": "code",
   "execution_count": 29,
   "metadata": {},
   "outputs": [
    {
     "data": {
      "text/plain": [
       "function"
      ]
     },
     "execution_count": 29,
     "metadata": {},
     "output_type": "execute_result"
    }
   ],
   "source": [
    "type(lambda : \"Hello\")"
   ]
  },
  {
   "cell_type": "markdown",
   "metadata": {},
   "source": [
    "Note: lambda function and normal function which is defined using `def` have nothing special diff between them.\n",
    "\n",
    "Main use case of lambda function is that it can be easily defined when we are passing it to a higher order functions.\n",
    "\n",
    "**Limitations**:\n",
    "\n",
    "Body of the lambda is limited to single expression. You can not assignments in the `lambda` functions.\n",
    "\n",
    "You can not annotate parameters"
   ]
  },
  {
   "cell_type": "markdown",
   "metadata": {},
   "source": [
    "## Lambda and Sort"
   ]
  },
  {
   "cell_type": "markdown",
   "metadata": {},
   "source": [
    "See the key function. \n",
    "\n",
    "ps. It is not in-place sort."
   ]
  },
  {
   "cell_type": "code",
   "execution_count": 32,
   "metadata": {},
   "outputs": [
    {
     "name": "stdout",
     "output_type": "stream",
     "text": [
      "Help on built-in function sorted in module builtins:\n",
      "\n",
      "sorted(iterable, /, *, key=None, reverse=False)\n",
      "    Return a new list containing all items from the iterable in ascending order.\n",
      "    \n",
      "    A custom key function can be supplied to customize the sort order, and the\n",
      "    reverse flag can be set to request the result in descending order.\n",
      "\n"
     ]
    }
   ],
   "source": [
    "help(sorted)"
   ]
  },
  {
   "cell_type": "code",
   "execution_count": 33,
   "metadata": {},
   "outputs": [
    {
     "data": {
      "text/plain": [
       "[1, 2, 3]"
      ]
     },
     "execution_count": 33,
     "metadata": {},
     "output_type": "execute_result"
    }
   ],
   "source": [
    "l = [1, 2, 3,]\n",
    "sorted(l)"
   ]
  },
  {
   "cell_type": "code",
   "execution_count": 35,
   "metadata": {},
   "outputs": [
    {
     "data": {
      "text/plain": [
       "(65, 97)"
      ]
     },
     "execution_count": 35,
     "metadata": {},
     "output_type": "execute_result"
    }
   ],
   "source": [
    "l = ['B' , 'a' , 'c', 'Z']\n",
    "ord('A'), ord('a')"
   ]
  },
  {
   "cell_type": "code",
   "execution_count": 36,
   "metadata": {},
   "outputs": [
    {
     "data": {
      "text/plain": [
       "['a', 'B', 'c', 'Z']"
      ]
     },
     "execution_count": 36,
     "metadata": {},
     "output_type": "execute_result"
    }
   ],
   "source": [
    "sorted(l, key=lambda c : c.upper())"
   ]
  },
  {
   "cell_type": "markdown",
   "metadata": {},
   "source": [
    "Challenge: Randomizing an Iterable using `sorted`"
   ]
  },
  {
   "cell_type": "code",
   "execution_count": 38,
   "metadata": {},
   "outputs": [
    {
     "name": "stdout",
     "output_type": "stream",
     "text": [
      "Help on built-in function random:\n",
      "\n",
      "random() method of random.Random instance\n",
      "    random() -> x in the interval [0, 1).\n",
      "\n"
     ]
    }
   ],
   "source": [
    "import random\n",
    "\n",
    "help(random.random)"
   ]
  },
  {
   "cell_type": "code",
   "execution_count": 40,
   "metadata": {},
   "outputs": [
    {
     "data": {
      "text/plain": [
       "0.5449601537845314"
      ]
     },
     "execution_count": 40,
     "metadata": {},
     "output_type": "execute_result"
    }
   ],
   "source": [
    "random.random()"
   ]
  },
  {
   "cell_type": "code",
   "execution_count": 45,
   "metadata": {},
   "outputs": [
    {
     "data": {
      "text/plain": [
       "[3, 5, 1, 4, 2]"
      ]
     },
     "execution_count": 45,
     "metadata": {},
     "output_type": "execute_result"
    }
   ],
   "source": [
    "ls = [1, 2, 3, 4, 5]\n",
    "\n",
    "sorted(ls, key= lambda _ :random.random())"
   ]
  },
  {
   "cell_type": "markdown",
   "metadata": {},
   "source": [
    "## Function Introspection"
   ]
  },
  {
   "cell_type": "code",
   "execution_count": 46,
   "metadata": {},
   "outputs": [
    {
     "name": "stdout",
     "output_type": "stream",
     "text": [
      "Help on built-in function dir in module builtins:\n",
      "\n",
      "dir(...)\n",
      "    dir([object]) -> list of strings\n",
      "    \n",
      "    If called without an argument, return the names in the current scope.\n",
      "    Else, return an alphabetized list of names comprising (some of) the attributes\n",
      "    of the given object, and of attributes reachable from it.\n",
      "    If the object supplies a method named __dir__, it will be used; otherwise\n",
      "    the default dir() logic is used and returns:\n",
      "      for a module object: the module's attributes.\n",
      "      for a class object:  its attributes, and recursively the attributes\n",
      "        of its bases.\n",
      "      for any other object: its attributes, its class's attributes, and\n",
      "        recursively the attributes of its class's base classes.\n",
      "\n"
     ]
    }
   ],
   "source": [
    "help(dir)"
   ]
  },
  {
   "cell_type": "code",
   "execution_count": 49,
   "metadata": {},
   "outputs": [
    {
     "name": "stdout",
     "output_type": "stream",
     "text": [
      "['In', 'Out', '_', '_18', '_2', '_21', '_23', '_24', '_25', '_28', '_29', '_30', '_33', '_34', '_35', '_36', '_40', '_44', '_45', '_47', '_48', '_5', '__', '___', '__builtin__', '__builtins__', '__doc__', '__loader__', '__name__', '__package__', '__spec__', '__vsc_ipynb_file__', '_dh', '_i', '_i1', '_i10', '_i11', '_i12', '_i13', '_i14', '_i15', '_i16', '_i17', '_i18', '_i19', '_i2', '_i20', '_i21', '_i22', '_i23', '_i24', '_i25', '_i26', '_i27', '_i28', '_i29', '_i3', '_i30', '_i31', '_i32', '_i33', '_i34', '_i35', '_i36', '_i37', '_i38', '_i39', '_i4', '_i40', '_i41', '_i42', '_i43', '_i44', '_i45', '_i46', '_i47', '_i48', '_i49', '_i5', '_i6', '_i7', '_i8', '_i9', '_ih', '_ii', '_iii', '_oh', 'exit', 'f1', 'get_ipython', 'l', 'ls', 'my_func', 'open', 'quit', 'random']\n"
     ]
    }
   ],
   "source": [
    "len(dir())\n",
    "print(dir())"
   ]
  },
  {
   "cell_type": "code",
   "execution_count": 54,
   "metadata": {},
   "outputs": [
    {
     "data": {
      "text/plain": [
       "['__call__',\n",
       " '__class__',\n",
       " '__delattr__',\n",
       " '__dir__',\n",
       " '__doc__',\n",
       " '__eq__',\n",
       " '__format__',\n",
       " '__ge__',\n",
       " '__getattribute__',\n",
       " '__gt__',\n",
       " '__hash__',\n",
       " '__init__',\n",
       " '__init_subclass__',\n",
       " '__le__',\n",
       " '__lt__',\n",
       " '__module__',\n",
       " '__name__',\n",
       " '__ne__',\n",
       " '__new__',\n",
       " '__qualname__',\n",
       " '__reduce__',\n",
       " '__reduce_ex__',\n",
       " '__repr__',\n",
       " '__self__',\n",
       " '__setattr__',\n",
       " '__sizeof__',\n",
       " '__str__',\n",
       " '__subclasshook__',\n",
       " '__text_signature__']"
      ]
     },
     "execution_count": 54,
     "metadata": {},
     "output_type": "execute_result"
    }
   ],
   "source": [
    "dir(print)"
   ]
  },
  {
   "cell_type": "code",
   "execution_count": 63,
   "metadata": {},
   "outputs": [
    {
     "name": "stdout",
     "output_type": "stream",
     "text": [
      "['__annotations__', '__call__', '__class__', '__closure__', '__code__', '__defaults__', '__delattr__', '__dict__', '__dir__', '__doc__', '__eq__', '__format__', '__ge__', '__get__', '__getattribute__', '__globals__', '__gt__', '__hash__', '__init__', '__init_subclass__', '__kwdefaults__', '__le__', '__lt__', '__module__', '__name__', '__ne__', '__new__', '__qualname__', '__reduce__', '__reduce_ex__', '__repr__', '__setattr__', '__sizeof__', '__str__', '__subclasshook__', 'param']\n"
     ]
    }
   ],
   "source": [
    "# TODO: Implement this function\n",
    "# Some more info\n",
    "def my_func(a):\n",
    "    'A doc string'\n",
    "    # comment inside of the function.\n",
    "    return a    \n",
    "\n",
    "my_func.param = 1\n",
    "print(dir(my_func))"
   ]
  },
  {
   "cell_type": "code",
   "execution_count": 64,
   "metadata": {},
   "outputs": [
    {
     "name": "stdout",
     "output_type": "stream",
     "text": [
      "my_func\n"
     ]
    }
   ],
   "source": [
    "print(my_func.__name__)"
   ]
  },
  {
   "cell_type": "markdown",
   "metadata": {},
   "source": [
    "`inspect` module makes accessing metadata of a objects easier."
   ]
  },
  {
   "cell_type": "code",
   "execution_count": 104,
   "metadata": {},
   "outputs": [
    {
     "name": "stdout",
     "output_type": "stream",
     "text": [
      "Help on module inspect:\n",
      "\n",
      "NAME\n",
      "    inspect - Get useful information from live Python objects.\n",
      "\n",
      "MODULE REFERENCE\n",
      "    https://docs.python.org/3.9/library/inspect\n",
      "    \n",
      "    The following documentation is automatically generated from the Python\n",
      "    source files.  It may be incomplete, incorrect or include features that\n",
      "    are considered implementation detail and may vary between Python\n",
      "    implementations.  When in doubt, consult the module reference at the\n",
      "    location listed above.\n",
      "\n",
      "DESCRIPTION\n",
      "    This module encapsulates the interface provided by the internal special\n",
      "    attributes (co_*, im_*, tb_*, etc.) in a friendlier fashion.\n",
      "    It also provides some help for examining source code and class layout.\n",
      "    \n",
      "    Here are some of the useful functions provided by this module:\n",
      "    \n",
      "        ismodule(), isclass(), ismethod(), isfunction(), isgeneratorfunction(),\n",
      "            isgenerator(), istraceback(), isframe(), iscode(), isbuiltin(),\n",
      "            isroutine() - check object types\n",
      "        getmembers() - get members of an object that satisfy a given condition\n",
      "    \n",
      "        getfile(), getsourcefile(), getsource() - find an object's source code\n",
      "        getdoc(), getcomments() - get documentation on an object\n",
      "        getmodule() - determine the module that an object came from\n",
      "        getclasstree() - arrange classes so as to represent their hierarchy\n",
      "    \n",
      "        getargvalues(), getcallargs() - get info about function arguments\n",
      "        getfullargspec() - same, with support for Python 3 features\n",
      "        formatargvalues() - format an argument spec\n",
      "        getouterframes(), getinnerframes() - get info about frames\n",
      "        currentframe() - get the current stack frame\n",
      "        stack(), trace() - get info about frames on the stack or in a traceback\n",
      "    \n",
      "        signature() - get a Signature object for the callable\n",
      "\n",
      "CLASSES\n",
      "    builtins.Exception(builtins.BaseException)\n",
      "        ClassFoundException\n",
      "        EndOfBlock\n",
      "    builtins.object\n",
      "        BlockFinder\n",
      "        BoundArguments\n",
      "        Parameter\n",
      "        Signature\n",
      "    builtins.tuple(builtins.object)\n",
      "        ArgInfo\n",
      "        ArgSpec\n",
      "        Arguments\n",
      "        Attribute\n",
      "        ClosureVars\n",
      "        FrameInfo\n",
      "        FullArgSpec\n",
      "        Traceback\n",
      "    \n",
      "    class ArgInfo(builtins.tuple)\n",
      "     |  ArgInfo(args, varargs, keywords, locals)\n",
      "     |  \n",
      "     |  ArgInfo(args, varargs, keywords, locals)\n",
      "     |  \n",
      "     |  Method resolution order:\n",
      "     |      ArgInfo\n",
      "     |      builtins.tuple\n",
      "     |      builtins.object\n",
      "     |  \n",
      "     |  Methods defined here:\n",
      "     |  \n",
      "     |  __getnewargs__(self)\n",
      "     |      Return self as a plain tuple.  Used by copy and pickle.\n",
      "     |  \n",
      "     |  __repr__(self)\n",
      "     |      Return a nicely formatted representation string\n",
      "     |  \n",
      "     |  _asdict(self)\n",
      "     |      Return a new dict which maps field names to their values.\n",
      "     |  \n",
      "     |  _replace(self, /, **kwds)\n",
      "     |      Return a new ArgInfo object replacing specified fields with new values\n",
      "     |  \n",
      "     |  ----------------------------------------------------------------------\n",
      "     |  Class methods defined here:\n",
      "     |  \n",
      "     |  _make(iterable) from builtins.type\n",
      "     |      Make a new ArgInfo object from a sequence or iterable\n",
      "     |  \n",
      "     |  ----------------------------------------------------------------------\n",
      "     |  Static methods defined here:\n",
      "     |  \n",
      "     |  __new__(_cls, args, varargs, keywords, locals)\n",
      "     |      Create new instance of ArgInfo(args, varargs, keywords, locals)\n",
      "     |  \n",
      "     |  ----------------------------------------------------------------------\n",
      "     |  Data descriptors defined here:\n",
      "     |  \n",
      "     |  args\n",
      "     |      Alias for field number 0\n",
      "     |  \n",
      "     |  varargs\n",
      "     |      Alias for field number 1\n",
      "     |  \n",
      "     |  keywords\n",
      "     |      Alias for field number 2\n",
      "     |  \n",
      "     |  locals\n",
      "     |      Alias for field number 3\n",
      "     |  \n",
      "     |  ----------------------------------------------------------------------\n",
      "     |  Data and other attributes defined here:\n",
      "     |  \n",
      "     |  _field_defaults = {}\n",
      "     |  \n",
      "     |  _fields = ('args', 'varargs', 'keywords', 'locals')\n",
      "     |  \n",
      "     |  ----------------------------------------------------------------------\n",
      "     |  Methods inherited from builtins.tuple:\n",
      "     |  \n",
      "     |  __add__(self, value, /)\n",
      "     |      Return self+value.\n",
      "     |  \n",
      "     |  __contains__(self, key, /)\n",
      "     |      Return key in self.\n",
      "     |  \n",
      "     |  __eq__(self, value, /)\n",
      "     |      Return self==value.\n",
      "     |  \n",
      "     |  __ge__(self, value, /)\n",
      "     |      Return self>=value.\n",
      "     |  \n",
      "     |  __getattribute__(self, name, /)\n",
      "     |      Return getattr(self, name).\n",
      "     |  \n",
      "     |  __getitem__(self, key, /)\n",
      "     |      Return self[key].\n",
      "     |  \n",
      "     |  __gt__(self, value, /)\n",
      "     |      Return self>value.\n",
      "     |  \n",
      "     |  __hash__(self, /)\n",
      "     |      Return hash(self).\n",
      "     |  \n",
      "     |  __iter__(self, /)\n",
      "     |      Implement iter(self).\n",
      "     |  \n",
      "     |  __le__(self, value, /)\n",
      "     |      Return self<=value.\n",
      "     |  \n",
      "     |  __len__(self, /)\n",
      "     |      Return len(self).\n",
      "     |  \n",
      "     |  __lt__(self, value, /)\n",
      "     |      Return self<value.\n",
      "     |  \n",
      "     |  __mul__(self, value, /)\n",
      "     |      Return self*value.\n",
      "     |  \n",
      "     |  __ne__(self, value, /)\n",
      "     |      Return self!=value.\n",
      "     |  \n",
      "     |  __rmul__(self, value, /)\n",
      "     |      Return value*self.\n",
      "     |  \n",
      "     |  count(self, value, /)\n",
      "     |      Return number of occurrences of value.\n",
      "     |  \n",
      "     |  index(self, value, start=0, stop=9223372036854775807, /)\n",
      "     |      Return first index of value.\n",
      "     |      \n",
      "     |      Raises ValueError if the value is not present.\n",
      "     |  \n",
      "     |  ----------------------------------------------------------------------\n",
      "     |  Class methods inherited from builtins.tuple:\n",
      "     |  \n",
      "     |  __class_getitem__(...) from builtins.type\n",
      "     |      See PEP 585\n",
      "    \n",
      "    class ArgSpec(builtins.tuple)\n",
      "     |  ArgSpec(args, varargs, keywords, defaults)\n",
      "     |  \n",
      "     |  ArgSpec(args, varargs, keywords, defaults)\n",
      "     |  \n",
      "     |  Method resolution order:\n",
      "     |      ArgSpec\n",
      "     |      builtins.tuple\n",
      "     |      builtins.object\n",
      "     |  \n",
      "     |  Methods defined here:\n",
      "     |  \n",
      "     |  __getnewargs__(self)\n",
      "     |      Return self as a plain tuple.  Used by copy and pickle.\n",
      "     |  \n",
      "     |  __repr__(self)\n",
      "     |      Return a nicely formatted representation string\n",
      "     |  \n",
      "     |  _asdict(self)\n",
      "     |      Return a new dict which maps field names to their values.\n",
      "     |  \n",
      "     |  _replace(self, /, **kwds)\n",
      "     |      Return a new ArgSpec object replacing specified fields with new values\n",
      "     |  \n",
      "     |  ----------------------------------------------------------------------\n",
      "     |  Class methods defined here:\n",
      "     |  \n",
      "     |  _make(iterable) from builtins.type\n",
      "     |      Make a new ArgSpec object from a sequence or iterable\n",
      "     |  \n",
      "     |  ----------------------------------------------------------------------\n",
      "     |  Static methods defined here:\n",
      "     |  \n",
      "     |  __new__(_cls, args, varargs, keywords, defaults)\n",
      "     |      Create new instance of ArgSpec(args, varargs, keywords, defaults)\n",
      "     |  \n",
      "     |  ----------------------------------------------------------------------\n",
      "     |  Data descriptors defined here:\n",
      "     |  \n",
      "     |  args\n",
      "     |      Alias for field number 0\n",
      "     |  \n",
      "     |  varargs\n",
      "     |      Alias for field number 1\n",
      "     |  \n",
      "     |  keywords\n",
      "     |      Alias for field number 2\n",
      "     |  \n",
      "     |  defaults\n",
      "     |      Alias for field number 3\n",
      "     |  \n",
      "     |  ----------------------------------------------------------------------\n",
      "     |  Data and other attributes defined here:\n",
      "     |  \n",
      "     |  _field_defaults = {}\n",
      "     |  \n",
      "     |  _fields = ('args', 'varargs', 'keywords', 'defaults')\n",
      "     |  \n",
      "     |  ----------------------------------------------------------------------\n",
      "     |  Methods inherited from builtins.tuple:\n",
      "     |  \n",
      "     |  __add__(self, value, /)\n",
      "     |      Return self+value.\n",
      "     |  \n",
      "     |  __contains__(self, key, /)\n",
      "     |      Return key in self.\n",
      "     |  \n",
      "     |  __eq__(self, value, /)\n",
      "     |      Return self==value.\n",
      "     |  \n",
      "     |  __ge__(self, value, /)\n",
      "     |      Return self>=value.\n",
      "     |  \n",
      "     |  __getattribute__(self, name, /)\n",
      "     |      Return getattr(self, name).\n",
      "     |  \n",
      "     |  __getitem__(self, key, /)\n",
      "     |      Return self[key].\n",
      "     |  \n",
      "     |  __gt__(self, value, /)\n",
      "     |      Return self>value.\n",
      "     |  \n",
      "     |  __hash__(self, /)\n",
      "     |      Return hash(self).\n",
      "     |  \n",
      "     |  __iter__(self, /)\n",
      "     |      Implement iter(self).\n",
      "     |  \n",
      "     |  __le__(self, value, /)\n",
      "     |      Return self<=value.\n",
      "     |  \n",
      "     |  __len__(self, /)\n",
      "     |      Return len(self).\n",
      "     |  \n",
      "     |  __lt__(self, value, /)\n",
      "     |      Return self<value.\n",
      "     |  \n",
      "     |  __mul__(self, value, /)\n",
      "     |      Return self*value.\n",
      "     |  \n",
      "     |  __ne__(self, value, /)\n",
      "     |      Return self!=value.\n",
      "     |  \n",
      "     |  __rmul__(self, value, /)\n",
      "     |      Return value*self.\n",
      "     |  \n",
      "     |  count(self, value, /)\n",
      "     |      Return number of occurrences of value.\n",
      "     |  \n",
      "     |  index(self, value, start=0, stop=9223372036854775807, /)\n",
      "     |      Return first index of value.\n",
      "     |      \n",
      "     |      Raises ValueError if the value is not present.\n",
      "     |  \n",
      "     |  ----------------------------------------------------------------------\n",
      "     |  Class methods inherited from builtins.tuple:\n",
      "     |  \n",
      "     |  __class_getitem__(...) from builtins.type\n",
      "     |      See PEP 585\n",
      "    \n",
      "    class Arguments(builtins.tuple)\n",
      "     |  Arguments(args, varargs, varkw)\n",
      "     |  \n",
      "     |  Arguments(args, varargs, varkw)\n",
      "     |  \n",
      "     |  Method resolution order:\n",
      "     |      Arguments\n",
      "     |      builtins.tuple\n",
      "     |      builtins.object\n",
      "     |  \n",
      "     |  Methods defined here:\n",
      "     |  \n",
      "     |  __getnewargs__(self)\n",
      "     |      Return self as a plain tuple.  Used by copy and pickle.\n",
      "     |  \n",
      "     |  __repr__(self)\n",
      "     |      Return a nicely formatted representation string\n",
      "     |  \n",
      "     |  _asdict(self)\n",
      "     |      Return a new dict which maps field names to their values.\n",
      "     |  \n",
      "     |  _replace(self, /, **kwds)\n",
      "     |      Return a new Arguments object replacing specified fields with new values\n",
      "     |  \n",
      "     |  ----------------------------------------------------------------------\n",
      "     |  Class methods defined here:\n",
      "     |  \n",
      "     |  _make(iterable) from builtins.type\n",
      "     |      Make a new Arguments object from a sequence or iterable\n",
      "     |  \n",
      "     |  ----------------------------------------------------------------------\n",
      "     |  Static methods defined here:\n",
      "     |  \n",
      "     |  __new__(_cls, args, varargs, varkw)\n",
      "     |      Create new instance of Arguments(args, varargs, varkw)\n",
      "     |  \n",
      "     |  ----------------------------------------------------------------------\n",
      "     |  Data descriptors defined here:\n",
      "     |  \n",
      "     |  args\n",
      "     |      Alias for field number 0\n",
      "     |  \n",
      "     |  varargs\n",
      "     |      Alias for field number 1\n",
      "     |  \n",
      "     |  varkw\n",
      "     |      Alias for field number 2\n",
      "     |  \n",
      "     |  ----------------------------------------------------------------------\n",
      "     |  Data and other attributes defined here:\n",
      "     |  \n",
      "     |  _field_defaults = {}\n",
      "     |  \n",
      "     |  _fields = ('args', 'varargs', 'varkw')\n",
      "     |  \n",
      "     |  ----------------------------------------------------------------------\n",
      "     |  Methods inherited from builtins.tuple:\n",
      "     |  \n",
      "     |  __add__(self, value, /)\n",
      "     |      Return self+value.\n",
      "     |  \n",
      "     |  __contains__(self, key, /)\n",
      "     |      Return key in self.\n",
      "     |  \n",
      "     |  __eq__(self, value, /)\n",
      "     |      Return self==value.\n",
      "     |  \n",
      "     |  __ge__(self, value, /)\n",
      "     |      Return self>=value.\n",
      "     |  \n",
      "     |  __getattribute__(self, name, /)\n",
      "     |      Return getattr(self, name).\n",
      "     |  \n",
      "     |  __getitem__(self, key, /)\n",
      "     |      Return self[key].\n",
      "     |  \n",
      "     |  __gt__(self, value, /)\n",
      "     |      Return self>value.\n",
      "     |  \n",
      "     |  __hash__(self, /)\n",
      "     |      Return hash(self).\n",
      "     |  \n",
      "     |  __iter__(self, /)\n",
      "     |      Implement iter(self).\n",
      "     |  \n",
      "     |  __le__(self, value, /)\n",
      "     |      Return self<=value.\n",
      "     |  \n",
      "     |  __len__(self, /)\n",
      "     |      Return len(self).\n",
      "     |  \n",
      "     |  __lt__(self, value, /)\n",
      "     |      Return self<value.\n",
      "     |  \n",
      "     |  __mul__(self, value, /)\n",
      "     |      Return self*value.\n",
      "     |  \n",
      "     |  __ne__(self, value, /)\n",
      "     |      Return self!=value.\n",
      "     |  \n",
      "     |  __rmul__(self, value, /)\n",
      "     |      Return value*self.\n",
      "     |  \n",
      "     |  count(self, value, /)\n",
      "     |      Return number of occurrences of value.\n",
      "     |  \n",
      "     |  index(self, value, start=0, stop=9223372036854775807, /)\n",
      "     |      Return first index of value.\n",
      "     |      \n",
      "     |      Raises ValueError if the value is not present.\n",
      "     |  \n",
      "     |  ----------------------------------------------------------------------\n",
      "     |  Class methods inherited from builtins.tuple:\n",
      "     |  \n",
      "     |  __class_getitem__(...) from builtins.type\n",
      "     |      See PEP 585\n",
      "    \n",
      "    class Attribute(builtins.tuple)\n",
      "     |  Attribute(name, kind, defining_class, object)\n",
      "     |  \n",
      "     |  Attribute(name, kind, defining_class, object)\n",
      "     |  \n",
      "     |  Method resolution order:\n",
      "     |      Attribute\n",
      "     |      builtins.tuple\n",
      "     |      builtins.object\n",
      "     |  \n",
      "     |  Methods defined here:\n",
      "     |  \n",
      "     |  __getnewargs__(self)\n",
      "     |      Return self as a plain tuple.  Used by copy and pickle.\n",
      "     |  \n",
      "     |  __repr__(self)\n",
      "     |      Return a nicely formatted representation string\n",
      "     |  \n",
      "     |  _asdict(self)\n",
      "     |      Return a new dict which maps field names to their values.\n",
      "     |  \n",
      "     |  _replace(self, /, **kwds)\n",
      "     |      Return a new Attribute object replacing specified fields with new values\n",
      "     |  \n",
      "     |  ----------------------------------------------------------------------\n",
      "     |  Class methods defined here:\n",
      "     |  \n",
      "     |  _make(iterable) from builtins.type\n",
      "     |      Make a new Attribute object from a sequence or iterable\n",
      "     |  \n",
      "     |  ----------------------------------------------------------------------\n",
      "     |  Static methods defined here:\n",
      "     |  \n",
      "     |  __new__(_cls, name, kind, defining_class, object)\n",
      "     |      Create new instance of Attribute(name, kind, defining_class, object)\n",
      "     |  \n",
      "     |  ----------------------------------------------------------------------\n",
      "     |  Data descriptors defined here:\n",
      "     |  \n",
      "     |  name\n",
      "     |      Alias for field number 0\n",
      "     |  \n",
      "     |  kind\n",
      "     |      Alias for field number 1\n",
      "     |  \n",
      "     |  defining_class\n",
      "     |      Alias for field number 2\n",
      "     |  \n",
      "     |  object\n",
      "     |      Alias for field number 3\n",
      "     |  \n",
      "     |  ----------------------------------------------------------------------\n",
      "     |  Data and other attributes defined here:\n",
      "     |  \n",
      "     |  _field_defaults = {}\n",
      "     |  \n",
      "     |  _fields = ('name', 'kind', 'defining_class', 'object')\n",
      "     |  \n",
      "     |  ----------------------------------------------------------------------\n",
      "     |  Methods inherited from builtins.tuple:\n",
      "     |  \n",
      "     |  __add__(self, value, /)\n",
      "     |      Return self+value.\n",
      "     |  \n",
      "     |  __contains__(self, key, /)\n",
      "     |      Return key in self.\n",
      "     |  \n",
      "     |  __eq__(self, value, /)\n",
      "     |      Return self==value.\n",
      "     |  \n",
      "     |  __ge__(self, value, /)\n",
      "     |      Return self>=value.\n",
      "     |  \n",
      "     |  __getattribute__(self, name, /)\n",
      "     |      Return getattr(self, name).\n",
      "     |  \n",
      "     |  __getitem__(self, key, /)\n",
      "     |      Return self[key].\n",
      "     |  \n",
      "     |  __gt__(self, value, /)\n",
      "     |      Return self>value.\n",
      "     |  \n",
      "     |  __hash__(self, /)\n",
      "     |      Return hash(self).\n",
      "     |  \n",
      "     |  __iter__(self, /)\n",
      "     |      Implement iter(self).\n",
      "     |  \n",
      "     |  __le__(self, value, /)\n",
      "     |      Return self<=value.\n",
      "     |  \n",
      "     |  __len__(self, /)\n",
      "     |      Return len(self).\n",
      "     |  \n",
      "     |  __lt__(self, value, /)\n",
      "     |      Return self<value.\n",
      "     |  \n",
      "     |  __mul__(self, value, /)\n",
      "     |      Return self*value.\n",
      "     |  \n",
      "     |  __ne__(self, value, /)\n",
      "     |      Return self!=value.\n",
      "     |  \n",
      "     |  __rmul__(self, value, /)\n",
      "     |      Return value*self.\n",
      "     |  \n",
      "     |  count(self, value, /)\n",
      "     |      Return number of occurrences of value.\n",
      "     |  \n",
      "     |  index(self, value, start=0, stop=9223372036854775807, /)\n",
      "     |      Return first index of value.\n",
      "     |      \n",
      "     |      Raises ValueError if the value is not present.\n",
      "     |  \n",
      "     |  ----------------------------------------------------------------------\n",
      "     |  Class methods inherited from builtins.tuple:\n",
      "     |  \n",
      "     |  __class_getitem__(...) from builtins.type\n",
      "     |      See PEP 585\n",
      "    \n",
      "    class BlockFinder(builtins.object)\n",
      "     |  Provide a tokeneater() method to detect the end of a code block.\n",
      "     |  \n",
      "     |  Methods defined here:\n",
      "     |  \n",
      "     |  __init__(self)\n",
      "     |      Initialize self.  See help(type(self)) for accurate signature.\n",
      "     |  \n",
      "     |  tokeneater(self, type, token, srowcol, erowcol, line)\n",
      "     |  \n",
      "     |  ----------------------------------------------------------------------\n",
      "     |  Data descriptors defined here:\n",
      "     |  \n",
      "     |  __dict__\n",
      "     |      dictionary for instance variables (if defined)\n",
      "     |  \n",
      "     |  __weakref__\n",
      "     |      list of weak references to the object (if defined)\n",
      "    \n",
      "    class BoundArguments(builtins.object)\n",
      "     |  BoundArguments(signature, arguments)\n",
      "     |  \n",
      "     |  Result of `Signature.bind` call.  Holds the mapping of arguments\n",
      "     |  to the function's parameters.\n",
      "     |  \n",
      "     |  Has the following public attributes:\n",
      "     |  \n",
      "     |  * arguments : dict\n",
      "     |      An ordered mutable mapping of parameters' names to arguments' values.\n",
      "     |      Does not contain arguments' default values.\n",
      "     |  * signature : Signature\n",
      "     |      The Signature object that created this instance.\n",
      "     |  * args : tuple\n",
      "     |      Tuple of positional arguments values.\n",
      "     |  * kwargs : dict\n",
      "     |      Dict of keyword arguments values.\n",
      "     |  \n",
      "     |  Methods defined here:\n",
      "     |  \n",
      "     |  __eq__(self, other)\n",
      "     |      Return self==value.\n",
      "     |  \n",
      "     |  __getstate__(self)\n",
      "     |  \n",
      "     |  __init__(self, signature, arguments)\n",
      "     |      Initialize self.  See help(type(self)) for accurate signature.\n",
      "     |  \n",
      "     |  __repr__(self)\n",
      "     |      Return repr(self).\n",
      "     |  \n",
      "     |  __setstate__(self, state)\n",
      "     |  \n",
      "     |  apply_defaults(self)\n",
      "     |      Set default values for missing arguments.\n",
      "     |      \n",
      "     |      For variable-positional arguments (*args) the default is an\n",
      "     |      empty tuple.\n",
      "     |      \n",
      "     |      For variable-keyword arguments (**kwargs) the default is an\n",
      "     |      empty dict.\n",
      "     |  \n",
      "     |  ----------------------------------------------------------------------\n",
      "     |  Readonly properties defined here:\n",
      "     |  \n",
      "     |  args\n",
      "     |  \n",
      "     |  kwargs\n",
      "     |  \n",
      "     |  signature\n",
      "     |  \n",
      "     |  ----------------------------------------------------------------------\n",
      "     |  Data descriptors defined here:\n",
      "     |  \n",
      "     |  __weakref__\n",
      "     |      list of weak references to the object (if defined)\n",
      "     |  \n",
      "     |  arguments\n",
      "     |  \n",
      "     |  ----------------------------------------------------------------------\n",
      "     |  Data and other attributes defined here:\n",
      "     |  \n",
      "     |  __hash__ = None\n",
      "    \n",
      "    class ClassFoundException(builtins.Exception)\n",
      "     |  Method resolution order:\n",
      "     |      ClassFoundException\n",
      "     |      builtins.Exception\n",
      "     |      builtins.BaseException\n",
      "     |      builtins.object\n",
      "     |  \n",
      "     |  Data descriptors defined here:\n",
      "     |  \n",
      "     |  __weakref__\n",
      "     |      list of weak references to the object (if defined)\n",
      "     |  \n",
      "     |  ----------------------------------------------------------------------\n",
      "     |  Methods inherited from builtins.Exception:\n",
      "     |  \n",
      "     |  __init__(self, /, *args, **kwargs)\n",
      "     |      Initialize self.  See help(type(self)) for accurate signature.\n",
      "     |  \n",
      "     |  ----------------------------------------------------------------------\n",
      "     |  Static methods inherited from builtins.Exception:\n",
      "     |  \n",
      "     |  __new__(*args, **kwargs) from builtins.type\n",
      "     |      Create and return a new object.  See help(type) for accurate signature.\n",
      "     |  \n",
      "     |  ----------------------------------------------------------------------\n",
      "     |  Methods inherited from builtins.BaseException:\n",
      "     |  \n",
      "     |  __delattr__(self, name, /)\n",
      "     |      Implement delattr(self, name).\n",
      "     |  \n",
      "     |  __getattribute__(self, name, /)\n",
      "     |      Return getattr(self, name).\n",
      "     |  \n",
      "     |  __reduce__(...)\n",
      "     |      Helper for pickle.\n",
      "     |  \n",
      "     |  __repr__(self, /)\n",
      "     |      Return repr(self).\n",
      "     |  \n",
      "     |  __setattr__(self, name, value, /)\n",
      "     |      Implement setattr(self, name, value).\n",
      "     |  \n",
      "     |  __setstate__(...)\n",
      "     |  \n",
      "     |  __str__(self, /)\n",
      "     |      Return str(self).\n",
      "     |  \n",
      "     |  with_traceback(...)\n",
      "     |      Exception.with_traceback(tb) --\n",
      "     |      set self.__traceback__ to tb and return self.\n",
      "     |  \n",
      "     |  ----------------------------------------------------------------------\n",
      "     |  Data descriptors inherited from builtins.BaseException:\n",
      "     |  \n",
      "     |  __cause__\n",
      "     |      exception cause\n",
      "     |  \n",
      "     |  __context__\n",
      "     |      exception context\n",
      "     |  \n",
      "     |  __dict__\n",
      "     |  \n",
      "     |  __suppress_context__\n",
      "     |  \n",
      "     |  __traceback__\n",
      "     |  \n",
      "     |  args\n",
      "    \n",
      "    class ClosureVars(builtins.tuple)\n",
      "     |  ClosureVars(nonlocals, globals, builtins, unbound)\n",
      "     |  \n",
      "     |  ClosureVars(nonlocals, globals, builtins, unbound)\n",
      "     |  \n",
      "     |  Method resolution order:\n",
      "     |      ClosureVars\n",
      "     |      builtins.tuple\n",
      "     |      builtins.object\n",
      "     |  \n",
      "     |  Methods defined here:\n",
      "     |  \n",
      "     |  __getnewargs__(self)\n",
      "     |      Return self as a plain tuple.  Used by copy and pickle.\n",
      "     |  \n",
      "     |  __repr__(self)\n",
      "     |      Return a nicely formatted representation string\n",
      "     |  \n",
      "     |  _asdict(self)\n",
      "     |      Return a new dict which maps field names to their values.\n",
      "     |  \n",
      "     |  _replace(self, /, **kwds)\n",
      "     |      Return a new ClosureVars object replacing specified fields with new values\n",
      "     |  \n",
      "     |  ----------------------------------------------------------------------\n",
      "     |  Class methods defined here:\n",
      "     |  \n",
      "     |  _make(iterable) from builtins.type\n",
      "     |      Make a new ClosureVars object from a sequence or iterable\n",
      "     |  \n",
      "     |  ----------------------------------------------------------------------\n",
      "     |  Static methods defined here:\n",
      "     |  \n",
      "     |  __new__(_cls, nonlocals, globals, builtins, unbound)\n",
      "     |      Create new instance of ClosureVars(nonlocals, globals, builtins, unbound)\n",
      "     |  \n",
      "     |  ----------------------------------------------------------------------\n",
      "     |  Data descriptors defined here:\n",
      "     |  \n",
      "     |  nonlocals\n",
      "     |      Alias for field number 0\n",
      "     |  \n",
      "     |  globals\n",
      "     |      Alias for field number 1\n",
      "     |  \n",
      "     |  builtins\n",
      "     |      Alias for field number 2\n",
      "     |  \n",
      "     |  unbound\n",
      "     |      Alias for field number 3\n",
      "     |  \n",
      "     |  ----------------------------------------------------------------------\n",
      "     |  Data and other attributes defined here:\n",
      "     |  \n",
      "     |  _field_defaults = {}\n",
      "     |  \n",
      "     |  _fields = ('nonlocals', 'globals', 'builtins', 'unbound')\n",
      "     |  \n",
      "     |  ----------------------------------------------------------------------\n",
      "     |  Methods inherited from builtins.tuple:\n",
      "     |  \n",
      "     |  __add__(self, value, /)\n",
      "     |      Return self+value.\n",
      "     |  \n",
      "     |  __contains__(self, key, /)\n",
      "     |      Return key in self.\n",
      "     |  \n",
      "     |  __eq__(self, value, /)\n",
      "     |      Return self==value.\n",
      "     |  \n",
      "     |  __ge__(self, value, /)\n",
      "     |      Return self>=value.\n",
      "     |  \n",
      "     |  __getattribute__(self, name, /)\n",
      "     |      Return getattr(self, name).\n",
      "     |  \n",
      "     |  __getitem__(self, key, /)\n",
      "     |      Return self[key].\n",
      "     |  \n",
      "     |  __gt__(self, value, /)\n",
      "     |      Return self>value.\n",
      "     |  \n",
      "     |  __hash__(self, /)\n",
      "     |      Return hash(self).\n",
      "     |  \n",
      "     |  __iter__(self, /)\n",
      "     |      Implement iter(self).\n",
      "     |  \n",
      "     |  __le__(self, value, /)\n",
      "     |      Return self<=value.\n",
      "     |  \n",
      "     |  __len__(self, /)\n",
      "     |      Return len(self).\n",
      "     |  \n",
      "     |  __lt__(self, value, /)\n",
      "     |      Return self<value.\n",
      "     |  \n",
      "     |  __mul__(self, value, /)\n",
      "     |      Return self*value.\n",
      "     |  \n",
      "     |  __ne__(self, value, /)\n",
      "     |      Return self!=value.\n",
      "     |  \n",
      "     |  __rmul__(self, value, /)\n",
      "     |      Return value*self.\n",
      "     |  \n",
      "     |  count(self, value, /)\n",
      "     |      Return number of occurrences of value.\n",
      "     |  \n",
      "     |  index(self, value, start=0, stop=9223372036854775807, /)\n",
      "     |      Return first index of value.\n",
      "     |      \n",
      "     |      Raises ValueError if the value is not present.\n",
      "     |  \n",
      "     |  ----------------------------------------------------------------------\n",
      "     |  Class methods inherited from builtins.tuple:\n",
      "     |  \n",
      "     |  __class_getitem__(...) from builtins.type\n",
      "     |      See PEP 585\n",
      "    \n",
      "    class EndOfBlock(builtins.Exception)\n",
      "     |  Method resolution order:\n",
      "     |      EndOfBlock\n",
      "     |      builtins.Exception\n",
      "     |      builtins.BaseException\n",
      "     |      builtins.object\n",
      "     |  \n",
      "     |  Data descriptors defined here:\n",
      "     |  \n",
      "     |  __weakref__\n",
      "     |      list of weak references to the object (if defined)\n",
      "     |  \n",
      "     |  ----------------------------------------------------------------------\n",
      "     |  Methods inherited from builtins.Exception:\n",
      "     |  \n",
      "     |  __init__(self, /, *args, **kwargs)\n",
      "     |      Initialize self.  See help(type(self)) for accurate signature.\n",
      "     |  \n",
      "     |  ----------------------------------------------------------------------\n",
      "     |  Static methods inherited from builtins.Exception:\n",
      "     |  \n",
      "     |  __new__(*args, **kwargs) from builtins.type\n",
      "     |      Create and return a new object.  See help(type) for accurate signature.\n",
      "     |  \n",
      "     |  ----------------------------------------------------------------------\n",
      "     |  Methods inherited from builtins.BaseException:\n",
      "     |  \n",
      "     |  __delattr__(self, name, /)\n",
      "     |      Implement delattr(self, name).\n",
      "     |  \n",
      "     |  __getattribute__(self, name, /)\n",
      "     |      Return getattr(self, name).\n",
      "     |  \n",
      "     |  __reduce__(...)\n",
      "     |      Helper for pickle.\n",
      "     |  \n",
      "     |  __repr__(self, /)\n",
      "     |      Return repr(self).\n",
      "     |  \n",
      "     |  __setattr__(self, name, value, /)\n",
      "     |      Implement setattr(self, name, value).\n",
      "     |  \n",
      "     |  __setstate__(...)\n",
      "     |  \n",
      "     |  __str__(self, /)\n",
      "     |      Return str(self).\n",
      "     |  \n",
      "     |  with_traceback(...)\n",
      "     |      Exception.with_traceback(tb) --\n",
      "     |      set self.__traceback__ to tb and return self.\n",
      "     |  \n",
      "     |  ----------------------------------------------------------------------\n",
      "     |  Data descriptors inherited from builtins.BaseException:\n",
      "     |  \n",
      "     |  __cause__\n",
      "     |      exception cause\n",
      "     |  \n",
      "     |  __context__\n",
      "     |      exception context\n",
      "     |  \n",
      "     |  __dict__\n",
      "     |  \n",
      "     |  __suppress_context__\n",
      "     |  \n",
      "     |  __traceback__\n",
      "     |  \n",
      "     |  args\n",
      "    \n",
      "    class FrameInfo(builtins.tuple)\n",
      "     |  FrameInfo(frame, filename, lineno, function, code_context, index)\n",
      "     |  \n",
      "     |  FrameInfo(frame, filename, lineno, function, code_context, index)\n",
      "     |  \n",
      "     |  Method resolution order:\n",
      "     |      FrameInfo\n",
      "     |      builtins.tuple\n",
      "     |      builtins.object\n",
      "     |  \n",
      "     |  Methods defined here:\n",
      "     |  \n",
      "     |  __getnewargs__(self)\n",
      "     |      Return self as a plain tuple.  Used by copy and pickle.\n",
      "     |  \n",
      "     |  __repr__(self)\n",
      "     |      Return a nicely formatted representation string\n",
      "     |  \n",
      "     |  _asdict(self)\n",
      "     |      Return a new dict which maps field names to their values.\n",
      "     |  \n",
      "     |  _replace(self, /, **kwds)\n",
      "     |      Return a new FrameInfo object replacing specified fields with new values\n",
      "     |  \n",
      "     |  ----------------------------------------------------------------------\n",
      "     |  Class methods defined here:\n",
      "     |  \n",
      "     |  _make(iterable) from builtins.type\n",
      "     |      Make a new FrameInfo object from a sequence or iterable\n",
      "     |  \n",
      "     |  ----------------------------------------------------------------------\n",
      "     |  Static methods defined here:\n",
      "     |  \n",
      "     |  __new__(_cls, frame, filename, lineno, function, code_context, index)\n",
      "     |      Create new instance of FrameInfo(frame, filename, lineno, function, code_context, index)\n",
      "     |  \n",
      "     |  ----------------------------------------------------------------------\n",
      "     |  Data descriptors defined here:\n",
      "     |  \n",
      "     |  frame\n",
      "     |      Alias for field number 0\n",
      "     |  \n",
      "     |  filename\n",
      "     |      Alias for field number 1\n",
      "     |  \n",
      "     |  lineno\n",
      "     |      Alias for field number 2\n",
      "     |  \n",
      "     |  function\n",
      "     |      Alias for field number 3\n",
      "     |  \n",
      "     |  code_context\n",
      "     |      Alias for field number 4\n",
      "     |  \n",
      "     |  index\n",
      "     |      Alias for field number 5\n",
      "     |  \n",
      "     |  ----------------------------------------------------------------------\n",
      "     |  Data and other attributes defined here:\n",
      "     |  \n",
      "     |  _field_defaults = {}\n",
      "     |  \n",
      "     |  _fields = ('frame', 'filename', 'lineno', 'function', 'code_context', ...\n",
      "     |  \n",
      "     |  ----------------------------------------------------------------------\n",
      "     |  Methods inherited from builtins.tuple:\n",
      "     |  \n",
      "     |  __add__(self, value, /)\n",
      "     |      Return self+value.\n",
      "     |  \n",
      "     |  __contains__(self, key, /)\n",
      "     |      Return key in self.\n",
      "     |  \n",
      "     |  __eq__(self, value, /)\n",
      "     |      Return self==value.\n",
      "     |  \n",
      "     |  __ge__(self, value, /)\n",
      "     |      Return self>=value.\n",
      "     |  \n",
      "     |  __getattribute__(self, name, /)\n",
      "     |      Return getattr(self, name).\n",
      "     |  \n",
      "     |  __getitem__(self, key, /)\n",
      "     |      Return self[key].\n",
      "     |  \n",
      "     |  __gt__(self, value, /)\n",
      "     |      Return self>value.\n",
      "     |  \n",
      "     |  __hash__(self, /)\n",
      "     |      Return hash(self).\n",
      "     |  \n",
      "     |  __iter__(self, /)\n",
      "     |      Implement iter(self).\n",
      "     |  \n",
      "     |  __le__(self, value, /)\n",
      "     |      Return self<=value.\n",
      "     |  \n",
      "     |  __len__(self, /)\n",
      "     |      Return len(self).\n",
      "     |  \n",
      "     |  __lt__(self, value, /)\n",
      "     |      Return self<value.\n",
      "     |  \n",
      "     |  __mul__(self, value, /)\n",
      "     |      Return self*value.\n",
      "     |  \n",
      "     |  __ne__(self, value, /)\n",
      "     |      Return self!=value.\n",
      "     |  \n",
      "     |  __rmul__(self, value, /)\n",
      "     |      Return value*self.\n",
      "     |  \n",
      "     |  count(self, value, /)\n",
      "     |      Return number of occurrences of value.\n",
      "     |  \n",
      "     |  ----------------------------------------------------------------------\n",
      "     |  Class methods inherited from builtins.tuple:\n",
      "     |  \n",
      "     |  __class_getitem__(...) from builtins.type\n",
      "     |      See PEP 585\n",
      "    \n",
      "    class FullArgSpec(builtins.tuple)\n",
      "     |  FullArgSpec(args, varargs, varkw, defaults, kwonlyargs, kwonlydefaults, annotations)\n",
      "     |  \n",
      "     |  FullArgSpec(args, varargs, varkw, defaults, kwonlyargs, kwonlydefaults, annotations)\n",
      "     |  \n",
      "     |  Method resolution order:\n",
      "     |      FullArgSpec\n",
      "     |      builtins.tuple\n",
      "     |      builtins.object\n",
      "     |  \n",
      "     |  Methods defined here:\n",
      "     |  \n",
      "     |  __getnewargs__(self)\n",
      "     |      Return self as a plain tuple.  Used by copy and pickle.\n",
      "     |  \n",
      "     |  __repr__(self)\n",
      "     |      Return a nicely formatted representation string\n",
      "     |  \n",
      "     |  _asdict(self)\n",
      "     |      Return a new dict which maps field names to their values.\n",
      "     |  \n",
      "     |  _replace(self, /, **kwds)\n",
      "     |      Return a new FullArgSpec object replacing specified fields with new values\n",
      "     |  \n",
      "     |  ----------------------------------------------------------------------\n",
      "     |  Class methods defined here:\n",
      "     |  \n",
      "     |  _make(iterable) from builtins.type\n",
      "     |      Make a new FullArgSpec object from a sequence or iterable\n",
      "     |  \n",
      "     |  ----------------------------------------------------------------------\n",
      "     |  Static methods defined here:\n",
      "     |  \n",
      "     |  __new__(_cls, args, varargs, varkw, defaults, kwonlyargs, kwonlydefaults, annotations)\n",
      "     |      Create new instance of FullArgSpec(args, varargs, varkw, defaults, kwonlyargs, kwonlydefaults, annotations)\n",
      "     |  \n",
      "     |  ----------------------------------------------------------------------\n",
      "     |  Data descriptors defined here:\n",
      "     |  \n",
      "     |  args\n",
      "     |      Alias for field number 0\n",
      "     |  \n",
      "     |  varargs\n",
      "     |      Alias for field number 1\n",
      "     |  \n",
      "     |  varkw\n",
      "     |      Alias for field number 2\n",
      "     |  \n",
      "     |  defaults\n",
      "     |      Alias for field number 3\n",
      "     |  \n",
      "     |  kwonlyargs\n",
      "     |      Alias for field number 4\n",
      "     |  \n",
      "     |  kwonlydefaults\n",
      "     |      Alias for field number 5\n",
      "     |  \n",
      "     |  annotations\n",
      "     |      Alias for field number 6\n",
      "     |  \n",
      "     |  ----------------------------------------------------------------------\n",
      "     |  Data and other attributes defined here:\n",
      "     |  \n",
      "     |  _field_defaults = {}\n",
      "     |  \n",
      "     |  _fields = ('args', 'varargs', 'varkw', 'defaults', 'kwonlyargs', 'kwon...\n",
      "     |  \n",
      "     |  ----------------------------------------------------------------------\n",
      "     |  Methods inherited from builtins.tuple:\n",
      "     |  \n",
      "     |  __add__(self, value, /)\n",
      "     |      Return self+value.\n",
      "     |  \n",
      "     |  __contains__(self, key, /)\n",
      "     |      Return key in self.\n",
      "     |  \n",
      "     |  __eq__(self, value, /)\n",
      "     |      Return self==value.\n",
      "     |  \n",
      "     |  __ge__(self, value, /)\n",
      "     |      Return self>=value.\n",
      "     |  \n",
      "     |  __getattribute__(self, name, /)\n",
      "     |      Return getattr(self, name).\n",
      "     |  \n",
      "     |  __getitem__(self, key, /)\n",
      "     |      Return self[key].\n",
      "     |  \n",
      "     |  __gt__(self, value, /)\n",
      "     |      Return self>value.\n",
      "     |  \n",
      "     |  __hash__(self, /)\n",
      "     |      Return hash(self).\n",
      "     |  \n",
      "     |  __iter__(self, /)\n",
      "     |      Implement iter(self).\n",
      "     |  \n",
      "     |  __le__(self, value, /)\n",
      "     |      Return self<=value.\n",
      "     |  \n",
      "     |  __len__(self, /)\n",
      "     |      Return len(self).\n",
      "     |  \n",
      "     |  __lt__(self, value, /)\n",
      "     |      Return self<value.\n",
      "     |  \n",
      "     |  __mul__(self, value, /)\n",
      "     |      Return self*value.\n",
      "     |  \n",
      "     |  __ne__(self, value, /)\n",
      "     |      Return self!=value.\n",
      "     |  \n",
      "     |  __rmul__(self, value, /)\n",
      "     |      Return value*self.\n",
      "     |  \n",
      "     |  count(self, value, /)\n",
      "     |      Return number of occurrences of value.\n",
      "     |  \n",
      "     |  index(self, value, start=0, stop=9223372036854775807, /)\n",
      "     |      Return first index of value.\n",
      "     |      \n",
      "     |      Raises ValueError if the value is not present.\n",
      "     |  \n",
      "     |  ----------------------------------------------------------------------\n",
      "     |  Class methods inherited from builtins.tuple:\n",
      "     |  \n",
      "     |  __class_getitem__(...) from builtins.type\n",
      "     |      See PEP 585\n",
      "    \n",
      "    class Parameter(builtins.object)\n",
      "     |  Parameter(name, kind, *, default, annotation)\n",
      "     |  \n",
      "     |  Represents a parameter in a function signature.\n",
      "     |  \n",
      "     |  Has the following public attributes:\n",
      "     |  \n",
      "     |  * name : str\n",
      "     |      The name of the parameter as a string.\n",
      "     |  * default : object\n",
      "     |      The default value for the parameter if specified.  If the\n",
      "     |      parameter has no default value, this attribute is set to\n",
      "     |      `Parameter.empty`.\n",
      "     |  * annotation\n",
      "     |      The annotation for the parameter if specified.  If the\n",
      "     |      parameter has no annotation, this attribute is set to\n",
      "     |      `Parameter.empty`.\n",
      "     |  * kind : str\n",
      "     |      Describes how argument values are bound to the parameter.\n",
      "     |      Possible values: `Parameter.POSITIONAL_ONLY`,\n",
      "     |      `Parameter.POSITIONAL_OR_KEYWORD`, `Parameter.VAR_POSITIONAL`,\n",
      "     |      `Parameter.KEYWORD_ONLY`, `Parameter.VAR_KEYWORD`.\n",
      "     |  \n",
      "     |  Methods defined here:\n",
      "     |  \n",
      "     |  __eq__(self, other)\n",
      "     |      Return self==value.\n",
      "     |  \n",
      "     |  __hash__(self)\n",
      "     |      Return hash(self).\n",
      "     |  \n",
      "     |  __init__(self, name, kind, *, default, annotation)\n",
      "     |      Initialize self.  See help(type(self)) for accurate signature.\n",
      "     |  \n",
      "     |  __reduce__(self)\n",
      "     |      Helper for pickle.\n",
      "     |  \n",
      "     |  __repr__(self)\n",
      "     |      Return repr(self).\n",
      "     |  \n",
      "     |  __setstate__(self, state)\n",
      "     |  \n",
      "     |  __str__(self)\n",
      "     |      Return str(self).\n",
      "     |  \n",
      "     |  replace(self, *, name=<class 'inspect._void'>, kind=<class 'inspect._void'>, annotation=<class 'inspect._void'>, default=<class 'inspect._void'>)\n",
      "     |      Creates a customized copy of the Parameter.\n",
      "     |  \n",
      "     |  ----------------------------------------------------------------------\n",
      "     |  Readonly properties defined here:\n",
      "     |  \n",
      "     |  annotation\n",
      "     |  \n",
      "     |  default\n",
      "     |  \n",
      "     |  kind\n",
      "     |  \n",
      "     |  name\n",
      "     |  \n",
      "     |  ----------------------------------------------------------------------\n",
      "     |  Data and other attributes defined here:\n",
      "     |  \n",
      "     |  KEYWORD_ONLY = <_ParameterKind.KEYWORD_ONLY: 3>\n",
      "     |  \n",
      "     |  POSITIONAL_ONLY = <_ParameterKind.POSITIONAL_ONLY: 0>\n",
      "     |  \n",
      "     |  POSITIONAL_OR_KEYWORD = <_ParameterKind.POSITIONAL_OR_KEYWORD: 1>\n",
      "     |  \n",
      "     |  VAR_KEYWORD = <_ParameterKind.VAR_KEYWORD: 4>\n",
      "     |  \n",
      "     |  VAR_POSITIONAL = <_ParameterKind.VAR_POSITIONAL: 2>\n",
      "     |  \n",
      "     |  empty = <class 'inspect._empty'>\n",
      "     |      Marker object for Signature.empty and Parameter.empty.\n",
      "    \n",
      "    class Signature(builtins.object)\n",
      "     |  Signature(parameters=None, *, return_annotation, __validate_parameters__=True)\n",
      "     |  \n",
      "     |  A Signature object represents the overall signature of a function.\n",
      "     |  It stores a Parameter object for each parameter accepted by the\n",
      "     |  function, as well as information specific to the function itself.\n",
      "     |  \n",
      "     |  A Signature object has the following public attributes and methods:\n",
      "     |  \n",
      "     |  * parameters : OrderedDict\n",
      "     |      An ordered mapping of parameters' names to the corresponding\n",
      "     |      Parameter objects (keyword-only arguments are in the same order\n",
      "     |      as listed in `code.co_varnames`).\n",
      "     |  * return_annotation : object\n",
      "     |      The annotation for the return type of the function if specified.\n",
      "     |      If the function has no annotation for its return type, this\n",
      "     |      attribute is set to `Signature.empty`.\n",
      "     |  * bind(*args, **kwargs) -> BoundArguments\n",
      "     |      Creates a mapping from positional and keyword arguments to\n",
      "     |      parameters.\n",
      "     |  * bind_partial(*args, **kwargs) -> BoundArguments\n",
      "     |      Creates a partial mapping from positional and keyword arguments\n",
      "     |      to parameters (simulating 'functools.partial' behavior.)\n",
      "     |  \n",
      "     |  Methods defined here:\n",
      "     |  \n",
      "     |  __eq__(self, other)\n",
      "     |      Return self==value.\n",
      "     |  \n",
      "     |  __hash__(self)\n",
      "     |      Return hash(self).\n",
      "     |  \n",
      "     |  __init__(self, parameters=None, *, return_annotation, __validate_parameters__=True)\n",
      "     |      Constructs Signature from the given list of Parameter\n",
      "     |      objects and 'return_annotation'.  All arguments are optional.\n",
      "     |  \n",
      "     |  __reduce__(self)\n",
      "     |      Helper for pickle.\n",
      "     |  \n",
      "     |  __repr__(self)\n",
      "     |      Return repr(self).\n",
      "     |  \n",
      "     |  __setstate__(self, state)\n",
      "     |  \n",
      "     |  __str__(self)\n",
      "     |      Return str(self).\n",
      "     |  \n",
      "     |  bind(self, /, *args, **kwargs)\n",
      "     |      Get a BoundArguments object, that maps the passed `args`\n",
      "     |      and `kwargs` to the function's signature.  Raises `TypeError`\n",
      "     |      if the passed arguments can not be bound.\n",
      "     |  \n",
      "     |  bind_partial(self, /, *args, **kwargs)\n",
      "     |      Get a BoundArguments object, that partially maps the\n",
      "     |      passed `args` and `kwargs` to the function's signature.\n",
      "     |      Raises `TypeError` if the passed arguments can not be bound.\n",
      "     |  \n",
      "     |  replace(self, *, parameters=<class 'inspect._void'>, return_annotation=<class 'inspect._void'>)\n",
      "     |      Creates a customized copy of the Signature.\n",
      "     |      Pass 'parameters' and/or 'return_annotation' arguments\n",
      "     |      to override them in the new copy.\n",
      "     |  \n",
      "     |  ----------------------------------------------------------------------\n",
      "     |  Class methods defined here:\n",
      "     |  \n",
      "     |  from_builtin(func) from builtins.type\n",
      "     |      Constructs Signature for the given builtin function.\n",
      "     |      \n",
      "     |      Deprecated since Python 3.5, use `Signature.from_callable()`.\n",
      "     |  \n",
      "     |  from_callable(obj, *, follow_wrapped=True) from builtins.type\n",
      "     |      Constructs Signature for the given callable object.\n",
      "     |  \n",
      "     |  from_function(func) from builtins.type\n",
      "     |      Constructs Signature for the given python function.\n",
      "     |      \n",
      "     |      Deprecated since Python 3.5, use `Signature.from_callable()`.\n",
      "     |  \n",
      "     |  ----------------------------------------------------------------------\n",
      "     |  Readonly properties defined here:\n",
      "     |  \n",
      "     |  parameters\n",
      "     |  \n",
      "     |  return_annotation\n",
      "     |  \n",
      "     |  ----------------------------------------------------------------------\n",
      "     |  Data and other attributes defined here:\n",
      "     |  \n",
      "     |  empty = <class 'inspect._empty'>\n",
      "     |      Marker object for Signature.empty and Parameter.empty.\n",
      "    \n",
      "    class Traceback(builtins.tuple)\n",
      "     |  Traceback(filename, lineno, function, code_context, index)\n",
      "     |  \n",
      "     |  Traceback(filename, lineno, function, code_context, index)\n",
      "     |  \n",
      "     |  Method resolution order:\n",
      "     |      Traceback\n",
      "     |      builtins.tuple\n",
      "     |      builtins.object\n",
      "     |  \n",
      "     |  Methods defined here:\n",
      "     |  \n",
      "     |  __getnewargs__(self)\n",
      "     |      Return self as a plain tuple.  Used by copy and pickle.\n",
      "     |  \n",
      "     |  __repr__(self)\n",
      "     |      Return a nicely formatted representation string\n",
      "     |  \n",
      "     |  _asdict(self)\n",
      "     |      Return a new dict which maps field names to their values.\n",
      "     |  \n",
      "     |  _replace(self, /, **kwds)\n",
      "     |      Return a new Traceback object replacing specified fields with new values\n",
      "     |  \n",
      "     |  ----------------------------------------------------------------------\n",
      "     |  Class methods defined here:\n",
      "     |  \n",
      "     |  _make(iterable) from builtins.type\n",
      "     |      Make a new Traceback object from a sequence or iterable\n",
      "     |  \n",
      "     |  ----------------------------------------------------------------------\n",
      "     |  Static methods defined here:\n",
      "     |  \n",
      "     |  __new__(_cls, filename, lineno, function, code_context, index)\n",
      "     |      Create new instance of Traceback(filename, lineno, function, code_context, index)\n",
      "     |  \n",
      "     |  ----------------------------------------------------------------------\n",
      "     |  Data descriptors defined here:\n",
      "     |  \n",
      "     |  filename\n",
      "     |      Alias for field number 0\n",
      "     |  \n",
      "     |  lineno\n",
      "     |      Alias for field number 1\n",
      "     |  \n",
      "     |  function\n",
      "     |      Alias for field number 2\n",
      "     |  \n",
      "     |  code_context\n",
      "     |      Alias for field number 3\n",
      "     |  \n",
      "     |  index\n",
      "     |      Alias for field number 4\n",
      "     |  \n",
      "     |  ----------------------------------------------------------------------\n",
      "     |  Data and other attributes defined here:\n",
      "     |  \n",
      "     |  _field_defaults = {}\n",
      "     |  \n",
      "     |  _fields = ('filename', 'lineno', 'function', 'code_context', 'index')\n",
      "     |  \n",
      "     |  ----------------------------------------------------------------------\n",
      "     |  Methods inherited from builtins.tuple:\n",
      "     |  \n",
      "     |  __add__(self, value, /)\n",
      "     |      Return self+value.\n",
      "     |  \n",
      "     |  __contains__(self, key, /)\n",
      "     |      Return key in self.\n",
      "     |  \n",
      "     |  __eq__(self, value, /)\n",
      "     |      Return self==value.\n",
      "     |  \n",
      "     |  __ge__(self, value, /)\n",
      "     |      Return self>=value.\n",
      "     |  \n",
      "     |  __getattribute__(self, name, /)\n",
      "     |      Return getattr(self, name).\n",
      "     |  \n",
      "     |  __getitem__(self, key, /)\n",
      "     |      Return self[key].\n",
      "     |  \n",
      "     |  __gt__(self, value, /)\n",
      "     |      Return self>value.\n",
      "     |  \n",
      "     |  __hash__(self, /)\n",
      "     |      Return hash(self).\n",
      "     |  \n",
      "     |  __iter__(self, /)\n",
      "     |      Implement iter(self).\n",
      "     |  \n",
      "     |  __le__(self, value, /)\n",
      "     |      Return self<=value.\n",
      "     |  \n",
      "     |  __len__(self, /)\n",
      "     |      Return len(self).\n",
      "     |  \n",
      "     |  __lt__(self, value, /)\n",
      "     |      Return self<value.\n",
      "     |  \n",
      "     |  __mul__(self, value, /)\n",
      "     |      Return self*value.\n",
      "     |  \n",
      "     |  __ne__(self, value, /)\n",
      "     |      Return self!=value.\n",
      "     |  \n",
      "     |  __rmul__(self, value, /)\n",
      "     |      Return value*self.\n",
      "     |  \n",
      "     |  count(self, value, /)\n",
      "     |      Return number of occurrences of value.\n",
      "     |  \n",
      "     |  ----------------------------------------------------------------------\n",
      "     |  Class methods inherited from builtins.tuple:\n",
      "     |  \n",
      "     |  __class_getitem__(...) from builtins.type\n",
      "     |      See PEP 585\n",
      "\n",
      "FUNCTIONS\n",
      "    classify_class_attrs(cls)\n",
      "        Return list of attribute-descriptor tuples.\n",
      "        \n",
      "        For each name in dir(cls), the return list contains a 4-tuple\n",
      "        with these elements:\n",
      "        \n",
      "            0. The name (a string).\n",
      "        \n",
      "            1. The kind of attribute this is, one of these strings:\n",
      "                   'class method'    created via classmethod()\n",
      "                   'static method'   created via staticmethod()\n",
      "                   'property'        created via property()\n",
      "                   'method'          any other flavor of method or descriptor\n",
      "                   'data'            not a method\n",
      "        \n",
      "            2. The class which defined this attribute (a class).\n",
      "        \n",
      "            3. The object as obtained by calling getattr; if this fails, or if the\n",
      "               resulting object does not live anywhere in the class' mro (including\n",
      "               metaclasses) then the object is looked up in the defining class's\n",
      "               dict (found by walking the mro).\n",
      "        \n",
      "        If one of the items in dir(cls) is stored in the metaclass it will now\n",
      "        be discovered and not have None be listed as the class in which it was\n",
      "        defined.  Any items whose home class cannot be discovered are skipped.\n",
      "    \n",
      "    cleandoc(doc)\n",
      "        Clean up indentation from docstrings.\n",
      "        \n",
      "        Any whitespace that can be uniformly removed from the second line\n",
      "        onwards is removed.\n",
      "    \n",
      "    currentframe()\n",
      "        Return the frame of the caller or None if this is not possible.\n",
      "    \n",
      "    findsource(object)\n",
      "        Return the entire source file and starting line number for an object.\n",
      "        \n",
      "        The argument may be a module, class, method, function, traceback, frame,\n",
      "        or code object.  The source code is returned as a list of all the lines\n",
      "        in the file and the line number indexes a line in that list.  An OSError\n",
      "        is raised if the source code cannot be retrieved.\n",
      "    \n",
      "    formatannotation(annotation, base_module=None)\n",
      "    \n",
      "    formatannotationrelativeto(object)\n",
      "    \n",
      "    formatargspec(args, varargs=None, varkw=None, defaults=None, kwonlyargs=(), kwonlydefaults={}, annotations={}, formatarg=<class 'str'>, formatvarargs=<function <lambda> at 0x103a37160>, formatvarkw=<function <lambda> at 0x103a371f0>, formatvalue=<function <lambda> at 0x103a37280>, formatreturns=<function <lambda> at 0x103a37310>, formatannotation=<function formatannotation at 0x103a37040>)\n",
      "        Format an argument spec from the values returned by getfullargspec.\n",
      "        \n",
      "        The first seven arguments are (args, varargs, varkw, defaults,\n",
      "        kwonlyargs, kwonlydefaults, annotations).  The other five arguments\n",
      "        are the corresponding optional formatting functions that are called to\n",
      "        turn names and values into strings.  The last argument is an optional\n",
      "        function to format the sequence of arguments.\n",
      "        \n",
      "        Deprecated since Python 3.5: use the `signature` function and `Signature`\n",
      "        objects.\n",
      "    \n",
      "    formatargvalues(args, varargs, varkw, locals, formatarg=<class 'str'>, formatvarargs=<function <lambda> at 0x103a374c0>, formatvarkw=<function <lambda> at 0x103a37550>, formatvalue=<function <lambda> at 0x103a375e0>)\n",
      "        Format an argument spec from the 4 values returned by getargvalues.\n",
      "        \n",
      "        The first four arguments are (args, varargs, varkw, locals).  The\n",
      "        next four arguments are the corresponding optional formatting functions\n",
      "        that are called to turn names and values into strings.  The ninth\n",
      "        argument is an optional function to format the sequence of arguments.\n",
      "    \n",
      "    getabsfile(object, _filename=None)\n",
      "        Return an absolute path to the source or compiled file for an object.\n",
      "        \n",
      "        The idea is for each object to have a unique origin, so this routine\n",
      "        normalizes the result as much as possible.\n",
      "    \n",
      "    getargs(co)\n",
      "        Get information about the arguments accepted by a code object.\n",
      "        \n",
      "        Three things are returned: (args, varargs, varkw), where\n",
      "        'args' is the list of argument names. Keyword-only arguments are\n",
      "        appended. 'varargs' and 'varkw' are the names of the * and **\n",
      "        arguments or None.\n",
      "    \n",
      "    getargspec(func)\n",
      "        Get the names and default values of a function's parameters.\n",
      "        \n",
      "        A tuple of four things is returned: (args, varargs, keywords, defaults).\n",
      "        'args' is a list of the argument names, including keyword-only argument names.\n",
      "        'varargs' and 'keywords' are the names of the * and ** parameters or None.\n",
      "        'defaults' is an n-tuple of the default values of the last n parameters.\n",
      "        \n",
      "        This function is deprecated, as it does not support annotations or\n",
      "        keyword-only parameters and will raise ValueError if either is present\n",
      "        on the supplied callable.\n",
      "        \n",
      "        For a more structured introspection API, use inspect.signature() instead.\n",
      "        \n",
      "        Alternatively, use getfullargspec() for an API with a similar namedtuple\n",
      "        based interface, but full support for annotations and keyword-only\n",
      "        parameters.\n",
      "        \n",
      "        Deprecated since Python 3.5, use `inspect.getfullargspec()`.\n",
      "    \n",
      "    getargvalues(frame)\n",
      "        Get information about arguments passed into a particular frame.\n",
      "        \n",
      "        A tuple of four things is returned: (args, varargs, varkw, locals).\n",
      "        'args' is a list of the argument names.\n",
      "        'varargs' and 'varkw' are the names of the * and ** arguments or None.\n",
      "        'locals' is the locals dictionary of the given frame.\n",
      "    \n",
      "    getattr_static(obj, attr, default=<object object at 0x102cd0f20>)\n",
      "        Retrieve attributes without triggering dynamic lookup via the\n",
      "        descriptor protocol,  __getattr__ or __getattribute__.\n",
      "        \n",
      "        Note: this function may not be able to retrieve all attributes\n",
      "        that getattr can fetch (like dynamically created attributes)\n",
      "        and may find attributes that getattr can't (like descriptors\n",
      "        that raise AttributeError). It can also return descriptor objects\n",
      "        instead of instance members in some cases. See the\n",
      "        documentation for details.\n",
      "    \n",
      "    getblock(lines)\n",
      "        Extract the block of code at the top of the given list of lines.\n",
      "    \n",
      "    getcallargs(func, /, *positional, **named)\n",
      "        Get the mapping of arguments to values.\n",
      "        \n",
      "        A dict is returned, with keys the function argument names (including the\n",
      "        names of the * and ** arguments, if any), and values the respective bound\n",
      "        values from 'positional' and 'named'.\n",
      "    \n",
      "    getclasstree(classes, unique=False)\n",
      "        Arrange the given list of classes into a hierarchy of nested lists.\n",
      "        \n",
      "        Where a nested list appears, it contains classes derived from the class\n",
      "        whose entry immediately precedes the list.  Each entry is a 2-tuple\n",
      "        containing a class and a tuple of its base classes.  If the 'unique'\n",
      "        argument is true, exactly one entry appears in the returned structure\n",
      "        for each class in the given list.  Otherwise, classes using multiple\n",
      "        inheritance and their descendants will appear multiple times.\n",
      "    \n",
      "    getclosurevars(func)\n",
      "        Get the mapping of free variables to their current values.\n",
      "        \n",
      "        Returns a named tuple of dicts mapping the current nonlocal, global\n",
      "        and builtin references as seen by the body of the function. A final\n",
      "        set of unbound names that could not be resolved is also provided.\n",
      "    \n",
      "    getcomments(object)\n",
      "        Get lines of comments immediately preceding an object's source code.\n",
      "        \n",
      "        Returns None when source can't be found.\n",
      "    \n",
      "    getcoroutinelocals(coroutine)\n",
      "        Get the mapping of coroutine local variables to their current values.\n",
      "        \n",
      "        A dict is returned, with the keys the local variable names and values the\n",
      "        bound values.\n",
      "    \n",
      "    getcoroutinestate(coroutine)\n",
      "        Get current state of a coroutine object.\n",
      "        \n",
      "        Possible states are:\n",
      "          CORO_CREATED: Waiting to start execution.\n",
      "          CORO_RUNNING: Currently being executed by the interpreter.\n",
      "          CORO_SUSPENDED: Currently suspended at an await expression.\n",
      "          CORO_CLOSED: Execution has completed.\n",
      "    \n",
      "    getdoc(object)\n",
      "        Get the documentation string for an object.\n",
      "        \n",
      "        All tabs are expanded to spaces.  To clean up docstrings that are\n",
      "        indented to line up with blocks of code, any whitespace than can be\n",
      "        uniformly removed from the second line onwards is removed.\n",
      "    \n",
      "    getfile(object)\n",
      "        Work out which source or compiled file an object was defined in.\n",
      "    \n",
      "    getframeinfo(frame, context=1)\n",
      "        Get information about a frame or traceback object.\n",
      "        \n",
      "        A tuple of five things is returned: the filename, the line number of\n",
      "        the current line, the function name, a list of lines of context from\n",
      "        the source code, and the index of the current line within that list.\n",
      "        The optional second argument specifies the number of lines of context\n",
      "        to return, which are centered around the current line.\n",
      "    \n",
      "    getfullargspec(func)\n",
      "        Get the names and default values of a callable object's parameters.\n",
      "        \n",
      "        A tuple of seven things is returned:\n",
      "        (args, varargs, varkw, defaults, kwonlyargs, kwonlydefaults, annotations).\n",
      "        'args' is a list of the parameter names.\n",
      "        'varargs' and 'varkw' are the names of the * and ** parameters or None.\n",
      "        'defaults' is an n-tuple of the default values of the last n parameters.\n",
      "        'kwonlyargs' is a list of keyword-only parameter names.\n",
      "        'kwonlydefaults' is a dictionary mapping names from kwonlyargs to defaults.\n",
      "        'annotations' is a dictionary mapping parameter names to annotations.\n",
      "        \n",
      "        Notable differences from inspect.signature():\n",
      "          - the \"self\" parameter is always reported, even for bound methods\n",
      "          - wrapper chains defined by __wrapped__ *not* unwrapped automatically\n",
      "    \n",
      "    getgeneratorlocals(generator)\n",
      "        Get the mapping of generator local variables to their current values.\n",
      "        \n",
      "        A dict is returned, with the keys the local variable names and values the\n",
      "        bound values.\n",
      "    \n",
      "    getgeneratorstate(generator)\n",
      "        Get current state of a generator-iterator.\n",
      "        \n",
      "        Possible states are:\n",
      "          GEN_CREATED: Waiting to start execution.\n",
      "          GEN_RUNNING: Currently being executed by the interpreter.\n",
      "          GEN_SUSPENDED: Currently suspended at a yield expression.\n",
      "          GEN_CLOSED: Execution has completed.\n",
      "    \n",
      "    getinnerframes(tb, context=1)\n",
      "        Get a list of records for a traceback's frame and all lower frames.\n",
      "        \n",
      "        Each record contains a frame object, filename, line number, function\n",
      "        name, a list of lines of context, and index within the context.\n",
      "    \n",
      "    getlineno(frame)\n",
      "        Get the line number from a frame object, allowing for optimization.\n",
      "    \n",
      "    getmembers(object, predicate=None)\n",
      "        Return all members of an object as (name, value) pairs sorted by name.\n",
      "        Optionally, only return members that satisfy a given predicate.\n",
      "    \n",
      "    getmodule(object, _filename=None)\n",
      "        Return the module an object was defined in, or None if not found.\n",
      "    \n",
      "    getmodulename(path)\n",
      "        Return the module name for a given file, or None.\n",
      "    \n",
      "    getmro(cls)\n",
      "        Return tuple of base classes (including cls) in method resolution order.\n",
      "    \n",
      "    getouterframes(frame, context=1)\n",
      "        Get a list of records for a frame and all higher (calling) frames.\n",
      "        \n",
      "        Each record contains a frame object, filename, line number, function\n",
      "        name, a list of lines of context, and index within the context.\n",
      "    \n",
      "    getsource(object)\n",
      "        Return the text of the source code for an object.\n",
      "        \n",
      "        The argument may be a module, class, method, function, traceback, frame,\n",
      "        or code object.  The source code is returned as a single string.  An\n",
      "        OSError is raised if the source code cannot be retrieved.\n",
      "    \n",
      "    getsourcefile(object)\n",
      "        Return the filename that can be used to locate an object's source.\n",
      "        Return None if no way can be identified to get the source.\n",
      "    \n",
      "    getsourcelines(object)\n",
      "        Return a list of source lines and starting line number for an object.\n",
      "        \n",
      "        The argument may be a module, class, method, function, traceback, frame,\n",
      "        or code object.  The source code is returned as a list of the lines\n",
      "        corresponding to the object and the line number indicates where in the\n",
      "        original source file the first line of code was found.  An OSError is\n",
      "        raised if the source code cannot be retrieved.\n",
      "    \n",
      "    indentsize(line)\n",
      "        Return the indent size, in spaces, at the start of a line of text.\n",
      "    \n",
      "    isabstract(object)\n",
      "        Return true if the object is an abstract base class (ABC).\n",
      "    \n",
      "    isasyncgen(object)\n",
      "        Return true if the object is an asynchronous generator.\n",
      "    \n",
      "    isasyncgenfunction(obj)\n",
      "        Return true if the object is an asynchronous generator function.\n",
      "        \n",
      "        Asynchronous generator functions are defined with \"async def\"\n",
      "        syntax and have \"yield\" expressions in their body.\n",
      "    \n",
      "    isawaitable(object)\n",
      "        Return true if object can be passed to an ``await`` expression.\n",
      "    \n",
      "    isbuiltin(object)\n",
      "        Return true if the object is a built-in function or method.\n",
      "        \n",
      "        Built-in functions and methods provide these attributes:\n",
      "            __doc__         documentation string\n",
      "            __name__        original name of this function or method\n",
      "            __self__        instance to which a method is bound, or None\n",
      "    \n",
      "    isclass(object)\n",
      "        Return true if the object is a class.\n",
      "        \n",
      "        Class objects provide these attributes:\n",
      "            __doc__         documentation string\n",
      "            __module__      name of module in which this class was defined\n",
      "    \n",
      "    iscode(object)\n",
      "        Return true if the object is a code object.\n",
      "        \n",
      "        Code objects provide these attributes:\n",
      "            co_argcount         number of arguments (not including *, ** args\n",
      "                                or keyword only arguments)\n",
      "            co_code             string of raw compiled bytecode\n",
      "            co_cellvars         tuple of names of cell variables\n",
      "            co_consts           tuple of constants used in the bytecode\n",
      "            co_filename         name of file in which this code object was created\n",
      "            co_firstlineno      number of first line in Python source code\n",
      "            co_flags            bitmap: 1=optimized | 2=newlocals | 4=*arg | 8=**arg\n",
      "                                | 16=nested | 32=generator | 64=nofree | 128=coroutine\n",
      "                                | 256=iterable_coroutine | 512=async_generator\n",
      "            co_freevars         tuple of names of free variables\n",
      "            co_posonlyargcount  number of positional only arguments\n",
      "            co_kwonlyargcount   number of keyword only arguments (not including ** arg)\n",
      "            co_lnotab           encoded mapping of line numbers to bytecode indices\n",
      "            co_name             name with which this code object was defined\n",
      "            co_names            tuple of names of local variables\n",
      "            co_nlocals          number of local variables\n",
      "            co_stacksize        virtual machine stack space required\n",
      "            co_varnames         tuple of names of arguments and local variables\n",
      "    \n",
      "    iscoroutine(object)\n",
      "        Return true if the object is a coroutine.\n",
      "    \n",
      "    iscoroutinefunction(obj)\n",
      "        Return true if the object is a coroutine function.\n",
      "        \n",
      "        Coroutine functions are defined with \"async def\" syntax.\n",
      "    \n",
      "    isdatadescriptor(object)\n",
      "        Return true if the object is a data descriptor.\n",
      "        \n",
      "        Data descriptors have a __set__ or a __delete__ attribute.  Examples are\n",
      "        properties (defined in Python) and getsets and members (defined in C).\n",
      "        Typically, data descriptors will also have __name__ and __doc__ attributes\n",
      "        (properties, getsets, and members have both of these attributes), but this\n",
      "        is not guaranteed.\n",
      "    \n",
      "    isframe(object)\n",
      "        Return true if the object is a frame object.\n",
      "        \n",
      "        Frame objects provide these attributes:\n",
      "            f_back          next outer frame object (this frame's caller)\n",
      "            f_builtins      built-in namespace seen by this frame\n",
      "            f_code          code object being executed in this frame\n",
      "            f_globals       global namespace seen by this frame\n",
      "            f_lasti         index of last attempted instruction in bytecode\n",
      "            f_lineno        current line number in Python source code\n",
      "            f_locals        local namespace seen by this frame\n",
      "            f_trace         tracing function for this frame, or None\n",
      "    \n",
      "    isfunction(object)\n",
      "        Return true if the object is a user-defined function.\n",
      "        \n",
      "        Function objects provide these attributes:\n",
      "            __doc__         documentation string\n",
      "            __name__        name with which this function was defined\n",
      "            __code__        code object containing compiled function bytecode\n",
      "            __defaults__    tuple of any default values for arguments\n",
      "            __globals__     global namespace in which this function was defined\n",
      "            __annotations__ dict of parameter annotations\n",
      "            __kwdefaults__  dict of keyword only parameters with defaults\n",
      "    \n",
      "    isgenerator(object)\n",
      "        Return true if the object is a generator.\n",
      "        \n",
      "        Generator objects provide these attributes:\n",
      "            __iter__        defined to support iteration over container\n",
      "            close           raises a new GeneratorExit exception inside the\n",
      "                            generator to terminate the iteration\n",
      "            gi_code         code object\n",
      "            gi_frame        frame object or possibly None once the generator has\n",
      "                            been exhausted\n",
      "            gi_running      set to 1 when generator is executing, 0 otherwise\n",
      "            next            return the next item from the container\n",
      "            send            resumes the generator and \"sends\" a value that becomes\n",
      "                            the result of the current yield-expression\n",
      "            throw           used to raise an exception inside the generator\n",
      "    \n",
      "    isgeneratorfunction(obj)\n",
      "        Return true if the object is a user-defined generator function.\n",
      "        \n",
      "        Generator function objects provide the same attributes as functions.\n",
      "        See help(isfunction) for a list of attributes.\n",
      "    \n",
      "    isgetsetdescriptor(object)\n",
      "        Return true if the object is a getset descriptor.\n",
      "        \n",
      "        getset descriptors are specialized descriptors defined in extension\n",
      "        modules.\n",
      "    \n",
      "    ismemberdescriptor(object)\n",
      "        Return true if the object is a member descriptor.\n",
      "        \n",
      "        Member descriptors are specialized descriptors defined in extension\n",
      "        modules.\n",
      "    \n",
      "    ismethod(object)\n",
      "        Return true if the object is an instance method.\n",
      "        \n",
      "        Instance method objects provide these attributes:\n",
      "            __doc__         documentation string\n",
      "            __name__        name with which this method was defined\n",
      "            __func__        function object containing implementation of method\n",
      "            __self__        instance to which this method is bound\n",
      "    \n",
      "    ismethoddescriptor(object)\n",
      "        Return true if the object is a method descriptor.\n",
      "        \n",
      "        But not if ismethod() or isclass() or isfunction() are true.\n",
      "        \n",
      "        This is new in Python 2.2, and, for example, is true of int.__add__.\n",
      "        An object passing this test has a __get__ attribute but not a __set__\n",
      "        attribute, but beyond that the set of attributes varies.  __name__ is\n",
      "        usually sensible, and __doc__ often is.\n",
      "        \n",
      "        Methods implemented via descriptors that also pass one of the other\n",
      "        tests return false from the ismethoddescriptor() test, simply because\n",
      "        the other tests promise more -- you can, e.g., count on having the\n",
      "        __func__ attribute (etc) when an object passes ismethod().\n",
      "    \n",
      "    ismodule(object)\n",
      "        Return true if the object is a module.\n",
      "        \n",
      "        Module objects provide these attributes:\n",
      "            __cached__      pathname to byte compiled file\n",
      "            __doc__         documentation string\n",
      "            __file__        filename (missing for built-in modules)\n",
      "    \n",
      "    isroutine(object)\n",
      "        Return true if the object is any kind of function or method.\n",
      "    \n",
      "    istraceback(object)\n",
      "        Return true if the object is a traceback.\n",
      "        \n",
      "        Traceback objects provide these attributes:\n",
      "            tb_frame        frame object at this level\n",
      "            tb_lasti        index of last attempted instruction in bytecode\n",
      "            tb_lineno       current line number in Python source code\n",
      "            tb_next         next inner traceback object (called by this level)\n",
      "    \n",
      "    signature(obj, *, follow_wrapped=True)\n",
      "        Get a signature object for the passed callable.\n",
      "    \n",
      "    stack(context=1)\n",
      "        Return a list of records for the stack above the caller's frame.\n",
      "    \n",
      "    trace(context=1)\n",
      "        Return a list of records for the stack below the current exception.\n",
      "    \n",
      "    unwrap(func, *, stop=None)\n",
      "        Get the object wrapped by *func*.\n",
      "        \n",
      "        Follows the chain of :attr:`__wrapped__` attributes returning the last\n",
      "        object in the chain.\n",
      "        \n",
      "        *stop* is an optional callback accepting an object in the wrapper chain\n",
      "        as its sole argument that allows the unwrapping to be terminated early if\n",
      "        the callback returns a true value. If the callback never returns a true\n",
      "        value, the last object in the chain is returned as usual. For example,\n",
      "        :func:`signature` uses this to stop unwrapping if any object in the\n",
      "        chain has a ``__signature__`` attribute defined.\n",
      "        \n",
      "        :exc:`ValueError` is raised if a cycle is encountered.\n",
      "    \n",
      "    walktree(classes, children, parent)\n",
      "        Recursive helper function for getclasstree().\n",
      "\n",
      "DATA\n",
      "    CORO_CLOSED = 'CORO_CLOSED'\n",
      "    CORO_CREATED = 'CORO_CREATED'\n",
      "    CORO_RUNNING = 'CORO_RUNNING'\n",
      "    CORO_SUSPENDED = 'CORO_SUSPENDED'\n",
      "    CO_ASYNC_GENERATOR = 512\n",
      "    CO_COROUTINE = 128\n",
      "    CO_GENERATOR = 32\n",
      "    CO_ITERABLE_COROUTINE = 256\n",
      "    CO_NESTED = 16\n",
      "    CO_NEWLOCALS = 2\n",
      "    CO_NOFREE = 64\n",
      "    CO_OPTIMIZED = 1\n",
      "    CO_VARARGS = 4\n",
      "    CO_VARKEYWORDS = 8\n",
      "    GEN_CLOSED = 'GEN_CLOSED'\n",
      "    GEN_CREATED = 'GEN_CREATED'\n",
      "    GEN_RUNNING = 'GEN_RUNNING'\n",
      "    GEN_SUSPENDED = 'GEN_SUSPENDED'\n",
      "    TPFLAGS_IS_ABSTRACT = 1048576\n",
      "    k = 512\n",
      "    mod_dict = {'ArgInfo': <class 'inspect.ArgInfo'>, 'ArgSpec': <class 'i...\n",
      "    modulesbyfile = {'/Library/Developer/CommandLineTools/Library/Fram...r...\n",
      "    v = 'ASYNC_GENERATOR'\n",
      "\n",
      "AUTHOR\n",
      "    ('Ka-Ping Yee <ping@lfw.org>', 'Yury Selivanov <yselivanov@sprymix.com>')\n",
      "\n",
      "FILE\n",
      "    /Library/Developer/CommandLineTools/Library/Frameworks/Python3.framework/Versions/3.9/lib/python3.9/inspect.py\n",
      "\n",
      "\n"
     ]
    }
   ],
   "source": [
    "import inspect\n",
    "\n",
    "from inspect import isfunction, ismethod, isroutine\n",
    "help(inspect)"
   ]
  },
  {
   "cell_type": "code",
   "execution_count": 66,
   "metadata": {},
   "outputs": [
    {
     "name": "stdout",
     "output_type": "stream",
     "text": [
      "def my_func(a):\n",
      "    'A doc string'\n",
      "    # comment inside of the function.\n",
      "    return a    \n",
      "\n",
      "<module '__main__'>\n",
      "<module 'builtins' (built-in)>\n",
      "# TODO: Implement this function\n",
      "# Some more info\n",
      "\n"
     ]
    }
   ],
   "source": [
    "print(inspect.getsource(my_func))\n",
    "print(inspect.getmodule(my_func))\n",
    "print(inspect.getmodule(print))\n",
    "print(inspect.getcomments(my_func))"
   ]
  },
  {
   "cell_type": "code",
   "execution_count": 70,
   "metadata": {},
   "outputs": [
    {
     "name": "stdout",
     "output_type": "stream",
     "text": [
      "Help on function signature in module inspect:\n",
      "\n",
      "signature(obj, *, follow_wrapped=True)\n",
      "    Get a signature object for the passed callable.\n",
      "\n"
     ]
    }
   ],
   "source": [
    "help(inspect.signature)"
   ]
  },
  {
   "cell_type": "code",
   "execution_count": 69,
   "metadata": {},
   "outputs": [
    {
     "data": {
      "text/plain": [
       "<Signature (a)>"
      ]
     },
     "execution_count": 69,
     "metadata": {},
     "output_type": "execute_result"
    }
   ],
   "source": [
    "inspect.signature(my_func) # Returns signature of given function"
   ]
  },
  {
   "cell_type": "code",
   "execution_count": 94,
   "metadata": {},
   "outputs": [],
   "source": [
    "def func(a: \"a String\",\n",
    "        c = 13,\n",
    "        b: int = 1,\n",
    "        *args: 'Additional positional arguments',\n",
    "        kw1: \"First kw argument\",\n",
    "        kw2: \"Second kw arg\" = 10,\n",
    "        **kwargs: 'additonal kw argument') -> str: \n",
    "    \"a docstring about the object\"\n",
    "    i = 10\n",
    "    a = 20\n",
    "\n",
    "sig = inspect.signature(func)"
   ]
  },
  {
   "cell_type": "code",
   "execution_count": 95,
   "metadata": {},
   "outputs": [
    {
     "name": "stdout",
     "output_type": "stream",
     "text": [
      "(13, 1)\n",
      "{'kw2': 10}\n",
      "func\n",
      "['__class__', '__delattr__', '__dir__', '__doc__', '__eq__', '__format__', '__ge__', '__getattribute__', '__gt__', '__hash__', '__init__', '__init_subclass__', '__le__', '__lt__', '__ne__', '__new__', '__reduce__', '__reduce_ex__', '__repr__', '__setattr__', '__sizeof__', '__str__', '__subclasshook__', 'co_argcount', 'co_cellvars', 'co_code', 'co_consts', 'co_filename', 'co_firstlineno', 'co_flags', 'co_freevars', 'co_kwonlyargcount', 'co_lnotab', 'co_name', 'co_names', 'co_nlocals', 'co_posonlyargcount', 'co_stacksize', 'co_varnames', 'replace']\n"
     ]
    }
   ],
   "source": [
    "print(func.__defaults__) # see from end to start of the params\n",
    "print(func.__kwdefaults__)\n",
    "print(func.__name__)\n",
    "print(dir(func.__code__))"
   ]
  },
  {
   "cell_type": "code",
   "execution_count": 100,
   "metadata": {},
   "outputs": [
    {
     "name": "stdout",
     "output_type": "stream",
     "text": [
      "3\n",
      "('a', 'c', 'b', 'kw1', 'kw2', 'args', 'kwargs', 'i')\n"
     ]
    }
   ],
   "source": [
    "print(func.__code__.co_argcount) # Only Positional args are counted. kwargs and args are not counted\n",
    "print(func.__code__.co_varnames) # variable names are arranged in lexicographical order"
   ]
  },
  {
   "cell_type": "code",
   "execution_count": 97,
   "metadata": {},
   "outputs": [
    {
     "name": "stdout",
     "output_type": "stream",
     "text": [
      "OrderedDict([('a', <Parameter \"a: 'a String'\">), ('c', <Parameter \"c=13\">), ('b', <Parameter \"b: int = 1\">), ('args', <Parameter \"*args: 'Additional positional arguments'\">), ('kw1', <Parameter \"kw1: 'First kw argument'\">), ('kw2', <Parameter \"kw2: 'Second kw arg' = 10\">), ('kwargs', <Parameter \"**kwargs: 'additonal kw argument'\">)])\n"
     ]
    }
   ],
   "source": [
    "print(sig.parameters)"
   ]
  },
  {
   "cell_type": "code",
   "execution_count": 83,
   "metadata": {},
   "outputs": [
    {
     "name": "stdout",
     "output_type": "stream",
     "text": [
      "name: a\n",
      "<class 'inspect._empty'>\n",
      "a String\n",
      "POSITIONAL_OR_KEYWORD\n",
      "-----\n",
      "name: b\n",
      "1\n",
      "<class 'int'>\n",
      "POSITIONAL_OR_KEYWORD\n",
      "-----\n",
      "name: args\n",
      "<class 'inspect._empty'>\n",
      "Additional positional arguments\n",
      "VAR_POSITIONAL\n",
      "-----\n",
      "name: kw1\n",
      "<class 'inspect._empty'>\n",
      "First kw argument\n",
      "KEYWORD_ONLY\n",
      "-----\n",
      "name: kw2\n",
      "10\n",
      "Second kw arg\n",
      "KEYWORD_ONLY\n",
      "-----\n",
      "name: kwargs\n",
      "<class 'inspect._empty'>\n",
      "additonal kw argument\n",
      "VAR_KEYWORD\n",
      "-----\n"
     ]
    }
   ],
   "source": [
    "for param in sig.parameters.values():\n",
    "    print(f\"name: {param.name}\")\n",
    "    print(param.default)\n",
    "    print(param.annotation)\n",
    "    print(param.kind)\n",
    "    print(\"-----\")\n",
    "    "
   ]
  },
  {
   "cell_type": "code",
   "execution_count": 102,
   "metadata": {},
   "outputs": [
    {
     "name": "stdout",
     "output_type": "stream",
     "text": [
      "def func(a: \"a String\",\n",
      "        c = 13,\n",
      "        b: int = 1,\n",
      "        *args: 'Additional positional arguments',\n",
      "        kw1: \"First kw argument\",\n",
      "        kw2: \"Second kw arg\" = 10,\n",
      "        **kwargs: 'additonal kw argument') -> str: \n",
      "    \"a docstring about the object\"\n",
      "    i = 10\n",
      "    a = 20\n",
      "\n"
     ]
    }
   ],
   "source": [
    "print(inspect.getsource(func))"
   ]
  },
  {
   "cell_type": "code",
   "execution_count": 103,
   "metadata": {},
   "outputs": [
    {
     "data": {
      "text/plain": [
       "str"
      ]
     },
     "execution_count": 103,
     "metadata": {},
     "output_type": "execute_result"
    }
   ],
   "source": [
    "inspect.signature(func).return_annotation"
   ]
  },
  {
   "cell_type": "markdown",
   "metadata": {},
   "source": [
    "Positional Only arguments\n",
    "\n",
    "`/` defines that preceding parameters are positional only params"
   ]
  },
  {
   "cell_type": "code",
   "execution_count": 105,
   "metadata": {},
   "outputs": [
    {
     "name": "stdout",
     "output_type": "stream",
     "text": [
      "Help on built-in function divmod in module builtins:\n",
      "\n",
      "divmod(x, y, /)\n",
      "    Return the tuple (x//y, x%y).  Invariant: div*y + mod == x.\n",
      "\n"
     ]
    }
   ],
   "source": [
    "help(divmod)"
   ]
  },
  {
   "cell_type": "code",
   "execution_count": 106,
   "metadata": {},
   "outputs": [
    {
     "data": {
      "text/plain": [
       "(0, 2)"
      ]
     },
     "execution_count": 106,
     "metadata": {},
     "output_type": "execute_result"
    }
   ],
   "source": [
    "divmod(2 ,3 )"
   ]
  },
  {
   "cell_type": "code",
   "execution_count": 108,
   "metadata": {},
   "outputs": [
    {
     "ename": "TypeError",
     "evalue": "divmod() takes no keyword arguments",
     "output_type": "error",
     "traceback": [
      "\u001b[0;31m---------------------------------------------------------------------------\u001b[0m",
      "\u001b[0;31mTypeError\u001b[0m                                 Traceback (most recent call last)",
      "Cell \u001b[0;32mIn[108], line 1\u001b[0m\n\u001b[0;32m----> 1\u001b[0m \u001b[39mdivmod\u001b[39;49m(x\u001b[39m=\u001b[39;49m\u001b[39m2\u001b[39;49m, y\u001b[39m=\u001b[39;49m\u001b[39m3\u001b[39;49m) \u001b[39m# NO keyword arguments are accepted\u001b[39;00m\n",
      "\u001b[0;31mTypeError\u001b[0m: divmod() takes no keyword arguments"
     ]
    }
   ],
   "source": [
    "divmod(x=2, y=3) # NO keyword arguments are accepted"
   ]
  },
  {
   "cell_type": "code",
   "execution_count": 112,
   "metadata": {},
   "outputs": [
    {
     "name": "stdout",
     "output_type": "stream",
     "text": [
      "POSITIONAL_ONLY\n"
     ]
    }
   ],
   "source": [
    "print(inspect.signature(divmod).parameters['x'].kind)"
   ]
  },
  {
   "cell_type": "code",
   "execution_count": 113,
   "metadata": {},
   "outputs": [
    {
     "ename": "TypeError",
     "evalue": "a_func() got some positional-only arguments passed as keyword arguments: 'a, b'",
     "output_type": "error",
     "traceback": [
      "\u001b[0;31m---------------------------------------------------------------------------\u001b[0m",
      "\u001b[0;31mTypeError\u001b[0m                                 Traceback (most recent call last)",
      "Cell \u001b[0;32mIn[113], line 4\u001b[0m\n\u001b[1;32m      1\u001b[0m \u001b[39mdef\u001b[39;00m \u001b[39ma_func\u001b[39m(a, b, \u001b[39m/\u001b[39m):\n\u001b[1;32m      2\u001b[0m     \u001b[39mpass\u001b[39;00m\n\u001b[0;32m----> 4\u001b[0m a_func(a \u001b[39m=\u001b[39;49m \u001b[39m10\u001b[39;49m, b \u001b[39m=\u001b[39;49m \u001b[39m20\u001b[39;49m)\n",
      "\u001b[0;31mTypeError\u001b[0m: a_func() got some positional-only arguments passed as keyword arguments: 'a, b'"
     ]
    }
   ],
   "source": [
    "def a_func(a, b, /):\n",
    "    pass\n",
    "\n",
    "a_func(a = 10, b = 20)"
   ]
  },
  {
   "cell_type": "markdown",
   "metadata": {},
   "source": [
    "## Callable\n",
    "\n",
    "any object that can be called using `()` operator. `callable` always returns a value.\n"
   ]
  },
  {
   "cell_type": "code",
   "execution_count": 126,
   "metadata": {},
   "outputs": [
    {
     "name": "stdout",
     "output_type": "stream",
     "text": [
      "\n",
      "None\n"
     ]
    }
   ],
   "source": [
    "val = print(\"\") # At least a function returns None \n",
    "print(val)  "
   ]
  },
  {
   "cell_type": "code",
   "execution_count": 116,
   "metadata": {},
   "outputs": [
    {
     "name": "stdout",
     "output_type": "stream",
     "text": [
      "Help on built-in function callable in module builtins:\n",
      "\n",
      "callable(obj, /)\n",
      "    Return whether the object is callable (i.e., some kind of function).\n",
      "    \n",
      "    Note that classes are callable, as are instances of classes with a\n",
      "    __call__() method.\n",
      "\n"
     ]
    }
   ],
   "source": [
    "help(callable)"
   ]
  },
  {
   "cell_type": "code",
   "execution_count": 122,
   "metadata": {},
   "outputs": [
    {
     "name": "stdout",
     "output_type": "stream",
     "text": [
      "True\n",
      "True\n",
      "True\n"
     ]
    },
    {
     "data": {
      "text/plain": [
       "False"
      ]
     },
     "execution_count": 122,
     "metadata": {},
     "output_type": "execute_result"
    }
   ],
   "source": [
    "print(callable(lambda x : x))\n",
    "print(callable(print))\n",
    "print(callable(str.upper))\n",
    "callable(10)"
   ]
  },
  {
   "cell_type": "markdown",
   "metadata": {},
   "source": [
    "Different types of callables\n",
    "\n",
    "- built-in function ->           `print` `len` `callable`\n",
    "- build-in methods  ->            `str.upper` `a_list.append`\n",
    "- user-defined function ->         function defined using `def` and `lambda`\n",
    "- method            ->             function bound to a class\n",
    "- classes\n",
    "- class instances   ->              if class implements `__call__` method\n",
    "- generators, coroutines, async generators\n",
    "\n",
    "**Note:**\n",
    "\n",
    "At first, when `MyClass(x, y, z)` is called \n",
    "\n",
    "-> `__new__(x, y, z)` : creates the object\n",
    "\n",
    "-> `__init__(self, x, y, z)` : Instantiate the object\n",
    "\n",
    "-> then call returns reference of the new object"
   ]
  },
  {
   "cell_type": "code",
   "execution_count": 139,
   "metadata": {},
   "outputs": [],
   "source": [
    "class MyClass:\n",
    "    def __init__(self, x = 0) -> None:\n",
    "        print(\"In __init__ method\")\n",
    "        self.x = x\n",
    "        \n",
    "    def __call__(self,  x = 1):\n",
    "        print(\"updating..\")\n",
    "        self.x += x "
   ]
  },
  {
   "cell_type": "code",
   "execution_count": 140,
   "metadata": {},
   "outputs": [
    {
     "data": {
      "text/plain": [
       "True"
      ]
     },
     "execution_count": 140,
     "metadata": {},
     "output_type": "execute_result"
    }
   ],
   "source": [
    "callable(MyClass)"
   ]
  },
  {
   "cell_type": "code",
   "execution_count": 141,
   "metadata": {},
   "outputs": [
    {
     "name": "stdout",
     "output_type": "stream",
     "text": [
      "In __init__ method\n"
     ]
    }
   ],
   "source": [
    "obj = MyClass(x = 1)\n"
   ]
  },
  {
   "cell_type": "code",
   "execution_count": 142,
   "metadata": {},
   "outputs": [
    {
     "data": {
      "text/plain": [
       "True"
      ]
     },
     "execution_count": 142,
     "metadata": {},
     "output_type": "execute_result"
    }
   ],
   "source": [
    "callable(obj)"
   ]
  },
  {
   "cell_type": "code",
   "execution_count": 143,
   "metadata": {},
   "outputs": [
    {
     "name": "stdout",
     "output_type": "stream",
     "text": [
      "updating..\n",
      "2\n"
     ]
    }
   ],
   "source": [
    "obj()\n",
    "print(obj.x)"
   ]
  },
  {
   "cell_type": "markdown",
   "metadata": {},
   "source": [
    "## Builtin Higher Order Functions\n",
    "\n",
    "`map`\n",
    "\n",
    "`filter(fun, iterable)`\n",
    "\n",
    "`zip(*iterable)` (Not higher order function)"
   ]
  },
  {
   "cell_type": "markdown",
   "metadata": {},
   "source": [
    "All function returns iterable object, which means it doesn't evaluate expression at the time of running - **lazy evaluation takes place.**"
   ]
  },
  {
   "cell_type": "code",
   "execution_count": 145,
   "metadata": {},
   "outputs": [],
   "source": [
    "l = [2, 5, 8]\n",
    "\n",
    "def sq(x):\n",
    "    return x**2"
   ]
  },
  {
   "cell_type": "code",
   "execution_count": 146,
   "metadata": {},
   "outputs": [
    {
     "data": {
      "text/plain": [
       "<map at 0x105a447c0>"
      ]
     },
     "execution_count": 146,
     "metadata": {},
     "output_type": "execute_result"
    }
   ],
   "source": [
    "map(sq, l)"
   ]
  },
  {
   "cell_type": "code",
   "execution_count": 148,
   "metadata": {},
   "outputs": [
    {
     "name": "stdout",
     "output_type": "stream",
     "text": [
      "4\n",
      "25\n",
      "64\n"
     ]
    },
    {
     "data": {
      "text/plain": [
       "[4, 25, 64]"
      ]
     },
     "execution_count": 148,
     "metadata": {},
     "output_type": "execute_result"
    }
   ],
   "source": [
    "for i in map(sq, l):\n",
    "    print(i)\n",
    "    \n",
    "list(map(sq, l))"
   ]
  },
  {
   "cell_type": "code",
   "execution_count": 150,
   "metadata": {},
   "outputs": [
    {
     "name": "stdout",
     "output_type": "stream",
     "text": [
      "['taksh', 'tanay', 'sarvesh']\n",
      "['kshta', 'nayta', 'veshsar']\n"
     ]
    }
   ],
   "source": [
    "l1 = [\"ta\", \"ta\", \"sar\"]\n",
    "l2 = [\"ksh\", \"nay\", \"vesh\"]\n",
    "\n",
    "print(list(map(lambda a,b : a + b, l1, l2)))\n",
    "print(list(map(lambda a,b : a + b, l2, l1)))"
   ]
  },
  {
   "cell_type": "markdown",
   "metadata": {},
   "source": [
    "#### `filter` Function"
   ]
  },
  {
   "cell_type": "code",
   "execution_count": 154,
   "metadata": {},
   "outputs": [
    {
     "data": {
      "text/plain": [
       "['abc', 'a2qd', 'asd']"
      ]
     },
     "execution_count": 154,
     "metadata": {},
     "output_type": "execute_result"
    }
   ],
   "source": [
    "ls = [\"abc\", \"a2qd\", \"dawaddaw\", \"asd\"]\n",
    "\n",
    "list(filter(lambda x : len(x) < 5, ls))"
   ]
  },
  {
   "cell_type": "markdown",
   "metadata": {},
   "source": [
    "#### `zip` function"
   ]
  },
  {
   "cell_type": "code",
   "execution_count": 156,
   "metadata": {},
   "outputs": [
    {
     "name": "stdout",
     "output_type": "stream",
     "text": [
      "[(1, 'x'), (2, 'y'), (3, 'z')]\n",
      "[('x', 1), ('y', 2), ('z', 3)]\n"
     ]
    }
   ],
   "source": [
    "l1 = [1, 2, 3]\n",
    "l2 = ['x', 'y', 'z']\n",
    "\n",
    "print(list(zip(l1, l2)))\n",
    "print(list(zip(l2, l1)))"
   ]
  },
  {
   "cell_type": "markdown",
   "metadata": {},
   "source": [
    "Very useful with `range`"
   ]
  },
  {
   "cell_type": "code",
   "execution_count": 157,
   "metadata": {},
   "outputs": [
    {
     "name": "stdout",
     "output_type": "stream",
     "text": [
      "0 t\n",
      "1 a\n",
      "2 k\n",
      "3 s\n",
      "4 h\n"
     ]
    }
   ],
   "source": [
    "l1 = range(1000)\n",
    "l2 = \"taksh\"\n",
    "\n",
    "for i, s in zip(l1, l2):\n",
    "    print(i, s)"
   ]
  },
  {
   "cell_type": "markdown",
   "metadata": {},
   "source": [
    "## List Comprehensions\n",
    "\n",
    "It is very simpler version of `for` loop.\n",
    "\n",
    "`[<expression 1> for <varname> in <iterable> if <expression 2>]`\n",
    "\n",
    "iterable on which loop is iterates.\n",
    "\n",
    "expression 1 returns will be saved in the list\n",
    "\n",
    "expression 2 is the boolean expression, which filters the items\n",
    "\n",
    "varname includes variable comes from iterable\n"
   ]
  },
  {
   "cell_type": "code",
   "execution_count": 160,
   "metadata": {},
   "outputs": [
    {
     "data": {
      "text/plain": [
       "[144, 1024, 2704]"
      ]
     },
     "execution_count": 160,
     "metadata": {},
     "output_type": "execute_result"
    }
   ],
   "source": [
    "ls = [12, 32 , 52]\n",
    "\n",
    "[x**2 for x in ls]"
   ]
  },
  {
   "cell_type": "markdown",
   "metadata": {},
   "source": [
    "As an alternative to `map`"
   ]
  },
  {
   "cell_type": "code",
   "execution_count": 159,
   "metadata": {},
   "outputs": [
    {
     "name": "stdout",
     "output_type": "stream",
     "text": [
      "['taksh', 'tanay', 'sarvesh']\n"
     ]
    },
    {
     "data": {
      "text/plain": [
       "['taksh', 'tanay', 'sarvesh']"
      ]
     },
     "execution_count": 159,
     "metadata": {},
     "output_type": "execute_result"
    }
   ],
   "source": [
    "l1 = [\"ta\", \"ta\", \"sar\"]\n",
    "l2 = [\"ksh\", \"nay\", \"vesh\"]\n",
    "\n",
    "print(list(map(lambda a,b : a + b, l1, l2)))\n",
    "\n",
    "[x+y for x,y in zip(l1, l2)]"
   ]
  },
  {
   "cell_type": "markdown",
   "metadata": {},
   "source": [
    "As an alternative to `filter`"
   ]
  },
  {
   "cell_type": "code",
   "execution_count": 162,
   "metadata": {},
   "outputs": [
    {
     "name": "stdout",
     "output_type": "stream",
     "text": [
      "['abc', 'a2qd', 'asd']\n"
     ]
    },
    {
     "data": {
      "text/plain": [
       "['abc', 'a2qd', 'asd']"
      ]
     },
     "execution_count": 162,
     "metadata": {},
     "output_type": "execute_result"
    }
   ],
   "source": [
    "ls = [\"abc\", \"a2qd\", \"dawaddaw\", \"asd\"]\n",
    "\n",
    "print(list(filter(lambda x : len(x) < 5, ls)))\n",
    "\n",
    "# List comprehension\n",
    "[x for x in ls if len(x) < 5]"
   ]
  },
  {
   "cell_type": "markdown",
   "metadata": {},
   "source": [
    "combining `map` and `filter`"
   ]
  },
  {
   "cell_type": "code",
   "execution_count": 171,
   "metadata": {},
   "outputs": [
    {
     "name": "stdout",
     "output_type": "stream",
     "text": [
      "[0, 1, 4, 9, 16]\n",
      "[0, 1, 4, 9, 16]\n",
      "[0, 1, 4, 9, 16]\n"
     ]
    }
   ],
   "source": [
    "l = range(10)\n",
    "\n",
    "print(list(filter(lambda y: y < 25, map(lambda x : x**2, l))))\n",
    "\n",
    "# list comprehension\n",
    "print([x**2 for x in l if x**2 < 25])\n",
    "print([x for x in [y**2 for y in l] if x < 25])"
   ]
  },
  {
   "cell_type": "markdown",
   "metadata": {},
   "source": [
    "ps. list comprehension code without `[]` bracket is generated expression."
   ]
  },
  {
   "cell_type": "markdown",
   "metadata": {},
   "source": [
    "## `functools` Module"
   ]
  },
  {
   "cell_type": "markdown",
   "metadata": {},
   "source": [
    "## Partials"
   ]
  },
  {
   "cell_type": "code",
   "execution_count": null,
   "metadata": {},
   "outputs": [],
   "source": []
  }
 ],
 "metadata": {
  "kernelspec": {
   "display_name": "Python 3",
   "language": "python",
   "name": "python3"
  },
  "language_info": {
   "codemirror_mode": {
    "name": "ipython",
    "version": 3
   },
   "file_extension": ".py",
   "mimetype": "text/x-python",
   "name": "python",
   "nbconvert_exporter": "python",
   "pygments_lexer": "ipython3",
   "version": "3.9.6"
  },
  "orig_nbformat": 4
 },
 "nbformat": 4,
 "nbformat_minor": 2
}
