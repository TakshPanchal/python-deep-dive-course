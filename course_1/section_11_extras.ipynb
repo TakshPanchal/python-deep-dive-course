{
 "cells": [
  {
   "cell_type": "markdown",
   "metadata": {},
   "source": [
    "Extras are only on python and python std-lib\n",
    "- tips and tricks\n",
    "- Pythonic code\n",
    "- Opinions\n",
    "- Something Interesting"
   ]
  },
  {
   "cell_type": "markdown",
   "metadata": {},
   "source": [
    "## Resources"
   ]
  },
  {
   "cell_type": "markdown",
   "metadata": {},
   "source": [
    "- [Python Docs](https://docs.python.ord)\n",
    "- PEP\n",
    "- Wikipedia } for CS Concepts\n",
    "- Books\n",
    "    - \n",
    "\n",
    "- Online source\n",
    "    \n"
   ]
  },
  {
   "cell_type": "markdown",
   "metadata": {},
   "source": [
    "### PEPs\n"
   ]
  },
  {
   "cell_type": "markdown",
   "metadata": {},
   "source": []
  },
  {
   "cell_type": "markdown",
   "metadata": {},
   "source": [
    "## Random"
   ]
  },
  {
   "cell_type": "markdown",
   "metadata": {},
   "source": []
  }
 ],
 "metadata": {
  "language_info": {
   "name": "python"
  },
  "orig_nbformat": 4
 },
 "nbformat": 4,
 "nbformat_minor": 2
}
