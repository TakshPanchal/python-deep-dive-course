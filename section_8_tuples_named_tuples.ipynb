{
 "cells": [
  {
   "cell_type": "markdown",
   "metadata": {},
   "source": [
    "# Tuples\n",
    "\n",
    "As Data Structure\n"
   ]
  },
  {
   "cell_type": "markdown",
   "metadata": {},
   "source": [
    "Tuples are basically a container, an Iterable.\n",
    "\n",
    "## Nature of Tuple\n",
    "\n",
    "- The basic\n"
   ]
  },
  {
   "cell_type": "markdown",
   "metadata": {},
   "source": [
    "Remember parenthesis are not required for tuple. Sometimes there must a parenthesis like passing argument to a function, and generally ppl use `()` for tuples but yeah it is not necessary.\n"
   ]
  },
  {
   "cell_type": "code",
   "execution_count": 2,
   "metadata": {},
   "outputs": [
    {
     "name": "stdout",
     "output_type": "stream",
     "text": [
      "<class 'tuple'>\n",
      "<class 'tuple'>\n"
     ]
    }
   ],
   "source": [
    "a = (10, 20, 30)\n",
    "b = 13, 123, \"ASV\"\n",
    "\n",
    "print(type(a))\n",
    "print(type(b))"
   ]
  },
  {
   "cell_type": "code",
   "execution_count": 3,
   "metadata": {},
   "outputs": [
    {
     "name": "stdout",
     "output_type": "stream",
     "text": [
      "(10, 20, 30)\n"
     ]
    }
   ],
   "source": [
    "def print_tuple(tup):\n",
    "    for e in tup:\n",
    "        print(e)\n",
    "\n",
    "\n",
    "# print(10, 20, 30) # This is will fail\n",
    "print((10, 20, 30))"
   ]
  },
  {
   "cell_type": "markdown",
   "metadata": {},
   "source": [
    "Unpacking of tuple\n"
   ]
  },
  {
   "cell_type": "code",
   "execution_count": 4,
   "metadata": {},
   "outputs": [],
   "source": [
    "a = \"10\", \"20\", 12"
   ]
  },
  {
   "cell_type": "code",
   "execution_count": 5,
   "metadata": {},
   "outputs": [
    {
     "name": "stdout",
     "output_type": "stream",
     "text": [
      "10\n"
     ]
    }
   ],
   "source": [
    "x, y, z = a\n",
    "print(x)"
   ]
  },
  {
   "cell_type": "markdown",
   "metadata": {},
   "source": [
    "Extended unpacking\n"
   ]
  },
  {
   "cell_type": "code",
   "execution_count": 6,
   "metadata": {},
   "outputs": [],
   "source": [
    "a = 1, 2, 3, 4, 5"
   ]
  },
  {
   "cell_type": "code",
   "execution_count": 7,
   "metadata": {},
   "outputs": [
    {
     "name": "stdout",
     "output_type": "stream",
     "text": [
      "1\n",
      "4\n",
      "5\n"
     ]
    }
   ],
   "source": [
    "x, *_, y, z = a\n",
    "print(x)\n",
    "print(y)\n",
    "print(z)"
   ]
  },
  {
   "cell_type": "markdown",
   "metadata": {},
   "source": [
    "Tuples are indexed so that we can also slice and accessing it via index\n"
   ]
  },
  {
   "cell_type": "code",
   "execution_count": 8,
   "metadata": {},
   "outputs": [
    {
     "data": {
      "text/plain": [
       "1"
      ]
     },
     "execution_count": 8,
     "metadata": {},
     "output_type": "execute_result"
    }
   ],
   "source": [
    "a[0]"
   ]
  },
  {
   "cell_type": "markdown",
   "metadata": {},
   "source": [
    "Obviously we can't mutate a tuple, but you can always mutate the the elements of the tuple (If it is mutable).\n"
   ]
  },
  {
   "cell_type": "code",
   "execution_count": 9,
   "metadata": {},
   "outputs": [
    {
     "ename": "TypeError",
     "evalue": "'tuple' object does not support item assignment",
     "output_type": "error",
     "traceback": [
      "\u001b[0;31m---------------------------------------------------------------------------\u001b[0m",
      "\u001b[0;31mTypeError\u001b[0m                                 Traceback (most recent call last)",
      "Cell \u001b[0;32mIn[9], line 1\u001b[0m\n\u001b[0;32m----> 1\u001b[0m a[\u001b[39m0\u001b[39;49m] \u001b[39m=\u001b[39m \u001b[39m10\u001b[39m\n",
      "\u001b[0;31mTypeError\u001b[0m: 'tuple' object does not support item assignment"
     ]
    }
   ],
   "source": [
    "a[0] = 10"
   ]
  },
  {
   "cell_type": "markdown",
   "metadata": {},
   "source": [
    "### Tuples are data records\n",
    "\n",
    "We can build a convention, that at a index value shows something. This is how we can use tuples as a data-records which are immutable in nature.\n",
    "\n",
    "Generally, tuple consist of heterogeneous elements meanwhile list is mostly used with homogeneous elements.\n"
   ]
  },
  {
   "cell_type": "code",
   "execution_count": null,
   "metadata": {},
   "outputs": [],
   "source": [
    "london = (\"London\", \"UK\", 8_780_000)\n",
    "new_york = (\"New York\", \"USA\", 8_500_000)\n",
    "mumbai = (\"Mumbai\", \"IN\", 17_159_000)"
   ]
  },
  {
   "cell_type": "code",
   "execution_count": null,
   "metadata": {},
   "outputs": [],
   "source": [
    "cities = [london, new_york, mumbai]"
   ]
  },
  {
   "cell_type": "markdown",
   "metadata": {},
   "source": [
    "Using tuple as data-structure and list as container, we can archive lots of things\n"
   ]
  },
  {
   "cell_type": "code",
   "execution_count": null,
   "metadata": {},
   "outputs": [
    {
     "data": {
      "text/plain": [
       "34439000"
      ]
     },
     "execution_count": 22,
     "metadata": {},
     "output_type": "execute_result"
    }
   ],
   "source": [
    "sum(city[2] for city in cities)"
   ]
  },
  {
   "cell_type": "markdown",
   "metadata": {},
   "source": [
    "We can return multiple variables encapsulating in tuple.\n"
   ]
  },
  {
   "cell_type": "code",
   "execution_count": null,
   "metadata": {},
   "outputs": [],
   "source": []
  },
  {
   "cell_type": "markdown",
   "metadata": {},
   "source": [
    "## Named Tuples\n"
   ]
  },
  {
   "cell_type": "markdown",
   "metadata": {},
   "source": [
    "Drawbacks of classes as \"Data-classes\"\n",
    "\n",
    "- mutable, data entry can be easily mutated\n",
    "- a bit of boilerplate code needed\n"
   ]
  },
  {
   "cell_type": "markdown",
   "metadata": {},
   "source": []
  },
  {
   "cell_type": "markdown",
   "metadata": {},
   "source": [
    "`namedtuple` function\n",
    "\n",
    "A class generator which generates data-classes inherited from `tuple` class.\n",
    "\n",
    "It implements `__repr__`, `__eq__` methods also.\n",
    "\n",
    "Return class is iterable (bcz subclass of tuple) so you can do all sorts of things you do with `tuple` can be done by the class\n"
   ]
  },
  {
   "cell_type": "code",
   "execution_count": null,
   "metadata": {},
   "outputs": [
    {
     "name": "stdout",
     "output_type": "stream",
     "text": [
      "Help on function namedtuple in module collections:\n",
      "\n",
      "namedtuple(typename, field_names, *, rename=False, defaults=None, module=None)\n",
      "    Returns a new subclass of tuple with named fields.\n",
      "    \n",
      "    >>> Point = namedtuple('Point', ['x', 'y'])\n",
      "    >>> Point.__doc__                   # docstring for the new class\n",
      "    'Point(x, y)'\n",
      "    >>> p = Point(11, y=22)             # instantiate with positional args or keywords\n",
      "    >>> p[0] + p[1]                     # indexable like a plain tuple\n",
      "    33\n",
      "    >>> x, y = p                        # unpack like a regular tuple\n",
      "    >>> x, y\n",
      "    (11, 22)\n",
      "    >>> p.x + p.y                       # fields also accessible by name\n",
      "    33\n",
      "    >>> d = p._asdict()                 # convert to a dictionary\n",
      "    >>> d['x']\n",
      "    11\n",
      "    >>> Point(**d)                      # convert from a dictionary\n",
      "    Point(x=11, y=22)\n",
      "    >>> p._replace(x=100)               # _replace() is like str.replace() but targets named fields\n",
      "    Point(x=100, y=22)\n",
      "\n"
     ]
    }
   ],
   "source": [
    "from collections import namedtuple\n",
    "\n",
    "help(namedtuple)"
   ]
  },
  {
   "cell_type": "code",
   "execution_count": null,
   "metadata": {},
   "outputs": [
    {
     "data": {
      "text/plain": [
       "__main__.Point2d"
      ]
     },
     "execution_count": 13,
     "metadata": {},
     "output_type": "execute_result"
    }
   ],
   "source": [
    "namedtuple(\"Point2d\", [\"x\", \"y\"])  # Returns a variable points to a class `Point2d`"
   ]
  },
  {
   "cell_type": "code",
   "execution_count": null,
   "metadata": {},
   "outputs": [],
   "source": [
    "Point2d = namedtuple(\"Point2d\", [\"x\", \"y\"])"
   ]
  },
  {
   "cell_type": "code",
   "execution_count": null,
   "metadata": {},
   "outputs": [
    {
     "name": "stdout",
     "output_type": "stream",
     "text": [
      "Point2d(x=1, y=1)\n",
      "Point2d(x=1, y=2)\n"
     ]
    }
   ],
   "source": [
    "pt1 = Point2d(x=1, y=1)\n",
    "pt2 = Point2d(1, 2)\n",
    "\n",
    "print(pt1)\n",
    "print(pt2)"
   ]
  },
  {
   "cell_type": "code",
   "execution_count": null,
   "metadata": {},
   "outputs": [
    {
     "data": {
      "text/plain": [
       "True"
      ]
     },
     "execution_count": 16,
     "metadata": {},
     "output_type": "execute_result"
    }
   ],
   "source": [
    "isinstance(pt2, tuple)"
   ]
  },
  {
   "cell_type": "code",
   "execution_count": null,
   "metadata": {},
   "outputs": [
    {
     "name": "stdout",
     "output_type": "stream",
     "text": [
      "False\n",
      "True\n"
     ]
    }
   ],
   "source": [
    "pt1 = Point2d(0, 0)\n",
    "pt2 = Point2d(0, 0)\n",
    "\n",
    "print(pt1 is pt2)\n",
    "print(pt1 == pt2)  # __eq__ checks all the fields of the class"
   ]
  },
  {
   "cell_type": "markdown",
   "metadata": {},
   "source": [
    "### Generating Named Tuple Class\n"
   ]
  },
  {
   "cell_type": "markdown",
   "metadata": {},
   "source": [
    "### Accessing Data in a Named Tuple\n"
   ]
  },
  {
   "cell_type": "code",
   "execution_count": null,
   "metadata": {},
   "outputs": [
    {
     "data": {
      "text/plain": [
       "(0, 0)"
      ]
     },
     "execution_count": 18,
     "metadata": {},
     "output_type": "execute_result"
    }
   ],
   "source": [
    "tuple(pt1)  # get tuple"
   ]
  },
  {
   "cell_type": "code",
   "execution_count": null,
   "metadata": {},
   "outputs": [
    {
     "data": {
      "text/plain": [
       "(0, (0, 0))"
      ]
     },
     "execution_count": 19,
     "metadata": {},
     "output_type": "execute_result"
    }
   ],
   "source": [
    "pt1[0], pt1[:2]"
   ]
  },
  {
   "cell_type": "code",
   "execution_count": null,
   "metadata": {},
   "outputs": [
    {
     "data": {
      "text/plain": [
       "(0, 0)"
      ]
     },
     "execution_count": 20,
     "metadata": {},
     "output_type": "execute_result"
    }
   ],
   "source": [
    "pt1.x, pt1.y"
   ]
  },
  {
   "cell_type": "code",
   "execution_count": null,
   "metadata": {},
   "outputs": [],
   "source": [
    "Circle = namedtuple(\"Circle\", \"center_x center_y radius\")"
   ]
  },
  {
   "cell_type": "code",
   "execution_count": null,
   "metadata": {},
   "outputs": [
    {
     "data": {
      "text/plain": [
       "5"
      ]
     },
     "execution_count": 22,
     "metadata": {},
     "output_type": "execute_result"
    }
   ],
   "source": [
    "c = Circle(0, 0, 5)\n",
    "c.radius"
   ]
  },
  {
   "cell_type": "code",
   "execution_count": null,
   "metadata": {},
   "outputs": [],
   "source": [
    "Stock = namedtuple(\n",
    "    \"Stock\",\n",
    "    \"\"\"\n",
    "                            symbol\n",
    "                            year\n",
    "                            month\n",
    "                            day\n",
    "                            open\n",
    "                            close\n",
    "                            high\n",
    "                            low\n",
    "                   \"\"\",\n",
    ")"
   ]
  },
  {
   "cell_type": "code",
   "execution_count": null,
   "metadata": {},
   "outputs": [
    {
     "name": "stdout",
     "output_type": "stream",
     "text": [
      "Stock(symbol='RIL', year=2023, month=7, day=24, open=2481.0, close=2536.75, high=514.95, low=469.3)\n"
     ]
    }
   ],
   "source": [
    "ril = Stock(\n",
    "    \"RIL\",\n",
    "    year=2023,\n",
    "    month=7,\n",
    "    day=24,\n",
    "    open=2_481.00,\n",
    "    high=514.95,\n",
    "    low=469.30,\n",
    "    close=2_536.75,\n",
    ")\n",
    "\n",
    "print(ril)"
   ]
  },
  {
   "cell_type": "code",
   "execution_count": null,
   "metadata": {},
   "outputs": [
    {
     "data": {
      "text/plain": [
       "2536.75"
      ]
     },
     "execution_count": 25,
     "metadata": {},
     "output_type": "execute_result"
    }
   ],
   "source": [
    "ril.close"
   ]
  },
  {
   "cell_type": "markdown",
   "metadata": {},
   "source": [
    "We can iterate on it with order given in the field string\n"
   ]
  },
  {
   "cell_type": "code",
   "execution_count": null,
   "metadata": {},
   "outputs": [
    {
     "name": "stdout",
     "output_type": "stream",
     "text": [
      "RIL\n",
      "2023\n",
      "7\n",
      "24\n",
      "2481.0\n",
      "2536.75\n",
      "514.95\n",
      "469.3\n"
     ]
    }
   ],
   "source": [
    "for field in ril:\n",
    "    print(field)"
   ]
  },
  {
   "cell_type": "markdown",
   "metadata": {},
   "source": [
    "Extended unpacking according to order of fields\n"
   ]
  },
  {
   "cell_type": "code",
   "execution_count": null,
   "metadata": {},
   "outputs": [
    {
     "name": "stdout",
     "output_type": "stream",
     "text": [
      "RIL\n",
      "2481.0\n",
      "469.3\n"
     ]
    }
   ],
   "source": [
    "symbol, *_, open, close, high, low = ril\n",
    "\n",
    "\n",
    "print(symbol)\n",
    "print(open)\n",
    "print(low)"
   ]
  },
  {
   "cell_type": "markdown",
   "metadata": {},
   "source": [
    "Can't mutate field\n"
   ]
  },
  {
   "cell_type": "code",
   "execution_count": null,
   "metadata": {},
   "outputs": [
    {
     "name": "stdout",
     "output_type": "stream",
     "text": [
      "RIL\n"
     ]
    },
    {
     "ename": "AttributeError",
     "evalue": "can't set attribute",
     "output_type": "error",
     "traceback": [
      "\u001b[0;31m---------------------------------------------------------------------------\u001b[0m",
      "\u001b[0;31mAttributeError\u001b[0m                            Traceback (most recent call last)",
      "Cell \u001b[0;32mIn[17], line 2\u001b[0m\n\u001b[1;32m      1\u001b[0m \u001b[39mprint\u001b[39m(ril\u001b[39m.\u001b[39msymbol)\n\u001b[0;32m----> 2\u001b[0m ril\u001b[39m.\u001b[39;49msymbol \u001b[39m=\u001b[39m \u001b[39m\"\u001b[39m\u001b[39mJIO\u001b[39m\u001b[39m\"\u001b[39m\n",
      "\u001b[0;31mAttributeError\u001b[0m: can't set attribute"
     ]
    }
   ],
   "source": [
    "print(ril.symbol)\n",
    "ril.symbol = \"JIO\""
   ]
  },
  {
   "cell_type": "markdown",
   "metadata": {},
   "source": [
    "Field names cannot start with an underscore. `_` is used for renaming exclusively.\n"
   ]
  },
  {
   "cell_type": "code",
   "execution_count": null,
   "metadata": {},
   "outputs": [
    {
     "ename": "ValueError",
     "evalue": "Field names cannot start with an underscore: '_srn'",
     "output_type": "error",
     "traceback": [
      "\u001b[0;31m---------------------------------------------------------------------------\u001b[0m",
      "\u001b[0;31mValueError\u001b[0m                                Traceback (most recent call last)",
      "Cell \u001b[0;32mIn[28], line 1\u001b[0m\n\u001b[0;32m----> 1\u001b[0m Person \u001b[39m=\u001b[39m namedtuple(\u001b[39m\"\u001b[39;49m\u001b[39mPerson\u001b[39;49m\u001b[39m\"\u001b[39;49m, \u001b[39m\"\u001b[39;49m\u001b[39mname age _srn\u001b[39;49m\u001b[39m\"\u001b[39;49m)\n",
      "File \u001b[0;32m/Library/Developer/CommandLineTools/Library/Frameworks/Python3.framework/Versions/3.9/lib/python3.9/collections/__init__.py:399\u001b[0m, in \u001b[0;36mnamedtuple\u001b[0;34m(typename, field_names, rename, defaults, module)\u001b[0m\n\u001b[1;32m    397\u001b[0m \u001b[39mfor\u001b[39;00m name \u001b[39min\u001b[39;00m field_names:\n\u001b[1;32m    398\u001b[0m     \u001b[39mif\u001b[39;00m name\u001b[39m.\u001b[39mstartswith(\u001b[39m'\u001b[39m\u001b[39m_\u001b[39m\u001b[39m'\u001b[39m) \u001b[39mand\u001b[39;00m \u001b[39mnot\u001b[39;00m rename:\n\u001b[0;32m--> 399\u001b[0m         \u001b[39mraise\u001b[39;00m \u001b[39mValueError\u001b[39;00m(\u001b[39m'\u001b[39m\u001b[39mField names cannot start with an underscore: \u001b[39m\u001b[39m'\u001b[39m\n\u001b[1;32m    400\u001b[0m                          \u001b[39mf\u001b[39m\u001b[39m'\u001b[39m\u001b[39m{\u001b[39;00mname\u001b[39m!r}\u001b[39;00m\u001b[39m'\u001b[39m)\n\u001b[1;32m    401\u001b[0m     \u001b[39mif\u001b[39;00m name \u001b[39min\u001b[39;00m seen:\n\u001b[1;32m    402\u001b[0m         \u001b[39mraise\u001b[39;00m \u001b[39mValueError\u001b[39;00m(\u001b[39mf\u001b[39m\u001b[39m'\u001b[39m\u001b[39mEncountered duplicate field name: \u001b[39m\u001b[39m{\u001b[39;00mname\u001b[39m!r}\u001b[39;00m\u001b[39m'\u001b[39m)\n",
      "\u001b[0;31mValueError\u001b[0m: Field names cannot start with an underscore: '_srn'"
     ]
    }
   ],
   "source": [
    "Person = namedtuple(\"Person\", \"name age _srn\")"
   ]
  },
  {
   "cell_type": "code",
   "execution_count": null,
   "metadata": {},
   "outputs": [
    {
     "data": {
      "text/plain": [
       "('name', 'age', '_2')"
      ]
     },
     "execution_count": 29,
     "metadata": {},
     "output_type": "execute_result"
    }
   ],
   "source": [
    "Person = namedtuple(\"Person\", \"name age _srn\", rename=True)\n",
    "Person._fields"
   ]
  },
  {
   "cell_type": "markdown",
   "metadata": {},
   "source": [
    "## Introspection\n"
   ]
  },
  {
   "cell_type": "markdown",
   "metadata": {},
   "source": [
    "`_fields` comes from `namedtuple`\n"
   ]
  },
  {
   "cell_type": "code",
   "execution_count": null,
   "metadata": {},
   "outputs": [
    {
     "data": {
      "text/plain": [
       "('x', 'y')"
      ]
     },
     "execution_count": 30,
     "metadata": {},
     "output_type": "execute_result"
    }
   ],
   "source": [
    "Point2d._fields"
   ]
  },
  {
   "cell_type": "code",
   "execution_count": null,
   "metadata": {},
   "outputs": [
    {
     "name": "stdout",
     "output_type": "stream",
     "text": [
      "Help on class Stock in module __main__:\n",
      "\n",
      "class Stock(builtins.tuple)\n",
      " |  Stock(symbol, year, month, day, open, close, high, low)\n",
      " |  \n",
      " |  Stock(symbol, year, month, day, open, close, high, low)\n",
      " |  \n",
      " |  Method resolution order:\n",
      " |      Stock\n",
      " |      builtins.tuple\n",
      " |      builtins.object\n",
      " |  \n",
      " |  Methods defined here:\n",
      " |  \n",
      " |  __getnewargs__(self)\n",
      " |      Return self as a plain tuple.  Used by copy and pickle.\n",
      " |  \n",
      " |  __repr__(self)\n",
      " |      Return a nicely formatted representation string\n",
      " |  \n",
      " |  _asdict(self)\n",
      " |      Return a new dict which maps field names to their values.\n",
      " |  \n",
      " |  _replace(self, /, **kwds)\n",
      " |      Return a new Stock object replacing specified fields with new values\n",
      " |  \n",
      " |  ----------------------------------------------------------------------\n",
      " |  Class methods defined here:\n",
      " |  \n",
      " |  _make(iterable) from builtins.type\n",
      " |      Make a new Stock object from a sequence or iterable\n",
      " |  \n",
      " |  ----------------------------------------------------------------------\n",
      " |  Static methods defined here:\n",
      " |  \n",
      " |  __new__(_cls, symbol, year, month, day, open, close, high, low)\n",
      " |      Create new instance of Stock(symbol, year, month, day, open, close, high, low)\n",
      " |  \n",
      " |  ----------------------------------------------------------------------\n",
      " |  Data descriptors defined here:\n",
      " |  \n",
      " |  symbol\n",
      " |      Alias for field number 0\n",
      " |  \n",
      " |  year\n",
      " |      Alias for field number 1\n",
      " |  \n",
      " |  month\n",
      " |      Alias for field number 2\n",
      " |  \n",
      " |  day\n",
      " |      Alias for field number 3\n",
      " |  \n",
      " |  open\n",
      " |      Alias for field number 4\n",
      " |  \n",
      " |  close\n",
      " |      Alias for field number 5\n",
      " |  \n",
      " |  high\n",
      " |      Alias for field number 6\n",
      " |  \n",
      " |  low\n",
      " |      Alias for field number 7\n",
      " |  \n",
      " |  ----------------------------------------------------------------------\n",
      " |  Data and other attributes defined here:\n",
      " |  \n",
      " |  _field_defaults = {}\n",
      " |  \n",
      " |  _fields = ('symbol', 'year', 'month', 'day', 'open', 'close', 'high', ...\n",
      " |  \n",
      " |  ----------------------------------------------------------------------\n",
      " |  Methods inherited from builtins.tuple:\n",
      " |  \n",
      " |  __add__(self, value, /)\n",
      " |      Return self+value.\n",
      " |  \n",
      " |  __contains__(self, key, /)\n",
      " |      Return key in self.\n",
      " |  \n",
      " |  __eq__(self, value, /)\n",
      " |      Return self==value.\n",
      " |  \n",
      " |  __ge__(self, value, /)\n",
      " |      Return self>=value.\n",
      " |  \n",
      " |  __getattribute__(self, name, /)\n",
      " |      Return getattr(self, name).\n",
      " |  \n",
      " |  __getitem__(self, key, /)\n",
      " |      Return self[key].\n",
      " |  \n",
      " |  __gt__(self, value, /)\n",
      " |      Return self>value.\n",
      " |  \n",
      " |  __hash__(self, /)\n",
      " |      Return hash(self).\n",
      " |  \n",
      " |  __iter__(self, /)\n",
      " |      Implement iter(self).\n",
      " |  \n",
      " |  __le__(self, value, /)\n",
      " |      Return self<=value.\n",
      " |  \n",
      " |  __len__(self, /)\n",
      " |      Return len(self).\n",
      " |  \n",
      " |  __lt__(self, value, /)\n",
      " |      Return self<value.\n",
      " |  \n",
      " |  __mul__(self, value, /)\n",
      " |      Return self*value.\n",
      " |  \n",
      " |  __ne__(self, value, /)\n",
      " |      Return self!=value.\n",
      " |  \n",
      " |  __rmul__(self, value, /)\n",
      " |      Return value*self.\n",
      " |  \n",
      " |  count(self, value, /)\n",
      " |      Return number of occurrences of value.\n",
      " |  \n",
      " |  index(self, value, start=0, stop=9223372036854775807, /)\n",
      " |      Return first index of value.\n",
      " |      \n",
      " |      Raises ValueError if the value is not present.\n",
      " |  \n",
      " |  ----------------------------------------------------------------------\n",
      " |  Class methods inherited from builtins.tuple:\n",
      " |  \n",
      " |  __class_getitem__(...) from builtins.type\n",
      " |      See PEP 585\n",
      "\n"
     ]
    }
   ],
   "source": [
    "help(Stock)"
   ]
  },
  {
   "cell_type": "code",
   "execution_count": null,
   "metadata": {},
   "outputs": [],
   "source": [
    "from inspect import getsource"
   ]
  },
  {
   "cell_type": "markdown",
   "metadata": {},
   "source": [
    "https://docs.python.org/3/whatsnew/3.7.html#api-and-feature-removals\n"
   ]
  },
  {
   "cell_type": "code",
   "execution_count": null,
   "metadata": {},
   "outputs": [
    {
     "ename": "AttributeError",
     "evalue": "type object 'Person' has no attribute '_source'",
     "output_type": "error",
     "traceback": [
      "\u001b[0;31m---------------------------------------------------------------------------\u001b[0m",
      "\u001b[0;31mAttributeError\u001b[0m                            Traceback (most recent call last)",
      "Cell \u001b[0;32mIn[33], line 1\u001b[0m\n\u001b[0;32m----> 1\u001b[0m Person\u001b[39m.\u001b[39;49m_source  \u001b[39m# Removed in new python versions.\u001b[39;00m\n",
      "\u001b[0;31mAttributeError\u001b[0m: type object 'Person' has no attribute '_source'"
     ]
    }
   ],
   "source": [
    "Person._source  # Removed in new python versions."
   ]
  },
  {
   "cell_type": "code",
   "execution_count": null,
   "metadata": {},
   "outputs": [
    {
     "data": {
      "text/plain": [
       "{'symbol': 'RIL',\n",
       " 'year': 2023,\n",
       " 'month': 7,\n",
       " 'day': 24,\n",
       " 'open': 2481.0,\n",
       " 'close': 2536.75,\n",
       " 'high': 514.95,\n",
       " 'low': 469.3}"
      ]
     },
     "execution_count": 34,
     "metadata": {},
     "output_type": "execute_result"
    }
   ],
   "source": [
    "ril._asdict()"
   ]
  },
  {
   "cell_type": "markdown",
   "metadata": {},
   "source": [
    "## Modifying and Extending Named Tuple\n"
   ]
  },
  {
   "cell_type": "markdown",
   "metadata": {},
   "source": [
    "well, namedtuple objects are immutable so properties of the objects can't be changed!! So variable must be reassigned to changed the value just like `str` objects.\n"
   ]
  },
  {
   "cell_type": "code",
   "execution_count": null,
   "metadata": {},
   "outputs": [
    {
     "ename": "AttributeError",
     "evalue": "can't set attribute",
     "output_type": "error",
     "traceback": [
      "\u001b[0;31m---------------------------------------------------------------------------\u001b[0m",
      "\u001b[0;31mAttributeError\u001b[0m                            Traceback (most recent call last)",
      "Cell \u001b[0;32mIn[36], line 1\u001b[0m\n\u001b[0;32m----> 1\u001b[0m ril\u001b[39m.\u001b[39;49mclose \u001b[39m=\u001b[39m \u001b[39m2_671.12\u001b[39m\n",
      "\u001b[0;31mAttributeError\u001b[0m: can't set attribute"
     ]
    }
   ],
   "source": [
    "ril.close = 2_671.12"
   ]
  },
  {
   "cell_type": "markdown",
   "metadata": {},
   "source": [
    "Some \"Jugad\" Methods of creating new objects\n"
   ]
  },
  {
   "cell_type": "code",
   "execution_count": null,
   "metadata": {},
   "outputs": [
    {
     "data": {
      "text/plain": [
       "4385923808"
      ]
     },
     "execution_count": 51,
     "metadata": {},
     "output_type": "execute_result"
    }
   ],
   "source": [
    "id(ril)"
   ]
  },
  {
   "cell_type": "code",
   "execution_count": null,
   "metadata": {},
   "outputs": [
    {
     "name": "stdout",
     "output_type": "stream",
     "text": [
      "Stock(symbol='RIL', year=2023, month=7, day=7, open=7, close=2671.12, high=514.95, low=469.3)\n",
      "4385924256\n"
     ]
    }
   ],
   "source": [
    "ril = ril._replace(close=2_671.12)\n",
    "print(ril)\n",
    "print(id(ril))"
   ]
  },
  {
   "cell_type": "code",
   "execution_count": null,
   "metadata": {},
   "outputs": [
    {
     "data": {
      "text/plain": [
       "Stock(symbol='RIL', year=2023, month=7, day=7, open=7, close=1293.146, high=514.95, low=400.123)"
      ]
     },
     "execution_count": 48,
     "metadata": {},
     "output_type": "execute_result"
    }
   ],
   "source": [
    "*new_val, _ = ril\n",
    "new_val.append(400.123)\n",
    "\n",
    "Stock._make(new_val)"
   ]
  },
  {
   "cell_type": "markdown",
   "metadata": {},
   "source": [
    "### Adding more fields to existing named tuple - Extending\n"
   ]
  },
  {
   "cell_type": "code",
   "execution_count": 11,
   "metadata": {},
   "outputs": [
    {
     "ename": "NameError",
     "evalue": "name 'namedtuple' is not defined",
     "output_type": "error",
     "traceback": [
      "\u001b[0;31m---------------------------------------------------------------------------\u001b[0m",
      "\u001b[0;31mNameError\u001b[0m                                 Traceback (most recent call last)",
      "Cell \u001b[0;32mIn[11], line 1\u001b[0m\n\u001b[0;32m----> 1\u001b[0m Point2D \u001b[39m=\u001b[39m namedtuple(\u001b[39m\"\u001b[39m\u001b[39mPoint2D\u001b[39m\u001b[39m\"\u001b[39m, \u001b[39m\"\u001b[39m\u001b[39mx y\u001b[39m\u001b[39m\"\u001b[39m)\n\u001b[1;32m      2\u001b[0m fields \u001b[39m=\u001b[39m Point2D\u001b[39m.\u001b[39m_fields\n\u001b[1;32m      3\u001b[0m Point3D \u001b[39m=\u001b[39m namedtuple(\u001b[39m\"\u001b[39m\u001b[39mPoint3D\u001b[39m\u001b[39m\"\u001b[39m, Point2D\u001b[39m.\u001b[39m_fields \u001b[39m+\u001b[39m (\u001b[39m\"\u001b[39m\u001b[39mz\u001b[39m\u001b[39m\"\u001b[39m,))\n",
      "\u001b[0;31mNameError\u001b[0m: name 'namedtuple' is not defined"
     ]
    }
   ],
   "source": [
    "Point2D = namedtuple(\"Point2D\", \"x y\")\n",
    "fields = Point2D._fields\n",
    "Point3D = namedtuple(\"Point3D\", Point2D._fields + (\"z\",))\n",
    "Point3D(1, 2, 3)"
   ]
  },
  {
   "cell_type": "code",
   "execution_count": 12,
   "metadata": {},
   "outputs": [
    {
     "ename": "NameError",
     "evalue": "name 'Point2D' is not defined",
     "output_type": "error",
     "traceback": [
      "\u001b[0;31m---------------------------------------------------------------------------\u001b[0m",
      "\u001b[0;31mNameError\u001b[0m                                 Traceback (most recent call last)",
      "Cell \u001b[0;32mIn[12], line 1\u001b[0m\n\u001b[0;32m----> 1\u001b[0m pt \u001b[39m=\u001b[39m Point2D(\u001b[39m1\u001b[39m, \u001b[39m8\u001b[39m)\n\u001b[1;32m      2\u001b[0m pt\n",
      "\u001b[0;31mNameError\u001b[0m: name 'Point2D' is not defined"
     ]
    }
   ],
   "source": [
    "pt = Point2D(1, 8)\n",
    "pt"
   ]
  },
  {
   "cell_type": "code",
   "execution_count": null,
   "metadata": {},
   "outputs": [
    {
     "data": {
      "text/plain": [
       "Point3D(x=1, y=8, z=100)"
      ]
     },
     "execution_count": 74,
     "metadata": {},
     "output_type": "execute_result"
    }
   ],
   "source": [
    "pt3d = Point3D(*pt, 100)\n",
    "pt3d"
   ]
  },
  {
   "cell_type": "markdown",
   "metadata": {},
   "source": [
    "## Doc-strings and Default Values\n"
   ]
  },
  {
   "cell_type": "code",
   "execution_count": 7,
   "metadata": {},
   "outputs": [],
   "source": [
    "from collections import namedtuple"
   ]
  },
  {
   "cell_type": "code",
   "execution_count": 11,
   "metadata": {},
   "outputs": [
    {
     "data": {
      "text/plain": [
       "'Point2D(x, y)'"
      ]
     },
     "execution_count": 11,
     "metadata": {},
     "output_type": "execute_result"
    }
   ],
   "source": [
    "Point2D = namedtuple(\"Point2D\", \"x y\")\n",
    "help(Point2D)"
   ]
  },
  {
   "cell_type": "code",
   "execution_count": 12,
   "metadata": {},
   "outputs": [
    {
     "name": "stdout",
     "output_type": "stream",
     "text": [
      "Alias for field number 0\n",
      "Alias for field number 1\n",
      "Point2D(x, y)\n"
     ]
    }
   ],
   "source": [
    "print(Point2D.x.__doc__)\n",
    "print(Point2D.y.__doc__)\n",
    "print(Point2D.__doc__)"
   ]
  },
  {
   "cell_type": "markdown",
   "metadata": {},
   "source": [
    "To add documentation for class and for fields we can modify `__doc__` string field\n"
   ]
  },
  {
   "cell_type": "code",
   "execution_count": 14,
   "metadata": {},
   "outputs": [],
   "source": [
    "Point2D.__doc__ = \"2D coordinate in Cartesian space\"\n",
    "Point2D.x.__doc__ = \"X coordinate\"\n",
    "Point2D.y.__doc__ = \"Y coordinate\""
   ]
  },
  {
   "cell_type": "code",
   "execution_count": 15,
   "metadata": {},
   "outputs": [
    {
     "name": "stdout",
     "output_type": "stream",
     "text": [
      "Help on class Point2D in module __main__:\n",
      "\n",
      "class Point2D(builtins.tuple)\n",
      " |  Point2D(x, y)\n",
      " |  \n",
      " |  2D coordinate in Cartesian space\n",
      " |  \n",
      " |  Method resolution order:\n",
      " |      Point2D\n",
      " |      builtins.tuple\n",
      " |      builtins.object\n",
      " |  \n",
      " |  Methods defined here:\n",
      " |  \n",
      " |  __getnewargs__(self)\n",
      " |      Return self as a plain tuple.  Used by copy and pickle.\n",
      " |  \n",
      " |  __repr__(self)\n",
      " |      Return a nicely formatted representation string\n",
      " |  \n",
      " |  _asdict(self)\n",
      " |      Return a new dict which maps field names to their values.\n",
      " |  \n",
      " |  _replace(self, /, **kwds)\n",
      " |      Return a new Point2D object replacing specified fields with new values\n",
      " |  \n",
      " |  ----------------------------------------------------------------------\n",
      " |  Class methods defined here:\n",
      " |  \n",
      " |  _make(iterable) from builtins.type\n",
      " |      Make a new Point2D object from a sequence or iterable\n",
      " |  \n",
      " |  ----------------------------------------------------------------------\n",
      " |  Static methods defined here:\n",
      " |  \n",
      " |  __new__(_cls, x, y)\n",
      " |      Create new instance of Point2D(x, y)\n",
      " |  \n",
      " |  ----------------------------------------------------------------------\n",
      " |  Data descriptors defined here:\n",
      " |  \n",
      " |  x\n",
      " |      X coordinate\n",
      " |  \n",
      " |  y\n",
      " |      Y coordinate\n",
      " |  \n",
      " |  ----------------------------------------------------------------------\n",
      " |  Data and other attributes defined here:\n",
      " |  \n",
      " |  _field_defaults = {}\n",
      " |  \n",
      " |  _fields = ('x', 'y')\n",
      " |  \n",
      " |  ----------------------------------------------------------------------\n",
      " |  Methods inherited from builtins.tuple:\n",
      " |  \n",
      " |  __add__(self, value, /)\n",
      " |      Return self+value.\n",
      " |  \n",
      " |  __contains__(self, key, /)\n",
      " |      Return key in self.\n",
      " |  \n",
      " |  __eq__(self, value, /)\n",
      " |      Return self==value.\n",
      " |  \n",
      " |  __ge__(self, value, /)\n",
      " |      Return self>=value.\n",
      " |  \n",
      " |  __getattribute__(self, name, /)\n",
      " |      Return getattr(self, name).\n",
      " |  \n",
      " |  __getitem__(self, key, /)\n",
      " |      Return self[key].\n",
      " |  \n",
      " |  __gt__(self, value, /)\n",
      " |      Return self>value.\n",
      " |  \n",
      " |  __hash__(self, /)\n",
      " |      Return hash(self).\n",
      " |  \n",
      " |  __iter__(self, /)\n",
      " |      Implement iter(self).\n",
      " |  \n",
      " |  __le__(self, value, /)\n",
      " |      Return self<=value.\n",
      " |  \n",
      " |  __len__(self, /)\n",
      " |      Return len(self).\n",
      " |  \n",
      " |  __lt__(self, value, /)\n",
      " |      Return self<value.\n",
      " |  \n",
      " |  __mul__(self, value, /)\n",
      " |      Return self*value.\n",
      " |  \n",
      " |  __ne__(self, value, /)\n",
      " |      Return self!=value.\n",
      " |  \n",
      " |  __rmul__(self, value, /)\n",
      " |      Return value*self.\n",
      " |  \n",
      " |  count(self, value, /)\n",
      " |      Return number of occurrences of value.\n",
      " |  \n",
      " |  index(self, value, start=0, stop=9223372036854775807, /)\n",
      " |      Return first index of value.\n",
      " |      \n",
      " |      Raises ValueError if the value is not present.\n",
      " |  \n",
      " |  ----------------------------------------------------------------------\n",
      " |  Class methods inherited from builtins.tuple:\n",
      " |  \n",
      " |  __class_getitem__(...) from builtins.type\n",
      " |      See PEP 585\n",
      "\n"
     ]
    }
   ],
   "source": [
    "help(Point2D)"
   ]
  },
  {
   "cell_type": "markdown",
   "metadata": {},
   "source": [
    "### Setting Default fields\n",
    "\n",
    "for example here in `Vector2D` class, I wanted to set default value of `origin_x` and `origin_y` to `(0, 0)`. There is no default mechanism for that but Well there two ways to achieve this.\n"
   ]
  },
  {
   "cell_type": "markdown",
   "metadata": {},
   "source": [
    "#### 1. Using a prototype object\n",
    "\n",
    "We can use a object as prototype which has default values then after using **only** `_replace` method to create new object with new values of non-default fields.\n",
    "\n",
    "ps: in `_replace`, you have to use keyword arguments.\n"
   ]
  },
  {
   "cell_type": "code",
   "execution_count": 17,
   "metadata": {},
   "outputs": [],
   "source": [
    "Vector2D = namedtuple(\"Vector2D\", \"x1 y1 x2 y2 origin_x origin_y\")\n",
    "\n",
    "vector2D_prototype = Vector2D(x1=0, y1=0, x2=0, y2=0, origin_x=0, origin_y=0)"
   ]
  },
  {
   "cell_type": "code",
   "execution_count": 19,
   "metadata": {},
   "outputs": [
    {
     "data": {
      "text/plain": [
       "Vector2D(x1=210, y1=20, x2=0, y2=9, origin_x=0, origin_y=0)"
      ]
     },
     "execution_count": 19,
     "metadata": {},
     "output_type": "execute_result"
    }
   ],
   "source": [
    "v1 = vector2D_prototype._replace(x1=210, y1=20, x2=0, y2=9)\n",
    "v1"
   ]
  },
  {
   "cell_type": "markdown",
   "metadata": {},
   "source": [
    "#### 2. Using `__defaults__`\n"
   ]
  },
  {
   "cell_type": "markdown",
   "metadata": {},
   "source": [
    "Right align with variable order. Last element of the `__defaults__` tuple directs to the last parameter in a function.\n",
    "| a | b | c |\n",
    "|---|---|---|\n",
    "| | 20 | 10 |\n",
    "\n",
    "Here, `a` has no default.\n",
    "\n",
    "It turns out that `__default__` property is writable, we can set it to `tuple` of our choice, just don't provide defaults more then no. of parameters(extras are ignored).\n",
    "\n",
    "ps: `__new__` method is called when we \"create\" the object in the memory and `__init__` is called when we \"initialize\" the class. Usually, we don't construct or create the object. We just implement to initialize the object.\n"
   ]
  },
  {
   "cell_type": "code",
   "execution_count": 24,
   "metadata": {},
   "outputs": [
    {
     "data": {
      "text/plain": [
       "(20, 10)"
      ]
     },
     "execution_count": 24,
     "metadata": {},
     "output_type": "execute_result"
    }
   ],
   "source": [
    "def func(a, b=20, c=10):\n",
    "    print(f\"a={a}, b={b}, c={c}\")\n",
    "\n",
    "\n",
    "func.__defaults__"
   ]
  },
  {
   "cell_type": "code",
   "execution_count": 25,
   "metadata": {},
   "outputs": [
    {
     "data": {
      "text/plain": [
       "tuple"
      ]
     },
     "execution_count": 25,
     "metadata": {},
     "output_type": "execute_result"
    }
   ],
   "source": [
    "type(func.__defaults__)"
   ]
  },
  {
   "cell_type": "markdown",
   "metadata": {},
   "source": [
    "Changing default values of the variables.\n"
   ]
  },
  {
   "cell_type": "code",
   "execution_count": 26,
   "metadata": {},
   "outputs": [],
   "source": [
    "func.__defaults__ = (10, 20)"
   ]
  },
  {
   "cell_type": "code",
   "execution_count": 27,
   "metadata": {},
   "outputs": [
    {
     "name": "stdout",
     "output_type": "stream",
     "text": [
      "a=0, b=10, c=20\n"
     ]
    }
   ],
   "source": [
    "func(0)"
   ]
  },
  {
   "cell_type": "markdown",
   "metadata": {},
   "source": [
    "Using with class constructor\n"
   ]
  },
  {
   "cell_type": "code",
   "execution_count": 26,
   "metadata": {},
   "outputs": [
    {
     "name": "stdout",
     "output_type": "stream",
     "text": [
      "None\n"
     ]
    }
   ],
   "source": [
    "from collections import namedtuple\n",
    "\n",
    "Vector2D = namedtuple(\"Vector2D\", \"x1 y1 x2 y2 origin_x origin_y\")\n",
    "\n",
    "print(Vector2D.__new__.__defaults__)"
   ]
  },
  {
   "cell_type": "code",
   "execution_count": null,
   "metadata": {},
   "outputs": [],
   "source": [
    "Vector2D.__new__.__defaults__ = (0, 0)"
   ]
  },
  {
   "cell_type": "code",
   "execution_count": 22,
   "metadata": {},
   "outputs": [
    {
     "data": {
      "text/plain": [
       "Vector2D(x1=10, y1=20, x2=21, y2=82, origin_x=0, origin_y=0)"
      ]
     },
     "execution_count": 22,
     "metadata": {},
     "output_type": "execute_result"
    }
   ],
   "source": [
    "v2 = Vector2D(x1=10, y1=20, x2=21, y2=82)\n",
    "v2"
   ]
  },
  {
   "cell_type": "code",
   "execution_count": null,
   "metadata": {},
   "outputs": [],
   "source": []
  },
  {
   "cell_type": "code",
   "execution_count": null,
   "metadata": {},
   "outputs": [],
   "source": []
  },
  {
   "cell_type": "markdown",
   "metadata": {},
   "source": [
    "## Namedtuple Application\n"
   ]
  },
  {
   "cell_type": "markdown",
   "metadata": {},
   "source": [
    "### Returning Multiple Values\n",
    "\n",
    "Named tuples are highly useful when we need to use a data class. Names add more readability.\n"
   ]
  },
  {
   "cell_type": "code",
   "execution_count": 1,
   "metadata": {},
   "outputs": [],
   "source": [
    "from collections import namedtuple\n",
    "\n",
    "Color = namedtuple(\"Color\", \"red green blue alpha\")"
   ]
  },
  {
   "cell_type": "code",
   "execution_count": 2,
   "metadata": {},
   "outputs": [],
   "source": [
    "from random import randint, random\n",
    "\n",
    "\n",
    "def random_color():\n",
    "    red = randint(0, 255)\n",
    "    green = randint(0, 255)\n",
    "    blue = randint(0, 255)\n",
    "    alpha = round(random(), 2)\n",
    "\n",
    "    return Color(red, green, blue, alpha)"
   ]
  },
  {
   "cell_type": "code",
   "execution_count": 3,
   "metadata": {},
   "outputs": [
    {
     "data": {
      "text/plain": [
       "220"
      ]
     },
     "execution_count": 3,
     "metadata": {},
     "output_type": "execute_result"
    }
   ],
   "source": [
    "color = random_color()\n",
    "\n",
    "color.red"
   ]
  },
  {
   "cell_type": "markdown",
   "metadata": {},
   "source": [
    "### Alternative to Dictionary\n",
    "\n",
    "We used to pass data-structure as a dict form, we can use `namedtuple` for that. Assuming that \n",
    "1. key names won't change in future.\n",
    "2. key names are valid for `namedtuple` : have to be strings"
   ]
  },
  {
   "cell_type": "markdown",
   "metadata": {},
   "source": []
  },
  {
   "cell_type": "code",
   "execution_count": 4,
   "metadata": {},
   "outputs": [
    {
     "data": {
      "text/plain": [
       "(None, None, None, None, None, None, None, None, None, None)"
      ]
     },
     "execution_count": 4,
     "metadata": {},
     "output_type": "execute_result"
    }
   ],
   "source": [
    "(None,) * 10"
   ]
  },
  {
   "cell_type": "code",
   "execution_count": 6,
   "metadata": {},
   "outputs": [
    {
     "data": {
      "text/plain": [
       "(1, 1, 1)"
      ]
     },
     "execution_count": 6,
     "metadata": {},
     "output_type": "execute_result"
    }
   ],
   "source": [
    "(1,) * 3"
   ]
  },
  {
   "cell_type": "code",
   "execution_count": null,
   "metadata": {},
   "outputs": [],
   "source": []
  }
 ],
 "metadata": {
  "kernelspec": {
   "display_name": "Python 3",
   "language": "python",
   "name": "python3"
  },
  "language_info": {
   "codemirror_mode": {
    "name": "ipython",
    "version": 3
   },
   "file_extension": ".py",
   "mimetype": "text/x-python",
   "name": "python",
   "nbconvert_exporter": "python",
   "pygments_lexer": "ipython3",
   "version": "3.9.6"
  },
  "orig_nbformat": 4
 },
 "nbformat": 4,
 "nbformat_minor": 2
}
