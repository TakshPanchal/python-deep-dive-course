{
  "nbformat": 4,
  "nbformat_minor": 0,
  "metadata": {
    "colab": {
      "provenance": [],
      "cell_execution_strategy": "setup"
    },
    "kernelspec": {
      "name": "python3",
      "display_name": "Python 3"
    },
    "language_info": {
      "name": "python"
    }
  },
  "cells": [
    {
      "cell_type": "markdown",
      "source": [
        "Basic Data structures revisit"
      ],
      "metadata": {
        "id": "zS9iuuiqw7Dv"
      }
    },
    {
      "cell_type": "code",
      "execution_count": null,
      "metadata": {
        "id": "mwV0L0I_wXKr"
      },
      "outputs": [],
      "source": [
        "ls = [1, 2, 3] # list\n",
        "tup = (1, 2, 3) # Tuple\n",
        "s = {1, 2, 3} # Set\n",
        "mp = {\n",
        "    1: \"One\",\n",
        "    2: \"Two\"\n",
        "} # Map"
      ]
    },
    {
      "cell_type": "markdown",
      "source": [
        "This type of implicit newline will work with all data-structes and also with function parameters and arguments."
      ],
      "metadata": {
        "id": "x5edH4MAxfXW"
      }
    },
    {
      "cell_type": "code",
      "source": [
        "ls = [\"This is really long string value\",  # Inplicit newline in the code\n",
        "        \"This is also really long string value\"\n",
        "      ]"
      ],
      "metadata": {
        "id": "VYfBXNnBxOla"
      },
      "execution_count": null,
      "outputs": []
    },
    {
      "cell_type": "markdown",
      "source": [
        "sometimes lines got bigger in code but we need to keep the length of the line to certain char as per PEP guideline, in that cases we will saparate logical lines by adding `\\` to create multiple physical lines.\n",
        "\n",
        "**Note** : Indetation won't matter between saparated line."
      ],
      "metadata": {
        "id": "ygyFIApPyiZl"
      }
    },
    {
      "cell_type": "code",
      "source": [
        "a = 5\n",
        "b = 10\n",
        "c = 12\n",
        "\n",
        "# Note about the indentation bcz after all in the final code there will be single line only\n",
        "if a > 0 \\\n",
        "        and b >0 \\\n",
        "              and c > 10:\n",
        "  print(\"yes\")"
      ],
      "metadata": {
        "colab": {
          "base_uri": "https://localhost:8080/"
        },
        "id": "yhP6p3G6yhTG",
        "outputId": "2657e3e1-e005-4563-bb89-860a75159327"
      },
      "execution_count": null,
      "outputs": [
        {
          "output_type": "stream",
          "name": "stdout",
          "text": [
            "yes\n"
          ]
        }
      ]
    },
    {
      "cell_type": "markdown",
      "source": [
        "Note that don't intend multiline strings, indentaions will be printed as it is."
      ],
      "metadata": {
        "id": "TjCwciCb0YtI"
      }
    },
    {
      "cell_type": "code",
      "source": [
        "mul_string = ''' This is a really long\n",
        "  multiline string .\n",
        "  a tab \\t char'''\n",
        "\n",
        "print(mul_string) # note all the newline char and spaces and tabs are also printed.\n"
      ],
      "metadata": {
        "colab": {
          "base_uri": "https://localhost:8080/"
        },
        "id": "97iMJkPszaFO",
        "outputId": "5ff61fb4-67b0-4a5a-e634-fe3dea5f88c3"
      },
      "execution_count": null,
      "outputs": [
        {
          "output_type": "stream",
          "name": "stdout",
          "text": [
            " This is a really long\n",
            "  multiline string .\n",
            "  a tab \t char\n"
          ]
        }
      ]
    },
    {
      "cell_type": "code",
      "source": [
        "def func_1():\n",
        "  print(\"inside function 1\")\n",
        "\n",
        "type(func_1) # It is just another object in the memory"
      ],
      "metadata": {
        "id": "nnZH8DjOzk_d",
        "colab": {
          "base_uri": "https://localhost:8080/"
        },
        "outputId": "dda32566-ade3-4324-a16c-590fe49bf8a0"
      },
      "execution_count": null,
      "outputs": [
        {
          "output_type": "execute_result",
          "data": {
            "text/plain": [
              "function"
            ]
          },
          "metadata": {},
          "execution_count": 5
        }
      ]
    },
    {
      "cell_type": "code",
      "source": [
        "print(lambda x: x+2) # Note: this will return a function obj which is callable\n",
        "print((lambda x: x+2)(10))  # It is mostly used when a single line manipulation is required to pass to another function\n",
        "fn_l = lambda y : y**2 # also can be assigned to a variable"
      ],
      "metadata": {
        "colab": {
          "base_uri": "https://localhost:8080/"
        },
        "id": "f0L9qHxS8rHZ",
        "outputId": "89067ec3-56f9-40b1-fe9c-d4467ebc71b8"
      },
      "execution_count": null,
      "outputs": [
        {
          "output_type": "stream",
          "name": "stdout",
          "text": [
            "<function <lambda> at 0x7cabde175ab0>\n",
            "12\n"
          ]
        }
      ]
    },
    {
      "cell_type": "code",
      "source": [
        "MIN_LEN = 2\n",
        "\n",
        "# name = input(\"Enter name: \")\n",
        "\n",
        "# while not(len(name) >= MIN_LEN and name.isprintable() and name.isalpha()):\n",
        "#   name = input(\"Enter name: \")\n",
        "\n",
        "\n",
        "# using break stmt\n",
        "while True:\n",
        "  name = input(\"Enter Name:\")\n",
        "\n",
        "  if len(name) >= MIN_LEN and name.isprintable() and name.isalpha():\n",
        "    break\n",
        "\n",
        "print(name)"
      ],
      "metadata": {
        "colab": {
          "base_uri": "https://localhost:8080/"
        },
        "id": "E1iGXFP6-Zay",
        "outputId": "d7974b3b-0948-4d20-c999-058435a605d3"
      },
      "execution_count": null,
      "outputs": [
        {
          "output_type": "stream",
          "name": "stdout",
          "text": [
            "Enter Name:Taksh\n",
            "Taksh\n"
          ]
        }
      ]
    },
    {
      "cell_type": "markdown",
      "source": [
        "`else` clause after `while` loop"
      ],
      "metadata": {
        "id": "mu5pNBloGmBW"
      }
    },
    {
      "cell_type": "code",
      "source": [
        "# find if element is exist in a list, if not then append it to the\n",
        "l = [1, 2, 3]\n",
        "val = 10\n",
        "\n",
        "idx = 0\n",
        "\n",
        "while idx < len(l):\n",
        "  if l[idx] == val:\n",
        "    break\n",
        "  idx += 1\n",
        "else:\n",
        "  # This will be run when while loop ended by False cond\n",
        "  print(\"No val found\")\n",
        "  l.append(val)\n",
        "\n",
        "print(l)"
      ],
      "metadata": {
        "colab": {
          "base_uri": "https://localhost:8080/"
        },
        "id": "7yr2bOd0EoZ9",
        "outputId": "cb53b583-dff6-43d7-cf24-0b5a43cb9366"
      },
      "execution_count": null,
      "outputs": [
        {
          "output_type": "stream",
          "name": "stdout",
          "text": [
            "No val found\n",
            "[1, 2, 3, 10]\n"
          ]
        }
      ]
    },
    {
      "cell_type": "markdown",
      "source": [
        "try...except..finally"
      ],
      "metadata": {
        "id": "e6w_pZfSHxiR"
      }
    },
    {
      "cell_type": "code",
      "source": [
        "# hex(id(val)  )\n",
        "# str(val)"
      ],
      "metadata": {
        "id": "TvUJCdncHMy0"
      },
      "execution_count": null,
      "outputs": []
    },
    {
      "cell_type": "code",
      "source": [
        "NotImplemented"
      ],
      "metadata": {
        "colab": {
          "base_uri": "https://localhost:8080/"
        },
        "id": "s2KOuSKFnDZd",
        "outputId": "12c4fae2-e3a6-491f-8be8-34104d5254a3"
      },
      "execution_count": null,
      "outputs": [
        {
          "output_type": "execute_result",
          "data": {
            "text/plain": [
              "NotImplemented"
            ]
          },
          "metadata": {},
          "execution_count": 10
        }
      ]
    },
    {
      "cell_type": "markdown",
      "source": [
        "### Classes\n",
        "getters and setters are hidden from the user and implemented by decorators."
      ],
      "metadata": {
        "id": "e7I6FcaIzhiI"
      }
    },
    {
      "cell_type": "code",
      "source": [
        "class Circle:\n",
        "\n",
        "    def __init__(self, radius):\n",
        "        # setter is used here\n",
        "        self.radius = radius\n",
        "\n",
        "    @property\n",
        "    def radius(self):\n",
        "        return self._radius\n",
        "\n",
        "    @radius.setter\n",
        "    def radius(self, radius):\n",
        "        if radius < 0:\n",
        "            raise ValueError(\"Negative value of the radius is not acceptable.\")\n",
        "        self._radius = radius\n",
        "\n",
        "    def __str__(self):\n",
        "        return f\"Circle : radius={self.radius}\"\n",
        "\n",
        "    def __repr__(self):\n",
        "        return f\"Circle({self.radius})\"\n"
      ],
      "metadata": {
        "id": "9g3sXv-lw3D7"
      },
      "execution_count": null,
      "outputs": []
    },
    {
      "cell_type": "code",
      "source": [
        "c = Circle(25)\n",
        "c"
      ],
      "metadata": {
        "colab": {
          "base_uri": "https://localhost:8080/"
        },
        "id": "VrggRk0Y0bbD",
        "outputId": "31bee761-a2e4-42a0-d30d-1b85ecce254b"
      },
      "execution_count": null,
      "outputs": [
        {
          "output_type": "execute_result",
          "data": {
            "text/plain": [
              "Circle(25)"
            ]
          },
          "metadata": {},
          "execution_count": 12
        }
      ]
    },
    {
      "cell_type": "code",
      "source": [
        "c.radius = 11\n",
        "c"
      ],
      "metadata": {
        "colab": {
          "base_uri": "https://localhost:8080/"
        },
        "id": "RLfmszaa0djt",
        "outputId": "8cac0b0e-4a44-49e0-cad1-72c784b6f541"
      },
      "execution_count": null,
      "outputs": [
        {
          "output_type": "execute_result",
          "data": {
            "text/plain": [
              "Circle(11)"
            ]
          },
          "metadata": {},
          "execution_count": 13
        }
      ]
    },
    {
      "cell_type": "code",
      "source": [
        "c2 = Circle(-25)\n",
        "c2"
      ],
      "metadata": {
        "colab": {
          "base_uri": "https://localhost:8080/",
          "height": 336
        },
        "id": "VxCWbqsmF9Cv",
        "outputId": "74392cdf-c99c-42c8-d4a1-b6846cea56e3"
      },
      "execution_count": null,
      "outputs": [
        {
          "output_type": "error",
          "ename": "ValueError",
          "evalue": "ignored",
          "traceback": [
            "\u001b[0;31m---------------------------------------------------------------------------\u001b[0m",
            "\u001b[0;31mValueError\u001b[0m                                Traceback (most recent call last)",
            "\u001b[0;32m<ipython-input-14-911908c52074>\u001b[0m in \u001b[0;36m<cell line: 1>\u001b[0;34m()\u001b[0m\n\u001b[0;32m----> 1\u001b[0;31m \u001b[0mc2\u001b[0m \u001b[0;34m=\u001b[0m \u001b[0mCircle\u001b[0m\u001b[0;34m(\u001b[0m\u001b[0;34m-\u001b[0m\u001b[0;36m25\u001b[0m\u001b[0;34m)\u001b[0m\u001b[0;34m\u001b[0m\u001b[0;34m\u001b[0m\u001b[0m\n\u001b[0m\u001b[1;32m      2\u001b[0m \u001b[0mc2\u001b[0m\u001b[0;34m\u001b[0m\u001b[0;34m\u001b[0m\u001b[0m\n",
            "\u001b[0;32m<ipython-input-11-0269f27d90ca>\u001b[0m in \u001b[0;36m__init__\u001b[0;34m(self, radius)\u001b[0m\n\u001b[1;32m      3\u001b[0m     \u001b[0;32mdef\u001b[0m \u001b[0m__init__\u001b[0m\u001b[0;34m(\u001b[0m\u001b[0mself\u001b[0m\u001b[0;34m,\u001b[0m \u001b[0mradius\u001b[0m\u001b[0;34m)\u001b[0m\u001b[0;34m:\u001b[0m\u001b[0;34m\u001b[0m\u001b[0;34m\u001b[0m\u001b[0m\n\u001b[1;32m      4\u001b[0m         \u001b[0;31m# setter is used here\u001b[0m\u001b[0;34m\u001b[0m\u001b[0;34m\u001b[0m\u001b[0m\n\u001b[0;32m----> 5\u001b[0;31m         \u001b[0mself\u001b[0m\u001b[0;34m.\u001b[0m\u001b[0mradius\u001b[0m \u001b[0;34m=\u001b[0m \u001b[0mradius\u001b[0m\u001b[0;34m\u001b[0m\u001b[0;34m\u001b[0m\u001b[0m\n\u001b[0m\u001b[1;32m      6\u001b[0m \u001b[0;34m\u001b[0m\u001b[0m\n\u001b[1;32m      7\u001b[0m     \u001b[0;34m@\u001b[0m\u001b[0mproperty\u001b[0m\u001b[0;34m\u001b[0m\u001b[0;34m\u001b[0m\u001b[0m\n",
            "\u001b[0;32m<ipython-input-11-0269f27d90ca>\u001b[0m in \u001b[0;36mradius\u001b[0;34m(self, radius)\u001b[0m\n\u001b[1;32m     12\u001b[0m     \u001b[0;32mdef\u001b[0m \u001b[0mradius\u001b[0m\u001b[0;34m(\u001b[0m\u001b[0mself\u001b[0m\u001b[0;34m,\u001b[0m \u001b[0mradius\u001b[0m\u001b[0;34m)\u001b[0m\u001b[0;34m:\u001b[0m\u001b[0;34m\u001b[0m\u001b[0;34m\u001b[0m\u001b[0m\n\u001b[1;32m     13\u001b[0m         \u001b[0;32mif\u001b[0m \u001b[0mradius\u001b[0m \u001b[0;34m<\u001b[0m \u001b[0;36m0\u001b[0m\u001b[0;34m:\u001b[0m\u001b[0;34m\u001b[0m\u001b[0;34m\u001b[0m\u001b[0m\n\u001b[0;32m---> 14\u001b[0;31m             \u001b[0;32mraise\u001b[0m \u001b[0mValueError\u001b[0m\u001b[0;34m(\u001b[0m\u001b[0;34m\"Negative value of the radius is not acceptable.\"\u001b[0m\u001b[0;34m)\u001b[0m\u001b[0;34m\u001b[0m\u001b[0;34m\u001b[0m\u001b[0m\n\u001b[0m\u001b[1;32m     15\u001b[0m         \u001b[0mself\u001b[0m\u001b[0;34m.\u001b[0m\u001b[0m_radius\u001b[0m \u001b[0;34m=\u001b[0m \u001b[0mradius\u001b[0m\u001b[0;34m\u001b[0m\u001b[0;34m\u001b[0m\u001b[0m\n\u001b[1;32m     16\u001b[0m \u001b[0;34m\u001b[0m\u001b[0m\n",
            "\u001b[0;31mValueError\u001b[0m: Negative value of the radius is not acceptable."
          ]
        }
      ]
    },
    {
      "cell_type": "markdown",
      "source": [
        "# Variables\n",
        "\n",
        "What variables really are?\n",
        "memory mangement\n",
        "- reference counting\n",
        "- Garbage collections\n",
        "\n",
        "dynamic vs static typing\n",
        "\n",
        "mutability and immutibility\n",
        "\n",
        "shared references\n",
        "\n",
        "variable equality\n",
        "\n",
        "everything is an object"
      ],
      "metadata": {
        "id": "FWIlyRq2GQUg"
      }
    },
    {
      "cell_type": "markdown",
      "source": [
        "#### Variables are memory Refs"
      ],
      "metadata": {
        "id": "eawHRatlIZN5"
      }
    },
    {
      "cell_type": "code",
      "source": [
        "a = 10\n",
        "print(id(a))\n",
        "print(hex(id(a)))"
      ],
      "metadata": {
        "id": "srOnlTZo1A60",
        "colab": {
          "base_uri": "https://localhost:8080/"
        },
        "outputId": "b63f59bd-81d9-4312-f444-8f4a94fedf59"
      },
      "execution_count": null,
      "outputs": [
        {
          "output_type": "stream",
          "name": "stdout",
          "text": [
            "137078027649552\n",
            "0x7cabf7250210\n"
          ]
        }
      ]
    },
    {
      "cell_type": "markdown",
      "source": [
        "#### Reference  Counting"
      ],
      "metadata": {
        "id": "vVyRfjfiI6_3"
      }
    },
    {
      "cell_type": "code",
      "source": [
        "var = 19\n",
        "other_var = var\n",
        "print(\"Before updating\")\n",
        "print(other_var)\n",
        "print(var)\n",
        "print(hex(id(var)))\n",
        "print(hex(id(other_var)))\n",
        "\n",
        "\n",
        "other_var = 0\n",
        "print(\"after updating other_var\")\n",
        "print(other_var)\n",
        "print(var)\n",
        "\n",
        "print(hex(id(var)))\n",
        "print(hex(id(other_var)))"
      ],
      "metadata": {
        "colab": {
          "base_uri": "https://localhost:8080/"
        },
        "id": "lFjX0lwoIeXg",
        "outputId": "e54bcc48-0657-418c-ce45-f26df058f784"
      },
      "execution_count": null,
      "outputs": [
        {
          "output_type": "stream",
          "name": "stdout",
          "text": [
            "Before updating\n",
            "19\n",
            "19\n",
            "0x7cabf7250330\n",
            "0x7cabf7250330\n",
            "after updating other_var\n",
            "0\n",
            "19\n",
            "0x7cabf7250330\n",
            "0x7cabf72500d0\n"
          ]
        }
      ]
    },
    {
      "cell_type": "code",
      "source": [
        "var = [19]\n",
        "other_var = var\n",
        "print(\"Before updating\")\n",
        "print(other_var)\n",
        "print(var)\n",
        "print(hex(id(var)))\n",
        "print(hex(id(other_var)))\n",
        "\n",
        "\n",
        "other_var.append(20)\n",
        "print(\"after updating other_var\")\n",
        "print(other_var)\n",
        "print(var)\n",
        "print(hex(id(var)))\n",
        "print(hex(id(other_var)))\n",
        "\n"
      ],
      "metadata": {
        "colab": {
          "base_uri": "https://localhost:8080/"
        },
        "id": "YPX-0g2-JUMx",
        "outputId": "f1f2bddf-c360-48c5-c204-39daf95c7d3a"
      },
      "execution_count": null,
      "outputs": [
        {
          "output_type": "stream",
          "name": "stdout",
          "text": [
            "Before updating\n",
            "[19]\n",
            "[19]\n",
            "0x7cabde19e9c0\n",
            "0x7cabde19e9c0\n",
            "after updating other_var\n",
            "[19, 20]\n",
            "[19, 20]\n",
            "0x7cabde19e9c0\n",
            "0x7cabde19e9c0\n"
          ]
        }
      ]
    },
    {
      "cell_type": "code",
      "source": [],
      "metadata": {
        "id": "-pEgGQzzJuJu"
      },
      "execution_count": null,
      "outputs": []
    },
    {
      "cell_type": "markdown",
      "source": [
        "#### Reference Counting\n",
        "\n",
        "**Note** : there will be one extra reference in the colab environment."
      ],
      "metadata": {
        "id": "fSwqedcdbi3E"
      }
    },
    {
      "cell_type": "code",
      "source": [
        "import sys"
      ],
      "metadata": {
        "id": "80ZpijpZbmLh"
      },
      "execution_count": null,
      "outputs": []
    },
    {
      "cell_type": "code",
      "source": [
        "a_var = [1, 2, 3]\n",
        "id(a_var)"
      ],
      "metadata": {
        "colab": {
          "base_uri": "https://localhost:8080/"
        },
        "id": "qM7UhmvbboOz",
        "outputId": "c04f8700-f6ec-496b-9a84-c887f5e33705"
      },
      "execution_count": null,
      "outputs": [
        {
          "output_type": "execute_result",
          "data": {
            "text/plain": [
              "137077141625024"
            ]
          },
          "metadata": {},
          "execution_count": 19
        }
      ]
    },
    {
      "cell_type": "code",
      "source": [
        "sys.getrefcount(a_var)"
      ],
      "metadata": {
        "colab": {
          "base_uri": "https://localhost:8080/"
        },
        "id": "VJ9rKEDZdGeA",
        "outputId": "b4b52292-1d4a-4624-cb8e-c23c8f536d7a"
      },
      "execution_count": null,
      "outputs": [
        {
          "output_type": "execute_result",
          "data": {
            "text/plain": [
              "2"
            ]
          },
          "metadata": {},
          "execution_count": 20
        }
      ]
    },
    {
      "cell_type": "markdown",
      "source": [
        "#### Garbage Collector"
      ],
      "metadata": {
        "id": "HyfQH9WhUDrA"
      }
    },
    {
      "cell_type": "code",
      "source": [
        "import ctypes\n",
        "import gc"
      ],
      "metadata": {
        "id": "bBYcEo9ULn5S"
      },
      "execution_count": null,
      "outputs": []
    },
    {
      "cell_type": "code",
      "source": [
        "def ref_count(addr):\n",
        "    return ctypes.c_long.from_address(addr).value\n",
        "\n",
        "def get_addr(obj: int):\n",
        "    return hex(id(obj))"
      ],
      "metadata": {
        "id": "vi1z7TVpUQrL"
      },
      "execution_count": null,
      "outputs": []
    },
    {
      "cell_type": "code",
      "source": [
        "gc.get_objects() # return objects"
      ],
      "metadata": {
        "colab": {
          "base_uri": "https://localhost:8080/"
        },
        "id": "d_EbQfoXUWHs",
        "outputId": "b58621bd-5d40-4874-9f0e-ee62b4eefa46"
      },
      "execution_count": null,
      "outputs": [
        {
          "output_type": "execute_result",
          "data": {
            "text/plain": [
              "[{<weakref at 0x7cabc25776a0; to 'type' at 0x95bf00 (NoneType)>},\n",
              " <weakref at 0x7cabc2577600; to 'set' at 0x7cabde43c740>,\n",
              " <function ReferenceType._destroy>,\n",
              " <weakref at 0x7cabc25776a0; to 'type' at 0x95bf00 (NoneType)>,\n",
              " (469, 'client', '/usr/lib/python3.10/selectors.py'),\n",
              " ('/usr/lib/python3.10/selectors.py', 469, False),\n",
              " ('/usr/lib/python3.10/selectors.py', False),\n",
              " (452,\n",
              "  '/usr/lib/python3.10/selectors.py',\n",
              "  <code object select at 0x7cabf70daa20, file \"/usr/lib/python3.10/selectors.py\", line 452>),\n",
              " ('has_entry', '/usr/lib/python3.10/selectors.py'),\n",
              " (1871, 'client', '/usr/lib/python3.10/asyncio/base_events.py'),\n",
              " ('/usr/lib/python3.10/asyncio/base_events.py', 1871, False),\n",
              " (15,\n",
              "  'a = 10\\nprint(id(a))\\nprint(hex(id(a)))',\n",
              "  'a = 10\\nprint(id(a))\\nprint(hex(id(a)))'),\n",
              " ['a = 10\\n', 'print(id(a))\\n', 'print(hex(id(a)))\\n'],\n",
              " (38,\n",
              "  1689313734.3636856,\n",
              "  ['a = 10\\n', 'print(id(a))\\n', 'print(hex(id(a)))\\n'],\n",
              "  '<ipython-input-15-a71e05db96c7>'),\n",
              " (16,\n",
              "  'var = 19\\nother_var = var\\nprint(\"Before updating\")\\nprint(other_var)\\nprint(var)\\nprint(hex(id(var)))\\nprint(hex(id(other_var)))\\n\\n\\nother_var = 0\\nprint(\"after updating other_var\")\\nprint(other_var)\\nprint(var)\\n\\nprint(hex(id(var)))\\nprint(hex(id(other_var)))',\n",
              "  'var = 19\\nother_var = var\\nprint(\"Before updating\")\\nprint(other_var)\\nprint(var)\\nprint(hex(id(var)))\\nprint(hex(id(other_var)))\\n\\n\\nother_var = 0\\nprint(\"after updating other_var\")\\nprint(other_var)\\nprint(var)\\n\\nprint(hex(id(var)))\\nprint(hex(id(other_var)))'),\n",
              " ['var = 19\\n',\n",
              "  'other_var = var\\n',\n",
              "  'print(\"Before updating\")\\n',\n",
              "  'print(other_var)\\n',\n",
              "  'print(var)\\n',\n",
              "  'print(hex(id(var)))\\n',\n",
              "  'print(hex(id(other_var)))\\n',\n",
              "  '\\n',\n",
              "  '\\n',\n",
              "  'other_var = 0\\n',\n",
              "  'print(\"after updating other_var\")\\n',\n",
              "  'print(other_var)\\n',\n",
              "  'print(var)\\n',\n",
              "  '\\n',\n",
              "  'print(hex(id(var)))\\n',\n",
              "  'print(hex(id(other_var)))\\n'],\n",
              " (249,\n",
              "  1689313735.2707841,\n",
              "  ['var = 19\\n',\n",
              "   'other_var = var\\n',\n",
              "   'print(\"Before updating\")\\n',\n",
              "   'print(other_var)\\n',\n",
              "   'print(var)\\n',\n",
              "   'print(hex(id(var)))\\n',\n",
              "   'print(hex(id(other_var)))\\n',\n",
              "   '\\n',\n",
              "   '\\n',\n",
              "   'other_var = 0\\n',\n",
              "   'print(\"after updating other_var\")\\n',\n",
              "   'print(other_var)\\n',\n",
              "   'print(var)\\n',\n",
              "   '\\n',\n",
              "   'print(hex(id(var)))\\n',\n",
              "   'print(hex(id(other_var)))\\n'],\n",
              "  '<ipython-input-16-f953eb32ae62>'),\n",
              " (17,\n",
              "  'var = [19]\\nother_var = var\\nprint(\"Before updating\")\\nprint(other_var)\\nprint(var)\\nprint(hex(id(var)))\\nprint(hex(id(other_var)))\\n\\n\\nother_var.append(20)\\nprint(\"after updating other_var\")\\nprint(other_var)\\nprint(var)\\nprint(hex(id(var)))\\nprint(hex(id(other_var)))',\n",
              "  'var = [19]\\nother_var = var\\nprint(\"Before updating\")\\nprint(other_var)\\nprint(var)\\nprint(hex(id(var)))\\nprint(hex(id(other_var)))\\n\\n\\nother_var.append(20)\\nprint(\"after updating other_var\")\\nprint(other_var)\\nprint(var)\\nprint(hex(id(var)))\\nprint(hex(id(other_var)))'),\n",
              " ['var = [19]\\n',\n",
              "  'other_var = var\\n',\n",
              "  'print(\"Before updating\")\\n',\n",
              "  'print(other_var)\\n',\n",
              "  'print(var)\\n',\n",
              "  'print(hex(id(var)))\\n',\n",
              "  'print(hex(id(other_var)))\\n',\n",
              "  '\\n',\n",
              "  '\\n',\n",
              "  'other_var.append(20)\\n',\n",
              "  'print(\"after updating other_var\")\\n',\n",
              "  'print(other_var)\\n',\n",
              "  'print(var)\\n',\n",
              "  'print(hex(id(var)))\\n',\n",
              "  'print(hex(id(other_var)))\\n',\n",
              "  '\\n'],\n",
              " (258,\n",
              "  1689313736.089537,\n",
              "  ['var = [19]\\n',\n",
              "   'other_var = var\\n',\n",
              "   'print(\"Before updating\")\\n',\n",
              "   'print(other_var)\\n',\n",
              "   'print(var)\\n',\n",
              "   'print(hex(id(var)))\\n',\n",
              "   'print(hex(id(other_var)))\\n',\n",
              "   '\\n',\n",
              "   '\\n',\n",
              "   'other_var.append(20)\\n',\n",
              "   'print(\"after updating other_var\")\\n',\n",
              "   'print(other_var)\\n',\n",
              "   'print(var)\\n',\n",
              "   'print(hex(id(var)))\\n',\n",
              "   'print(hex(id(other_var)))\\n',\n",
              "   '\\n'],\n",
              "  '<ipython-input-17-0a202ff178fa>'),\n",
              " [19, 20],\n",
              " (18, 'import sys', 'import sys'),\n",
              " ['import sys\\n'],\n",
              " (11, 1689313738.3060389, ['import sys\\n'], '<ipython-input-18-99d75fe14e11>'),\n",
              " (19, 'a_var = [1, 2, 3]\\nid(a_var)', 'a_var = [1, 2, 3]\\nid(a_var)'),\n",
              " ['a_var = [1, 2, 3]\\n', 'id(a_var)\\n'],\n",
              " (28,\n",
              "  1689313738.3141932,\n",
              "  ['a_var = [1, 2, 3]\\n', 'id(a_var)\\n'],\n",
              "  '<ipython-input-19-a6f94cfe03d5>'),\n",
              " [1, 2, 3],\n",
              " (20, 'sys.getrefcount(a_var)', 'sys.getrefcount(a_var)'),\n",
              " ['sys.getrefcount(a_var)\\n'],\n",
              " (23,\n",
              "  1689313738.3234687,\n",
              "  ['sys.getrefcount(a_var)\\n'],\n",
              "  '<ipython-input-20-9182ab6e3f1b>'),\n",
              " (21, 'import ctypes\\nimport gc', 'import ctypes\\nimport gc'),\n",
              " ['import ctypes\\n', 'import gc\\n'],\n",
              " (24,\n",
              "  1689313739.587114,\n",
              "  ['import ctypes\\n', 'import gc\\n'],\n",
              "  '<ipython-input-21-f31378f7002f>'),\n",
              " <Future finished result=None>,\n",
              " <cell at 0x7cabde18bf70: Runner object at 0x7cabdeec0040>,\n",
              " ('f', typing.Any, 'return', None),\n",
              " (<cell at 0x7cabde18bf70: Runner object at 0x7cabdeec0040>,),\n",
              " <function tornado.gen.Runner.handle_yield.<locals>.inner(f: Any) -> None>,\n",
              " <cell at 0x7cabde18a920: function object at 0x7cabde176440>,\n",
              " <cell at 0x7cabde1899c0: _asyncio.Future object at 0x7cabf6ad19b0>,\n",
              " <cell at 0x7cabde18a3b0: AsyncIOMainLoop object at 0x7cabef3d1d80>,\n",
              " (<cell at 0x7cabde18a920: function object at 0x7cabde176440>,\n",
              "  <cell at 0x7cabde1899c0: _asyncio.Future object at 0x7cabf6ad19b0>,\n",
              "  <cell at 0x7cabde18a3b0: AsyncIOMainLoop object at 0x7cabef3d1d80>),\n",
              " <function tornado.ioloop.IOLoop.add_future.<locals>.<lambda>(f)>,\n",
              " <_contextvars.Context at 0x7cabde1a64c0>,\n",
              " <_pydevd_bundle.pydevd_net_command.NetCommand at 0x7cabdeec0730>,\n",
              " [{'id': 1, 'name': 'MainThread'},\n",
              "  {'id': 2, 'name': 'Thread-2 (_thread_main)'},\n",
              "  {'id': 3, 'name': 'Thread-3'},\n",
              "  {'id': 4, 'name': 'Thread-1'},\n",
              "  {'id': 5, 'name': '_colab_inspector_thread'}],\n",
              " {'threads': [{'id': 1, 'name': 'MainThread'},\n",
              "   {'id': 2, 'name': 'Thread-2 (_thread_main)'},\n",
              "   {'id': 3, 'name': 'Thread-3'},\n",
              "   {'id': 4, 'name': 'Thread-1'},\n",
              "   {'id': 5, 'name': '_colab_inspector_thread'}]},\n",
              " {'type': 'response',\n",
              "  'request_seq': 1972,\n",
              "  'success': True,\n",
              "  'command': 'threads',\n",
              "  'body': {'threads': [{'id': 1, 'name': 'MainThread'},\n",
              "    {'id': 2, 'name': 'Thread-2 (_thread_main)'},\n",
              "    {'id': 3, 'name': 'Thread-3'},\n",
              "    {'id': 4, 'name': 'Thread-1'},\n",
              "    {'id': 5, 'name': '_colab_inspector_thread'}]},\n",
              "  'seq': 3992,\n",
              "  'pydevd_cmd_id': 502},\n",
              " {'id': 502,\n",
              "  'seq': 3992,\n",
              "  'as_dict': {'type': 'response',\n",
              "   'request_seq': 1972,\n",
              "   'success': True,\n",
              "   'command': 'threads',\n",
              "   'body': {'threads': [{'id': 1, 'name': 'MainThread'},\n",
              "     {'id': 2, 'name': 'Thread-2 (_thread_main)'},\n",
              "     {'id': 3, 'name': 'Thread-3'},\n",
              "     {'id': 4, 'name': 'Thread-1'},\n",
              "     {'id': 5, 'name': '_colab_inspector_thread'}]},\n",
              "   'seq': 3992,\n",
              "   'pydevd_cmd_id': 502},\n",
              "  '_as_bytes': b'{\"type\": \"response\", \"request_seq\": 1972, \"success\": true, \"command\": \"threads\", \"body\": {\"threads\": [{\"id\": 1, \"name\": \"MainThread\"}, {\"id\": 2, \"name\": \"Thread-2 (_thread_main)\"}, {\"id\": 3, \"name\": \"Thread-3\"}, {\"id\": 4, \"name\": \"Thread-1\"}, {\"id\": 5, \"name\": \"_colab_inspector_thread\"}]}, \"seq\": 3992, \"pydevd_cmd_id\": 502}'},\n",
              " InternalThreadCommands(None, (), {}),\n",
              " {'thread_id': 'pid_169_id_137078025878448',\n",
              "  'method': None,\n",
              "  'args': (),\n",
              "  'kwargs': {},\n",
              "  '_py_db': <weakref at 0x7cabde55bc90; to 'PyDB' at 0x7cabdf037af0>,\n",
              "  '_timeout': 1689313740.6114368,\n",
              "  'seq': 1973,\n",
              "  '_cmd': None,\n",
              "  '_fmt': {},\n",
              "  '_start_frame': 0,\n",
              "  '_levels': 0,\n",
              "  '_set_additional_thread_info': <function _pydevd_bundle.pydevd_cython.set_additional_thread_info>},\n",
              " (1024,),\n",
              " <bound method Condition.__exit__ of <Condition(<unlocked _thread.lock object at 0x7cabdf1d0c00>, 1)>>,\n",
              " <locked _thread.lock object at 0x7cabdef84140>,\n",
              " (True, 0.3),\n",
              " <bound method Condition.__exit__ of <Condition(<unlocked _thread.lock object at 0x7cabde16e340>, 1)>>,\n",
              " <locked _thread.lock object at 0x7cabef51a340>,\n",
              " (True, 0.3),\n",
              " <bound method Condition.__exit__ of <Condition(<unlocked _thread.lock object at 0x7cabf5e69fc0>, 1)>>,\n",
              " <locked _thread.lock object at 0x7cabde1496c0>,\n",
              " (True, 0.0999990909999724),\n",
              " <ExecutionInfo object at 7cabde18b730, raw_cell=\"def ref_count(addr):\n",
              "     return ctypes.c_long.from..\" store_history=True silent=False shell_futures=True cell_id=None>,\n",
              " <ExecutionResult object at 7cabde18ada0, execution_count=22 error_before_exec=None error_in_exec=None info=<ExecutionInfo object at 7cabde18b730, raw_cell=\"def ref_count(addr):\n",
              "     return ctypes.c_long.from..\" store_history=True silent=False shell_futures=True cell_id=None> result=None>,\n",
              " {'info': <ExecutionInfo object at 7cabde18b730, raw_cell=\"def ref_count(addr):\n",
              "      return ctypes.c_long.from..\" store_history=True silent=False shell_futures=True cell_id=None>,\n",
              "  'execution_count': 22},\n",
              " (22,\n",
              "  'def ref_count(addr):\\n    return ctypes.c_long.from_address(addr).value\\n\\ndef get_addr(obj: int):\\n    return hex(id(obj))',\n",
              "  'def ref_count(addr):\\n    return ctypes.c_long.from_address(addr).value\\n\\ndef get_addr(obj: int):\\n    return hex(id(obj))'),\n",
              " ['def ref_count(addr):\\n',\n",
              "  '    return ctypes.c_long.from_address(addr).value\\n',\n",
              "  '\\n',\n",
              "  'def get_addr(obj: int):\\n',\n",
              "  '    return hex(id(obj))\\n'],\n",
              " (120,\n",
              "  1689313740.3239503,\n",
              "  ['def ref_count(addr):\\n',\n",
              "   '    return ctypes.c_long.from_address(addr).value\\n',\n",
              "   '\\n',\n",
              "   'def get_addr(obj: int):\\n',\n",
              "   '    return hex(id(obj))\\n'],\n",
              "  '<ipython-input-22-baa258e2d88e>'),\n",
              " ('ctypes', 'c_long', 'from_address', 'value'),\n",
              " ('addr',),\n",
              " (None,),\n",
              " <function __main__.ref_count(addr)>,\n",
              " ('hex', 'id'),\n",
              " ('obj',),\n",
              " (None,),\n",
              " ('obj', int),\n",
              " <function __main__.get_addr(obj: int)>,\n",
              " [],\n",
              " <_io.StringIO at 0x7cabde1765f0>,\n",
              " [],\n",
              " <_io.StringIO at 0x7cabdee552d0>,\n",
              " [],\n",
              " [(SelectorKey(fileobj=23, fd=23, events=1, data=(<Handle BaseAsyncIOLoop._handle_events(23, 1)>, None)),\n",
              "   1)],\n",
              " <function epoll.poll(timeout=None, maxevents=-1)>,\n",
              " [b'kernel.6ec31417-eca9-480c-acbc-c3b79dd69b46.status',\n",
              "  b'<IDS|MSG>',\n",
              "  b'',\n",
              "  b'{\"msg_id\": \"7288bb37-9ffbbdd38aeb5db31694cf0f_351\", \"msg_type\": \"status\", \"username\": \"username\", \"session\": \"7288bb37-9ffbbdd38aeb5db31694cf0f\", \"date\": \"2023-07-14T05:49:00.330072Z\", \"version\": \"5.3\"}',\n",
              "  b'{\"msg_id\": \"0ee863e3-6303-4467-800d-0783ccddfc54\", \"username\": \"username\", \"session\": \"0e08090f-f58a-4ca8-e553-86de4c499abe\", \"msg_type\": \"execute_request\", \"version\": \"5.0\", \"date\": \"2023-07-14T05:49:00.322161Z\"}',\n",
              "  b'{}',\n",
              "  b'{\"execution_state\": \"idle\"}'],\n",
              " ([b'kernel.6ec31417-eca9-480c-acbc-c3b79dd69b46.status',\n",
              "   b'<IDS|MSG>',\n",
              "   b'',\n",
              "   b'{\"msg_id\": \"7288bb37-9ffbbdd38aeb5db31694cf0f_351\", \"msg_type\": \"status\", \"username\": \"username\", \"session\": \"7288bb37-9ffbbdd38aeb5db31694cf0f\", \"date\": \"2023-07-14T05:49:00.330072Z\", \"version\": \"5.3\"}',\n",
              "   b'{\"msg_id\": \"0ee863e3-6303-4467-800d-0783ccddfc54\", \"username\": \"username\", \"session\": \"0e08090f-f58a-4ca8-e553-86de4c499abe\", \"msg_type\": \"execute_request\", \"version\": \"5.0\", \"date\": \"2023-07-14T05:49:00.322161Z\"}',\n",
              "   b'{}',\n",
              "   b'{\"execution_state\": \"idle\"}'],),\n",
              " <cell at 0x7cabde18bee0: tuple object at 0x7cabc25a8880>,\n",
              " <cell at 0x7cabde18a020: dict object at 0x7cabc25195c0>,\n",
              " <cell at 0x7cabde18a8f0: IOPubThread object at 0x7cabef3d0f70>,\n",
              " (<cell at 0x7cabde18bee0: tuple object at 0x7cabc25a8880>,\n",
              "  <cell at 0x7cabde18a020: dict object at 0x7cabc25195c0>,\n",
              "  <cell at 0x7cabde18a8f0: IOPubThread object at 0x7cabef3d0f70>),\n",
              " <function ipykernel.iostream.IOPubThread.send_multipart.<locals>.<lambda>()>,\n",
              " (<zmq.Socket(zmq.ROUTER) at 0x7cabef3c4220>, <PollEvent.POLLOUT: 2>),\n",
              " (<Future finished result=None>,),\n",
              " <Handle IOLoop.add_future.<locals>.<lambda>(<Future finished result=None>) at /usr/local/lib/python3.10/dist-packages/tornado/ioloop.py:685>,\n",
              " <cell at 0x7cabde18b8b0: ZMQStream object at 0x7cabef3d1b70>,\n",
              " (<cell at 0x7cabde18b8b0: ZMQStream object at 0x7cabef3d1b70>,),\n",
              " <function zmq.eventloop.zmqstream.ZMQStream._update_handler.<locals>.<lambda>()>,\n",
              " <bound method IOLoop._run_callback of <tornado.platform.asyncio.AsyncIOMainLoop object at 0x7cabef3d1d80>>,\n",
              " functools.partial(<function ZMQStream._update_handler.<locals>.<lambda> at 0x7cabdee55120>),\n",
              " (functools.partial(<function ZMQStream._update_handler.<locals>.<lambda> at 0x7cabdee55120>),),\n",
              " <Handle IOLoop._run_callback(functools.par...7cabdee55120>))>,\n",
              " <_contextvars.Context at 0x7cabde16c780>,\n",
              " <cell at 0x7cabde13b490: ZMQStream object at 0x7cabef3d1b70>,\n",
              " (<cell at 0x7cabde13b490: ZMQStream object at 0x7cabef3d1b70>,),\n",
              " <function zmq.eventloop.zmqstream.ZMQStream._update_handler.<locals>.<lambda>()>,\n",
              " <bound method IOLoop._run_callback of <tornado.platform.asyncio.AsyncIOMainLoop object at 0x7cabef3d1d80>>,\n",
              " functools.partial(<function ZMQStream._update_handler.<locals>.<lambda> at 0x7cabdee551b0>),\n",
              " (functools.partial(<function ZMQStream._update_handler.<locals>.<lambda> at 0x7cabdee551b0>),),\n",
              " <Handle IOLoop._run_callback(functools.par...7cabdee551b0>))>,\n",
              " <_contextvars.Context at 0x7cabc25ac380>,\n",
              " <zmq.sugar.frame.Frame at 0x7cabef3e40f0>,\n",
              " [<zmq.sugar.frame.Frame at 0x7cabef3e40f0>,\n",
              "  <zmq.sugar.frame.Frame at 0x7cabdeed50c0>,\n",
              "  <zmq.sugar.frame.Frame at 0x7cabf70d92d0>,\n",
              "  <zmq.sugar.frame.Frame at 0x7cabf7025220>,\n",
              "  <zmq.sugar.frame.Frame at 0x7cabf7025380>,\n",
              "  <zmq.sugar.frame.Frame at 0x7cabef3cfe20>,\n",
              "  <zmq.sugar.frame.Frame at 0x7cabdeea7b60>],\n",
              " <zmq.sugar.frame.Frame at 0x7cabdeed50c0>,\n",
              " <zmq.sugar.frame.Frame at 0x7cabf70d92d0>,\n",
              " <zmq.sugar.frame.Frame at 0x7cabf7025220>,\n",
              " <zmq.sugar.frame.Frame at 0x7cabf7025380>,\n",
              " <zmq.sugar.frame.Frame at 0x7cabef3cfe20>,\n",
              " <zmq.sugar.frame.Frame at 0x7cabdeea7b60>,\n",
              " (<zmq.eventloop.zmqstream.ZMQStream at 0x7cabef3d1b70>,\n",
              "  [<zmq.sugar.frame.Frame at 0x7cabef3e40f0>,\n",
              "   <zmq.sugar.frame.Frame at 0x7cabdeed50c0>,\n",
              "   <zmq.sugar.frame.Frame at 0x7cabf70d92d0>,\n",
              "   <zmq.sugar.frame.Frame at 0x7cabf7025220>,\n",
              "   <zmq.sugar.frame.Frame at 0x7cabf7025380>,\n",
              "   <zmq.sugar.frame.Frame at 0x7cabef3cfe20>,\n",
              "   <zmq.sugar.frame.Frame at 0x7cabdeea7b60>]),\n",
              " (10,\n",
              "  104,\n",
              "  <bound method Kernel.dispatch_shell of <google.colab._kernel.Kernel object at 0x7cabef3d2140>>,\n",
              "  (<zmq.eventloop.zmqstream.ZMQStream at 0x7cabef3d1b70>,\n",
              "   [<zmq.sugar.frame.Frame at 0x7cabef3e40f0>,\n",
              "    <zmq.sugar.frame.Frame at 0x7cabdeed50c0>,\n",
              "    <zmq.sugar.frame.Frame at 0x7cabf70d92d0>,\n",
              "    <zmq.sugar.frame.Frame at 0x7cabf7025220>,\n",
              "    <zmq.sugar.frame.Frame at 0x7cabf7025380>,\n",
              "    <zmq.sugar.frame.Frame at 0x7cabef3cfe20>,\n",
              "    <zmq.sugar.frame.Frame at 0x7cabdeea7b60>])),\n",
              " <function ipykernel.kernelbase.Kernel.schedule_dispatch.<locals>.<lambda>()>,\n",
              " <bound method IOLoop._run_callback of <tornado.platform.asyncio.AsyncIOMainLoop object at 0x7cabef3d1d80>>,\n",
              " functools.partial(<function Kernel.schedule_dispatch.<locals>.<lambda> at 0x7cabef3dab90>),\n",
              " (functools.partial(<function Kernel.schedule_dispatch.<locals>.<lambda> at 0x7cabef3dab90>),),\n",
              " <Handle IOLoop._run_callback(functools.par...7cabef3dab90>))>,\n",
              " <_contextvars.Context at 0x7cabc251b180>,\n",
              " <cell at 0x7cabdeec0220: ZMQStream object at 0x7cabef3d1b70>,\n",
              " (<cell at 0x7cabdeec0220: ZMQStream object at 0x7cabef3d1b70>,),\n",
              " <function zmq.eventloop.zmqstream.ZMQStream._update_handler.<locals>.<lambda>()>,\n",
              " <bound method IOLoop._run_callback of <tornado.platform.asyncio.AsyncIOMainLoop object at 0x7cabef3d1d80>>,\n",
              " functools.partial(<function ZMQStream._update_handler.<locals>.<lambda> at 0x7cabdee553f0>),\n",
              " (functools.partial(<function ZMQStream._update_handler.<locals>.<lambda> at 0x7cabdee553f0>),),\n",
              " <Handle IOLoop._run_callback(functools.par...7cabdee553f0>))>,\n",
              " <_contextvars.Context at 0x7cabde19fe00>,\n",
              " <function Context.run>,\n",
              " (<function tornado.ioloop.IOLoop.add_future.<locals>.<lambda>(f)>,\n",
              "  <Future finished result=None>),\n",
              " functools.partial(<function Runner.handle_yield.<locals>.inner at 0x7cabde176440>, <Future finished result=None>),\n",
              " (<Future finished result=None>,),\n",
              " <bound method Runner.run of <tornado.gen.Runner object at 0x7cabdeec0040>>,\n",
              " (<zmq.Socket(zmq.ROUTER) at 0x7cabef3c5120>, <PollEvent.POLLIN: 1>),\n",
              " (<google.colab._kernel.Kernel at 0x7cabef3d2140>,),\n",
              " <cell at 0x7cabdeec0370: empty>,\n",
              " <Future pending>,\n",
              " <_contextvars.Context at 0x7cabc2555800>,\n",
              " <function Context.run>,\n",
              " <generator object Kernel.process_one at 0x7cabde1460a0>,\n",
              " <frame at 0x7cabdee94dd0, file '/usr/local/lib/python3.10/dist-packages/ipykernel/kernelbase.py', line 361, code process_one>,\n",
              " <Future finished result=(10, 104, <bound method...7cabef3d2140>>, (<zmq.eventloo...x7cabef3d1b70>, [<zmq.sugar.fr...x7cabef3e40f0>, <zmq.sugar.fr...x7cabdeed50c0>, <zmq.sugar.fr...x7cabf70d92d0>, <zmq.sugar.fr...x7cabf7025220>, <zmq.sugar.fr...x7cabf7025380>, <zmq.sugar.fr...x7cabef3cfe20>, ...]))>,\n",
              " (<function Context.run>,\n",
              "  <generator object Kernel.process_one at 0x7cabde1460a0>,\n",
              "  <Future pending>,\n",
              "  <Future finished result=(10, 104, <bound method...7cabef3d2140>>, (<zmq.eventloo...x7cabef3d1b70>, [<zmq.sugar.fr...x7cabef3e40f0>, <zmq.sugar.fr...x7cabdeed50c0>, <zmq.sugar.fr...x7cabf70d92d0>, <zmq.sugar.fr...x7cabf7025220>, <zmq.sugar.fr...x7cabf7025380>, <zmq.sugar.fr...x7cabef3cfe20>, ...]))>),\n",
              " <tornado.gen.Runner at 0x7cabdeec04c0>,\n",
              " {'ctx_run': <function Context.run>,\n",
              "  'gen': <generator object Kernel.process_one at 0x7cabde1460a0>,\n",
              "  'result_future': <Future pending>,\n",
              "  'future': None,\n",
              "  'running': True,\n",
              "  'finished': False,\n",
              "  'io_loop': <tornado.platform.asyncio.AsyncIOMainLoop at 0x7cabef3d1d80>},\n",
              " <bound method Runner.run of <tornado.gen.Runner object at 0x7cabdeec04c0>>,\n",
              " (<google.colab._kernel.Kernel at 0x7cabef3d2140>,\n",
              "  <zmq.eventloop.zmqstream.ZMQStream at 0x7cabef3d1b70>,\n",
              "  [<zmq.sugar.frame.Frame at 0x7cabef3e40f0>,\n",
              "   <zmq.sugar.frame.Frame at 0x7cabdeed50c0>,\n",
              "   <zmq.sugar.frame.Frame at 0x7cabf70d92d0>,\n",
              "   <zmq.sugar.frame.Frame at 0x7cabf7025220>,\n",
              "   <zmq.sugar.frame.Frame at 0x7cabf7025380>,\n",
              "   <zmq.sugar.frame.Frame at 0x7cabef3cfe20>,\n",
              "   <zmq.sugar.frame.Frame at 0x7cabdeea7b60>]),\n",
              " <cell at 0x7cabdf037a00: empty>,\n",
              " <Future pending>,\n",
              " <_contextvars.Context at 0x7cabc25ac940>,\n",
              " <function Context.run>,\n",
              " <generator object Kernel.dispatch_shell at 0x7cabde146ea0>,\n",
              " <frame at 0x3332710, file '/usr/local/lib/python3.10/dist-packages/ipykernel/kernelbase.py', line 261, code dispatch_shell>,\n",
              " [b'0e08090f-f58a-4ca8-e553-86de4c499abe'],\n",
              " {'header': {'msg_id': '59525086-a8d1-4855-b1a7-b92e5c5c992f',\n",
              "   'username': 'username',\n",
              "   'session': '0e08090f-f58a-4ca8-e553-86de4c499abe',\n",
              "   'msg_type': 'execute_request',\n",
              "   'version': '5.0',\n",
              "   'date': datetime.datetime(2023, 7, 14, 5, 49, 0, 331170, tzinfo=datetime.timezone.utc)},\n",
              "  'msg_id': '59525086-a8d1-4855-b1a7-b92e5c5c992f',\n",
              "  'msg_type': 'execute_request',\n",
              "  'parent_header': {},\n",
              "  'metadata': {'colab': {'cell_id': 'd_EbQfoXUWHs',\n",
              "    'bg_save': '1hEzhjV5voUH-MK_I0ONOGYCBFGWhibtz'}},\n",
              "  'content': {'allow_stdin': True,\n",
              "   'code': 'gc.get_objects() # return objects',\n",
              "   'silent': False,\n",
              "   'store_history': True,\n",
              "   'user_expressions': {},\n",
              "   'user_variables': []},\n",
              "  'buffers': []},\n",
              " {'colab': {'cell_id': 'd_EbQfoXUWHs',\n",
              "   'bg_save': '1hEzhjV5voUH-MK_I0ONOGYCBFGWhibtz'}},\n",
              " {'allow_stdin': True,\n",
              "  'code': 'gc.get_objects() # return objects',\n",
              "  'silent': False,\n",
              "  'store_history': True,\n",
              "  'user_expressions': {},\n",
              "  'user_variables': []},\n",
              " [],\n",
              " [],\n",
              " [b'kernel.6ec31417-eca9-480c-acbc-c3b79dd69b46.status',\n",
              "  b'<IDS|MSG>',\n",
              "  b'',\n",
              "  b'{\"msg_id\": \"7288bb37-9ffbbdd38aeb5db31694cf0f_352\", \"msg_type\": \"status\", \"username\": \"username\", \"session\": \"7288bb37-9ffbbdd38aeb5db31694cf0f\", \"date\": \"2023-07-14T05:49:00.331327Z\", \"version\": \"5.3\"}',\n",
              "  b'{\"msg_id\": \"59525086-a8d1-4855-b1a7-b92e5c5c992f\", \"username\": \"username\", \"session\": \"0e08090f-f58a-4ca8-e553-86de4c499abe\", \"msg_type\": \"execute_request\", \"version\": \"5.0\", \"date\": \"2023-07-14T05:49:00.331170Z\"}',\n",
              "  b'{}',\n",
              "  b'{\"execution_state\": \"busy\"}'],\n",
              " ([b'kernel.6ec31417-eca9-480c-acbc-c3b79dd69b46.status',\n",
              "   b'<IDS|MSG>',\n",
              "   b'',\n",
              "   b'{\"msg_id\": \"7288bb37-9ffbbdd38aeb5db31694cf0f_352\", \"msg_type\": \"status\", \"username\": \"username\", \"session\": \"7288bb37-9ffbbdd38aeb5db31694cf0f\", \"date\": \"2023-07-14T05:49:00.331327Z\", \"version\": \"5.3\"}',\n",
              "   b'{\"msg_id\": \"59525086-a8d1-4855-b1a7-b92e5c5c992f\", \"username\": \"username\", \"session\": \"0e08090f-f58a-4ca8-e553-86de4c499abe\", \"msg_type\": \"execute_request\", \"version\": \"5.0\", \"date\": \"2023-07-14T05:49:00.331170Z\"}',\n",
              "   b'{}',\n",
              "   b'{\"execution_state\": \"busy\"}'],),\n",
              " <cell at 0x7cabde18ac20: tuple object at 0x7cabc25a80d0>,\n",
              " <cell at 0x7cabde18a980: dict object at 0x7cabdf027840>,\n",
              " <cell at 0x7cabde18a2f0: IOPubThread object at 0x7cabef3d0f70>,\n",
              " (<cell at 0x7cabde18ac20: tuple object at 0x7cabc25a80d0>,\n",
              "  <cell at 0x7cabde18a980: dict object at 0x7cabdf027840>,\n",
              "  <cell at 0x7cabde18a2f0: IOPubThread object at 0x7cabef3d0f70>),\n",
              " <function ipykernel.iostream.IOPubThread.send_multipart.<locals>.<lambda>()>,\n",
              " (<google.colab._kernel.Kernel at 0x7cabef3d2140>,\n",
              "  <zmq.eventloop.zmqstream.ZMQStream at 0x7cabef3d1b70>,\n",
              "  [b'0e08090f-f58a-4ca8-e553-86de4c499abe'],\n",
              "  {'header': {'msg_id': '59525086-a8d1-4855-b1a7-b92e5c5c992f',\n",
              "    'username': 'username',\n",
              "    'session': '0e08090f-f58a-4ca8-e553-86de4c499abe',\n",
              "    'msg_type': 'execute_request',\n",
              "    'version': '5.0',\n",
              "    'date': datetime.datetime(2023, 7, 14, 5, 49, 0, 331170, tzinfo=datetime.timezone.utc)},\n",
              "   'msg_id': '59525086-a8d1-4855-b1a7-b92e5c5c992f',\n",
              "   'msg_type': 'execute_request',\n",
              "   'parent_header': {},\n",
              "   'metadata': {'colab': {'cell_id': 'd_EbQfoXUWHs',\n",
              "     'bg_save': '1hEzhjV5voUH-MK_I0ONOGYCBFGWhibtz'}},\n",
              "   'content': {'allow_stdin': True,\n",
              "    'code': 'gc.get_objects() # return objects',\n",
              "    'silent': False,\n",
              "    'store_history': True,\n",
              "    'user_expressions': {},\n",
              "    'user_variables': []},\n",
              "   'buffers': []}),\n",
              " <cell at 0x7cabde18bfd0: empty>,\n",
              " <Future pending>,\n",
              " <_contextvars.Context at 0x7cabde1a3440>,\n",
              " <function Context.run>,\n",
              " <generator object Kernel.execute_request at 0x7cabde1465e0>,\n",
              " <frame at 0x23fd730, file '/usr/local/lib/python3.10/dist-packages/ipykernel/kernelbase.py', line 539, code execute_request>,\n",
              " [b'kernel.6ec31417-eca9-480c-acbc-c3b79dd69b46.execute_input',\n",
              "  b'<IDS|MSG>',\n",
              "  b'',\n",
              "  b'{\"msg_id\": \"7288bb37-9ffbbdd38aeb5db31694cf0f_353\", \"msg_type\": \"execute_input\", \"username\": \"username\", \"session\": \"7288bb37-9ffbbdd38aeb5db31694cf0f\", \"date\": \"2023-07-14T05:49:00.331721Z\", \"version\": \"5.3\"}',\n",
              "  b'{\"msg_id\": \"59525086-a8d1-4855-b1a7-b92e5c5c992f\", \"username\": \"username\", \"session\": \"0e08090f-f58a-4ca8-e553-86de4c499abe\", \"msg_type\": \"execute_request\", \"version\": \"5.0\", \"date\": \"2023-07-14T05:49:00.331170Z\"}',\n",
              "  b'{}',\n",
              "  b'{\"code\": \"gc.get_objects() # return objects\", \"execution_count\": 23}'],\n",
              " ([b'kernel.6ec31417-eca9-480c-acbc-c3b79dd69b46.execute_input',\n",
              "   b'<IDS|MSG>',\n",
              "   b'',\n",
              "   b'{\"msg_id\": \"7288bb37-9ffbbdd38aeb5db31694cf0f_353\", \"msg_type\": \"execute_input\", \"username\": \"username\", \"session\": \"7288bb37-9ffbbdd38aeb5db31694cf0f\", \"date\": \"2023-07-14T05:49:00.331721Z\", \"version\": \"5.3\"}',\n",
              "   b'{\"msg_id\": \"59525086-a8d1-4855-b1a7-b92e5c5c992f\", \"username\": \"username\", \"session\": \"0e08090f-f58a-4ca8-e553-86de4c499abe\", \"msg_type\": \"execute_request\", \"version\": \"5.0\", \"date\": \"2023-07-14T05:49:00.331170Z\"}',\n",
              "   b'{}',\n",
              "   b'{\"code\": \"gc.get_objects() # return objects\", \"execution_count\": 23}'],),\n",
              " <cell at 0x7cabde189d50: tuple object at 0x7cabde18a230>,\n",
              " <cell at 0x7cabde189660: dict object at 0x7cabc2524f00>,\n",
              " <cell at 0x7cabde188970: IOPubThread object at 0x7cabef3d0f70>,\n",
              " (<cell at 0x7cabde189d50: tuple object at 0x7cabde18a230>,\n",
              "  <cell at 0x7cabde189660: dict object at 0x7cabc2524f00>,\n",
              "  <cell at 0x7cabde188970: IOPubThread object at 0x7cabef3d0f70>),\n",
              " <function ipykernel.iostream.IOPubThread.send_multipart.<locals>.<lambda>()>,\n",
              " (<google.colab._kernel.Kernel at 0x7cabef3d2140>,\n",
              "  'gc.get_objects() # return objects',\n",
              "  False,\n",
              "  True,\n",
              "  {},\n",
              "  True),\n",
              " <cell at 0x7cabde18aa70: empty>,\n",
              " <Future pending>,\n",
              " <_contextvars.Context at 0x7cabc25559c0>,\n",
              " <function Context.run>,\n",
              " <cell at 0x7cabde18beb0: Shell object at 0x7cabef3d21d0>,\n",
              " <generator object IPythonKernel.do_execute at 0x7cabde146ce0>,\n",
              " <frame at 0x23fdb90, file '/usr/local/lib/python3.10/dist-packages/ipykernel/ipkernel.py', line 302, code do_execute>,\n",
              " <bound method Kernel.raw_input of <google.colab._kernel.Kernel object at 0x7cabef3d2140>>,\n",
              " <bound method Kernel.getpass of <google.colab._kernel.Kernel object at 0x7cabef3d2140>>,\n",
              " <bound method InteractiveShell.run_cell_async of <google.colab._shell.Shell object at 0x7cabef3d21d0>>,\n",
              " <bound method InteractiveShell.should_run_async of <google.colab._shell.Shell object at 0x7cabef3d21d0>>,\n",
              " <bound method ZMQInteractiveShell.run_cell of <google.colab._shell.Shell object at 0x7cabef3d21d0>>,\n",
              " ('gc.get_objects() # return objects',),\n",
              " <bound method InteractiveShell.run_cell of <google.colab._shell.Shell object at 0x7cabef3d21d0>>,\n",
              " ('store_history', 'silent'),\n",
              " <cell at 0x7cabde18a590: ExecutionResult object at 0x7cabde189570>,\n",
              " <cell at 0x7cabde18a260: Shell object at 0x7cabef3d21d0>,\n",
              " <cell at 0x7cabde18b820: bool object at 0x94b180>,\n",
              " <coroutine object InteractiveShell.run_cell_async at 0x7cabde146570>,\n",
              " <frame at 0x3318cb0, file '/usr/local/lib/python3.10/dist-packages/IPython/core/interactiveshell.py', line 3257, code run_cell_async>,\n",
              " <ExecutionInfo object at 7cabde18b3d0, raw_cell=\"gc.get_objects() # return objects\" store_history=True silent=False shell_futures=True cell_id=None>,\n",
              " <ExecutionResult object at 7cabde189570, execution_count=23 error_before_exec=None error_in_exec=None info=<ExecutionInfo object at 7cabde18b3d0, raw_cell=\"gc.get_objects() # return objects\" store_history=True silent=False shell_futures=True cell_id=None> result=None>,\n",
              " {'info': <ExecutionInfo object at 7cabde18b3d0, raw_cell=\"gc.get_objects() # return objects\" store_history=True silent=False shell_futures=True cell_id=None>,\n",
              "  'execution_count': 23},\n",
              " (<cell at 0x7cabde18a590: ExecutionResult object at 0x7cabde189570>,\n",
              "  <cell at 0x7cabde18a260: Shell object at 0x7cabef3d21d0>,\n",
              "  <cell at 0x7cabde18b820: bool object at 0x94b180>),\n",
              " <function IPython.core.interactiveshell.InteractiveShell.run_cell_async.<locals>.error_before_exec(value)>,\n",
              " (23,\n",
              "  'gc.get_objects() # return objects',\n",
              "  'gc.get_objects() # return objects'),\n",
              " <bound method BuiltinTrap.__exit__ of <IPython.core.builtin_trap.BuiltinTrap object at 0x7cabef3d2c80>>,\n",
              " ['gc.get_objects() # return objects\\n'],\n",
              " (34,\n",
              "  1689313740.3330197,\n",
              "  ['gc.get_objects() # return objects\\n'],\n",
              "  '<ipython-input-23-4740ed661e16>'),\n",
              " <bound method DisplayTrap.__exit__ of <IPython.core.display_trap.DisplayTrap object at 0x7cabef3d3c70>>,\n",
              " <ast.Module at 0x7cabde18a440>,\n",
              " [<ast.Expr at 0x7cabde18bf40>],\n",
              " <ast.Expr at 0x7cabde18bf40>,\n",
              " <ast.Call at 0x7cabde18a800>,\n",
              " <ast.Attribute at 0x7cabde18aa40>,\n",
              " <ast.Name at 0x7cabde18b670>,\n",
              " {'id': 'gc',\n",
              "  'ctx': <ast.Load at 0x7cabf6ffe560>,\n",
              "  'lineno': 1,\n",
              "  'col_offset': 0,\n",
              "  'end_lineno': 1,\n",
              "  'end_col_offset': 2},\n",
              " {'value': <ast.Name at 0x7cabde18b670>,\n",
              "  'attr': 'get_objects',\n",
              "  'ctx': <ast.Load at 0x7cabf6ffe560>,\n",
              "  'lineno': 1,\n",
              "  'col_offset': 0,\n",
              "  'end_lineno': 1,\n",
              "  'end_col_offset': 14},\n",
              " {'func': <ast.Attribute at 0x7cabde18aa40>,\n",
              "  'args': [],\n",
              "  'keywords': [],\n",
              "  'lineno': 1,\n",
              "  'col_offset': 0,\n",
              "  'end_lineno': 1,\n",
              "  'end_col_offset': 16},\n",
              " [],\n",
              " [],\n",
              " {'value': <ast.Call at 0x7cabde18a800>,\n",
              "  'lineno': 1,\n",
              "  'col_offset': 0,\n",
              "  'end_lineno': 1,\n",
              "  'end_col_offset': 16},\n",
              " {'body': [<ast.Expr at 0x7cabde18bf40>], 'type_ignores': []},\n",
              " [],\n",
              " <cell at 0x7cabde18b640: bool object at 0x94b160>,\n",
              " <coroutine object InteractiveShell.run_ast_nodes at 0x7cabde146dc0>,\n",
              " <frame at 0x3312eb0, file '/usr/local/lib/python3.10/dist-packages/IPython/core/interactiveshell.py', line 3473, code run_ast_nodes>,\n",
              " [],\n",
              " [<ast.Expr at 0x7cabde18bf40>],\n",
              " <function IPython.core.interactiveshell.InteractiveShell.run_ast_nodes.<locals>.compare(code)>,\n",
              " [(<ast.Expr at 0x7cabde18bf40>, 'single')],\n",
              " (<ast.Expr at 0x7cabde18bf40>, 'single'),\n",
              " <list_iterator at 0x7cabde18b310>,\n",
              " [<ast.Expr at 0x7cabde18bf40>],\n",
              " <ast.Interactive at 0x7cabde18b610>,\n",
              " {'body': [<ast.Expr at 0x7cabde18bf40>]},\n",
              " ('gc', 'get_objects'),\n",
              " (None,),\n",
              " <coroutine object InteractiveShell.run_code at 0x7cabde146650>,\n",
              " <frame at 0x3339640, file '/usr/local/lib/python3.10/dist-packages/IPython/core/interactiveshell.py', line 3553, code run_code>,\n",
              " <bound method InteractiveShell.excepthook of <google.colab._shell.Shell object at 0x7cabef3d21d0>>,\n",
              " [],\n",
              " [],\n",
              " {'__new__': <function object.__new__(*args, **kwargs)>,\n",
              "  '__repr__': <slot wrapper '__repr__' of 'object' objects>,\n",
              "  '__hash__': <slot wrapper '__hash__' of 'object' objects>,\n",
              "  '__str__': <slot wrapper '__str__' of 'object' objects>,\n",
              "  '__getattribute__': <slot wrapper '__getattribute__' of 'object' objects>,\n",
              "  '__setattr__': <slot wrapper '__setattr__' of 'object' objects>,\n",
              "  '__delattr__': <slot wrapper '__delattr__' of 'object' objects>,\n",
              "  '__lt__': <slot wrapper '__lt__' of 'object' objects>,\n",
              "  '__le__': <slot wrapper '__le__' of 'object' objects>,\n",
              "  '__eq__': <slot wrapper '__eq__' of 'object' objects>,\n",
              "  '__ne__': <slot wrapper '__ne__' of 'object' objects>,\n",
              "  '__gt__': <slot wrapper '__gt__' of 'object' objects>,\n",
              "  '__ge__': <slot wrapper '__ge__' of 'object' objects>,\n",
              "  '__init__': <slot wrapper '__init__' of 'object' objects>,\n",
              "  '__reduce_ex__': <method '__reduce_ex__' of 'object' objects>,\n",
              "  '__reduce__': <method '__reduce__' of 'object' objects>,\n",
              "  '__subclasshook__': <method '__subclasshook__' of 'object' objects>,\n",
              "  '__init_subclass__': <method '__init_subclass__' of 'object' objects>,\n",
              "  '__format__': <method '__format__' of 'object' objects>,\n",
              "  '__sizeof__': <method '__sizeof__' of 'object' objects>,\n",
              "  '__dir__': <method '__dir__' of 'object' objects>,\n",
              "  '__class__': <attribute '__class__' of 'object' objects>,\n",
              "  '__doc__': 'The base class of the class hierarchy.\\n\\nWhen called, it accepts no arguments and returns a new featureless\\ninstance that has no instance attributes and cannot be given any.\\n'},\n",
              " <slot wrapper '__repr__' of 'object' objects>,\n",
              " <slot wrapper '__hash__' of 'object' objects>,\n",
              " <slot wrapper '__str__' of 'object' objects>,\n",
              " <slot wrapper '__getattribute__' of 'object' objects>,\n",
              " <slot wrapper '__setattr__' of 'object' objects>,\n",
              " <slot wrapper '__delattr__' of 'object' objects>,\n",
              " <slot wrapper '__lt__' of 'object' objects>,\n",
              " <slot wrapper '__le__' of 'object' objects>,\n",
              " <slot wrapper '__eq__' of 'object' objects>,\n",
              " <slot wrapper '__ne__' of 'object' objects>,\n",
              " <slot wrapper '__gt__' of 'object' objects>,\n",
              " <slot wrapper '__ge__' of 'object' objects>,\n",
              " <slot wrapper '__init__' of 'object' objects>,\n",
              " <method '__reduce_ex__' of 'object' objects>,\n",
              " <method '__reduce__' of 'object' objects>,\n",
              " <method '__subclasshook__' of 'object' objects>,\n",
              " <method '__init_subclass__' of 'object' objects>,\n",
              " <method '__format__' of 'object' objects>,\n",
              " <method '__sizeof__' of 'object' objects>,\n",
              " <method '__dir__' of 'object' objects>,\n",
              " <attribute '__class__' of 'object' objects>,\n",
              " {'__new__': <function type.__new__(*args, **kwargs)>,\n",
              "  '__repr__': <slot wrapper '__repr__' of 'type' objects>,\n",
              "  '__call__': <slot wrapper '__call__' of 'type' objects>,\n",
              "  '__getattribute__': <slot wrapper '__getattribute__' of 'type' objects>,\n",
              "  '__setattr__': <slot wrapper '__setattr__' of 'type' objects>,\n",
              "  '__delattr__': <slot wrapper '__delattr__' of 'type' objects>,\n",
              "  '__init__': <slot wrapper '__init__' of 'type' objects>,\n",
              "  '__or__': <slot wrapper '__or__' of 'type' objects>,\n",
              "  '__ror__': <slot wrapper '__ror__' of 'type' objects>,\n",
              "  'mro': <method 'mro' of 'type' objects>,\n",
              "  '__subclasses__': <method '__subclasses__' of 'type' objects>,\n",
              "  '__prepare__': <method '__prepare__' of 'type' objects>,\n",
              "  '__instancecheck__': <method '__instancecheck__' of 'type' objects>,\n",
              "  '__subclasscheck__': <method '__subclasscheck__' of 'type' objects>,\n",
              "  '__dir__': <method '__dir__' of 'type' objects>,\n",
              "  '__sizeof__': <method '__sizeof__' of 'type' objects>,\n",
              "  '__basicsize__': <member '__basicsize__' of 'type' objects>,\n",
              "  '__itemsize__': <member '__itemsize__' of 'type' objects>,\n",
              "  '__flags__': <member '__flags__' of 'type' objects>,\n",
              "  '__weakrefoffset__': <member '__weakrefoffset__' of 'type' objects>,\n",
              "  '__base__': <member '__base__' of 'type' objects>,\n",
              "  '__dictoffset__': <member '__dictoffset__' of 'type' objects>,\n",
              "  '__mro__': <member '__mro__' of 'type' objects>,\n",
              "  '__name__': <attribute '__name__' of 'type' objects>,\n",
              "  '__qualname__': <attribute '__qualname__' of 'type' objects>,\n",
              "  '__bases__': <attribute '__bases__' of 'type' objects>,\n",
              "  '__module__': <attribute '__module__' of 'type' objects>,\n",
              "  '__abstractmethods__': <attribute '__abstractmethods__' of 'type' objects>,\n",
              "  '__dict__': <attribute '__dict__' of 'type' objects>,\n",
              "  '__doc__': <attribute '__doc__' of 'type' objects>,\n",
              "  '__text_signature__': <attribute '__text_signature__' of 'type' objects>,\n",
              "  '__annotations__': <attribute '__annotations__' of 'type' objects>},\n",
              " <slot wrapper '__repr__' of 'type' objects>,\n",
              " <slot wrapper '__call__' of 'type' objects>,\n",
              " <slot wrapper '__getattribute__' of 'type' objects>,\n",
              " <slot wrapper '__setattr__' of 'type' objects>,\n",
              " <slot wrapper '__delattr__' of 'type' objects>,\n",
              " <slot wrapper '__init__' of 'type' objects>,\n",
              " <slot wrapper '__or__' of 'type' objects>,\n",
              " <slot wrapper '__ror__' of 'type' objects>,\n",
              " <method 'mro' of 'type' objects>,\n",
              " <method '__subclasses__' of 'type' objects>,\n",
              " <method '__prepare__' of 'type' objects>,\n",
              " <method '__instancecheck__' of 'type' objects>,\n",
              " <method '__subclasscheck__' of 'type' objects>,\n",
              " <method '__dir__' of 'type' objects>,\n",
              " <method '__sizeof__' of 'type' objects>,\n",
              " <member '__basicsize__' of 'type' objects>,\n",
              " <member '__itemsize__' of 'type' objects>,\n",
              " <member '__flags__' of 'type' objects>,\n",
              " <member '__weakrefoffset__' of 'type' objects>,\n",
              " <member '__base__' of 'type' objects>,\n",
              " <member '__dictoffset__' of 'type' objects>,\n",
              " <member '__mro__' of 'type' objects>,\n",
              " <attribute '__name__' of 'type' objects>,\n",
              " <attribute '__qualname__' of 'type' objects>,\n",
              " <attribute '__bases__' of 'type' objects>,\n",
              " <attribute '__module__' of 'type' objects>,\n",
              " <attribute '__abstractmethods__' of 'type' objects>,\n",
              " <attribute '__dict__' of 'type' objects>,\n",
              " <attribute '__doc__' of 'type' objects>,\n",
              " <attribute '__text_signature__' of 'type' objects>,\n",
              " <attribute '__annotations__' of 'type' objects>,\n",
              " {9812928: <weakref at 0x7cabf725cef0; to 'type' at 0x95bbc0 (type)>,\n",
              "  9763136: <weakref at 0x7cabf725d260; to 'type' at 0x94f940 (async_generator)>,\n",
              "  9824448: <weakref at 0x7cabf725e4d0; to 'type' at 0x95e8c0 (int)>,\n",
              "  9775680: <weakref at 0x7cabf725e9d0; to 'type' at 0x952a40 (bytearray_iterator)>,\n",
              "  9778304: <weakref at 0x7cabf72742c0; to 'type' at 0x953480 (bytearray)>,\n",
              "  9801984: <weakref at 0x7cabf72744f0; to 'type' at 0x959100 (bytes_iterator)>,\n",
              "  9822304: <weakref at 0x7cabf72758f0; to 'type' at 0x95e060 (bytes)>,\n",
              "  9750912: <weakref at 0x7cabf7275cb0; to 'type' at 0x94c980 (builtin_function_or_method)>,\n",
              "  9754624: <weakref at 0x7cabf7275e90; to 'type' at 0x94d800 (callable_iterator)>,\n",
              "  9775136: <weakref at 0x7cabf7275f30; to 'type' at 0x952820 (PyCapsule)>,\n",
              "  9823136: <weakref at 0x7cabf7276250; to 'type' at 0x95e3a0 (cell)>,\n",
              "  9768384: <weakref at 0x7cabf72763e0; to 'type' at 0x950dc0 (classmethod_descriptor)>,\n",
              "  9757216: <weakref at 0x7cabf72765c0; to 'type' at 0x94e220 (classmethod)>,\n",
              "  9773312: <weakref at 0x7cabf7276ac0; to 'type' at 0x952100 (code)>,\n",
              "  9824928: <weakref at 0x7cabf7277380; to 'type' at 0x95eaa0 (complex)>,\n",
              "  9764096: <weakref at 0x7cabf7277600; to 'type' at 0x94fd00 (coroutine)>,\n",
              "  9793792: <weakref at 0x7cabf7277ce0; to 'type' at 0x957100 (dict_items)>,\n",
              "  9795616: <weakref at 0x7cabf7277ec0; to 'type' at 0x957820 (dict_itemiterator)>,\n",
              "  9795200: <weakref at 0x7cabf72900e0; to 'type' at 0x957680 (dict_keyiterator)>,\n",
              "  9793184: <weakref at 0x7cabf72902c0; to 'type' at 0x956ea0 (dict_valueiterator)>,\n",
              "  9794784: <weakref at 0x7cabf72909a0; to 'type' at 0x9574e0 (dict_keys)>,\n",
              "  9771136: <weakref at 0x7cabf7291170; to 'type' at 0x951880 (mappingproxy)>,\n",
              "  9796448: <weakref at 0x7cabf7291300; to 'type' at 0x957b60 (dict_reverseitemiterator)>,\n",
              "  9796960: <weakref at 0x7cabf7291490; to 'type' at 0x957d60 (dict_reversekeyiterator)>,\n",
              "  9796032: <weakref at 0x7cabf7291620; to 'type' at 0x9579c0 (dict_reversevalueiterator)>,\n",
              "  9792768: <weakref at 0x7cabf7291800; to 'type' at 0x956d00 (dict_values)>,\n",
              "  9798336: <weakref at 0x7cabf72922a0; to 'type' at 0x9582c0 (dict)>,\n",
              "  9783232: <weakref at 0x7cabf7292430; to 'type' at 0x9547c0 (ellipsis)>,\n",
              "  9765760: <weakref at 0x7cabf7292660; to 'type' at 0x950380 (enumerate)>,\n",
              "  9825344: <weakref at 0x7cabf72934c0; to 'type' at 0x95ec40 (float)>,\n",
              "  9823616: <weakref at 0x7cabf72936f0; to 'type' at 0x95e580 (frame)>,\n",
              "  9785536: <weakref at 0x7cabf729c1d0; to 'type' at 0x9550c0 (frozenset)>,\n",
              "  9758208: <weakref at 0x7cabf729c360; to 'type' at 0x94e600 (function)>,\n",
              "  9822720: <weakref at 0x7cabf729c630; to 'type' at 0x95e200 (generator)>,\n",
              "  9767424: <weakref at 0x7cabf729c810; to 'type' at 0x950a00 (getset_descriptor)>,\n",
              "  9774624: <weakref at 0x7cabf729cc70; to 'type' at 0x952620 (instancemethod)>,\n",
              "  9799840: <weakref at 0x7cabf729cea0; to 'type' at 0x9588a0 (list_iterator)>,\n",
              "  9801440: <weakref at 0x7cabf729d0d0; to 'type' at 0x958ee0 (list_reverseiterator)>,\n",
              "  9800896: <weakref at 0x7cabf729dc10; to 'type' at 0x958cc0 (list)>,\n",
              "  9788736: <weakref at 0x7cabf729de40; to 'type' at 0x955d40 (longrange_iterator)>,\n",
              "  9767968: <weakref at 0x7cabf729e070; to 'type' at 0x950c20 (member_descriptor)>,\n",
              "  9791776: <weakref at 0x7cabf729e7f0; to 'type' at 0x956920 (memoryview)>,\n",
              "  9769152: <weakref at 0x7cabf729e9d0; to 'type' at 0x9510c0 (method_descriptor)>,\n",
              "  9774016: <weakref at 0x7cabf729eed0; to 'type' at 0x9523c0 (method)>,\n",
              "  9790368: <weakref at 0x7cabf729ef20; to 'type' at 0x9563a0 (moduledef)>,\n",
              "  9789952: <weakref at 0x7cabf729f1a0; to 'type' at 0x956200 (module)>,\n",
              "  9754144: <weakref at 0x7cabf729f420; to 'type' at 0x94d620 (odict_iterator)>,\n",
              "  9928640: <weakref at 0x7cabf72ac090; to 'type' at 0x977fc0 (PickleBuffer)>,\n",
              "  9770048: <weakref at 0x7cabf72ac400; to 'type' at 0x951440 (property)>,\n",
              "  9789280: <weakref at 0x7cabf72ac630; to 'type' at 0x955f60 (range_iterator)>,\n",
              "  9788192: <weakref at 0x7cabf72acc70; to 'type' at 0x955b20 (range)>,\n",
              "  9766304: <weakref at 0x7cabf72acef0; to 'type' at 0x9505a0 (reversed)>,\n",
              "  9858464: <weakref at 0x7cabf72acfe0; to 'type' at 0x966da0 (symtable entry)>,\n",
              "  9755168: <weakref at 0x7cabf72ad210; to 'type' at 0x94da20 (iterator)>,\n",
              "  9784416: <weakref at 0x7cabf72ad3f0; to 'type' at 0x954c60 (set_iterator)>,\n",
              "  9787040: <weakref at 0x7cabf72ae340; to 'type' at 0x9556a0 (set)>,\n",
              "  9783904: <weakref at 0x7cabf72ae700; to 'type' at 0x954a60 (slice)>,\n",
              "  9756544: <weakref at 0x7cabf72ae8e0; to 'type' at 0x94df80 (staticmethod)>,\n",
              "  9759584: <weakref at 0x7cabf72aeb60; to 'type' at 0x94eb60 (stderrprinter)>,\n",
              "  9803264: <weakref at 0x7cabf72aed40; to 'type' at 0x959600 (super)>,\n",
              "  9779040: <weakref at 0x7cabf72aee80; to 'type' at 0x953760 (traceback)>,\n",
              "  9782048: <weakref at 0x7cabf72af0b0; to 'type' at 0x954320 (tuple_iterator)>,\n",
              "  9782752: <weakref at 0x7cabf72af790; to 'type' at 0x9545e0 (tuple)>,\n",
              "  9781504: <weakref at 0x7cabf72af9c0; to 'type' at 0x954100 (str_iterator)>,\n",
              "  9824032: <weakref at 0x7cabf72b9030; to 'type' at 0x95e720 (str)>,\n",
              "  9766880: <weakref at 0x7cabf72b9210; to 'type' at 0x9507e0 (wrapper_descriptor)>,\n",
              "  9765248: <weakref at 0x7cabf72b9850; to 'type' at 0x950180 (GenericAlias)>,\n",
              "  9834656: <weakref at 0x7cabf72b9ad0; to 'type' at 0x9610a0 (anext_awaitable)>,\n",
              "  9761088: <weakref at 0x7cabf72b9d50; to 'type' at 0x94f140 (async_generator_asend)>,\n",
              "  9762208: <weakref at 0x7cabf72b9fd0; to 'type' at 0x94f5a0 (async_generator_athrow)>,\n",
              "  9760512: <weakref at 0x7cabf72ba070; to 'type' at 0x94ef00 (async_generator_wrapped_value)>,\n",
              "  9761632: <weakref at 0x7cabf72ba2a0; to 'type' at 0x94f360 (coroutine_wrapper)>,\n",
              "  9755872: <weakref at 0x7cabf72ba6b0; to 'type' at 0x94dce0 (InterpreterID)>,\n",
              "  9792192: <weakref at 0x7cabf72ba750; to 'type' at 0x956ac0 (managedbuffer)>,\n",
              "  9771968: <weakref at 0x7cabf72bab10; to 'type' at 0x951bc0 (method-wrapper)>,\n",
              "  9749664: <weakref at 0x7cabf72baf70; to 'type' at 0x94c4a0 (SimpleNamespace)>,\n",
              "  9813760: <weakref at 0x7cabf72bb0b0; to 'type' at 0x95bf00 (NoneType)>,\n",
              "  9814176: <weakref at 0x7cabf72bb240; to 'type' at 0x95c0a0 (NotImplementedType)>,\n",
              "  9779456: <weakref at 0x7cabf72bc810; to 'type' at 0x953900 (CallableProxyType)>,\n",
              "  9780384: <weakref at 0x7cabf72bddf0; to 'type' at 0x953ca0 (ProxyType)>,\n",
              "  9780960: <weakref at 0x7cabf72be200; to 'type' at 0x953ee0 (ReferenceType)>,\n",
              "  9841856: <weakref at 0x7cabf72be6b0; to 'type' at 0x962cc0 (UnionType)>,\n",
              "  9978272: <weakref at 0x7cabf72bea20; to 'type' at 0x9841a0 (EncodingMap)>,\n",
              "  9977856: <weakref at 0x7cabf72beb60; to 'type' at 0x984000 (fieldnameiterator)>,\n",
              "  9977440: <weakref at 0x7cabf72beca0; to 'type' at 0x983e60 (formatteriterator)>,\n",
              "  9815136: <weakref at 0x7cabf72bf1a0; to 'type' at 0x95c460 (BaseException)>,\n",
              "  9745152: <weakref at 0x7cabf72d0fe0; to 'type' at 0x94b300 (hamt)>,\n",
              "  9817184: <weakref at 0x7cabf72d1080; to 'type' at 0x95cc60 (hamt_array_node)>,\n",
              "  9817600: <weakref at 0x7cabf72d1120; to 'type' at 0x95ce00 (hamt_bitmap_node)>,\n",
              "  9745568: <weakref at 0x7cabf72d11c0; to 'type' at 0x94b4a0 (hamt_collision_node)>,\n",
              "  9833024: <weakref at 0x7cabf72d1350; to 'type' at 0x960a40 (keys)>,\n",
              "  9832608: <weakref at 0x7cabf72d14e0; to 'type' at 0x9608a0 (values)>,\n",
              "  9832192: <weakref at 0x7cabf72d1670; to 'type' at 0x960700 (items)>,\n",
              "  9747616: <weakref at 0x7cabf72d1c60; to 'type' at 0x94bca0 (Context)>,\n",
              "  9746240: <weakref at 0x7cabf72d1f30; to 'type' at 0x94b740 (ContextVar)>,\n",
              "  9746848: <weakref at 0x7cabf72d20c0; to 'type' at 0x94b9a0 (Token)>,\n",
              "  9831744: <weakref at 0x7cabf72d21b0; to 'type' at 0x960540 (MISSING)>,\n",
              "  9749088: <weakref at 0x7cabf72e44f0; to 'type' at 0x94c260 (filter)>,\n",
              "  9748608: <weakref at 0x7cabf72e46d0; to 'type' at 0x94c080 (map)>,\n",
              "  9748128: <weakref at 0x7cabf72e4900; to 'type' at 0x94bea0 (zip)>,\n",
              "  37690528: <weakref at 0x7cabf73012b0; to 'type' at 0x23f1ca0 (_ModuleLock)>,\n",
              "  37691488: <weakref at 0x7cabf7301300; to 'type' at 0x23f2060 (_DummyModuleLock)>,\n",
              "  37692448: <weakref at 0x7cabf7301350; to 'type' at 0x23f2420 (_ModuleLockManager)>,\n",
              "  37694528: <weakref at 0x7cabf73013f0; to 'type' at 0x23f2c40 (ModuleSpec)>,\n",
              "  37697584: <weakref at 0x7cabf73014e0; to 'type' at 0x23f3830 (BuiltinImporter)>,\n",
              "  37699136: <weakref at 0x7cabf7301580; to 'type' at 0x23f3e40 (FrozenImporter)>,\n",
              "  37700688: <weakref at 0x7cabf73015d0; to 'type' at 0x23f4450 (_ImportLockContext)>,\n",
              "  37693408: <weakref at 0x7cabf73024d0; to 'type' at 0x23f27e0 (lock)>,\n",
              "  37704464: <weakref at 0x7cabf7302890; to 'type' at 0x23f5310 (RLock)>,\n",
              "  37706048: <weakref at 0x7cabf7302930; to 'type' at 0x23f5940 (_localdummy)>,\n",
              "  37707040: <weakref at 0x7cabf7302b10; to 'type' at 0x23f5d20 (_local)>,\n",
              "  9905920: <weakref at 0x7cabf7340310; to 'type' at 0x972700 (_IOBase)>,\n",
              "  9910656: <weakref at 0x7cabf73417b0; to 'type' at 0x973980 (_BytesIOBuffer)>,\n",
              "  9861216: <weakref at 0x7cabf7348040; to 'type' at 0x967860 (IncrementalNewlineDecoder)>,\n",
              "  37754000: <weakref at 0x7cabf7155e90; to 'type' at 0x2401490 (ScandirIterator)>,\n",
              "  37754960: <weakref at 0x7cabf7156160; to 'type' at 0x2401850 (DirEntry)>,\n",
              "  37760080: <weakref at 0x7cabf732b830; to 'type' at 0x2402c50 (WindowsRegistryFinder)>,\n",
              "  37764016: <weakref at 0x7cabf732b880; to 'type' at 0x2403bb0 (_LoaderBasics)>,\n",
              "  37766528: <weakref at 0x7cabf7156520; to 'type' at 0x2404580 (FileLoader)>,\n",
              "  37771552: <weakref at 0x7cabf71567a0; to 'type' at 0x2405920 (_NamespacePath)>,\n",
              "  37773104: <weakref at 0x7cabf71567f0; to 'type' at 0x2405f30 (_NamespaceLoader)>,\n",
              "  37774656: <weakref at 0x7cabf7156840; to 'type' at 0x2406540 (PathFinder)>,\n",
              "  37776208: <weakref at 0x7cabf7156890; to 'type' at 0x2406b50 (FileFinder)>,\n",
              "  37939856: <weakref at 0x7cabf71788b0; to 'type' at 0x242ea90 (Codec)>,\n",
              "  37941920: <weakref at 0x7cabf7178860; to 'type' at 0x242f2a0 (IncrementalEncoder)>,\n",
              "  37943840: <weakref at 0x7cabf7178950; to 'type' at 0x242fa20 (IncrementalDecoder)>,\n",
              "  37948864: <weakref at 0x7cabf7178a90; to 'type' at 0x2430dc0 (StreamReaderWriter)>,\n",
              "  37950416: <weakref at 0x7cabf7178ae0; to 'type' at 0x24313d0 (StreamRecoder)>,\n",
              "  37996832: <weakref at 0x7cabf717b0b0; to 'type' at 0x243c920 (_abc_data)>,\n",
              "  38012848: <weakref at 0x7cabf717b150; to 'ABCMeta' at 0x24407b0 (ABC)>,\n",
              "  38037296: <weakref at 0x7cabf7194c70; to 'type' at 0x2446730 (WarningMessage)>,\n",
              "  38038256: <weakref at 0x7cabf7194cc0; to 'type' at 0x2446af0 (catch_warnings)>,\n",
              "  38048256: <weakref at 0x7cabf71a9030; to 'type' at 0x2449200 (DynamicClassAttribute)>,\n",
              "  38049952: <weakref at 0x7cabf71a91c0; to 'type' at 0x24498a0 (_GeneratorWrapper)>,\n",
              "  38045520: <weakref at 0x7cabf7197c40; to 'type' at 0x2448750 (auto)>,\n",
              "  37834672: <weakref at 0x7cabf71796c0; to 'EnumMeta' at 0x2414fb0 (Enum)>,\n",
              "  37863344: <weakref at 0x7cabf71aac50; to 'type' at 0x241bfb0 (Pattern)>,\n",
              "  37847232: <weakref at 0x7cabf71aafc0; to 'type' at 0x24180c0 (Match)>,\n",
              "  37789760: <weakref at 0x7cabf71ab0b0; to 'type' at 0x240a040 (SRE_Scanner)>,\n",
              "  37886048: <weakref at 0x7cabf71c5170; to 'type' at 0x2421860 (State)>,\n",
              "  37887008: <weakref at 0x7cabf71c5210; to 'type' at 0x2421c20 (SubPattern)>,\n",
              "  37888560: <weakref at 0x7cabf71c52b0; to 'type' at 0x2422230 (Tokenizer)>,\n",
              "  38066144: <weakref at 0x7cabf7203830; to 'ABCMeta' at 0x244d7e0 (Hashable)>,\n",
              "  38067104: <weakref at 0x7cabf7203880; to 'ABCMeta' at 0x244dba0 (Awaitable)>,\n",
              "  38069024: <weakref at 0x7cabf7203a10; to 'ABCMeta' at 0x244e320 (AsyncIterable)>,\n",
              "  38073168: <weakref at 0x7cabf7203c90; to 'ABCMeta' at 0x244f350 (Iterable)>,\n",
              "  38077600: <weakref at 0x7cabf721c7c0; to 'ABCMeta' at 0x24504a0 (Sized)>,\n",
              "  38078560: <weakref at 0x7cabf721c810; to 'ABCMeta' at 0x2450860 (Container)>,\n",
              "  38082032: <weakref at 0x7cabf721c950; to 'ABCMeta' at 0x24515f0 (Callable)>,\n",
              "  9903008: <weakref at 0x7cabf721e480; to 'type' at 0x971ba0 (accumulate)>,\n",
              "  9902592: <weakref at 0x7cabf721e700; to 'type' at 0x971a00 (combinations)>,\n",
              "  9902176: <weakref at 0x7cabf721e980; to 'type' at 0x971860 (combinations_with_replacement)>,\n",
              "  9901760: <weakref at 0x7cabf721ec00; to 'type' at 0x9716c0 (cycle)>,\n",
              "  9901344: <weakref at 0x7cabf721ee30; to 'type' at 0x971520 (dropwhile)>,\n",
              "  9900928: <weakref at 0x7cabf721f060; to 'type' at 0x971380 (takewhile)>,\n",
              "  9900512: <weakref at 0x7cabf721f290; to 'type' at 0x9711e0 (islice)>,\n",
              "  9900096: <weakref at 0x7cabf721f470; to 'type' at 0x971040 (starmap)>,\n",
              "  9899680: <weakref at 0x7cabf721f740; to 'type' at 0x970ea0 (chain)>,\n",
              "  9899264: <weakref at 0x7cabf721f920; to 'type' at 0x970d00 (compress)>,\n",
              "  9898848: <weakref at 0x7cabf721fb00; to 'type' at 0x970b60 (filterfalse)>,\n",
              "  9898432: <weakref at 0x7cabf721fd30; to 'type' at 0x9709c0 (count)>,\n",
              "  9898016: <weakref at 0x7cabf721ff60; to 'type' at 0x970820 (zip_longest)>,\n",
              "  9897600: <weakref at 0x7cabf7228130; to 'type' at 0x970680 (pairwise)>,\n",
              "  9897184: <weakref at 0x7cabf72283b0; to 'type' at 0x9704e0 (permutations)>,\n",
              "  9896768: <weakref at 0x7cabf7228630; to 'type' at 0x970340 (product)>,\n",
              "  9896352: <weakref at 0x7cabf72288b0; to 'type' at 0x9701a0 (repeat)>,\n",
              "  9895936: <weakref at 0x7cabf7228ae0; to 'type' at 0x970000 (groupby)>,\n",
              "  9895520: <weakref at 0x7cabf7228cc0; to 'type' at 0x96fe60 (_grouper)>,\n",
              "  9895104: <weakref at 0x7cabf7228ef0; to 'type' at 0x96fcc0 (_tee)>,\n",
              "  9835648: <weakref at 0x7cabf7229030; to 'type' at 0x961480 (_tee_dataobject)>,\n",
              "  38119712: <weakref at 0x7cabf722b240; to 'type' at 0x245a920 (attrgetter)>,\n",
              "  38123056: <weakref at 0x7cabf722b420; to 'type' at 0x245b630 (itemgetter)>,\n",
              "  38124016: <weakref at 0x7cabf722b600; to 'type' at 0x245b9f0 (methodcaller)>,\n",
              "  38111968: <weakref at 0x7cabf722b830; to 'type' at 0x2458ae0 (Repr)>,\n",
              "  9960256: <weakref at 0x7cabf7238680; to 'type' at 0x97fb40 (deque)>,\n",
              "  9959424: <weakref at 0x7cabf7238c20; to 'type' at 0x97f800 (_deque_iterator)>,\n",
              "  9959008: <weakref at 0x7cabf7238e50; to 'type' at 0x97f660 (_deque_reverse_iterator)>,\n",
              "  9958592: <weakref at 0x7cabf72390d0; to 'type' at 0x97f4c0 (_tuplegetter)>,\n",
              "  38137552: <weakref at 0x7cabf7239260; to 'type' at 0x245eed0 (_Link)>,\n",
              "  37644592: <weakref at 0x7cabf71e4040; to 'type' at 0x23e6930 (partial)>,\n",
              "  37861360: <weakref at 0x7cabf71e44f0; to 'type' at 0x241b7f0 (_lru_cache_wrapper)>,\n",
              "  38139216: <weakref at 0x7cabf71e4810; to 'type' at 0x245f550 (KeyWrapper)>,\n",
              "  38152448: <weakref at 0x7cabf71e4860; to 'type' at 0x2462900 (_lru_list_elem)>,\n",
              "  38157488: <weakref at 0x7cabf71e6660; to 'type' at 0x2463cb0 (partialmethod)>,\n",
              "  38114688: <weakref at 0x7cabf7229850; to 'type' at 0x2459580 (singledispatchmethod)>,\n",
              "  38163808: <weakref at 0x7cabf7229e40; to 'type' at 0x2465560 (cached_property)>,\n",
              "  38181360: <weakref at 0x7cabf71955d0; to 'type' at 0x24699f0 (Scanner)>,\n",
              "  38232544: <weakref at 0x7cabf71c75b0; to 'type' at 0x24761e0 (_wrap_close)>,\n",
              "  38188704: <weakref at 0x7cabf71c4ef0; to 'type' at 0x246b6a0 (Quitter)>,\n",
              "  38189664: <weakref at 0x7cabf71c4ea0; to 'type' at 0x246ba60 (_Printer)>,\n",
              "  38190624: <weakref at 0x7cabf71c4e50; to 'type' at 0x246be20 (_Helper)>,\n",
              "  38269392: <weakref at 0x7cabf7062160; to 'type' at 0x247f1d0 (_TrivialRe)>,\n",
              "  38270352: <weakref at 0x7cabf70621b0; to 'type' at 0x247f590 (DistutilsMetaFinder)>,\n",
              "  38273616: <weakref at 0x7cabf7062250; to 'type' at 0x2480250 (shim)>,\n",
              "  38262352: <weakref at 0x7cabf7063600; to 'ABCMeta' at 0x247d650 (Loader)>,\n",
              "  38346448: <weakref at 0x7cabf7079170; to 'type' at 0x2491ed0 (ContextDecorator)>,\n",
              "  38347408: <weakref at 0x7cabf70791c0; to 'type' at 0x2492290 (AsyncContextDecorator)>,\n",
              "  38348368: <weakref at 0x7cabf7079260; to 'type' at 0x2492650 (_GeneratorContextManagerBase)>,\n",
              "  38358720: <weakref at 0x7cabf7079760; to 'type' at 0x2494ec0 (_BaseExitStack)>,\n",
              "  38267632: <weakref at 0x7cabf707b060; to 'type' at 0x247eaf0 (_TempModule)>,\n",
              "  37937472: <weakref at 0x7cabf707b0b0; to 'type' at 0x242e140 (_ModifiedArgv0)>,\n",
              "  38371424: <weakref at 0x7cabf7091120; to 'type' at 0x2498060 (Scanner)>,\n",
              "  38372624: <weakref at 0x7cabf7091210; to 'type' at 0x2498510 (Encoder)>,\n",
              "  38380064: <weakref at 0x7cabf7091440; to 'type' at 0x249a220 (JSONDecoder)>,\n",
              "  38389952: <weakref at 0x7cabf7091c10; to 'type' at 0x249c8c0 (JSONEncoder)>,\n",
              "  38419168: <weakref at 0x7cabf70d4ef0; to 'type' at 0x24a3ae0 (_IterationGuard)>,\n",
              "  38426736: <weakref at 0x7cabf7079e40; to 'type' at 0x24a5870 (WeakSet)>,\n",
              "  38425616: <weakref at 0x7cabf70b3fb0; to 'type' at 0x24a5410 (_RLock)>,\n",
              "  38430512: <weakref at 0x7cabf7079d00; to 'type' at 0x24a6730 (Condition)>,\n",
              "  38432064: <weakref at 0x7cabf70d4040; to 'type' at 0x24a6d40 (Semaphore)>,\n",
              "  38434688: <weakref at 0x7cabf70d4f40; to 'type' at 0x24a7780 (Event)>,\n",
              "  38436240: <weakref at 0x7cabf70d5080; to 'type' at 0x24a7d90 (Barrier)>,\n",
              "  38440976: <weakref at 0x7cabf70d5300; to 'type' at 0x24a9010 (Thread)>,\n",
              "  38460960: <weakref at 0x7cabf70d5990; to 'type' at 0x24ade20 (poll)>,\n",
              "  38461920: <weakref at 0x7cabf70d5d50; to 'type' at 0x24ae1e0 (epoll)>,\n",
              "  38473440: <weakref at 0x7cabf70ecd60; to 'ABCMeta' at 0x24b0ee0 (BaseSelector)>,\n",
              "  38486896: <weakref at 0x7cabf70d7240; to 'type' at 0x24b4370 (CompletedProcess)>,\n",
              "  38491200: <weakref at 0x7cabf70d7290; to 'type' at 0x24b5440 (Popen)>,\n",
              "  38517344: <weakref at 0x7cabf7105ad0; to 'type' at 0x24bba60 (_Info)>,\n",
              "  38518544: <weakref at 0x7cabf7105b70; to 'type' at 0x24bbf10 (finalize)>,\n",
              "  38570592: <weakref at 0x7cabf6f4a570; to 'type' at 0x24c8a60 (Untokenizer)>,\n",
              "  38581744: <weakref at 0x7cabf6f48770; to 'type' at 0x24cb5f0 (_Sentinel)>,\n",
              "  38583824: <weakref at 0x7cabf6f48b80; to 'type' at 0x24cbe10 (FrameSummary)>,\n",
              "  38586528: <weakref at 0x7cabf6f49080; to 'type' at 0x24cc8a0 (TracebackException)>,\n",
              "  38590704: <weakref at 0x7cabf6f4ae80; to 'type' at 0x24cd8f0 (Template)>,\n",
              "  38596656: <weakref at 0x7cabf707a520; to 'type' at 0x24cf030 (Formatter)>,\n",
              "  38598208: <weakref at 0x7cabf7123100; to 'type' at 0x24cf640 (LogRecord)>,\n",
              "  38620416: <weakref at 0x7cabf6f4b100; to 'type' at 0x24d4d00 (PercentStyle)>,\n",
              "  38628224: <weakref at 0x7cabf6f4b4c0; to 'type' at 0x24d6b80 (Formatter)>,\n",
              "  38632064: <weakref at 0x7cabf6f4b470; to 'type' at 0x24d7a80 (BufferingFormatter)>,\n",
              "  38633024: <weakref at 0x7cabf6f4b510; to 'type' at 0x24d7e40 (Filter)>,\n",
              "  38633984: <weakref at 0x7cabf6f4b560; to 'type' at 0x24d8200 (Filterer)>,\n",
              "  38639376: <weakref at 0x7cabf6f4b970; to 'type' at 0x24d9710 (PlaceHolder)>,\n",
              "  38640336: <weakref at 0x7cabf6f4b9c0; to 'type' at 0x24d9ad0 (Manager)>,\n",
              "  38645088: <weakref at 0x7cabf6f4bb50; to 'type' at 0x24dad60 (LoggerAdapter)>,\n",
              "  38655440: <weakref at 0x7cabf6f4df30; to 'type' at 0x24dd5d0 (Compress)>,\n",
              "  38656400: <weakref at 0x7cabf6f4e110; to 'type' at 0x24dd990 (Decompress)>,\n",
              "  38667472: <weakref at 0x7cabf6f4fa10; to 'type' at 0x24e04d0 (BZ2Compressor)>,\n",
              "  38668432: <weakref at 0x7cabf6f4fb50; to 'type' at 0x24e0890 (BZ2Decompressor)>,\n",
              "  38675408: <weakref at 0x7cabf6f987c0; to 'type' at 0x24e23d0 (LZMACompressor)>,\n",
              "  38682256: <weakref at 0x7cabf6f98950; to 'type' at 0x24e3e90 (LZMADecompressor)>,\n",
              "  37855408: <weakref at 0x7cabf7010a90; to 'type' at 0x241a0b0 (AST)>,\n",
              "  38883808: <weakref at 0x7cabf7010770; to 'type' at 0x25151e0 (NodeVisitor)>,\n",
              "  38915248: <weakref at 0x7cabf6da4180; to 'type' at 0x251ccb0 (Bytecode)>,\n",
              "  38937808: <weakref at 0x7cabf6da4680; to 'type' at 0x25224d0 (BlockFinder)>,\n",
              "  38959856: <weakref at 0x7cabf6da5990; to 'type' at 0x2527af0 (_void)>,\n",
              "  38960816: <weakref at 0x7cabf6da59e0; to 'type' at 0x2527eb0 (_empty)>,\n",
              "  38964976: <weakref at 0x7cabf6da5c60; to 'type' at 0x2528ef0 (Parameter)>,\n",
              "  38952544: <weakref at 0x7cabf6da5da0; to 'type' at 0x2525e60 (BoundArguments)>,\n",
              "  38182880: <weakref at 0x7cabf6da5e90; to 'type' at 0x2469fe0 (Signature)>,\n",
              "  39074864: <weakref at 0x7cabf70b0b80; to 'type' at 0x2543c30 (_Final)>,\n",
              "  39075824: <weakref at 0x7cabf6dcb600; to 'type' at 0x2543ff0 (_Immutable)>,\n",
              "  39073744: <weakref at 0x7cabf6dcb8d0; to 'type' at 0x25437d0 (_TypeVarLike)>,\n",
              "  38998080: <weakref at 0x7cabf6df4400; to 'type' at 0x2531040 (Generic)>,\n",
              "  38999040: <weakref at 0x7cabf6df4450; to 'type' at 0x2531400 (_TypingEmpty)>,\n",
              "  39000000: <weakref at 0x7cabf6df44a0; to 'type' at 0x25317c0 (_TypingEllipsis)>,\n",
              "  39006208: <weakref at 0x7cabf6df46d0; to 'type' at 0x2533000 (Annotated)>,\n",
              "  39022496: <weakref at 0x7cabf7079c60; to 'NamedTupleMeta' at 0x2536fa0 (NamedTuple)>,\n",
              "  39024416: <weakref at 0x7cabf6df5a30; to '_TypedDictMeta' at 0x2537720 (TypedDict)>,\n",
              "  39025376: <weakref at 0x7cabf6df5a80; to 'type' at 0x2537ae0 (NewType)>,\n",
              "  39032832: <weakref at 0x7cabf6df62f0; to 'type' at 0x2539800 (typing.io)>,\n",
              "  39033792: <weakref at 0x7cabf6df6430; to 'type' at 0x2539bc0 (typing.re)>,\n",
              "  39010032: <weakref at 0x7cabf6df6a20; to 'type' at 0x2533ef0 (Sentinel)>,\n",
              "  38366784: <weakref at 0x7cabf6df67f0; to 'type' at 0x2496e40 (_SimpleTest)>,\n",
              "  38826224: <weakref at 0x7cabf6df6a70; to 'type' at 0x25070f0 (link)>,\n",
              "  39053280: <weakref at 0x7cabf6df6ac0; to 'type' at 0x253e7e0 (directional_link)>,\n",
              "  39054832: <weakref at 0x7cabf6df6b60; to 'type' at 0x253edf0 (BaseDescriptor)>,\n",
              "  39057088: <weakref at 0x7cabf6df6ca0; to 'type' at 0x253f6c0 (_CallbackWrapper)>,\n",
              "  39085168: <weakref at 0x7cabf7079da0; to 'MetaHasDescriptors' at 0x2546470 (HasDescriptors)>,\n",
              "  39092976: <weakref at 0x7cabf6df7150; to 'type' at 0x25482f0 (ForwardDeclaredMixin)>,\n",
              "  39152896: <weakref at 0x7cabf6e371f0; to 'type' at 0x2556d00 (_HAS_DEFAULT_FACTORY_CLASS)>,\n",
              "  39153856: <weakref at 0x7cabf6e37240; to 'type' at 0x25570c0 (_MISSING_TYPE)>,\n",
              "  39154816: <weakref at 0x7cabf6e37290; to 'type' at 0x2557480 (_KW_ONLY_TYPE)>,\n",
              "  39155776: <weakref at 0x7cabf6e372e0; to 'type' at 0x2557840 (_FIELD_BASE)>,\n",
              "  39143616: <weakref at 0x7cabf6e37330; to 'type' at 0x25548c0 (InitVar)>,\n",
              "  39159824: <weakref at 0x7cabf6e37380; to 'type' at 0x2558810 (Field)>,\n",
              "  39161216: <weakref at 0x7cabf6e374c0; to 'type' at 0x2558d80 (_DataclassParams)>,\n",
              "  39165232: <weakref at 0x7cabf6e34a40; to 'type' at 0x2559d30 (_safe_key)>,\n",
              "  39170176: <weakref at 0x7cabf6e34a90; to 'type' at 0x255b080 (PrettyPrinter)>,\n",
              "  9865504: <weakref at 0x7cabf6e85f30; to 'type' at 0x968920 (socket)>,\n",
              "  39203312: <weakref at 0x7cabf6e86f20; to 'type' at 0x25631f0 (array)>,\n",
              "  39211216: <weakref at 0x7cabf6e870b0; to 'type' at 0x25650d0 (arrayiterator)>,\n",
              "  39290832: <weakref at 0x7cabf6c9fc40; to 'type' at 0x25787d0 (Struct)>,\n",
              "  39292416: <weakref at 0x7cabf6c9fdd0; to 'type' at 0x2578e00 (unpack_iterator)>,\n",
              "  9930720: <weakref at 0x7cabf6ca8950; to 'type' at 0x9787e0 (Pdata)>,\n",
              "  9930304: <weakref at 0x7cabf6ca8b80; to 'type' at 0x978640 (PicklerMemoProxy)>,\n",
              "  9929888: <weakref at 0x7cabf6ca8db0; to 'type' at 0x9784a0 (UnpicklerMemoProxy)>,\n",
              "  9929472: <weakref at 0x7cabf6ca9120; to 'type' at 0x978300 (Pickler)>,\n",
              "  9929056: <weakref at 0x7cabf6ca9300; to 'type' at 0x978160 (Unpickler)>,\n",
              "  39294928: <weakref at 0x7cabf6c9f240; to 'type' at 0x25797d0 (_Framer)>,\n",
              "  39328384: <weakref at 0x7cabf6ca9a30; to 'type' at 0x2581a80 (_Unframer)>,\n",
              "  39331584: <weakref at 0x7cabf6ca9800; to 'type' at 0x2582700 (_Pickler)>,\n",
              "  39335360: <weakref at 0x7cabf6ca98a0; to 'type' at 0x25835c0 (_Unpickler)>,\n",
              "  39345520: <weakref at 0x7cabf6caac50; to 'type' at 0x2585d70 (SimpleQueue)>,\n",
              "  39354432: <weakref at 0x7cabf6caa070; to 'type' at 0x2588040 (Queue)>,\n",
              "  39357904: <weakref at 0x7cabf6caad40; to 'type' at 0x2588dd0 (_PySimpleQueue)>,\n",
              "  39383360: <weakref at 0x7cabf6cab2e0; to 'type' at 0x258f140 (QueueListener)>,\n",
              "  39389152: <weakref at 0x7cabf6ccd260; to 'type' at 0x25907e0 (BaseServer)>,\n",
              "  39396944: <weakref at 0x7cabf6ccd3a0; to 'type' at 0x2592650 (ForkingMixIn)>,\n",
              "  39400576: <weakref at 0x7cabf6ccd440; to 'type' at 0x2593480 (_NoThreads)>,\n",
              "  39401536: <weakref at 0x7cabf6ccd490; to 'type' at 0x2593840 (ThreadingMixIn)>,\n",
              "  39410176: <weakref at 0x7cabf6ccd8a0; to 'type' at 0x2595a00 (BaseRequestHandler)>,\n",
              "  39423408: <weakref at 0x7cabf6e51440; to 'type' at 0x2598db0 (ConvertingMixin)>,\n",
              "  39431664: <weakref at 0x7cabf6ccdad0; to 'type' at 0x259adf0 (BaseConfigurator)>,\n",
              "  39445600: <weakref at 0x7cabf6cce980; to 'type' at 0x259e460 (TextWrapper)>,\n",
              "  39470032: <weakref at 0x7cabf6d130b0; to 'type' at 0x25a43d0 (NullTranslations)>,\n",
              "  39475360: <weakref at 0x7cabf6d11440; to 'type' at 0x25a58a0 (_AttributeHolder)>,\n",
              "  39476320: <weakref at 0x7cabf6d11490; to 'type' at 0x25a5c60 (_Section)>,\n",
              "  39479520: <weakref at 0x7cabf6d13330; to 'type' at 0x25a68e0 (HelpFormatter)>,\n",
              "  39500784: <weakref at 0x7cabf6d13b50; to 'type' at 0x25abbf0 (FileType)>,\n",
              "  39502704: <weakref at 0x7cabf6d13bf0; to 'type' at 0x25ac370 (_ActionsContainer)>,\n",
              "  39514864: <weakref at 0x7cabf6d09300; to 'type' at 0x25af2f0 (_Sentinel)>,\n",
              "  39521568: <weakref at 0x7cabf6d0b740; to 'type' at 0x25b0d20 (DeferredConfig)>,\n",
              "  39524448: <weakref at 0x7cabf6d13f10; to 'type' at 0x25b1860 (ConfigLoader)>,\n",
              "  39601616: <weakref at 0x7cabf6b8eed0; to 'type' at 0x25c45d0 (ImpImporter)>,\n",
              "  39602576: <weakref at 0x7cabf6b8ef20; to 'type' at 0x25c4990 (ImpLoader)>,\n",
              "  39617712: <weakref at 0x7cabf6ba4a40; to 'type' at 0x25c84b0 (_Processor)>,\n",
              "  39641408: <weakref at 0x7cabf6bc4900; to 'type' at 0x25ce140 (_ResultMixinStr)>,\n",
              "  39642368: <weakref at 0x7cabf6bc4950; to 'type' at 0x25ce500 (_ResultMixinBytes)>,\n",
              "  39643328: <weakref at 0x7cabf6bc4b30; to 'type' at 0x25ce8c0 (_NetlocResultMixinBase)>,\n",
              "  39603536: <weakref at 0x7cabf6ba6b60; to 'type' at 0x25c4d50 (Doc)>,\n",
              "  39726976: <weakref at 0x7cabf6bdf470; to 'type' at 0x25e2f80 (Helper)>,\n",
              "  39720288: <weakref at 0x7cabf6bdf4c0; to 'type' at 0x25e1560 (ModuleScanner)>,\n",
              "  39775632: <weakref at 0x7cabf6beb240; to 'type' at 0x25eed90 (Bdb)>,\n",
              "  39778224: <weakref at 0x7cabf6beb290; to 'type' at 0x25ef7b0 (Breakpoint)>,\n",
              "  39794064: <weakref at 0x7cabf6c10180; to 'type' at 0x25f3590 (TermColors)>,\n",
              "  39796144: <weakref at 0x7cabf70d5620; to 'type' at 0x25f3db0 (InputTermColors)>,\n",
              "  39798224: <weakref at 0x7cabf6c101d0; to 'type' at 0x25f45d0 (NoColors)>,\n",
              "  39800304: <weakref at 0x7cabf6c10a40; to 'type' at 0x25f4df0 (ColorScheme)>,\n",
              "  39828704: <weakref at 0x7cabf6c116c0; to 'type' at 0x25fbce0 (Deprec)>,\n",
              "  39834400: <weakref at 0x7cabf6c4e9d0; to 'type' at 0x25fd320 (Cmd)>,\n",
              "  39871488: <weakref at 0x7cabf6c6c810; to 'type' at 0x2606400 (_Feature)>,\n",
              "  39873568: <weakref at 0x7cabf6c4fb00; to 'type' at 0x2606c20 (Compile)>,\n",
              "  39874528: <weakref at 0x7cabf6c4fb50; to 'type' at 0x2606fe0 (CommandCompiler)>,\n",
              "  39875488: <weakref at 0x7cabf6c4f420; to 'type' at 0x26073a0 (InteractiveInterpreter)>,\n",
              "  39878000: <weakref at 0x7cabf6beb380; to 'type' at 0x2607d70 (Tracer)>,\n",
              "  39923568: <weakref at 0x7cabf6c6f650; to 'type' at 0x2612f70 (Random)>,\n",
              "  39628944: <weakref at 0x7cabf6c6f970; to 'type' at 0x25cb090 (sha384)>,\n",
              "  39944704: <weakref at 0x7cabf6c6fb00; to 'type' at 0x2618200 (sha512)>,\n",
              "  39957072: <weakref at 0x7cabf6a01ad0; to 'type' at 0x261b250 (Expecter)>,\n",
              "  39959216: <weakref at 0x7cabf6a01b20; to 'type' at 0x261bab0 (searcher_string)>,\n",
              "  39960176: <weakref at 0x7cabf6a01b70; to 'type' at 0x261be70 (searcher_re)>,\n",
              "  39995440: <weakref at 0x7cabf6a24cc0; to 'type' at 0x2624830 (PtyProcess)>,\n",
              "  40024944: <weakref at 0x7cabf6a260c0; to 'type' at 0x262bb70 (_NullCoder)>,\n",
              "  40028144: <weakref at 0x7cabf6a26160; to 'type' at 0x262c7f0 (SpawnBase)>,\n",
              "  40038992: <weakref at 0x7cabf6a27560; to 'type' at 0x262f250 (shlex)>,\n",
              "  40041136: <weakref at 0x7cabf6a006d0; to 'type' at 0x262fab0 (ProcessHandler)>,\n",
              "  40074928: <weakref at 0x7cabf6c10d10; to 'type' at 0x2637eb0 (CrashHandler)>,\n",
              "  40081120: <weakref at 0x7cabf6a4eed0; to 'type' at 0x26396e0 (_RandomNameSequence)>,\n",
              "  40080000: <weakref at 0x7cabf6a4ef20; to 'type' at 0x2639280 (_TemporaryFileCloser)>,\n",
              "  40084304: <weakref at 0x7cabf6a4ef70; to 'type' at 0x263a350 (_TemporaryFileWrapper)>,\n",
              "  40088096: <weakref at 0x7cabf6a4f1a0; to 'type' at 0x263b220 (SpooledTemporaryFile)>,\n",
              "  40085856: <weakref at 0x7cabf6a4f1f0; to 'type' at 0x263a960 (TemporaryDirectory)>,\n",
              "  40101472: <weakref at 0x7cabf6a697b0; to 'type' at 0x263e660 (HASH)>,\n",
              "  40120016: <weakref at 0x7cabf6a69a80; to 'type' at 0x2642ed0 (HMAC)>,\n",
              "  40127184: <weakref at 0x7cabf6a6a070; to 'type' at 0x2644ad0 (blake2b)>,\n",
              "  40128144: <weakref at 0x7cabf6a6a390; to 'type' at 0x2644e90 (blake2s)>,\n",
              "  39971232: <weakref at 0x7cabf6a94ae0; to 'type' at 0x261e9a0 (_Flavour)>,\n",
              "  40148512: <weakref at 0x7cabf6a95710; to 'type' at 0x2649e20 (_Accessor)>,\n",
              "  40161328: <weakref at 0x7cabf6a957b0; to 'type' at 0x264d030 (_Selector)>,\n",
              "  40162288: <weakref at 0x7cabf6a95800; to 'type' at 0x264d3f0 (_TerminatingSelector)>,\n",
              "  40176256: <weakref at 0x7cabf6a95d50; to 'type' at 0x2650a80 (PurePath)>,\n",
              "  40194704: <weakref at 0x7cabf6a960c0; to 'type' at 0x2655290 (ArgDecorator)>,\n",
              "  40254816: <weakref at 0x7cabf6ace6b0; to 'type' at 0x2663d60 (MimeTypes)>,\n",
              "  40258608: <weakref at 0x7cabf6acc0e0; to 'type' at 0x2664c30 (DisplayHandle)>,\n",
              "  40259568: <weakref at 0x7cabf6acc130; to 'type' at 0x2664ff0 (DisplayObject)>,\n",
              "  9951296: <weakref at 0x7cabf663bc90; to 'type' at 0x97d840 (date)>,\n",
              "  9950880: <weakref at 0x7cabf664cf90; to 'type' at 0x97d6a0 (time)>,\n",
              "  9950464: <weakref at 0x7cabf664d990; to 'type' at 0x97d500 (timedelta)>,\n",
              "  9952128: <weakref at 0x7cabf664dc10; to 'type' at 0x97db80 (tzinfo)>,\n",
              "  40331008: <weakref at 0x7cabf6aed0d0; to 'type' at 0x2676700 (_PrettyPrinterBase)>,\n",
              "  40335072: <weakref at 0x7cabf6aed620; to 'type' at 0x26776e0 (Printable)>,\n",
              "  40338912: <weakref at 0x7cabf6aed440; to 'type' at 0x26785e0 (GroupQueue)>,\n",
              "  40371488: <weakref at 0x7cabf66a79c0; to 'type' at 0x2680520 (Future)>,\n",
              "  40431840: <weakref at 0x7cabf66d80e0; to 'type' at 0x268f0e0 (Filter)>,\n",
              "  40421072: <weakref at 0x7cabf66bbbf0; to 'LexerMeta' at 0x268c6d0 (Lexer)>,\n",
              "  40425536: <weakref at 0x7cabf67047c0; to 'type' at 0x268d840 (_inherit)>,\n",
              "  38554672: <weakref at 0x7cabf67048b0; to 'type' at 0x24c4c30 (_PseudoMatch)>,\n",
              "  40442304: <weakref at 0x7cabf6704900; to 'type' at 0x26919c0 (_This)>,\n",
              "  40443264: <weakref at 0x7cabf6704950; to 'type' at 0x2691d80 (default)>,\n",
              "  40448368: <weakref at 0x7cabf6704ae0; to 'type' at 0x2693170 (LexerContext)>,\n",
              "  40463408: <weakref at 0x7cabf6529260; to 'type' at 0x2696c30 (Formatter)>,\n",
              "  40487168: <weakref at 0x7cabf652b970; to 'type' at 0x269c900 (PromptStripper)>,\n",
              "  40491392: <weakref at 0x7cabf652ba60; to 'type' at 0x269d980 (TokenTransformBase)>,\n",
              "  40654560: <weakref at 0x7cabf652be70; to 'type' at 0x26c56e0 (TransformerManager)>,\n",
              "  40658032: <weakref at 0x7cabf6548810; to 'type' at 0x26c6470 (FunctionMaker)>,\n",
              "  40664000: <weakref at 0x7cabf6a97560; to 'type' at 0x26c7bc0 (Bunch)>,\n",
              "  40679888: <weakref at 0x7cabf6a95620; to 'type' at 0x26cb9d0 (MagicAlias)>,\n",
              "  40688688: <weakref at 0x7cabf65853f0; to 'type' at 0x26cdc30 (PickleShareLink)>,\n",
              "  40691392: <weakref at 0x7cabf6587a60; to 'type' at 0x26ce6c0 (IPyAutocall)>,\n",
              "  40696912: <weakref at 0x7cabf6587dd0; to 'type' at 0x26cfc50 (Macro)>,\n",
              "  40701712: <weakref at 0x7cabf659c130; to 'type' at 0x26d0f10 (LineInfo)>,\n",
              "  40730720: <weakref at 0x7cabf66393a0; to 'type' at 0x26d8060 (Alias)>,\n",
              "  40737376: <weakref at 0x7cabf6638c20; to 'type' at 0x26d9a60 (__BuiltinUndefined)>,\n",
              "  40738336: <weakref at 0x7cabf6638bd0; to 'type' at 0x26d9e20 (__HideBuiltin)>,\n",
              "  40740848: <weakref at 0x7cabf66389a0; to 'type' at 0x26da7f0 (EventManager)>,\n",
              "  40747152: <weakref at 0x7cabf6aef9c0; to 'type' at 0x26dc090 (CapturingDisplayHook)>,\n",
              "  40772736: <weakref at 0x7cabf659d210; to 'type' at 0x26e2480 (Sentinel)>,\n",
              "  40788368: <weakref at 0x7cabf659d350; to 'ABCMeta' at 0x26e6190 (FormatterABC)>,\n",
              "  40853856: <weakref at 0x7cabf65d8950; to 'type' at 0x26f6160 (Row)>,\n",
              "  40855408: <weakref at 0x7cabf65d8e00; to 'type' at 0x26f6770 (Cursor)>,\n",
              "  40857232: <weakref at 0x7cabf65d9710; to 'type' at 0x26f6e90 (Connection)>,\n",
              "  40860384: <weakref at 0x7cabf65d9760; to 'type' at 0x26f7ae0 (Node)>,\n",
              "  40861344: <weakref at 0x7cabf65d98a0; to 'type' at 0x26f7ea0 (Cache)>,\n",
              "  40862304: <weakref at 0x7cabf65d9940; to 'type' at 0x26f8260 (Statement)>,\n",
              "  40863296: <weakref at 0x7cabf65d98f0; to 'type' at 0x26f8640 (PrepareProtocol)>,\n",
              "  40888528: <weakref at 0x7cabf659f920; to 'type' at 0x26fe8d0 (DummyDB)>,\n",
              "  40917760: <weakref at 0x7cabf65db8d0; to 'type' at 0x2705b00 (Logger)>,\n",
              "  40956064: <weakref at 0x7cabf630d580; to 'type' at 0x270f0a0 (IFrame)>,\n",
              "  40969664: <weakref at 0x7cabf65f4680; to 'type' at 0x27125c0 (FileLink)>,\n",
              "  40974768: <weakref at 0x7cabf65f5b70; to 'type' at 0x27139b0 (RichOutput)>,\n",
              "  40976320: <weakref at 0x7cabf65f5cb0; to 'type' at 0x2713fc0 (CapturedIO)>,\n",
              "  40996512: <weakref at 0x7cabf65f5d00; to 'type' at 0x2718ea0 (capture_output)>,\n",
              "  40998064: <weakref at 0x7cabf65f4ea0; to 'type' at 0x27194b0 (IOStream)>,\n",
              "  41005968: <weakref at 0x7cabf65f5e90; to 'type' at 0x271b390 (Tee)>,\n",
              "  41008160: <weakref at 0x7cabf65f79c0; to 'type' at 0x271bc20 (CommandChainDispatcher)>,\n",
              "  41010240: <weakref at 0x7cabf65f7380; to 'type' at 0x271c440 (StrDispatch)>,\n",
              "  41011200: <weakref at 0x7cabf65f7e20; to 'type' at 0x271c800 (appended_to_syspath)>,\n",
              "  41012160: <weakref at 0x7cabf65f7e70; to 'type' at 0x271cbc0 (prepended_to_syspath)>,\n",
              "  41013712: <weakref at 0x7cabf63201d0; to 'type' at 0x271d1d0 (NamedFileInTemporaryDirectory)>,\n",
              "  40912464: <weakref at 0x7cabf6320720; to 'type' at 0x2704650 (preserve_keys)>,\n",
              "  40742400: <weakref at 0x7cabf6320770; to 'type' at 0x26dae00 (NoOpContext)>,\n",
              "  41035984: <weakref at 0x7cabf635c180; to 'type' at 0x27228d0 (_Waiter)>,\n",
              "  41039824: <weakref at 0x7cabf635c310; to 'type' at 0x27237d0 (_AcquireFutures)>,\n",
              "  41042336: <weakref at 0x7cabf635c5e0; to 'type' at 0x27241a0 (Future)>,\n",
              "  41043888: <weakref at 0x7cabf635c680; to 'type' at 0x27247b0 (Executor)>,\n",
              "  41058592: <weakref at 0x7cabf6371cb0; to 'type' at 0x2728120 (_SSLContext)>,\n",
              "  41061264: <weakref at 0x7cabf6372250; to 'type' at 0x2728b90 (_SSLSocket)>,\n",
              "  41063344: <weakref at 0x7cabf63723e0; to 'type' at 0x27293b0 (MemoryBIO)>,\n",
              "  41064304: <weakref at 0x7cabf6372660; to 'type' at 0x2729770 (SSLSession)>,\n",
              "  41065264: <weakref at 0x7cabf63729d0; to 'type' at 0x2729b30 (Certificate)>,\n",
              "  41086096: <weakref at 0x7cabf63ae7a0; to 'type' at 0x272ec90 (SSLObject)>,\n",
              "  41096768: <weakref at 0x7cabf63aff10; to 'type' at 0x2731640 (CoroWrapper)>,\n",
              "  41104256: <weakref at 0x7cabf63d2160; to 'type' at 0x2733380 (Handle)>,\n",
              "  41107856: <weakref at 0x7cabf63d2390; to 'type' at 0x2734190 (AbstractServer)>,\n",
              "  41109408: <weakref at 0x7cabf63d23e0; to 'type' at 0x27347a0 (AbstractEventLoop)>,\n",
              "  41110368: <weakref at 0x7cabf63d2430; to 'type' at 0x2734b60 (AbstractEventLoopPolicy)>,\n",
              "  137078023973088: <weakref at 0x7cabf63d36a0; to 'type' at 0x7cabf6ece8e0 (FutureIter)>,\n",
              "  137078023972672: <weakref at 0x7cabf63d3790; to 'type' at 0x7cabf6ece740 (TaskStepMethWrapper)>,\n",
              "  137078023972256: <weakref at 0x7cabf63d3830; to 'type' at 0x7cabf6ece5a0 (_RunningLoopHolder)>,\n",
              "  137078023971840: <weakref at 0x7cabf63ec2c0; to 'type' at 0x7cabf6ece400 (Future)>,\n",
              "  41325216: <weakref at 0x7cabf63ed530; to 'type' at 0x27692a0 (Future)>,\n",
              "  41326176: <weakref at 0x7cabf63eddf0; to 'type' at 0x2769660 (BaseProtocol)>,\n",
              "  41336976: <weakref at 0x7cabf6148bd0; to 'type' at 0x276c090 (BaseTransport)>,\n",
              "  41346848: <weakref at 0x7cabf6148ea0; to 'type' at 0x276e720 (_SSLPipe)>,\n",
              "  41359744: <weakref at 0x7cabf614a3e0; to 'type' at 0x2771980 (_LoopBoundMixin)>,\n",
              "  41369712: <weakref at 0x7cabf614a070; to 'type' at 0x2774070 (_ContextManagerMixin)>,\n",
              "  41377712: <weakref at 0x7cabf6169350; to 'type' at 0x2775fb0 (TransportSocket)>,\n",
              "  41407136: <weakref at 0x7cabf616bc90; to 'type' at 0x277d2a0 (StreamWriter)>,\n",
              "  41408688: <weakref at 0x7cabf616bce0; to 'type' at 0x277d8b0 (StreamReader)>,\n",
              "  41412912: <weakref at 0x7cabf61889f0; to 'type' at 0x277e930 (Process)>,\n",
              "  41443024: <weakref at 0x7cabf61a2c50; to 'type' at 0x2785ed0 (AbstractChildWatcher)>,\n",
              "  41456096: <weakref at 0x7cabf6320fe0; to 'type' at 0x27891e0 (_AsyncIORunner)>,\n",
              "  41463280: <weakref at 0x7cabf6188b30; to 'type' at 0x278adf0 (DummyMod)>,\n",
              "  41464240: <weakref at 0x7cabf618a4d0; to 'type' at 0x278b1b0 (ExecutionInfo)>,\n",
              "  41465792: <weakref at 0x7cabf61a3010; to 'type' at 0x278b7c0 (ExecutionResult)>,\n",
              "  41474320: <weakref at 0x7cabf707a160; to 'ABCMeta' at 0x278d910 (InteractiveShellABC)>,\n",
              "  41512224: <weakref at 0x7cabf61f7d30; to 'type' at 0x2796d20 (AppSession)>,\n",
              "  41520608: <weakref at 0x7cabf620c9f0; to 'type' at 0x2798de0 (_Done)>,\n",
              "  41524800: <weakref at 0x7cabf620d760; to 'type' at 0x2799e40 (InputHookContext)>,\n",
              "  41536560: <weakref at 0x7cabf622e2f0; to 'type' at 0x279cc30 (SelectionState)>,\n",
              "  41537520: <weakref at 0x7cabf622df80; to 'type' at 0x279cff0 (ClipboardData)>,\n",
              "  41538480: <weakref at 0x7cabf622dfd0; to 'ABCMeta' at 0x279d3b0 (Clipboard)>,\n",
              "  41558288: <weakref at 0x7cabf6045030; to 'ABCMeta' at 0x27a2110 (Filter)>,\n",
              "  41580688: <weakref at 0x7cabf6045710; to 'type' at 0x27a7890 (_DocumentCache)>,\n",
              "  41581648: <weakref at 0x7cabf6045d50; to 'type' at 0x27a7c50 (Document)>,\n",
              "  41529552: <weakref at 0x7cabf620dda0; to 'type' at 0x279b0d0 (Suggestion)>,\n",
              "  41530512: <weakref at 0x7cabf620ddf0; to 'ABCMeta' at 0x279b490 (AutoSuggest)>,\n",
              "  41604928: <weakref at 0x7cabf607cef0; to 'type' at 0x27ad740 (Binding)>,\n",
              "  41621920: <weakref at 0x7cabf607d080; to 'ABCMeta' at 0x27b19a0 (KeyBindingsBase)>,\n",
              "  41676560: <weakref at 0x7cabf607f100; to 'type' at 0x27bef10 (KeyPress)>,\n",
              "  41677520: <weakref at 0x7cabf607f150; to 'type' at 0x27bf2d0 (KeyProcessor)>,\n",
              "  41678480: <weakref at 0x7cabf60ad080; to 'type' at 0x27bf690 (KeyPressEvent)>,\n",
              "  41680992: <weakref at 0x7cabf60ad260; to 'type' at 0x27c0060 (CharacterFind)>,\n",
              "  41681952: <weakref at 0x7cabf60ad2b0; to 'type' at 0x27c0420 (ViState)>,\n",
              "  41728880: <weakref at 0x7cabf60ae3e0; to 'ABCMeta' at 0x27cbb70 (BaseStyle)>,\n",
              "  41760848: <weakref at 0x7cabf60df0b0; to 'ABCMeta' at 0x27d3850 (StyleTransformation)>,\n",
              "  41774992: <weakref at 0x7cabf60625c0; to 'ABCMeta' at 0x27d6f90 (Output)>,\n",
              "  41789456: <weakref at 0x7cabf6109f80; to 'type' at 0x27da810 (_16ColorCache)>,\n",
              "  41805504: <weakref at 0x7cabf60ac270; to 'type' at 0x27de6c0 (MouseEvent)>,\n",
              "  41809136: <weakref at 0x7cabf610b2e0; to 'type' at 0x27df4f0 (Template)>,\n",
              "  41811872: <weakref at 0x7cabf60606d0; to 'type' at 0x27dffa0 (ANSI)>,\n",
              "  41821536: <weakref at 0x7cabf6128900; to 'type' at 0x27e2560 (Node)>,\n",
              "  41816096: <weakref at 0x7cabf61293f0; to 'type' at 0x27e1020 (UserDataHandler)>,\n",
              "  41856224: <weakref at 0x7cabf5f5e5c0; to 'type' at 0x27eace0 (NodeFilter)>,\n",
              "  41860544: <weakref at 0x7cabf5f5e160; to 'type' at 0x27ebdc0 (Options)>,\n",
              "  41864864: <weakref at 0x7cabf5f5e610; to 'type' at 0x27ecea0 (DOMBuilder)>,\n",
              "  41862624: <weakref at 0x7cabf5f5e520; to 'type' at 0x27ec5e0 (DOMEntityResolver)>,\n",
              "  41865824: <weakref at 0x7cabf5f5e660; to 'type' at 0x27ed260 (DOMInputSource)>,\n",
              "  41868176: <weakref at 0x7cabf5f5e6b0; to 'type' at 0x27edb90 (DOMBuilderFilter)>,\n",
              "  41869728: <weakref at 0x7cabf5f5e700; to 'type' at 0x27ee1a0 (DocumentLS)>,\n",
              "  41870688: <weakref at 0x7cabf5f5e750; to 'type' at 0x27ee560 (DOMImplementationLS)>,\n",
              "  41880448: <weakref at 0x7cabf5f5ea70; to 'type' at 0x27f0b80 (NamedNodeMap)>,\n",
              "  41660320: <weakref at 0x7cabf5f5eb10; to 'type' at 0x27bafa0 (TypeInfo)>,\n",
              "  41875808: <weakref at 0x7cabf5f5eca0; to 'type' at 0x27ef960 (Childless)>,\n",
              "  41871648: <weakref at 0x7cabf5f5f100; to 'type' at 0x27ee920 (ReadOnlySequentialNamedNodeMap)>,\n",
              "  40727760: <weakref at 0x7cabf5f5f1f0; to 'type' at 0x26d74d0 (Identified)>,\n",
              "  41900480: <weakref at 0x7cabf5f5f3d0; to 'type' at 0x27f59c0 (ElementInfo)>,\n",
              "  41902064: <weakref at 0x7cabf610b600; to 'type' at 0x27f5ff0 (HTML)>,\n",
              "  41908784: <weakref at 0x7cabf5f5f790; to 'type' at 0x27f7a30 (PygmentsTokens)>,\n",
              "  41911984: <weakref at 0x7cabf6047d30; to 'type' at 0x27f86b0 (Completion)>,\n",
              "  41913536: <weakref at 0x7cabf5f5fc90; to 'type' at 0x27f8cc0 (CompleteEvent)>,\n",
              "  41915072: <weakref at 0x7cabf5f5fce0; to 'ABCMeta' at 0x27f92c0 (Completer)>,\n",
              "  41943552: <weakref at 0x7cabf5f767a0; to 'ABCMeta' at 0x2800200 (History)>,\n",
              "  41953056: <weakref at 0x7cabf5f77150; to 'type' at 0x2802720 (SearchState)>,\n",
              "  41956848: <weakref at 0x7cabf5f77ec0; to 'ABCMeta' at 0x28035f0 (Validator)>,\n",
              "  41965648: <weakref at 0x7cabf5f77330; to 'type' at 0x2805850 (CompletionState)>,\n",
              "  39651824: <weakref at 0x7cabf5f9c130; to 'type' at 0x25d09f0 (YankNthArgState)>,\n",
              "  39652784: <weakref at 0x7cabf5f9c2c0; to 'type' at 0x25d0db0 (Buffer)>,\n",
              "  41974000: <weakref at 0x7cabf5f9cfe0; to 'ABCMeta' at 0x28078f0 (Input)>,\n",
              "  42006384: <weakref at 0x7cabf5fe5b70; to 'ABCMeta' at 0x280f770 (Lexer)>,\n",
              "  42011568: <weakref at 0x7cabf5fe6ac0; to 'ABCMeta' at 0x2810bb0 (SyntaxSync)>,\n",
              "  42023120: <weakref at 0x7cabf6001990; to 'ABCMeta' at 0x28138d0 (Processor)>,\n",
              "  42024672: <weakref at 0x7cabf6001a80; to 'type' at 0x2813ee0 (TransformationInput)>,\n",
              "  42025632: <weakref at 0x7cabf6002110; to 'type' at 0x28142a0 (Transformation)>,\n",
              "  42047568: <weakref at 0x7cabf5fe5260; to 'ABCMeta' at 0x2819850 (UIControl)>,\n",
              "  42049120: <weakref at 0x7cabf5fe7010; to 'type' at 0x2819e60 (UIContent)>,\n",
              "  42056336: <weakref at 0x7cabf6002fc0; to 'type' at 0x281ba90 (Dimension)>,\n",
              "  42060640: <weakref at 0x7cabf6003e20; to 'ABCMeta' at 0x281cb60 (Margin)>,\n",
              "  42088608: <weakref at 0x7cabf6014130; to 'type' at 0x28238a0 (MouseHandlers)>,\n",
              "  42090768: <weakref at 0x7cabf6015530; to 'type' at 0x2824110 (Char)>,\n",
              "  42094704: <weakref at 0x7cabf6015620; to 'type' at 0x2825070 (Screen)>,\n",
              "  42097376: <weakref at 0x7cabf6015670; to 'type' at 0x2825ae0 (WritePosition)>,\n",
              "  42089568: <weakref at 0x7cabf60031f0; to 'ABCMeta' at 0x2823c60 (Container)>,\n",
              "  42110960: <weakref at 0x7cabf60158f0; to 'type' at 0x2828ff0 (Float)>,\n",
              "  42113184: <weakref at 0x7cabf6015cb0; to 'type' at 0x28298a0 (WindowRenderInfo)>,\n",
              "  42116160: <weakref at 0x7cabf6015e40; to 'type' at 0x282a440 (ScrollOffsets)>,\n",
              "  42117120: <weakref at 0x7cabf6015e90; to 'type' at 0x282a800 (ColorColumn)>,\n",
              "  41942592: <weakref at 0x7cabf6017740; to 'type' at 0x27ffe40 (Layout)>,\n",
              "  42160944: <weakref at 0x7cabf5d376a0; to 'type' at 0x2835330 (_Flush)>,\n",
              "  42188640: <weakref at 0x7cabf5d37790; to 'type' at 0x283bf60 (Vt100Parser)>,\n",
              "  42191152: <weakref at 0x7cabf5d36610; to 'type' at 0x283c930 (TextObject)>,\n",
              "  42193824: <weakref at 0x7cabf5d37ab0; to 'type' at 0x283d3a0 (EmacsState)>,\n",
              "  42235376: <weakref at 0x7cabf5d6d9e0; to 'type' at 0x28475f0 (Renderer)>,\n",
              "  42218752: <weakref at 0x7cabf5d82d40; to 'type' at 0x2843500 (SystemToolbar)>,\n",
              "  42250848: <weakref at 0x7cabf5d82d90; to 'type' at 0x284b260 (ArgToolbar)>,\n",
              "  42251808: <weakref at 0x7cabf5d82de0; to 'type' at 0x284b620 (SearchToolbar)>,\n",
              "  42253728: <weakref at 0x7cabf5d82e80; to 'type' at 0x284bda0 (CompletionsToolbar)>,\n",
              "  42254688: <weakref at 0x7cabf5d82ed0; to 'type' at 0x284c160 (ValidationToolbar)>,\n",
              "  42255648: <weakref at 0x7cabf5d815d0; to 'type' at 0x284c520 (Border)>,\n",
              "  42257792: <weakref at 0x7cabf5d81620; to 'type' at 0x284cd80 (TextArea)>,\n",
              "  42258752: <weakref at 0x7cabf5d82c00; to 'type' at 0x284d140 (Label)>,\n",
              "  42259712: <weakref at 0x7cabf5d829d0; to 'type' at 0x284d500 (Button)>,\n",
              "  42300608: <weakref at 0x7cabf5d82f20; to 'type' at 0x28574c0 (Frame)>,\n",
              "  42301568: <weakref at 0x7cabf5d82f70; to 'type' at 0x2857880 (Shadow)>,\n",
              "  42302528: <weakref at 0x7cabf5d82fc0; to 'type' at 0x2857c40 (Box)>,\n",
              "  42309696: <weakref at 0x7cabf5d83240; to 'type' at 0x2859840 (VerticalLine)>,\n",
              "  42310656: <weakref at 0x7cabf5d832e0; to 'type' at 0x2859c00 (HorizontalLine)>,\n",
              "  42311616: <weakref at 0x7cabf5d83330; to 'type' at 0x2859fc0 (ProgressBar)>,\n",
              "  42317216: <weakref at 0x7cabf5d83380; to 'type' at 0x285b5a0 (Dialog)>,\n",
              "  42319936: <weakref at 0x7cabf5da43b0; to 'type' at 0x285c040 (MenuContainer)>,\n",
              "  42320896: <weakref at 0x7cabf5da4450; to 'type' at 0x285c400 (MenuItem)>,\n",
              "  42329648: <weakref at 0x7cabf5da6ca0; to 'ABCMeta' at 0x285e630 (Formatter)>,\n",
              "  42341088: <weakref at 0x7cabf5da5800; to 'type' at 0x28612e0 (ProgressBar)>,\n",
              "  42406864: <weakref at 0x7cabf5db7240; to 'type' at 0x28713d0 (_Done)>,\n",
              "  42407824: <weakref at 0x7cabf5db7380; to 'type' at 0x2871790 (StdoutProxy)>,\n",
              "  42412240: <weakref at 0x7cabf5db77e0; to 'StyleMeta' at 0x28728d0 (Style)>,\n",
              "  42424656: <weakref at 0x7cabf5de1620; to 'type' at 0x2875950 (UCD)>,\n",
              "  42501920: <weakref at 0x7cabf5de0c20; to 'type' at 0x2888720 (Sentinel)>,\n",
              "  42503840: <weakref at 0x7cabf5deb6f0; to 'type' at 0x2888ea0 (_FakeJediCompletion)>,\n",
              "  42504800: <weakref at 0x7cabf5deb740; to 'type' at 0x2889260 (Completion)>,\n",
              "  42507488: <weakref at 0x7cabf5deb830; to 'type' at 0x2889ce0 (CompletionSplitter)>,\n",
              "  42562096: <weakref at 0x7cabf5c2d260; to 'type' at 0x2897230 (_WorkItem)>,\n",
              "  42568368: <weakref at 0x7cabf5c2e610; to 'type' at 0x2898ab0 (Prompts)>,\n",
              "  42475216: <weakref at 0x7cabf5c52890; to 'type' at 0x2881ed0 (MagicsDisplay)>,\n",
              "  42722464: <weakref at 0x7cabf5cc76f0; to 'type' at 0x28be4a0 (Charset)>,\n",
              "  42728192: <weakref at 0x7cabf5cc7a60; to 'type' at 0x28bfb00 (Header)>,\n",
              "  42729744: <weakref at 0x7cabf5cc7a10; to 'type' at 0x28c0110 (_ValueFormatter)>,\n",
              "  42744128: <weakref at 0x7cabf5b08ef0; to 'type' at 0x28c3940 (_localized_month)>,\n",
              "  42745088: <weakref at 0x7cabf5b09170; to 'type' at 0x28c3d00 (_localized_day)>,\n",
              "  42747760: <weakref at 0x7cabf5b09210; to 'type' at 0x28c4770 (Calendar)>,\n",
              "  42752416: <weakref at 0x7cabf5b09300; to 'type' at 0x28c59a0 (different_locale)>,\n",
              "  42758272: <weakref at 0x7cabf5ced710; to 'type' at 0x28c7080 (AddrlistClass)>,\n",
              "  42765920: <weakref at 0x7cabf5cc5850; to 'type' at 0x28c8e60 (_PolicyBase)>,\n",
              "  42777920: <weakref at 0x7cabf5cc53f0; to 'type' at 0x28cbd40 (BufferedSubFile)>,\n",
              "  42779472: <weakref at 0x7cabf5caf880; to 'type' at 0x28cc350 (FeedParser)>,\n",
              "  42781984: <weakref at 0x7cabf5cae890; to 'type' at 0x28ccd20 (Parser)>,\n",
              "  42783904: <weakref at 0x7cabf5caf740; to 'type' at 0x28cd4a0 (BytesParser)>,\n",
              "  42798272: <weakref at 0x7cabf5b0b920; to 'type' at 0x28d0cc0 (Message)>,\n",
              "  42817104: <weakref at 0x7cabf5b34770; to 'type' at 0x28d5650 (HTTPConnection)>,\n",
              "  42832944: <weakref at 0x7cabf5c990d0; to 'type' at 0x28d9430 (Request)>,\n",
              "  42843600: <weakref at 0x7cabf5b36200; to 'type' at 0x28dbdd0 (OpenerDirector)>,\n",
              "  42844560: <weakref at 0x7cabf5b36250; to 'type' at 0x28dc190 (BaseHandler)>,\n",
              "  42849952: <weakref at 0x7cabf5b363e0; to 'type' at 0x28dd6a0 (HTTPPasswordMgr)>,\n",
              "  42854912: <weakref at 0x7cabf5b364d0; to 'type' at 0x28dea00 (AbstractBasicAuthHandler)>,\n",
              "  42858384: <weakref at 0x7cabf5b36750; to 'type' at 0x28df790 (AbstractDigestAuthHandler)>,\n",
              "  42875456: <weakref at 0x7cabf5b36c00; to 'type' at 0x28e3a40 (URLopener)>,\n",
              "  42877968: <weakref at 0x7cabf5b36ca0; to 'type' at 0x28e4410 (ftpwrapper)>,\n",
              "  42911872: <weakref at 0x7cabf5b65800; to 'type' at 0x28ec880 (Timer)>,\n",
              "  42915216: <weakref at 0x7cabf5b665c0; to 'type' at 0x28ed590 (Profiler)>,\n",
              "  42923824: <weakref at 0x7cabf5b74180; to 'type' at 0x28ef730 (_Utils)>,\n",
              "  42925376: <weakref at 0x7cabf5b741d0; to 'type' at 0x28efd40 (fake_code)>,\n",
              "  42926336: <weakref at 0x7cabf5b74220; to 'type' at 0x28f0100 (fake_frame)>,\n",
              "  42929536: <weakref at 0x7cabf5b74270; to 'type' at 0x28f0d80 (Profile)>,\n",
              "  42939744: <weakref at 0x7cabf5b762f0; to 'type' at 0x28f3560 (FunctionProfile)>,\n",
              "  42942064: <weakref at 0x7cabf5b765c0; to 'type' at 0x28f3e70 (StatsProfile)>,\n",
              "  42945264: <weakref at 0x7cabf5b76b60; to 'type' at 0x28f4af0 (Stats)>,\n",
              "  42948000: <weakref at 0x7cabf5b76b10; to 'type' at 0x28f55a0 (TupleComp)>,\n",
              "  42934128: <weakref at 0x7cabf5b757b0; to 'type' at 0x28f1f70 (TimeitResult)>,\n",
              "  43074576: <weakref at 0x7cabf5bdcc70; to 'type' at 0x2914410 (BackgroundJobManager)>,\n",
              "  137078020544544: <weakref at 0x7cabf5a1ae80; to 'type' at 0x7cabf6b89820 (CArgObject)>,\n",
              "  137078020544000: <weakref at 0x7cabf5a1aed0; to 'type' at 0x7cabf6b89600 (CThunkObject)>,\n",
              "  137078020546240: <weakref at 0x7cabf5a1b100; to 'type' at 0x7cabf6b89ec0 (_CData)>,\n",
              "  137078020548736: <weakref at 0x7cabf5a253f0; to 'type' at 0x7cabf6b8a880 (CField)>,\n",
              "  137078020540256: <weakref at 0x7cabf5a25530; to 'type' at 0x7cabf6b88760 (DictRemover)>,\n",
              "  137078020539840: <weakref at 0x7cabf5a25580; to 'type' at 0x7cabf6b885c0 (StructParam_Type)>,\n",
              "  43204144: <weakref at 0x7cabf5a26ac0; to 'type' at 0x2933e30 (CDLL)>,\n",
              "  43206656: <weakref at 0x7cabf5a26b60; to 'type' at 0x2934800 (LibraryLoader)>,\n",
              "  137078020400736: <weakref at 0x7cabf5a27fb0; to 'type' at 0x7cabf6b66660 (cython_function_or_method)>,\n",
              "  137078020244992: <weakref at 0x7cabf5a38a40; to 'type' at 0x7cabf6b40600 (Context)>,\n",
              "  137077997899104: <weakref at 0x7cabf5a3a070; to 'type' at 0x7cabf55f0d60 (Socket)>,\n",
              "  137077997724032: <weakref at 0x7cabf5a3a700; to 'type' at 0x7cabf55c6180 (MessageTracker)>,\n",
              "  137077997723008: <weakref at 0x7cabf5a3aa20; to 'type' at 0x7cabf55c5d80 (Frame)>,\n",
              "  43370240: <weakref at 0x7cabf5a51760; to 'type' at 0x295c700 (AttributeSetter)>,\n",
              "  43431952: <weakref at 0x7cabf5a53b50; to 'type' at 0x296b810 (Poller)>,\n",
              "  43396160: <weakref at 0x7cabf5a69210; to 'type' at 0x2962c40 (MessageTracker)>,\n",
              "  43450848: <weakref at 0x7cabf5a69800; to 'type' at 0x29701e0 (Stopwatch)>,\n",
              "  43494192: <weakref at 0x7cabf5a9f2e0; to 'type' at 0x297ab30 (Interpolation)>,\n",
              "  43521568: <weakref at 0x7cabf5ab4270; to 'type' at 0x2981620 (_TaskRunner)>,\n",
              "  43550096: <weakref at 0x7cabf5ab6b10; to 'ABCMeta' at 0x2988590 (ChannelABC)>,\n",
              "  43557360: <weakref at 0x7cabf5ab71f0; to 'ABCMeta' at 0x298a1f0 (KernelClientABC)>,\n",
              "  43582880: <weakref at 0x7cabf5ad30b0; to 'ABCMeta' at 0x29905a0 (KernelManagerABC)>,\n",
              "  43599664: <weakref at 0x7cabf5470310; to 'type' at 0x2994730 (ZMQSocketChannel)>,\n",
              "  43619984: <weakref at 0x7cabf5473010; to 'type' at 0x2999690 (_Async)>,\n",
              "  43621904: <weakref at 0x7cabf54731a0; to 'type' at 0x2999e10 (_NoTimer)>,\n",
              "  43627184: <weakref at 0x7cabf54737e0; to 'type' at 0x299b2b0 (_AsyncIO)>,\n",
              "  43633520: <weakref at 0x7cabf5473d80; to 'type' at 0x299cb70 (ZMQSocketChannel)>,\n",
              "  43351152: <weakref at 0x7cabf5496cf0; to 'type' at 0x2957c70 (UUID)>,\n",
              "  43684640: <weakref at 0x7cabf54b39c0; to 'ABCMeta' at 0x29a9320 (Number)>,\n",
              "  43708992: <weakref at 0x7cabf54caf70; to 'type' at 0x29af240 (GzipDecompressor)>,\n",
              "  43711104: <weakref at 0x7cabf54cb3d0; to 'type' at 0x29afa80 (Configurable)>,\n",
              "  43733904: <weakref at 0x7cabf54cb5b0; to 'type' at 0x29b5390 (ArgReplacer)>,\n",
              "  137077996153856: <weakref at 0x7cabf54ec360; to 'type' at 0x7cabf5446c00 (window)>,\n",
              "  43763936: <weakref at 0x7cabf54b2c00; to 'type' at 0x29bc8e0 (_Selectable)>,\n",
              "  43762816: <weakref at 0x7cabf54ef010; to 'type' at 0x29bc480 (_Timeout)>,\n",
              "  43767136: <weakref at 0x7cabf54ef1f0; to 'type' at 0x29bd560 (PeriodicCallback)>,\n",
              "  43836816: <weakref at 0x7cabf55030b0; to 'type' at 0x29ce590 (WaitIterator)>,\n",
              "  43840032: <weakref at 0x7cabf5503290; to 'type' at 0x29cf220 (_NullFuture)>,\n",
              "  43840992: <weakref at 0x7cabf5503420; to 'type' at 0x29cf5e0 (Runner)>,\n",
              "  43854512: <weakref at 0x7cabf5519350; to 'type' at 0x29d2ab0 (ZMQStream)>,\n",
              "  43847872: <weakref at 0x7cabf551b830; to 'type' at 0x29d10c0 (NullImporter)>,\n",
              "  43860976: <weakref at 0x7cabf551b8d0; to 'type' at 0x29d43f0 (_HackedGetData)>,\n",
              "  43877376: <weakref at 0x7cabf55319e0; to 'type' at 0x29d8400 (HMAC)>,\n",
              "  43894944: <weakref at 0x7cabf55531a0; to 'type' at 0x29dc8a0 (_LazyDescr)>,\n",
              "  43907712: <weakref at 0x7cabf55532e0; to 'type' at 0x29dfa80 (_SixMetaPathImporter)>,\n",
              "  137077994532192: <weakref at 0x7cabf52c6480; to 'type' at 0x7cabf52bad60 (Decimal)>,\n",
              "  137077994537152: <weakref at 0x7cabf52c7d30; to 'type' at 0x7cabf52bc0c0 (Context)>,\n",
              "  137077994536320: <weakref at 0x7cabf52cc2c0; to 'type' at 0x7cabf52bbd80 (SignalDictMixin)>,\n",
              "  137077994536736: <weakref at 0x7cabf52cc400; to 'type' at 0x7cabf52bbf20 (ContextManager)>,\n",
              "  43852272: <weakref at 0x7cabf52cddf0; to 'type' at 0x29d21f0 (weekday)>,\n",
              "  43968064: <weakref at 0x7cabf52cdb20; to 'type' at 0x29ee640 (relativedelta)>,\n",
              "  44001792: <weakref at 0x7cabf52e6520; to 'type' at 0x29f6a00 (_ttinfo)>,\n",
              "  44003024: <weakref at 0x7cabf52e65c0; to 'type' at 0x29f6ed0 (_tzfile)>,\n",
              "  44018080: <weakref at 0x7cabf52e67f0; to 'type' at 0x29fa9a0 (_tzicalvtzcomp)>,\n",
              "  44022816: <weakref at 0x7cabf52e6890; to 'type' at 0x29fbc20 (tzical)>,\n",
              "  44023776: <weakref at 0x7cabf52e69d0; to 'type' at 0x29fbfe0 (GettzFunc)>,\n",
              "  44044544: <weakref at 0x7cabf5550630; to 'type' at 0x2a01100 (_timelex)>,\n",
              "  44046096: <weakref at 0x7cabf5551a30; to 'type' at 0x2a01710 (_resultbase)>,\n",
              "  44049296: <weakref at 0x7cabf52cf4c0; to 'type' at 0x2a02390 (parserinfo)>,\n",
              "  44052880: <weakref at 0x7cabf52e4ae0; to 'type' at 0x2a03190 (parser)>,\n",
              "  44060288: <weakref at 0x7cabf52e6340; to 'type' at 0x2a04e80 (_tzparser)>,\n",
              "  44066576: <weakref at 0x7cabf52e7420; to 'type' at 0x2a06710 (isoparser)>,\n",
              "  44081312: <weakref at 0x7cabf5551c10; to 'type' at 0x2a0a0a0 (LocaleTime)>,\n",
              "  44096400: <weakref at 0x7cabf530da80; to 'type' at 0x2a0db90 (Adapter)>,\n",
              "  44103280: <weakref at 0x7cabf530da30; to 'type' at 0x2a0f670 (Message)>,\n",
              "  43542896: <weakref at 0x7cabf5a39f30; to 'type' at 0x2986970 (IOPubThread)>,\n",
              "  44118512: <weakref at 0x7cabf5531440; to 'type' at 0x2a131f0 (BackgroundSocket)>,\n",
              "  44137216: <weakref at 0x7cabf5345440; to 'type' at 0x2a17b00 (_TimeoutGarbageCollector)>,\n",
              "  44141968: <weakref at 0x7cabf5345670; to 'type' at 0x2a18d90 (Event)>,\n",
              "  44143520: <weakref at 0x7cabf5345710; to 'type' at 0x2a193a0 (_ReleasingContextManager)>,\n",
              "  44150032: <weakref at 0x7cabf53459e0; to 'type' at 0x2a1ad10 (Lock)>,\n",
              "  44185120: <weakref at 0x7cabf5347f10; to 'type' at 0x2a23620 (ZMQDisplayHook)>,\n",
              "  44197472: <weakref at 0x7cabf53762f0; to 'type' at 0x2a26660 (CannedObject)>,\n",
              "  44230032: <weakref at 0x7cabf539c810; to 'ABCMeta' at 0x2a2e590 (Finder)>,\n",
              "  44232112: <weakref at 0x7cabf539c860; to 'ABCMeta' at 0x2a2edb0 (MetaPathFinder)>,\n",
              "  44238192: <weakref at 0x7cabf539c8b0; to 'ABCMeta' at 0x2a30570 (PathEntryFinder)>,\n",
              "  44243952: <weakref at 0x7cabf539d4e0; to 'ABCMeta' at 0x2a31bf0 (ResourceReader)>,\n",
              "  44288816: <weakref at 0x7cabf53bbf10; to 'type' at 0x2a3cb30 (FancyGetopt)>,\n",
              "  44291488: <weakref at 0x7cabf53bbf60; to 'type' at 0x2a3d5a0 (OptionDummy)>,\n",
              "  44313760: <weakref at 0x7cabf5180c20; to 'type' at 0x2a42ca0 (Distribution)>,\n",
              "  44316560: <weakref at 0x7cabf51811c0; to 'type' at 0x2a43790 (DistributionMetadata)>,\n",
              "  39942784: <weakref at 0x7cabf51cc680; to 'type' at 0x2617a80 (ZipInfo)>,\n",
              "  39935920: <weakref at 0x7cabf51cc6d0; to 'type' at 0x2615fb0 (LZMACompressor)>,\n",
              "  39936880: <weakref at 0x7cabf51cc720; to 'type' at 0x2616370 (LZMADecompressor)>,\n",
              "  44357744: <weakref at 0x7cabf51cc770; to 'type' at 0x2a4d870 (_SharedFile)>,\n",
              "  44358704: <weakref at 0x7cabf51cc7c0; to 'type' at 0x2a4dc30 (_Tellable)>,\n",
              "  44365104: <weakref at 0x7cabf51cc950; to 'type' at 0x2a4f530 (ZipFile)>,\n",
              "  44369728: <weakref at 0x7cabf51ccd10; to 'type' at 0x2a50740 (Path)>,\n",
              "  44379232: <weakref at 0x7cabf5182930; to 'type' at 0x2a52c60 (Command)>,\n",
              "  44386288: <weakref at 0x7cabf51cddf0; to 'type' at 0x2a547f0 (Extension)>,\n",
              "  44400416: <weakref at 0x7cabf51e6840; to 'type' at 0x2a57f20 (Dialect)>,\n",
              "  44222208: <weakref at 0x7cabf51e6930; to 'type' at 0x2a2c700 (reader)>,\n",
              "  43666928: <weakref at 0x7cabf51e6a20; to 'type' at 0x29a4df0 (writer)>,\n",
              "  44408864: <weakref at 0x7cabf51e6390; to 'type' at 0x2a5a020 (Dialect)>,\n",
              "  44413296: <weakref at 0x7cabf51e6d40; to 'type' at 0x2a5b170 (DictReader)>,\n",
              "  44414256: <weakref at 0x7cabf51e6d90; to 'type' at 0x2a5b530 (DictWriter)>,\n",
              "  44415216: <weakref at 0x7cabf51e6e80; to 'type' at 0x2a5b8f0 (Sniffer)>,\n",
              "  44436624: <weakref at 0x7cabf5208c70; to 'type' at 0x2a60c90 (Sectioned)>,\n",
              "  44448864: <weakref at 0x7cabf5209490; to 'type' at 0x2a63c60 (Deprecated)>,\n",
              "  44452336: <weakref at 0x7cabf5209670; to 'type' at 0x2a649f0 (FileHash)>,\n",
              "  44455536: <weakref at 0x7cabf52098f0; to 'type' at 0x2a65670 (Distribution)>,\n",
              "  44453296: <weakref at 0x7cabf5209990; to 'type' at 0x2a64db0 (Context)>,\n",
              "  44458048: <weakref at 0x7cabf5209b20; to 'type' at 0x2a66040 (FastPath)>,\n",
              "  44459600: <weakref at 0x7cabf5209b70; to 'type' at 0x2a66650 (Lookup)>,\n",
              "  44460560: <weakref at 0x7cabf5209c10; to 'type' at 0x2a66a10 (Prepared)>,\n",
              "  44464576: <weakref at 0x7cabf520aca0; to 'type' at 0x2a679c0 (SpecLoaderAdapter)>,\n",
              "  44466128: <weakref at 0x7cabf520acf0; to 'type' at 0x2a67fd0 (TraversableResourcesLoader)>,\n",
              "  44468640: <weakref at 0x7cabf520ae80; to 'type' at 0x2a689a0 (DegenerateFiles)>,\n",
              "  44536704: <weakref at 0x7cabf5260720; to 'type' at 0x2a79380 (FileList)>,\n",
              "  44555120: <weakref at 0x7cabf50808b0; to 'type' at 0x2a7db70 (VendorImporter)>,\n",
              "  44570896: <weakref at 0x7cabf509f3d0; to 'type' at 0x2a81910 (peekable)>,\n",
              "  44574016: <weakref at 0x7cabf509f420; to 'type' at 0x2a82540 (bucket)>,\n",
              "  44584464: <weakref at 0x7cabf50b40e0; to 'type' at 0x2a84e10 (islice_extended)>,\n",
              "  44586384: <weakref at 0x7cabf50b4180; to 'type' at 0x2a85590 (seekable)>,\n",
              "  44589920: <weakref at 0x7cabf50b41d0; to 'type' at 0x2a86360 (run_length)>,\n",
              "  44591568: <weakref at 0x7cabf50b4220; to 'type' at 0x2a869d0 (time_limited)>,\n",
              "  44594080: <weakref at 0x7cabf50b4360; to 'type' at 0x2a873a0 (callback_iter)>,\n",
              "  44597152: <weakref at 0x7cabf50b43b0; to 'type' at 0x2a87fa0 (countable)>,\n",
              "  44636768: <weakref at 0x7cabf50e9df0; to 'type' at 0x2a91a60 (ELFFile)>,\n",
              "  44654672: <weakref at 0x7cabf50ea8e0; to 'type' at 0x2a96050 (Tag)>,\n",
              "  44640544: <weakref at 0x7cabf5108360; to 'type' at 0x2a92920 (InfinityType)>,\n",
              "  44642096: <weakref at 0x7cabf5108590; to 'type' at 0x2a92f30 (NegativeInfinityType)>,\n",
              "  44701072: <weakref at 0x7cabf5108cc0; to 'type' at 0x2aa1590 (_BaseVersion)>,\n",
              "  43446384: <weakref at 0x7cabf5109b70; to 'ABCMeta' at 0x296f070 (BaseSpecifier)>,\n",
              "  44749744: <weakref at 0x7cabf50d9940; to 'type' at 0x2aad3b0 (Token)>,\n",
              "  44753296: <weakref at 0x7cabf510a0c0; to 'type' at 0x2aae190 (Tokenizer)>,\n",
              "  44771840: <weakref at 0x7cabf50d8e50; to 'type' at 0x2ab2a00 (Node)>,\n",
              "  44778352: <weakref at 0x7cabf510ad40; to 'type' at 0x2ab4370 (Marker)>,\n",
              "  44792928: <weakref at 0x7cabf510b2e0; to 'type' at 0x2ab7c60 (Requirement)>,\n",
              "  44797072: <weakref at 0x7cabf51386d0; to 'type' at 0x2ab8c90 (StaticModule)>,\n",
              "  44794624: <weakref at 0x7cabf5138db0; to 'type' at 0x2ab8300 (EnsurePackagesDiscovered)>,\n",
              "  44911856: <weakref at 0x7cabf51471a0; to 'type' at 0x2ad4cf0 (Address)>,\n",
              "  44844272: <weakref at 0x7cabf5147e20; to 'type' at 0x2ac44f0 (Group)>,\n",
              "  44827952: <weakref at 0x7cabf4f7b4c0; to 'type' at 0x2ac0530 (UnstructuredHeader)>,\n",
              "  44889920: <weakref at 0x7cabf4f7b510; to 'type' at 0x2acf740 (DateHeader)>,\n",
              "  44892432: <weakref at 0x7cabf4f7b740; to 'type' at 0x2ad0110 (AddressHeader)>,\n",
              "  44897984: <weakref at 0x7cabf4f7b9c0; to 'type' at 0x2ad16c0 (MIMEVersionHeader)>,\n",
              "  44898944: <weakref at 0x7cabf4f7ba60; to 'type' at 0x2ad1a80 (ParameterizedMIMEHeader)>,\n",
              "  44901824: <weakref at 0x7cabf4f7bce0; to 'type' at 0x2ad25c0 (ContentTransferEncodingHeader)>,\n",
              "  44903376: <weakref at 0x7cabf4f7bd30; to 'type' at 0x2ad2bd0 (MessageIDHeader)>,\n",
              "  44904336: <weakref at 0x7cabf4f7bd80; to 'type' at 0x2ad2f90 (HeaderRegistry)>,\n",
              "  44920608: <weakref at 0x7cabf51441d0; to 'type' at 0x2ad6f20 (_ConfigExpander)>,\n",
              "  44930752: <weakref at 0x7cabf4f8dbc0; to 'type' at 0x2ad96c0 (_Filter)>,\n",
              "  44931712: <weakref at 0x7cabf4f8dc60; to 'type' at 0x2ad9a80 (_Finder)>,\n",
              "  44938048: <weakref at 0x7cabf4f8e070; to 'type' at 0x2adb340 (ConfigDiscovery)>,\n",
              "  44954048: <weakref at 0x7cabf4fa0810; to 'type' at 0x2adf1c0 (Throttler)>,\n",
              "  44957760: <weakref at 0x7cabf4fa1300; to 'type' at 0x2ae0040 (ExceptionTrap)>,\n",
              "  44965664: <weakref at 0x7cabf4f8f830; to 'type' at 0x2ae1f20 (Splitter)>,\n",
              "  44970528: <weakref at 0x7cabf4fa11c0; to 'type' at 0x2ae3220 (Stripper)>,\n",
              "  44982576: <weakref at 0x7cabf4fa2930; to 'type' at 0x2ae6130 (Require)>,\n",
              "  45000016: <weakref at 0x7cabf4fc6430; to 'type' at 0x2aea550 (winreg)>,\n",
              "  45001568: <weakref at 0x7cabf4fc64d0; to 'type' at 0x2aeab60 (PlatformInfo)>,\n",
              "  45003120: <weakref at 0x7cabf4fc6840; to 'type' at 0x2aeb170 (RegistryInfo)>,\n",
              "  45006912: <weakref at 0x7cabf4fc6d40; to 'type' at 0x2aec040 (SystemInfo)>,\n",
              "  45008992: <weakref at 0x7cabf4fc7510; to 'type' at 0x2aec860 (EnvironmentInfo)>,\n",
              "  45011104: <weakref at 0x7cabf4fc7970; to 'type' at 0x2aed0a0 (Version)>,\n",
              "  45004672: <weakref at 0x7cabf50183b0; to 'type' at 0x2aeb780 (_AltairImportHook)>,\n",
              "  44619456: <weakref at 0x7cabf50188b0; to 'type' at 0x2a8d6c0 (_BokehImportHook)>,\n",
              "  45073600: <weakref at 0x7cabf5018c70; to 'type' at 0x2afc4c0 (APICoreClientInfoImportHook)>,\n",
              "  41971424: <weakref at 0x7cabf50194e0; to 'type' at 0x2806ee0 (_OpenCVImportHook)>,\n",
              "  45097728: <weakref at 0x7cabf5019a30; to 'type' at 0x2b02300 (_PyDriveImportHook)>,\n",
              "  45117760: <weakref at 0x7cabf50429d0; to 'type' at 0x2b07140 (_NoValueType)>,\n",
              "  137077990907104: <weakref at 0x7cabf5052700; to 'type' at 0x7cabf4f45ce0 (ufunc)>,\n",
              "  137077990801472: <weakref at 0x7cabf5052e30; to 'numpy._DTypeMeta' at 0x7cabf4f2c040 (dtype)>,\n",
              "  137077990786528: <weakref at 0x7cabf505db70; to 'type' at 0x7cabf4f285e0 (ndarray)>,\n",
              "  137077990895744: <weakref at 0x7cabf505fb50; to 'type' at 0x7cabf4f43080 (generic)>,\n",
              "  137077990850432: <weakref at 0x7cabefc5bd30; to 'type' at 0x7cabf4f37f80 (flatiter)>,\n",
              "  137077990851200: <weakref at 0x7cabefc5bdd0; to 'type' at 0x7cabf4f38280 (mapiter)>,\n",
              "  137077990849568: <weakref at 0x7cabefc5bf60; to 'type' at 0x7cabf4f37c20 (broadcast)>,\n",
              "  137077990849152: <weakref at 0x7cabefc5c040; to 'type' at 0x7cabf4f37a80 (neigh_internal_iter)>,\n",
              "  137077990882112: <weakref at 0x7cabefc5c7c0; to 'type' at 0x7cabf4f3fb40 (nditer)>,\n",
              "  137077990847168: <weakref at 0x7cabefc5cc20; to 'type' at 0x7cabf4f372c0 (flagsobj)>,\n",
              "  137077990800864: <weakref at 0x7cabefc5cd10; to 'type' at 0x7cabf4f2bde0 (busdaycalendar)>,\n",
              "  137077990799104: <weakref at 0x7cabefc5e2a0; to 'type' at 0x7cabf4f2b700 (_ArrayMethod)>,\n",
              "  137077990798496: <weakref at 0x7cabefc5e4d0; to 'type' at 0x7cabf4f2b4a0 (_BoundArrayMethod)>,\n",
              "  45262656: <weakref at 0x7cabefc5ffb0; to 'type' at 0x2b2a740 (contextlib_nullcontext)>,\n",
              "  45474864: <weakref at 0x7cabefcf3ba0; to 'type' at 0x2b5e430 (_unspecified)>,\n",
              "  45613136: <weakref at 0x7cabefd31e40; to 'type' at 0x2b80050 (FloatingFormat)>,\n",
              "  45652928: <weakref at 0x7cabefd31df0; to 'type' at 0x2b89bc0 (IntegerFormat)>,\n",
              "  45656272: <weakref at 0x7cabefd31e90; to 'type' at 0x2b8a8d0 (BoolFormat)>,\n",
              "  45657232: <weakref at 0x7cabefd31ee0; to 'type' at 0x2b8ac90 (ComplexFloatingFormat)>,\n",
              "  45658192: <weakref at 0x7cabefd31f30; to 'type' at 0x2b8b050 (_TimelikeFormat)>,\n",
              "  45661072: <weakref at 0x7cabefd32020; to 'type' at 0x2b8bb90 (SubArrayFormat)>,\n",
              "  45662032: <weakref at 0x7cabefd32070; to 'type' at 0x2b8bf50 (StructuredVoidFormat)>,\n",
              "  45807616: <weakref at 0x7cabefb61030; to 'type' at 0x2baf800 (format_parser)>,\n",
              "  45859232: <weakref at 0x7cabefb61f80; to 'type' at 0x2bbc1a0 (MachAr)>,\n",
              "  45877280: <weakref at 0x7cabefb62b60; to 'type' at 0x2bc0820 (MachArLike)>,\n",
              "  45879424: <weakref at 0x7cabefb62ca0; to 'type' at 0x2bc1080 (finfo)>,\n",
              "  45884624: <weakref at 0x7cabefb62d90; to 'type' at 0x2bc24d0 (iinfo)>,\n",
              "  46184192: <weakref at 0x7cabefba8860; to 'type' at 0x2c0b700 (dummy_ctype)>,\n",
              "  46216288: <weakref at 0x7cabefba8a40; to 'type' at 0x2c13460 (c_void_p)>,\n",
              "  46217248: <weakref at 0x7cabefba89f0; to 'type' at 0x2c13820 (_missing_ctypes)>,\n",
              "  46218800: <weakref at 0x7cabefba8c20; to 'type' at 0x2c13e30 (_ctypes)>,\n",
              "  45892512: <weakref at 0x7cabefba8d60; to 'type' at 0x2bc43a0 (_Stream)>,\n",
              "  45896288: <weakref at 0x7cabefba9080; to 'type' at 0x2bc5260 (PytestTester)>,\n",
              "  46127792: <weakref at 0x7cabefba9620; to 'type' at 0x2bfdab0 (NDArrayOperatorsMixin)>,\n",
              "  45915808: <weakref at 0x7cabefbd7290; to 'type' at 0x2bc9ea0 (DummyArray)>,\n",
              "  46616544: <weakref at 0x7cabefc07ec0; to 'type' at 0x2c74fe0 (vectorize)>,\n",
              "  46594096: <weakref at 0x7cabefbabc40; to 'type' at 0x2c6f830 (nd_grid)>,\n",
              "  46360880: <weakref at 0x7cabefc048b0; to 'type' at 0x2c36930 (AxisConcatenator)>,\n",
              "  46224928: <weakref at 0x7cabefc3c090; to 'type' at 0x2c15620 (ndenumerate)>,\n",
              "  46397088: <weakref at 0x7cabefc3c0e0; to 'type' at 0x2c3f6a0 (ndindex)>,\n",
              "  46399024: <weakref at 0x7cabefc3c130; to 'type' at 0x2c3fe30 (IndexExpression)>,\n",
              "  46469264: <weakref at 0x7cabefc3f010; to 'type' at 0x2c51090 (poly1d)>,\n",
              "  46643776: <weakref at 0x7cabefc3fce0; to 'type' at 0x2c7ba40 (_Deprecate)>,\n",
              "  46704048: <weakref at 0x7cabefa17d30; to 'type' at 0x2c8a5b0 (_FileOpeners)>,\n",
              "  46706992: <weakref at 0x7cabefa17dd0; to 'type' at 0x2c8b130 (DataSource)>,\n",
              "  46719760: <weakref at 0x7cabefa31210; to 'type' at 0x2c8e310 (LineSplitter)>,\n",
              "  46738112: <weakref at 0x7cabefa31260; to 'type' at 0x2c92ac0 (NameValidator)>,\n",
              "  46749280: <weakref at 0x7cabefa31440; to 'type' at 0x2c95660 (StringConverter)>,\n",
              "  46712944: <weakref at 0x7cabefa17ec0; to 'type' at 0x2c8c870 (BagObj)>,\n",
              "  46762544: <weakref at 0x7cabefa31990; to 'type' at 0x2c98a30 (Arrayterator)>,\n",
              "  46814144: <weakref at 0x7cabefa32b10; to 'type' at 0x2ca53c0 (NumpyVersion)>,\n",
              "  137077901449792: <weakref at 0x7cabefaa1120; to 'type' at 0x7cabef9f5a40 (RandomState)>,\n",
              "  137077900712480: <weakref at 0x7cabefaa1580; to 'type' at 0x7cabef941a20 (cython_function_or_method)>,\n",
              "  137077900721600: <weakref at 0x7cabefaa1e40; to 'type' at 0x7cabef943dc0 (BitGenerator)>,\n",
              "  137077900720736: <weakref at 0x7cabefaa20c0; to 'type' at 0x7cabef943a60 (SeedSequence)>,\n",
              "  137077900720320: <weakref at 0x7cabefaa2160; to 'type' at 0x7cabef9438c0 (SeedlessSequence)>,\n",
              "  137077900719744: <weakref at 0x7cabefaa2340; to 'type' at 0x7cabef943680 (SeedlessSeedSequence)>,\n",
              "  137077900522464: <weakref at 0x7cabefaa27f0; to 'type' at 0x7cabef9133e0 (generator)>,\n",
              "  137077900528704: <weakref at 0x7cabefaa3060; to 'type' at 0x7cabef914c40 (__pyx_scope_struct____pyx_f_5numpy_6random_7_common_validate_output_shape)>,\n",
              "  137077900528288: <weakref at 0x7cabefaa3100; to 'type' at 0x7cabef914aa0 (__pyx_scope_struct_1_genexpr)>,\n",
              "  137077899524000: <weakref at 0x7cabefab0a90; to 'type' at 0x7cabef81f7a0 (Generator)>,\n",
              "  137077899523200: <weakref at 0x7cabefab0db0; to 'type' at 0x7cabef81f480 (array)>,\n",
              "  137077899522688: <weakref at 0x7cabefab0f90; to 'type' at 0x7cabef81f280 (Enum)>,\n",
              "  137077899521472: <weakref at 0x7cabefab13f0; to 'type' at 0x7cabef81edc0 (memoryview)>,\n",
              "  47600336: <weakref at 0x7cabefaeac50; to 'type' at 0x2d652d0 (_DomainCheckInterval)>,\n",
              "  47601296: <weakref at 0x7cabefaeaca0; to 'type' at 0x2d65690 (_DomainTan)>,\n",
              "  47602256: <weakref at 0x7cabefaeacf0; to 'type' at 0x2d65a50 (_DomainSafeDivide)>,\n",
              "  47603216: <weakref at 0x7cabefaead40; to 'type' at 0x2d65e10 (_DomainGreater)>,\n",
              "  47604176: <weakref at 0x7cabefaead90; to 'type' at 0x2d661d0 (_DomainGreaterEqual)>,\n",
              "  47605136: <weakref at 0x7cabefaeade0; to 'type' at 0x2d66590 (_MaskedUFunc)>,\n",
              "  47611296: <weakref at 0x7cabefaeb1f0; to 'type' at 0x2d67da0 (_MaskedPrintOption)>,\n",
              "  47678880: <weakref at 0x7cabefaeb240; to 'type' at 0x2d785a0 (MaskedIterator)>,\n",
              "  47634448: <weakref at 0x7cabefaebc90; to 'type' at 0x2d6d810 (_frommethod)>,\n",
              "  47786800: <weakref at 0x7cabefaebd30; to 'type' at 0x2d92b30 (_convert2ma)>,\n",
              "  48014624: <weakref at 0x7cabef665080; to 'type' at 0x2dca520 (_fromnxfunction)>,\n",
              "  48042016: <weakref at 0x7cabef667b50; to 'type' at 0x2dd1020 (Js)>,\n",
              "  48049056: <weakref at 0x7cabf5040950; to 'type' at 0x2dd2ba0 (DataframeCache)>,\n",
              "  48062352: <weakref at 0x7cabef6858f0; to 'type' at 0x2dd5f90 (ColabTraceback)>,\n",
              "  48064272: <weakref at 0x7cabef6859e0; to 'type' at 0x2dd6710 (_CustomErrorHandlers)>,\n",
              "  48071552: <weakref at 0x7cabef686840; to 'type' at 0x2dd8380 (ShellResult)>,\n",
              "  48074160: <weakref at 0x7cabef686890; to 'type' at 0x2dd8db0 (_MonitorProcessState)>,\n",
              "  48104064: <weakref at 0x7cabef69aa20; to 'type' at 0x2de0280 (MplChart)>,\n",
              "  48105024: <weakref at 0x7cabef69aa70; to 'type' at 0x2de0640 (autoviz)>,\n",
              "  48219168: <weakref at 0x7cabef6d7650; to 'type' at 0x2dfc420 (_WrapNumbers)>,\n",
              "  48270032: <weakref at 0x7cabef724b30; to 'type' at 0x2e08ad0 (Connections)>,\n",
              "  48248768: <weakref at 0x7cabef724db0; to 'type' at 0x2e037c0 (RootFsDeviceFinder)>,\n",
              "  48289920: <weakref at 0x7cabef724ef0; to 'type' at 0x2e0d880 (Process)>,\n",
              "  48286064: <weakref at 0x7cabf4ff07c0; to 'type' at 0x2e0c970 (Process)>,\n",
              "  48305456: <weakref at 0x7cabef545d00; to 'type' at 0x2e11530 (_PaddedFile)>,\n",
              "  48338720: <weakref at 0x7cabef569df0; to 'type' at 0x2e19720 (__config_flags)>,\n",
              "  48340272: <weakref at 0x7cabef569e40; to 'type' at 0x2e19d30 (_UnboundedCache)>,\n",
              "  48341232: <weakref at 0x7cabef569e90; to 'type' at 0x2e1a0f0 (_FifoCache)>,\n",
              "  48342192: <weakref at 0x7cabef569ee0; to 'type' at 0x2e1a4b0 (LRUMemo)>,\n",
              "  48349776: <weakref at 0x7cabef56bab0; to 'type' at 0x2e1c250 (_lazyclassproperty)>,\n",
              "  48351984: <weakref at 0x7cabef56bbf0; to 'type' at 0x2e1caf0 (unicode_set)>,\n",
              "  48393904: <weakref at 0x7cabef5b2520; to 'type' at 0x2e26eb0 (OnlyOnce)>,\n",
              "  48419984: <weakref at 0x7cabef5f8400; to 'type' at 0x2e2d490 (_ParseResultsWithOffset)>,\n",
              "  48426448: <weakref at 0x7cabef5f8590; to 'type' at 0x2e2edd0 (ParseResults)>,\n",
              "  48526000: <weakref at 0x7cabef5fb150; to 'type' at 0x2e472b0 (_NullToken)>,\n",
              "  48637776: <weakref at 0x7cabef33aac0; to 'type' at 0x2e62750 (reset_pyparsing_context)>,\n",
              "  48923040: <weakref at 0x7cabef33ab10; to 'type' at 0x2ea81a0 (TestParseResultsAsserts)>,\n",
              "  48924000: <weakref at 0x7cabef33abb0; to 'type' at 0x2ea8560 (pyparsing_test)>,\n",
              "  48931792: <weakref at 0x7cabef366cf0; to 'type' at 0x2eaa3d0 (pyparsing_common)>,\n",
              "  42355760: <weakref at 0x7cabef544450; to 'type' at 0x2864c30 (Authentication)>,\n",
              "  42364832: <weakref at 0x7cabef399cb0; to 'type' at 0x2866fa0 (FileCache)>,\n",
              "  42365792: <weakref at 0x7cabef399d00; to 'type' at 0x2867360 (Credentials)>,\n",
              "  42367712: <weakref at 0x7cabef399df0; to 'type' at 0x2867ae0 (AllHosts)>,\n",
              "  42368672: <weakref at 0x7cabef399e40; to 'type' at 0x2867ea0 (ProxyInfo)>,\n",
              "  42372144: <weakref at 0x7cabef399f80; to 'type' at 0x2868c30 (Http)>,\n",
              "  48113840: <weakref at 0x7cabef39aca0; to 'type' at 0x2de28b0 (OutputAreaWidget)>,\n",
              "  49177152: <weakref at 0x7cabef3b4ef0; to 'type' at 0x2ee6240 (_SafeReprParam)>,\n",
              "  49183264: <weakref at 0x7cabef3d47c0; to 'ABCMeta' at 0x2ee7a20 (InputTransformer)>,\n",
              "  49193952: <weakref at 0x7cabef3b6f20; to 'type' at 0x2eea3e0 (IncompleteString)>,\n",
              "  48559424: <weakref at 0x7cabef3b6f70; to 'type' at 0x2e4f540 (InMultilineStatement)>,\n",
              "  49200384: <weakref at 0x7cabef3d4400; to 'type' at 0x2eebd00 (InputSplitter)>,\n",
              "  49380432: <weakref at 0x7cabec23b830; to 'type' at 0x2f17c50 (InfinityType)>,\n",
              "  49382576: <weakref at 0x7cabec23ba60; to 'type' at 0x2f184b0 (NegativeInfinityType)>,\n",
              "  49398192: <weakref at 0x7cabec23bfb0; to 'type' at 0x2f1c1b0 (_BaseVersion)>,\n",
              "  49414864: <weakref at 0x7cabec25a700; to 'type' at 0x2f202d0 (deprecate_privatize_attribute)>,\n",
              "  49415824: <weakref at 0x7cabec25a750; to 'type' at 0x2f20690 (_deprecated_parameter_class)>,\n",
              "  49419024: <weakref at 0x7cabef3f0c70; to 'type' at 0x2f21310 (classproperty)>,\n",
              "  49447456: <weakref at 0x7cabec285bc0; to 'type' at 0x2f28220 (__getattr__)>,\n",
              "  49448416: <weakref at 0x7cabef3f0db0; to 'type' at 0x2f285e0 (_StrongRef)>,\n",
              "  49450560: <weakref at 0x7cabec286020; to 'type' at 0x2f28e40 (CallbackRegistry)>,\n",
              "  49458144: <weakref at 0x7cabec286110; to 'type' at 0x2f2abe0 (Stack)>,\n",
              "  49459696: <weakref at 0x7cabec286160; to 'type' at 0x2f2b1f0 (Grouper)>,\n",
              "  49462064: <weakref at 0x7cabec2861b0; to 'type' at 0x2f2bb30 (_GrouperMethodForwarder)>,\n",
              "  49463024: <weakref at 0x7cabec286200; to 'type' at 0x2f2bef0 (GrouperView)>,\n",
              "  49421504: <weakref at 0x7cabec286610; to 'type' at 0x2f21cc0 (Substitution)>,\n",
              "  49399152: <weakref at 0x7cabec2fc040; to 'type' at 0x2f1c570 (xmlparser)>,\n",
              "  49640752: <weakref at 0x7cabec30f2e0; to 'type' at 0x2f57530 (_SelectorContext)>,\n",
              "  49644912: <weakref at 0x7cabec30e430; to 'type' at 0x2f58570 (Element)>,\n",
              "  49646512: <weakref at 0x7cabec30f510; to 'type' at 0x2f58bb0 (QName)>,\n",
              "  49648064: <weakref at 0x7cabec30f420; to 'type' at 0x2f591c0 (ElementTree)>,\n",
              "  49642672: <weakref at 0x7cabec30f330; to 'type' at 0x2f57cb0 (XMLPullParser)>,\n",
              "  49655904: <weakref at 0x7cabec30f650; to 'type' at 0x2f5b060 (C14NWriterTarget)>,\n",
              "  9944928: <weakref at 0x7cabec30f830; to 'type' at 0x97bf60 (_element_iterator)>,\n",
              "  9944512: <weakref at 0x7cabec30fb00; to 'type' at 0x97bdc0 (TreeBuilder)>,\n",
              "  9944096: <weakref at 0x7cabec3284a0; to 'type' at 0x97bc20 (Element)>,\n",
              "  9943680: <weakref at 0x7cabec3286d0; to 'type' at 0x97ba80 (XMLParser)>,\n",
              "  49652800: <weakref at 0x7cabec30d300; to 'type' at 0x2f5a440 (Element)>,\n",
              "  49641712: <weakref at 0x7cabec30d260; to 'type' at 0x2f578f0 (QName)>,\n",
              "  49667536: <weakref at 0x7cabec30cfe0; to 'type' at 0x2f5ddd0 (ElementTree)>,\n",
              "  49725552: <weakref at 0x7cabec30cf40; to 'type' at 0x2f6c070 (XMLPullParser)>,\n",
              "  49672272: <weakref at 0x7cabec30ce50; to 'type' at 0x2f5f050 (TreeBuilder)>,\n",
              "  49673824: <weakref at 0x7cabec30ce00; to 'type' at 0x2f5f660 (XMLParser)>,\n",
              "  49675376: <weakref at 0x7cabec30cc70; to 'type' at 0x2f5fc70 (C14NWriterTarget)>,\n",
              "  49678896: <weakref at 0x7cabec30cae0; to 'type' at 0x2f60a30 (ModeDescriptor)>,\n",
              "  49701248: <weakref at 0x7cabec30d350; to 'type' at 0x2f66180 (deferred_error)>,\n",
              "  137077841804736: <weakref at 0x7cabec147e70; to 'type' at 0x7cabec113dc0 (ImagingCore)>,\n",
              "  137077841804320: <weakref at 0x7cabec147f60; to 'type' at 0x7cabec113c20 (ImagingFont)>,\n",
              "  137077841803904: <weakref at 0x7cabec154360; to 'type' at 0x7cabec113a80 (ImagingDraw)>,\n",
              "  137077841803488: <weakref at 0x7cabec1544a0; to 'type' at 0x7cabec1138e0 (PixelAccess)>,\n",
              "  49752400: <weakref at 0x7cabec1794e0; to 'type' at 0x2f72950 (BaseTypeByIdentity)>,\n",
              "  49755872: <weakref at 0x7cabec156a20; to 'type' at 0x2f736e0 (FFI)>,\n",
              "  49777712: <weakref at 0x7cabec145760; to 'type' at 0x2f78c30 (_E)>,\n",
              "  49790128: <weakref at 0x7cabec1574c0; to 'type' at 0x2f7bcb0 (Image)>,\n",
              "  49787904: <weakref at 0x7cabec157560; to 'type' at 0x2f7b400 (ImagePointHandler)>,\n",
              "  49788864: <weakref at 0x7cabec1579c0; to 'type' at 0x2f7b7c0 (ImageTransformHandler)>,\n",
              "  49801936: <weakref at 0x7cabec196390; to 'type' at 0x2f7ead0 (Parser)>,\n",
              "  49802896: <weakref at 0x7cabec1963e0; to 'type' at 0x2f7ee90 (PyCodecState)>,\n",
              "  49803856: <weakref at 0x7cabec196480; to 'type' at 0x2f7f250 (PyDecoder)>,\n",
              "  49805408: <weakref at 0x7cabec1976f0; to 'type' at 0x2f7f860 (GradientFile)>,\n",
              "  49808448: <weakref at 0x7cabec197b00; to 'type' at 0x2f80440 (GimpPaletteFile)>,\n",
              "  49809408: <weakref at 0x7cabec197f60; to 'type' at 0x2f80800 (PaletteFile)>,\n",
              "  49815088: <weakref at 0x7cabec1971a0; to 'type' at 0x2f81e30 (ImagePalette)>,\n",
              "  49823072: <weakref at 0x7cabec1a8400; to 'type' at 0x2f83d60 (Iterator)>,\n",
              "  49825152: <weakref at 0x7cabec1a84f0; to 'type' at 0x2f84580 (ChunkStream)>,\n",
              "  49827072: <weakref at 0x7cabec1a8450; to 'type' at 0x2f84d00 (PngInfo)>,\n",
              "  49833456: <weakref at 0x7cabec1a8680; to 'type' at 0x2f865f0 (_idat)>,\n",
              "  49834416: <weakref at 0x7cabec1a86d0; to 'type' at 0x2f869b0 (_fdat)>,\n",
              "  49914272: <weakref at 0x7cabdfb72a20; to 'type' at 0x2f9a1a0 (BezierSegment)>,\n",
              "  49916944: <weakref at 0x7cabdfb72bb0; to 'type' at 0x2f9ac10 (Path)>,\n",
              "  49919024: <weakref at 0x7cabec21f790; to 'type' at 0x2f9b430 (TransformNode)>,\n",
              "  49947728: <weakref at 0x7cabdfb980e0; to 'type' at 0x2fa2450 (_BlendedMixin)>,\n",
              "  49962656: <weakref at 0x7cabec205760; to 'type' at 0x2fa5ea0 (_DummyAxis)>,\n",
              "  49965536: <weakref at 0x7cabec205c10; to 'type' at 0x2fa69e0 (TickHelper)>,\n",
              "  49966496: <weakref at 0x7cabdfb99760; to 'type' at 0x2fa6da0 (_Edge_integer)>,\n",
              "  50027264: <weakref at 0x7cabec1aad40; to 'type' at 0x2fb5b00 (ScaleBase)>,\n",
              "  50137680: <weakref at 0x7cabdfb9aa20; to 'type' at 0x2fd0a50 (ColorConverter)>,\n",
              "  50140880: <weakref at 0x7cabdfb9aa70; to 'type' at 0x2fd16d0 (Colormap)>,\n",
              "  50144352: <weakref at 0x7cabdfb9ab10; to 'type' at 0x2fd2460 (Normalize)>,\n",
              "  50165568: <weakref at 0x7cabdfbe0450; to 'type' at 0x2fd7740 (LightSource)>,\n",
              "  50187936: <weakref at 0x7cabdfbe14e0; to 'type' at 0x2fdcea0 (Cycler)>,\n",
              "  50185696: <weakref at 0x7cabec2ac3b0; to 'type' at 0x2fdc5e0 (ValidateInStrings)>,\n",
              "  49544096: <weakref at 0x7cabdfbe1df0; to 'type' at 0x2f3fba0 (__getattr__)>,\n",
              "  137077634232224: <weakref at 0x7cabdfbe21b0; to 'type' at 0x7cabdfb1efa0 (FT2Image)>,\n",
              "  137077634233088: <weakref at 0x7cabdfbe2d40; to 'type' at 0x7cabdfb1f300 (FT2Font)>,\n",
              "  137077634232640: <weakref at 0x7cabdfbe2de0; to 'type' at 0x7cabdfb1f140 (Glyph)>,\n",
              "  49473728: <weakref at 0x7cabdfbe3ce0; to 'type' at 0x2f2e8c0 (Variable)>,\n",
              "  50092864: <weakref at 0x7cabdfbf43b0; to 'type' at 0x2fc5b40 (Term)>,\n",
              "  50094944: <weakref at 0x7cabdfbf4a40; to 'type' at 0x2fc6360 (Expression)>,\n",
              "  50065248: <weakref at 0x7cabdfbf4d10; to 'type' at 0x2fbef60 (Constraint)>,\n",
              "  50066208: <weakref at 0x7cabdfbf4db0; to 'type' at 0x2fbf320 (Strength)>,\n",
              "  50067168: <weakref at 0x7cabdfbf5260; to 'type' at 0x2fbf6e0 (Solver)>,\n",
              "  50339456: <weakref at 0x7cabdfc2c950; to 'type' at 0x3001e80 (ScalarMappable)>,\n",
              "  50396288: <weakref at 0x7cabdf61f060; to 'type' at 0x300fc80 (Gcf)>,\n",
              "  50401376: <weakref at 0x7cabdf61ea20; to 'type' at 0x3011060 (ToolBase)>,\n",
              "  50434336: <weakref at 0x7cabdf647920; to 'type' at 0x3019120 (_Unset)>,\n",
              "  50435296: <weakref at 0x7cabdf647b00; to 'type' at 0x30194e0 (Artist)>,\n",
              "  50444640: <weakref at 0x7cabdf647b50; to 'type' at 0x301b960 (ArtistInspector)>,\n",
              "  50567504: <weakref at 0x7cabdf69c400; to 'type' at 0x3039950 (AFM)>,\n",
              "  50483680: <weakref at 0x7cabdf66f060; to 'type' at 0x30251e0 (FontEntry)>,\n",
              "  50487472: <weakref at 0x7cabdf69c4f0; to 'type' at 0x30260b0 (FontProperties)>,\n",
              "  50599168: <weakref at 0x7cabdf69c590; to 'type' at 0x3041500 (FontManager)>,\n",
              "  50624704: <weakref at 0x7cabdf6ef5b0; to 'type' at 0x30478c0 (HatchPatternBase)>,\n",
              "  50669200: <weakref at 0x7cabf5e39c60; to 'type' at 0x3052690 (MarkerStyle)>,\n",
              "  50735168: <weakref at 0x7cabef3d6b60; to 'type' at 0x3062840 (VertexSelector)>,\n",
              "  50853120: <weakref at 0x7cabef3f0e00; to 'type' at 0x307f500 (_Style)>,\n",
              "  50854080: <weakref at 0x7cabf5e80b80; to 'type' at 0x307f8c0 (Square)>,\n",
              "  50856960: <weakref at 0x7cabf5e80630; to 'type' at 0x3080400 (Circle)>,\n",
              "  50857920: <weakref at 0x7cabf5e80720; to 'type' at 0x30807c0 (Ellipse)>,\n",
              "  50858880: <weakref at 0x7cabf5e80590; to 'type' at 0x3080b80 (LArrow)>,\n",
              "  50860800: <weakref at 0x7cabf5e80ea0; to 'type' at 0x3081300 (DArrow)>,\n",
              "  50861760: <weakref at 0x7cabf5e80c70; to 'type' at 0x30816c0 (Round)>,\n",
              "  50862720: <weakref at 0x7cabf5e80a40; to 'type' at 0x3081a80 (Round4)>,\n",
              "  50863680: <weakref at 0x7cabf5e80db0; to 'type' at 0x3081e40 (Sawtooth)>,\n",
              "  50871872: <weakref at 0x7cabf5e80d60; to 'type' at 0x3083e40 (SimpleEvent)>,\n",
              "  50872832: <weakref at 0x7cabf5e80ef0; to 'type' at 0x3084200 (_Base)>,\n",
              "  50885472: <weakref at 0x7cabec30f6f0; to 'type' at 0x3087360 (_Base)>,\n",
              "  50966816: <weakref at 0x7cabf5e82750; to 'type' at 0x309b120 (LayoutItem)>,\n",
              "  50987312: <weakref at 0x7cabf5eb10d0; to 'type' at 0x30a0130 (Dvi)>,\n",
              "  50988880: <weakref at 0x7cabf5eb18a0; to 'type' at 0x30a0750 (DviFont)>,\n",
              "  50991232: <weakref at 0x7cabf5eb1940; to 'type' at 0x30a1080 (Tfm)>,\n",
              "  50993936: <weakref at 0x7cabf5eb1b70; to 'type' at 0x30a1b10 (PsfontsMap)>,\n",
              "  50974160: <weakref at 0x7cabf5eb1bc0; to 'type' at 0x309cdd0 (_LuatexKpsewhich)>,\n",
              "  51021520: <weakref at 0x7cabf5ef0090; to 'type' at 0x30a86d0 (Output)>,\n",
              "  51022480: <weakref at 0x7cabf5ef00e0; to 'type' at 0x30a8a90 (Fonts)>,\n",
              "  51035648: <weakref at 0x7cabf5ef04f0; to 'type' at 0x30abe00 (FontConstantsBase)>,\n",
              "  51042000: <weakref at 0x7cabf5ef06d0; to 'type' at 0x30ad6d0 (Node)>,\n",
              "  51065328: <weakref at 0x7cabf5ef1210; to 'type' at 0x30b31f0 (ParserState)>,\n",
              "  51075504: <weakref at 0x7cabf5ef1530; to 'type' at 0x30b59b0 (Parser)>,\n",
              "  50746704: <weakref at 0x7cabef3f1580; to 'type' at 0x3065550 (MathtextBackend)>,\n",
              "  51086912: <weakref at 0x7cabf5ecc8b0; to 'type' at 0x30b8640 (MathTextParser)>,\n",
              "  51092352: <weakref at 0x7cabf5ef21b0; to 'type' at 0x30b9b80 (TexManager)>,\n",
              "  51090112: <weakref at 0x7cabf5e82890; to 'type' at 0x30b92c0 (TextToPath)>,\n",
              "  51098608: <weakref at 0x7cabdf6cd5d0; to 'type' at 0x30bb3f0 (OffsetFrom)>,\n",
              "  51099568: <weakref at 0x7cabf5e3b5b0; to 'type' at 0x30bb7b0 (_AnnotationBase)>,\n",
              "  ...},\n",
              " {'__repr__': <slot wrapper '__repr__' of 'async_generator' objects>,\n",
              "  '__getattribute__': <slot wrapper '__getattribute__' of 'async_generator' objects>,\n",
              "  '__del__': <slot wrapper '__del__' of 'async_generator' objects>,\n",
              "  '__aiter__': <slot wrapper '__aiter__' of 'async_generator' objects>,\n",
              "  '__anext__': <slot wrapper '__anext__' of 'async_generator' objects>,\n",
              "  'asend': <method 'asend' of 'async_generator' objects>,\n",
              "  'athrow': <method 'athrow' of 'async_generator' objects>,\n",
              "  'aclose': <method 'aclose' of 'async_generator' objects>,\n",
              "  '__class_getitem__': <method '__class_getitem__' of 'async_generator' objects>,\n",
              "  'ag_frame': <member 'ag_frame' of 'async_generator' objects>,\n",
              "  'ag_running': <member 'ag_running' of 'async_generator' objects>,\n",
              "  'ag_code': <member 'ag_code' of 'async_generator' objects>,\n",
              "  '__name__': <attribute '__name__' of 'async_generator' objects>,\n",
              "  '__qualname__': <attribute '__qualname__' of 'async_generator' objects>,\n",
              "  'ag_await': <attribute 'ag_await' of 'async_generator' objects>,\n",
              "  '__doc__': None},\n",
              " <slot wrapper '__getattribute__' of 'async_generator' objects>,\n",
              " <slot wrapper '__del__' of 'async_generator' objects>,\n",
              " <slot wrapper '__aiter__' of 'async_generator' objects>,\n",
              " <slot wrapper '__anext__' of 'async_generator' objects>,\n",
              " <method 'asend' of 'async_generator' objects>,\n",
              " <method 'athrow' of 'async_generator' objects>,\n",
              " <method 'aclose' of 'async_generator' objects>,\n",
              " <method '__class_getitem__' of 'async_generator' objects>,\n",
              " <member 'ag_frame' of 'async_generator' objects>,\n",
              " <member 'ag_running' of 'async_generator' objects>,\n",
              " <member 'ag_code' of 'async_generator' objects>,\n",
              " <attribute '__name__' of 'async_generator' objects>,\n",
              " <attribute '__qualname__' of 'async_generator' objects>,\n",
              " <attribute 'ag_await' of 'async_generator' objects>,\n",
              " <weakref at 0x7cabf725d260; to 'type' at 0x94f940 (async_generator)>,\n",
              " {'__new__': <function int.__new__(*args, **kwargs)>,\n",
              "  '__repr__': <slot wrapper '__repr__' of 'int' objects>,\n",
              "  '__hash__': <slot wrapper '__hash__' of 'int' objects>,\n",
              "  '__getattribute__': <slot wrapper '__getattribute__' of 'int' objects>,\n",
              "  '__lt__': <slot wrapper '__lt__' of 'int' objects>,\n",
              "  '__le__': <slot wrapper '__le__' of 'int' objects>,\n",
              "  '__eq__': <slot wrapper '__eq__' of 'int' objects>,\n",
              "  '__ne__': <slot wrapper '__ne__' of 'int' objects>,\n",
              "  '__gt__': <slot wrapper '__gt__' of 'int' objects>,\n",
              "  '__ge__': <slot wrapper '__ge__' of 'int' objects>,\n",
              "  '__add__': <slot wrapper '__add__' of 'int' objects>,\n",
              "  '__radd__': <slot wrapper '__radd__' of 'int' objects>,\n",
              "  '__sub__': <slot wrapper '__sub__' of 'int' objects>,\n",
              "  '__rsub__': <slot wrapper '__rsub__' of 'int' objects>,\n",
              "  '__mul__': <slot wrapper '__mul__' of 'int' objects>,\n",
              "  '__rmul__': <slot wrapper '__rmul__' of 'int' objects>,\n",
              "  '__mod__': <slot wrapper '__mod__' of 'int' objects>,\n",
              "  '__rmod__': <slot wrapper '__rmod__' of 'int' objects>,\n",
              "  '__divmod__': <slot wrapper '__divmod__' of 'int' objects>,\n",
              "  '__rdivmod__': <slot wrapper '__rdivmod__' of 'int' objects>,\n",
              "  '__pow__': <slot wrapper '__pow__' of 'int' objects>,\n",
              "  '__rpow__': <slot wrapper '__rpow__' of 'int' objects>,\n",
              "  '__neg__': <slot wrapper '__neg__' of 'int' objects>,\n",
              "  '__pos__': <slot wrapper '__pos__' of 'int' objects>,\n",
              "  '__abs__': <slot wrapper '__abs__' of 'int' objects>,\n",
              "  '__bool__': <slot wrapper '__bool__' of 'int' objects>,\n",
              "  '__invert__': <slot wrapper '__invert__' of 'int' objects>,\n",
              "  '__lshift__': <slot wrapper '__lshift__' of 'int' objects>,\n",
              "  '__rlshift__': <slot wrapper '__rlshift__' of 'int' objects>,\n",
              "  '__rshift__': <slot wrapper '__rshift__' of 'int' objects>,\n",
              "  '__rrshift__': <slot wrapper '__rrshift__' of 'int' objects>,\n",
              "  '__and__': <slot wrapper '__and__' of 'int' objects>,\n",
              "  '__rand__': <slot wrapper '__rand__' of 'int' objects>,\n",
              "  '__xor__': <slot wrapper '__xor__' of 'int' objects>,\n",
              "  '__rxor__': <slot wrapper '__rxor__' of 'int' objects>,\n",
              "  '__or__': <slot wrapper '__or__' of 'int' objects>,\n",
              "  '__ror__': <slot wrapper '__ror__' of 'int' objects>,\n",
              "  '__int__': <slot wrapper '__int__' of 'int' objects>,\n",
              "  '__float__': <slot wrapper '__float__' of 'int' objects>,\n",
              "  '__floordiv__': <slot wrapper '__floordiv__' of 'int' objects>,\n",
              "  '__rfloordiv__': <slot wrapper '__rfloordiv__' of 'int' objects>,\n",
              "  '__truediv__': <slot wrapper '__truediv__' of 'int' objects>,\n",
              "  '__rtruediv__': <slot wrapper '__rtruediv__' of 'int' objects>,\n",
              "  '__index__': <slot wrapper '__index__' of 'int' objects>,\n",
              "  'conjugate': <method 'conjugate' of 'int' objects>,\n",
              "  'bit_length': <method 'bit_length' of 'int' objects>,\n",
              "  'bit_count': <method 'bit_count' of 'int' objects>,\n",
              "  'to_bytes': <method 'to_bytes' of 'int' objects>,\n",
              "  'from_bytes': <method 'from_bytes' of 'int' objects>,\n",
              "  'as_integer_ratio': <method 'as_integer_ratio' of 'int' objects>,\n",
              "  '__trunc__': <method '__trunc__' of 'int' objects>,\n",
              "  '__floor__': <method '__floor__' of 'int' objects>,\n",
              "  '__ceil__': <method '__ceil__' of 'int' objects>,\n",
              "  '__round__': <method '__round__' of 'int' objects>,\n",
              "  '__getnewargs__': <method '__getnewargs__' of 'int' objects>,\n",
              "  '__format__': <method '__format__' of 'int' objects>,\n",
              "  '__sizeof__': <method '__sizeof__' of 'int' objects>,\n",
              "  'real': <attribute 'real' of 'int' objects>,\n",
              "  'imag': <attribute 'imag' of 'int' objects>,\n",
              "  'numerator': <attribute 'numerator' of 'int' objects>,\n",
              "  'denominator': <attribute 'denominator' of 'int' objects>,\n",
              "  '__doc__': \"int([x]) -> integer\\nint(x, base=10) -> integer\\n\\nConvert a number or string to an integer, or return 0 if no arguments\\nare given.  If x is a number, return x.__int__().  For floating point\\nnumbers, this truncates towards zero.\\n\\nIf x is not a number or if base is given, then x must be a string,\\nbytes, or bytearray instance representing an integer literal in the\\ngiven base.  The literal can be preceded by '+' or '-' and be surrounded\\nby whitespace.  The base defaults to 10.  Valid bases are 0 and 2-36.\\nBase 0 means to interpret the base from the string as an integer literal.\\n>>> int('0b100', base=0)\\n4\"},\n",
              " <slot wrapper '__repr__' of 'int' objects>,\n",
              " <slot wrapper '__hash__' of 'int' objects>,\n",
              " <slot wrapper '__getattribute__' of 'int' objects>,\n",
              " <slot wrapper '__lt__' of 'int' objects>,\n",
              " <slot wrapper '__le__' of 'int' objects>,\n",
              " <slot wrapper '__eq__' of 'int' objects>,\n",
              " <slot wrapper '__ne__' of 'int' objects>,\n",
              " <slot wrapper '__gt__' of 'int' objects>,\n",
              " <slot wrapper '__ge__' of 'int' objects>,\n",
              " <slot wrapper '__add__' of 'int' objects>,\n",
              " <slot wrapper '__radd__' of 'int' objects>,\n",
              " <slot wrapper '__sub__' of 'int' objects>,\n",
              " <slot wrapper '__rsub__' of 'int' objects>,\n",
              " <slot wrapper '__mul__' of 'int' objects>,\n",
              " <slot wrapper '__rmul__' of 'int' objects>,\n",
              " <slot wrapper '__mod__' of 'int' objects>,\n",
              " <slot wrapper '__rmod__' of 'int' objects>,\n",
              " <slot wrapper '__divmod__' of 'int' objects>,\n",
              " <slot wrapper '__rdivmod__' of 'int' objects>,\n",
              " <slot wrapper '__pow__' of 'int' objects>,\n",
              " <slot wrapper '__rpow__' of 'int' objects>,\n",
              " <slot wrapper '__neg__' of 'int' objects>,\n",
              " <slot wrapper '__pos__' of 'int' objects>,\n",
              " <slot wrapper '__abs__' of 'int' objects>,\n",
              " <slot wrapper '__bool__' of 'int' objects>,\n",
              " <slot wrapper '__invert__' of 'int' objects>,\n",
              " <slot wrapper '__lshift__' of 'int' objects>,\n",
              " <slot wrapper '__rlshift__' of 'int' objects>,\n",
              " <slot wrapper '__rshift__' of 'int' objects>,\n",
              " <slot wrapper '__rrshift__' of 'int' objects>,\n",
              " <slot wrapper '__and__' of 'int' objects>,\n",
              " <slot wrapper '__rand__' of 'int' objects>,\n",
              " <slot wrapper '__xor__' of 'int' objects>,\n",
              " <slot wrapper '__rxor__' of 'int' objects>,\n",
              " <slot wrapper '__or__' of 'int' objects>,\n",
              " <slot wrapper '__ror__' of 'int' objects>,\n",
              " <slot wrapper '__int__' of 'int' objects>,\n",
              " <slot wrapper '__float__' of 'int' objects>,\n",
              " <slot wrapper '__floordiv__' of 'int' objects>,\n",
              " <slot wrapper '__rfloordiv__' of 'int' objects>,\n",
              " <slot wrapper '__truediv__' of 'int' objects>,\n",
              " <slot wrapper '__rtruediv__' of 'int' objects>,\n",
              " <slot wrapper '__index__' of 'int' objects>,\n",
              " <method 'conjugate' of 'int' objects>,\n",
              " <method 'bit_length' of 'int' objects>,\n",
              " <method 'bit_count' of 'int' objects>,\n",
              " <method 'to_bytes' of 'int' objects>,\n",
              " <method 'from_bytes' of 'int' objects>,\n",
              " <method 'as_integer_ratio' of 'int' objects>,\n",
              " <method '__trunc__' of 'int' objects>,\n",
              " <method '__floor__' of 'int' objects>,\n",
              " <method '__ceil__' of 'int' objects>,\n",
              " <method '__round__' of 'int' objects>,\n",
              " <method '__getnewargs__' of 'int' objects>,\n",
              " <method '__format__' of 'int' objects>,\n",
              " <method '__sizeof__' of 'int' objects>,\n",
              " <attribute 'real' of 'int' objects>,\n",
              " <attribute 'imag' of 'int' objects>,\n",
              " <attribute 'numerator' of 'int' objects>,\n",
              " <attribute 'denominator' of 'int' objects>,\n",
              " <weakref at 0x7cabf725e4d0; to 'type' at 0x95e8c0 (int)>,\n",
              " {'__new__': <function bool.__new__(*args, **kwargs)>,\n",
              "  '__repr__': <slot wrapper '__repr__' of 'bool' objects>,\n",
              "  '__and__': <slot wrapper '__and__' of 'bool' objects>,\n",
              "  '__rand__': <slot wrapper '__rand__' of 'bool' objects>,\n",
              "  '__xor__': <slot wrapper '__xor__' of 'bool' objects>,\n",
              "  '__rxor__': <slot wrapper '__rxor__' of 'bool' objects>,\n",
              "  '__or__': <slot wrapper '__or__' of 'bool' objects>,\n",
              "  '__ror__': <slot wrapper '__ror__' of 'bool' objects>,\n",
              "  '__doc__': 'bool(x) -> bool\\n\\nReturns True when the argument x is true, False otherwise.\\nThe builtins True and False are the only two instances of the class bool.\\nThe class bool is a subclass of the class int, and cannot be subclassed.'},\n",
              " <slot wrapper '__repr__' of 'bool' objects>,\n",
              " <slot wrapper '__and__' of 'bool' objects>,\n",
              " <slot wrapper '__rand__' of 'bool' objects>,\n",
              " <slot wrapper '__xor__' of 'bool' objects>,\n",
              " <slot wrapper '__rxor__' of 'bool' objects>,\n",
              " <slot wrapper '__or__' of 'bool' objects>,\n",
              " <slot wrapper '__ror__' of 'bool' objects>,\n",
              " {9802688: <weakref at 0x7cabf725e7a0; to 'type' at 0x9593c0 (bool)>,\n",
              "  37836224: <weakref at 0x7cabf71a9260; to 'EnumMeta' at 0x24155c0 (IntEnum)>,\n",
              "  37839328: <weakref at 0x7cabf71a93f0; to 'EnumMeta' at 0x24161e0 (IntFlag)>,\n",
              "  37867568: <weakref at 0x7cabf71c56c0; to 'type' at 0x241d030 (_NamedIntConstant)>},\n",
              " {'__getattribute__': <slot wrapper '__getattribute__' of 'bytearray_iterator' objects>,\n",
              "  '__iter__': <slot wrapper '__iter__' of 'bytearray_iterator' objects>,\n",
              "  '__next__': <slot wrapper '__next__' of 'bytearray_iterator' objects>,\n",
              "  '__length_hint__': <method '__length_hint__' of 'bytearray_iterator' objects>,\n",
              "  '__reduce__': <method '__reduce__' of 'bytearray_iterator' objects>,\n",
              "  '__setstate__': <method '__setstate__' of 'bytearray_iterator' objects>,\n",
              "  '__doc__': None},\n",
              " <slot wrapper '__iter__' of 'bytearray_iterator' objects>,\n",
              " <slot wrapper '__next__' of 'bytearray_iterator' objects>,\n",
              " <method '__length_hint__' of 'bytearray_iterator' objects>,\n",
              " <method '__reduce__' of 'bytearray_iterator' objects>,\n",
              " <method '__setstate__' of 'bytearray_iterator' objects>,\n",
              " <weakref at 0x7cabf725e9d0; to 'type' at 0x952a40 (bytearray_iterator)>,\n",
              " {'__new__': <function bytearray.__new__(*args, **kwargs)>,\n",
              "  '__repr__': <slot wrapper '__repr__' of 'bytearray' objects>,\n",
              "  '__str__': <slot wrapper '__str__' of 'bytearray' objects>,\n",
              "  '__getattribute__': <slot wrapper '__getattribute__' of 'bytearray' objects>,\n",
              "  '__lt__': <slot wrapper '__lt__' of 'bytearray' objects>,\n",
              "  '__le__': <slot wrapper '__le__' of 'bytearray' objects>,\n",
              "  '__eq__': <slot wrapper '__eq__' of 'bytearray' objects>,\n",
              "  '__ne__': <slot wrapper '__ne__' of 'bytearray' objects>,\n",
              "  '__gt__': <slot wrapper '__gt__' of 'bytearray' objects>,\n",
              "  '__ge__': <slot wrapper '__ge__' of 'bytearray' objects>,\n",
              "  '__iter__': <slot wrapper '__iter__' of 'bytearray' objects>,\n",
              "  '__init__': <slot wrapper '__init__' of 'bytearray' objects>,\n",
              "  '__mod__': <slot wrapper '__mod__' of 'bytearray' objects>,\n",
              "  '__rmod__': <slot wrapper '__rmod__' of 'bytearray' objects>,\n",
              "  '__len__': <slot wrapper '__len__' of 'bytearray' objects>,\n",
              "  '__getitem__': <slot wrapper '__getitem__' of 'bytearray' objects>,\n",
              "  '__setitem__': <slot wrapper '__setitem__' of 'bytearray' objects>,\n",
              "  '__delitem__': <slot wrapper '__delitem__' of 'bytearray' objects>,\n",
              "  '__add__': <slot wrapper '__add__' of 'bytearray' objects>,\n",
              "  '__mul__': <slot wrapper '__mul__' of 'bytearray' objects>,\n",
              "  '__rmul__': <slot wrapper '__rmul__' of 'bytearray' objects>,\n",
              "  '__contains__': <slot wrapper '__contains__' of 'bytearray' objects>,\n",
              "  '__iadd__': <slot wrapper '__iadd__' of 'bytearray' objects>,\n",
              "  '__imul__': <slot wrapper '__imul__' of 'bytearray' objects>,\n",
              "  '__alloc__': <method '__alloc__' of 'bytearray' objects>,\n",
              "  '__reduce__': <method '__reduce__' of 'bytearray' objects>,\n",
              "  '__reduce_ex__': <method '__reduce_ex__' of 'bytearray' objects>,\n",
              "  '__sizeof__': <method '__sizeof__' of 'bytearray' objects>,\n",
              "  'append': <method 'append' of 'bytearray' objects>,\n",
              "  'capitalize': <method 'capitalize' of 'bytearray' objects>,\n",
              "  'center': <method 'center' of 'bytearray' objects>,\n",
              "  'clear': <method 'clear' of 'bytearray' objects>,\n",
              "  'copy': <method 'copy' of 'bytearray' objects>,\n",
              "  'count': <method 'count' of 'bytearray' objects>,\n",
              "  'decode': <method 'decode' of 'bytearray' objects>,\n",
              "  'endswith': <method 'endswith' of 'bytearray' objects>,\n",
              "  'expandtabs': <method 'expandtabs' of 'bytearray' objects>,\n",
              "  'extend': <method 'extend' of 'bytearray' objects>,\n",
              "  'find': <method 'find' of 'bytearray' objects>,\n",
              "  'fromhex': <method 'fromhex' of 'bytearray' objects>,\n",
              "  'hex': <method 'hex' of 'bytearray' objects>,\n",
              "  'index': <method 'index' of 'bytearray' objects>,\n",
              "  'insert': <method 'insert' of 'bytearray' objects>,\n",
              "  'isalnum': <method 'isalnum' of 'bytearray' objects>,\n",
              "  'isalpha': <method 'isalpha' of 'bytearray' objects>,\n",
              "  'isascii': <method 'isascii' of 'bytearray' objects>,\n",
              "  'isdigit': <method 'isdigit' of 'bytearray' objects>,\n",
              "  'islower': <method 'islower' of 'bytearray' objects>,\n",
              "  'isspace': <method 'isspace' of 'bytearray' objects>,\n",
              "  'istitle': <method 'istitle' of 'bytearray' objects>,\n",
              "  'isupper': <method 'isupper' of 'bytearray' objects>,\n",
              "  'join': <method 'join' of 'bytearray' objects>,\n",
              "  'ljust': <method 'ljust' of 'bytearray' objects>,\n",
              "  'lower': <method 'lower' of 'bytearray' objects>,\n",
              "  'lstrip': <method 'lstrip' of 'bytearray' objects>,\n",
              "  'maketrans': <staticmethod(<built-in method maketrans of type object at 0x953480>)>,\n",
              "  'partition': <method 'partition' of 'bytearray' objects>,\n",
              "  'pop': <method 'pop' of 'bytearray' objects>,\n",
              "  'remove': <method 'remove' of 'bytearray' objects>,\n",
              "  'replace': <method 'replace' of 'bytearray' objects>,\n",
              "  'removeprefix': <method 'removeprefix' of 'bytearray' objects>,\n",
              "  'removesuffix': <method 'removesuffix' of 'bytearray' objects>,\n",
              "  'reverse': <method 'reverse' of 'bytearray' objects>,\n",
              "  'rfind': <method 'rfind' of 'bytearray' objects>,\n",
              "  'rindex': <method 'rindex' of 'bytearray' objects>,\n",
              "  'rjust': <method 'rjust' of 'bytearray' objects>,\n",
              "  'rpartition': <method 'rpartition' of 'bytearray' objects>,\n",
              "  'rsplit': <method 'rsplit' of 'bytearray' objects>,\n",
              "  'rstrip': <method 'rstrip' of 'bytearray' objects>,\n",
              "  'split': <method 'split' of 'bytearray' objects>,\n",
              "  'splitlines': <method 'splitlines' of 'bytearray' objects>,\n",
              "  'startswith': <method 'startswith' of 'bytearray' objects>,\n",
              "  'strip': <method 'strip' of 'bytearray' objects>,\n",
              "  'swapcase': <method 'swapcase' of 'bytearray' objects>,\n",
              "  'title': <method 'title' of 'bytearray' objects>,\n",
              "  'translate': <method 'translate' of 'bytearray' objects>,\n",
              "  'upper': <method 'upper' of 'bytearray' objects>,\n",
              "  'zfill': <method 'zfill' of 'bytearray' objects>,\n",
              "  '__doc__': 'bytearray(iterable_of_ints) -> bytearray\\nbytearray(string, encoding[, errors]) -> bytearray\\nbytearray(bytes_or_buffer) -> mutable copy of bytes_or_buffer\\nbytearray(int) -> bytes array of size given by the parameter initialized with null bytes\\nbytearray() -> empty bytes array\\n\\nConstruct a mutable bytearray object from:\\n  - an iterable yielding integers in range(256)\\n  - a text string encoded using the specified encoding\\n  - a bytes or a buffer object\\n  - any object implementing the buffer API.\\n  - an integer',\n",
              "  '__hash__': None},\n",
              " <slot wrapper '__repr__' of 'bytearray' objects>,\n",
              " <slot wrapper '__str__' of 'bytearray' objects>,\n",
              " <slot wrapper '__getattribute__' of 'bytearray' objects>,\n",
              " <slot wrapper '__lt__' of 'bytearray' objects>,\n",
              " <slot wrapper '__le__' of 'bytearray' objects>,\n",
              " <slot wrapper '__eq__' of 'bytearray' objects>,\n",
              " <slot wrapper '__ne__' of 'bytearray' objects>,\n",
              " <slot wrapper '__gt__' of 'bytearray' objects>,\n",
              " <slot wrapper '__ge__' of 'bytearray' objects>,\n",
              " <slot wrapper '__iter__' of 'bytearray' objects>,\n",
              " <slot wrapper '__init__' of 'bytearray' objects>,\n",
              " <slot wrapper '__mod__' of 'bytearray' objects>,\n",
              " <slot wrapper '__rmod__' of 'bytearray' objects>,\n",
              " <slot wrapper '__len__' of 'bytearray' objects>,\n",
              " <slot wrapper '__getitem__' of 'bytearray' objects>,\n",
              " <slot wrapper '__setitem__' of 'bytearray' objects>,\n",
              " <slot wrapper '__delitem__' of 'bytearray' objects>,\n",
              " <slot wrapper '__add__' of 'bytearray' objects>,\n",
              " <slot wrapper '__mul__' of 'bytearray' objects>,\n",
              " <slot wrapper '__rmul__' of 'bytearray' objects>,\n",
              " <slot wrapper '__contains__' of 'bytearray' objects>,\n",
              " <slot wrapper '__iadd__' of 'bytearray' objects>,\n",
              " <slot wrapper '__imul__' of 'bytearray' objects>,\n",
              " <method '__alloc__' of 'bytearray' objects>,\n",
              " <method '__reduce__' of 'bytearray' objects>,\n",
              " <method '__reduce_ex__' of 'bytearray' objects>,\n",
              " <method '__sizeof__' of 'bytearray' objects>,\n",
              " <method 'append' of 'bytearray' objects>,\n",
              " <method 'capitalize' of 'bytearray' objects>,\n",
              " <method 'center' of 'bytearray' objects>,\n",
              " <method 'clear' of 'bytearray' objects>,\n",
              " <method 'copy' of 'bytearray' objects>,\n",
              " <method 'count' of 'bytearray' objects>,\n",
              " <method 'decode' of 'bytearray' objects>,\n",
              " <method 'endswith' of 'bytearray' objects>,\n",
              " <method 'expandtabs' of 'bytearray' objects>,\n",
              " <method 'extend' of 'bytearray' objects>,\n",
              " <method 'find' of 'bytearray' objects>,\n",
              " <method 'fromhex' of 'bytearray' objects>,\n",
              " <method 'hex' of 'bytearray' objects>,\n",
              " <method 'index' of 'bytearray' objects>,\n",
              " <method 'insert' of 'bytearray' objects>,\n",
              " <method 'isalnum' of 'bytearray' objects>,\n",
              " <method 'isalpha' of 'bytearray' objects>,\n",
              " <method 'isascii' of 'bytearray' objects>,\n",
              " <method 'isdigit' of 'bytearray' objects>,\n",
              " <method 'islower' of 'bytearray' objects>,\n",
              " <method 'isspace' of 'bytearray' objects>,\n",
              " <method 'istitle' of 'bytearray' objects>,\n",
              " <method 'isupper' of 'bytearray' objects>,\n",
              " <method 'join' of 'bytearray' objects>,\n",
              " <method 'ljust' of 'bytearray' objects>,\n",
              " <method 'lower' of 'bytearray' objects>,\n",
              " <method 'lstrip' of 'bytearray' objects>,\n",
              " <staticmethod(<built-in method maketrans of type object at 0x953480>)>,\n",
              " <method 'partition' of 'bytearray' objects>,\n",
              " <method 'pop' of 'bytearray' objects>,\n",
              " <method 'remove' of 'bytearray' objects>,\n",
              " <method 'replace' of 'bytearray' objects>,\n",
              " <method 'removeprefix' of 'bytearray' objects>,\n",
              " <method 'removesuffix' of 'bytearray' objects>,\n",
              " <method 'reverse' of 'bytearray' objects>,\n",
              " <method 'rfind' of 'bytearray' objects>,\n",
              " <method 'rindex' of 'bytearray' objects>,\n",
              " <method 'rjust' of 'bytearray' objects>,\n",
              " <method 'rpartition' of 'bytearray' objects>,\n",
              " <method 'rsplit' of 'bytearray' objects>,\n",
              " <method 'rstrip' of 'bytearray' objects>,\n",
              " <method 'split' of 'bytearray' objects>,\n",
              " <method 'splitlines' of 'bytearray' objects>,\n",
              " <method 'startswith' of 'bytearray' objects>,\n",
              " <method 'strip' of 'bytearray' objects>,\n",
              " <method 'swapcase' of 'bytearray' objects>,\n",
              " <method 'title' of 'bytearray' objects>,\n",
              " <method 'translate' of 'bytearray' objects>,\n",
              " <method 'upper' of 'bytearray' objects>,\n",
              " <method 'zfill' of 'bytearray' objects>,\n",
              " <weakref at 0x7cabf72742c0; to 'type' at 0x953480 (bytearray)>,\n",
              " {'__getattribute__': <slot wrapper '__getattribute__' of 'bytes_iterator' objects>,\n",
              "  '__iter__': <slot wrapper '__iter__' of 'bytes_iterator' objects>,\n",
              "  '__next__': <slot wrapper '__next__' of 'bytes_iterator' objects>,\n",
              "  '__length_hint__': <method '__length_hint__' of 'bytes_iterator' objects>,\n",
              "  '__reduce__': <method '__reduce__' of 'bytes_iterator' objects>,\n",
              "  '__setstate__': <method '__setstate__' of 'bytes_iterator' objects>,\n",
              "  '__doc__': None},\n",
              " <slot wrapper '__iter__' of 'bytes_iterator' objects>,\n",
              " <slot wrapper '__next__' of 'bytes_iterator' objects>,\n",
              " <method '__length_hint__' of 'bytes_iterator' objects>,\n",
              " <method '__reduce__' of 'bytes_iterator' objects>,\n",
              " <method '__setstate__' of 'bytes_iterator' objects>,\n",
              " <weakref at 0x7cabf72744f0; to 'type' at 0x959100 (bytes_iterator)>,\n",
              " {'__new__': <function bytes.__new__(*args, **kwargs)>,\n",
              "  '__repr__': <slot wrapper '__repr__' of 'bytes' objects>,\n",
              "  '__hash__': <slot wrapper '__hash__' of 'bytes' objects>,\n",
              "  '__str__': <slot wrapper '__str__' of 'bytes' objects>,\n",
              "  '__getattribute__': <slot wrapper '__getattribute__' of 'bytes' objects>,\n",
              "  '__lt__': <slot wrapper '__lt__' of 'bytes' objects>,\n",
              "  '__le__': <slot wrapper '__le__' of 'bytes' objects>,\n",
              "  '__eq__': <slot wrapper '__eq__' of 'bytes' objects>,\n",
              "  '__ne__': <slot wrapper '__ne__' of 'bytes' objects>,\n",
              "  '__gt__': <slot wrapper '__gt__' of 'bytes' objects>,\n",
              "  '__ge__': <slot wrapper '__ge__' of 'bytes' objects>,\n",
              "  '__iter__': <slot wrapper '__iter__' of 'bytes' objects>,\n",
              "  '__mod__': <slot wrapper '__mod__' of 'bytes' objects>,\n",
              "  '__rmod__': <slot wrapper '__rmod__' of 'bytes' objects>,\n",
              "  '__len__': <slot wrapper '__len__' of 'bytes' objects>,\n",
              "  '__getitem__': <slot wrapper '__getitem__' of 'bytes' objects>,\n",
              "  '__add__': <slot wrapper '__add__' of 'bytes' objects>,\n",
              "  '__mul__': <slot wrapper '__mul__' of 'bytes' objects>,\n",
              "  '__rmul__': <slot wrapper '__rmul__' of 'bytes' objects>,\n",
              "  '__contains__': <slot wrapper '__contains__' of 'bytes' objects>,\n",
              "  '__getnewargs__': <method '__getnewargs__' of 'bytes' objects>,\n",
              "  'capitalize': <method 'capitalize' of 'bytes' objects>,\n",
              "  'center': <method 'center' of 'bytes' objects>,\n",
              "  'count': <method 'count' of 'bytes' objects>,\n",
              "  'decode': <method 'decode' of 'bytes' objects>,\n",
              "  'endswith': <method 'endswith' of 'bytes' objects>,\n",
              "  'expandtabs': <method 'expandtabs' of 'bytes' objects>,\n",
              "  'find': <method 'find' of 'bytes' objects>,\n",
              "  'fromhex': <method 'fromhex' of 'bytes' objects>,\n",
              "  'hex': <method 'hex' of 'bytes' objects>,\n",
              "  'index': <method 'index' of 'bytes' objects>,\n",
              "  'isalnum': <method 'isalnum' of 'bytes' objects>,\n",
              "  'isalpha': <method 'isalpha' of 'bytes' objects>,\n",
              "  'isascii': <method 'isascii' of 'bytes' objects>,\n",
              "  'isdigit': <method 'isdigit' of 'bytes' objects>,\n",
              "  'islower': <method 'islower' of 'bytes' objects>,\n",
              "  'isspace': <method 'isspace' of 'bytes' objects>,\n",
              "  'istitle': <method 'istitle' of 'bytes' objects>,\n",
              "  'isupper': <method 'isupper' of 'bytes' objects>,\n",
              "  'join': <method 'join' of 'bytes' objects>,\n",
              "  'ljust': <method 'ljust' of 'bytes' objects>,\n",
              "  'lower': <method 'lower' of 'bytes' objects>,\n",
              "  'lstrip': <method 'lstrip' of 'bytes' objects>,\n",
              "  'maketrans': <staticmethod(<built-in method maketrans of type object at 0x95e060>)>,\n",
              "  'partition': <method 'partition' of 'bytes' objects>,\n",
              "  'replace': <method 'replace' of 'bytes' objects>,\n",
              "  'removeprefix': <method 'removeprefix' of 'bytes' objects>,\n",
              "  'removesuffix': <method 'removesuffix' of 'bytes' objects>,\n",
              "  'rfind': <method 'rfind' of 'bytes' objects>,\n",
              "  'rindex': <method 'rindex' of 'bytes' objects>,\n",
              "  'rjust': <method 'rjust' of 'bytes' objects>,\n",
              "  'rpartition': <method 'rpartition' of 'bytes' objects>,\n",
              "  'rsplit': <method 'rsplit' of 'bytes' objects>,\n",
              "  'rstrip': <method 'rstrip' of 'bytes' objects>,\n",
              "  'split': <method 'split' of 'bytes' objects>,\n",
              "  'splitlines': <method 'splitlines' of 'bytes' objects>,\n",
              "  'startswith': <method 'startswith' of 'bytes' objects>,\n",
              "  'strip': <method 'strip' of 'bytes' objects>,\n",
              "  'swapcase': <method 'swapcase' of 'bytes' objects>,\n",
              "  'title': <method 'title' of 'bytes' objects>,\n",
              "  'translate': <method 'translate' of 'bytes' objects>,\n",
              "  'upper': <method 'upper' of 'bytes' objects>,\n",
              "  'zfill': <method 'zfill' of 'bytes' objects>,\n",
              "  '__doc__': 'bytes(iterable_of_ints) -> bytes\\nbytes(string, encoding[, errors]) -> bytes\\nbytes(bytes_or_buffer) -> immutable copy of bytes_or_buffer\\nbytes(int) -> bytes object of size given by the parameter initialized with null bytes\\nbytes() -> empty bytes object\\n\\nConstruct an immutable array of bytes from:\\n  - an iterable yielding integers in range(256)\\n  - a text string encoded using the specified encoding\\n  - any object implementing the buffer API.\\n  - an integer'},\n",
              " <slot wrapper '__repr__' of 'bytes' objects>,\n",
              " <slot wrapper '__hash__' of 'bytes' objects>,\n",
              " <slot wrapper '__str__' of 'bytes' objects>,\n",
              " <slot wrapper '__getattribute__' of 'bytes' objects>,\n",
              " <slot wrapper '__lt__' of 'bytes' objects>,\n",
              " <slot wrapper '__le__' of 'bytes' objects>,\n",
              " <slot wrapper '__eq__' of 'bytes' objects>,\n",
              " <slot wrapper '__ne__' of 'bytes' objects>,\n",
              " <slot wrapper '__gt__' of 'bytes' objects>,\n",
              " <slot wrapper '__ge__' of 'bytes' objects>,\n",
              " <slot wrapper '__iter__' of 'bytes' objects>,\n",
              " <slot wrapper '__mod__' of 'bytes' objects>,\n",
              " <slot wrapper '__rmod__' of 'bytes' objects>,\n",
              " <slot wrapper '__len__' of 'bytes' objects>,\n",
              " <slot wrapper '__getitem__' of 'bytes' objects>,\n",
              " <slot wrapper '__add__' of 'bytes' objects>,\n",
              " <slot wrapper '__mul__' of 'bytes' objects>,\n",
              " <slot wrapper '__rmul__' of 'bytes' objects>,\n",
              " <slot wrapper '__contains__' of 'bytes' objects>,\n",
              " <method '__getnewargs__' of 'bytes' objects>,\n",
              " <method 'capitalize' of 'bytes' objects>,\n",
              " <method 'center' of 'bytes' objects>,\n",
              " <method 'count' of 'bytes' objects>,\n",
              " <method 'decode' of 'bytes' objects>,\n",
              " <method 'endswith' of 'bytes' objects>,\n",
              " <method 'expandtabs' of 'bytes' objects>,\n",
              " <method 'find' of 'bytes' objects>,\n",
              " <method 'fromhex' of 'bytes' objects>,\n",
              " <method 'hex' of 'bytes' objects>,\n",
              " <method 'index' of 'bytes' objects>,\n",
              " <method 'isalnum' of 'bytes' objects>,\n",
              " <method 'isalpha' of 'bytes' objects>,\n",
              " <method 'isascii' of 'bytes' objects>,\n",
              " <method 'isdigit' of 'bytes' objects>,\n",
              " <method 'islower' of 'bytes' objects>,\n",
              " <method 'isspace' of 'bytes' objects>,\n",
              " <method 'istitle' of 'bytes' objects>,\n",
              " <method 'isupper' of 'bytes' objects>,\n",
              " <method 'join' of 'bytes' objects>,\n",
              " <method 'ljust' of 'bytes' objects>,\n",
              " <method 'lower' of 'bytes' objects>,\n",
              " <method 'lstrip' of 'bytes' objects>,\n",
              " <staticmethod(<built-in method maketrans of type object at 0x95e060>)>,\n",
              " <method 'partition' of 'bytes' objects>,\n",
              " <method 'replace' of 'bytes' objects>,\n",
              " <method 'removeprefix' of 'bytes' objects>,\n",
              " <method 'removesuffix' of 'bytes' objects>,\n",
              " <method 'rfind' of 'bytes' objects>,\n",
              " <method 'rindex' of 'bytes' objects>,\n",
              " <method 'rjust' of 'bytes' objects>,\n",
              " <method 'rpartition' of 'bytes' objects>,\n",
              " <method 'rsplit' of 'bytes' objects>,\n",
              " <method 'rstrip' of 'bytes' objects>,\n",
              " <method 'split' of 'bytes' objects>,\n",
              " <method 'splitlines' of 'bytes' objects>,\n",
              " <method 'startswith' of 'bytes' objects>,\n",
              " <method 'strip' of 'bytes' objects>,\n",
              " <method 'swapcase' of 'bytes' objects>,\n",
              " <method 'title' of 'bytes' objects>,\n",
              " <method 'translate' of 'bytes' objects>,\n",
              " <method 'upper' of 'bytes' objects>,\n",
              " <method 'zfill' of 'bytes' objects>,\n",
              " <weakref at 0x7cabf72758f0; to 'type' at 0x95e060 (bytes)>,\n",
              " {'__repr__': <slot wrapper '__repr__' of 'builtin_function_or_method' objects>,\n",
              "  '__hash__': <slot wrapper '__hash__' of 'builtin_function_or_method' objects>,\n",
              "  '__call__': <slot wrapper '__call__' of 'builtin_function_or_method' objects>,\n",
              "  '__getattribute__': <slot wrapper '__getattribute__' of 'builtin_function_or_method' objects>,\n",
              "  '__lt__': <slot wrapper '__lt__' of 'builtin_function_or_method' objects>,\n",
              "  '__le__': <slot wrapper '__le__' of 'builtin_function_or_method' objects>,\n",
              "  '__eq__': <slot wrapper '__eq__' of 'builtin_function_or_method' objects>,\n",
              "  '__ne__': <slot wrapper '__ne__' of 'builtin_function_or_method' objects>,\n",
              "  '__gt__': <slot wrapper '__gt__' of 'builtin_function_or_method' objects>,\n",
              "  '__ge__': <slot wrapper '__ge__' of 'builtin_function_or_method' objects>,\n",
              "  '__reduce__': <method '__reduce__' of 'builtin_function_or_method' objects>,\n",
              "  '__module__': <member '__module__' of 'builtin_function_or_method' objects>,\n",
              "  '__doc__': <attribute '__doc__' of 'builtin_function_or_method' objects>,\n",
              "  '__name__': <attribute '__name__' of 'builtin_function_or_method' objects>,\n",
              "  '__qualname__': <attribute '__qualname__' of 'builtin_function_or_method' objects>,\n",
              "  '__self__': <attribute '__self__' of 'builtin_function_or_method' objects>,\n",
              "  '__text_signature__': <attribute '__text_signature__' of 'builtin_function_or_method' objects>},\n",
              " <slot wrapper '__hash__' of 'builtin_function_or_method' objects>,\n",
              " <slot wrapper '__call__' of 'builtin_function_or_method' objects>,\n",
              " <slot wrapper '__getattribute__' of 'builtin_function_or_method' objects>,\n",
              " <slot wrapper '__lt__' of 'builtin_function_or_method' objects>,\n",
              " <slot wrapper '__le__' of 'builtin_function_or_method' objects>,\n",
              " <slot wrapper '__eq__' of 'builtin_function_or_method' objects>,\n",
              " <slot wrapper '__ne__' of 'builtin_function_or_method' objects>,\n",
              " <slot wrapper '__gt__' of 'builtin_function_or_method' objects>,\n",
              " <slot wrapper '__ge__' of 'builtin_function_or_method' objects>,\n",
              " <method '__reduce__' of 'builtin_function_or_method' objects>,\n",
              " <member '__module__' of 'builtin_function_or_method' objects>,\n",
              " <attribute '__doc__' of 'builtin_function_or_method' objects>,\n",
              " <attribute '__name__' of 'builtin_function_or_method' objects>,\n",
              " <attribute '__qualname__' of 'builtin_function_or_method' objects>,\n",
              " <attribute '__self__' of 'builtin_function_or_method' objects>,\n",
              " <attribute '__text_signature__' of 'builtin_function_or_method' objects>,\n",
              " <weakref at 0x7cabf7275cb0; to 'type' at 0x94c980 (builtin_function_or_method)>,\n",
              " {9750080: <weakref at 0x7cabf7275d00; to 'type' at 0x94c640 (builtin_method)>},\n",
              " {'__getattribute__': <slot wrapper '__getattribute__' of 'callable_iterator' objects>,\n",
              "  '__iter__': <slot wrapper '__iter__' of 'callable_iterator' objects>,\n",
              "  '__next__': <slot wrapper '__next__' of 'callable_iterator' objects>,\n",
              "  '__reduce__': <method '__reduce__' of 'callable_iterator' objects>,\n",
              "  '__doc__': None},\n",
              " <slot wrapper '__iter__' of 'callable_iterator' objects>,\n",
              " <slot wrapper '__next__' of 'callable_iterator' objects>,\n",
              " <method '__reduce__' of 'callable_iterator' objects>,\n",
              " <weakref at 0x7cabf7275e90; to 'type' at 0x94d800 (callable_iterator)>,\n",
              " {'__repr__': <slot wrapper '__repr__' of 'PyCapsule' objects>,\n",
              "  '__doc__': 'Capsule objects let you wrap a C \"void *\" pointer in a Python\\nobject.  They\\'re a way of passing data through the Python interpreter\\nwithout creating your own custom type.\\n\\nCapsules are used for communication between extension modules.\\nThey provide a way for an extension module to export a C interface\\nto other extension modules, so that extension modules can use the\\nPython import mechanism to link to one another.\\n'},\n",
              " <weakref at 0x7cabf7275f30; to 'type' at 0x952820 (PyCapsule)>,\n",
              " {'__new__': <function cell.__new__(*args, **kwargs)>,\n",
              "  '__repr__': <slot wrapper '__repr__' of 'cell' objects>,\n",
              "  '__getattribute__': <slot wrapper '__getattribute__' of 'cell' objects>,\n",
              "  '__lt__': <slot wrapper '__lt__' of 'cell' objects>,\n",
              "  '__le__': <slot wrapper '__le__' of 'cell' objects>,\n",
              "  '__eq__': <slot wrapper '__eq__' of 'cell' objects>,\n",
              "  '__ne__': <slot wrapper '__ne__' of 'cell' objects>,\n",
              "  '__gt__': <slot wrapper '__gt__' of 'cell' objects>,\n",
              "  '__ge__': <slot wrapper '__ge__' of 'cell' objects>,\n",
              "  'cell_contents': <attribute 'cell_contents' of 'cell' objects>,\n",
              "  '__doc__': 'Create a new cell object.\\n\\n  contents\\n    the contents of the cell. If not specified, the cell will be empty,\\n    and \\n further attempts to access its cell_contents attribute will\\n    raise a ValueError.',\n",
              "  '__hash__': None},\n",
              " <slot wrapper '__repr__' of 'cell' objects>,\n",
              " <slot wrapper '__getattribute__' of 'cell' objects>,\n",
              " <slot wrapper '__lt__' of 'cell' objects>,\n",
              " <slot wrapper '__le__' of 'cell' objects>,\n",
              " <slot wrapper '__eq__' of 'cell' objects>,\n",
              " <slot wrapper '__ne__' of 'cell' objects>,\n",
              " <slot wrapper '__gt__' of 'cell' objects>,\n",
              " <slot wrapper '__ge__' of 'cell' objects>,\n",
              " <attribute 'cell_contents' of 'cell' objects>,\n",
              " <weakref at 0x7cabf7276250; to 'type' at 0x95e3a0 (cell)>,\n",
              " {'__repr__': <slot wrapper '__repr__' of 'classmethod_descriptor' objects>,\n",
              "  '__call__': <slot wrapper '__call__' of 'classmethod_descriptor' objects>,\n",
              "  '__getattribute__': <slot wrapper '__getattribute__' of 'classmethod_descriptor' objects>,\n",
              "  '__get__': <slot wrapper '__get__' of 'classmethod_descriptor' objects>,\n",
              "  '__objclass__': <member '__objclass__' of 'classmethod_descriptor' objects>,\n",
              "  '__name__': <member '__name__' of 'classmethod_descriptor' objects>,\n",
              "  '__doc__': <attribute '__doc__' of 'classmethod_descriptor' objects>,\n",
              "  '__qualname__': <attribute '__qualname__' of 'classmethod_descriptor' objects>,\n",
              "  '__text_signature__': <attribute '__text_signature__' of 'classmethod_descriptor' objects>},\n",
              " <slot wrapper '__call__' of 'classmethod_descriptor' objects>,\n",
              " <slot wrapper '__getattribute__' of 'classmethod_descriptor' objects>,\n",
              " <slot wrapper '__get__' of 'classmethod_descriptor' objects>,\n",
              " <member '__objclass__' of 'classmethod_descriptor' objects>,\n",
              " <member '__name__' of 'classmethod_descriptor' objects>,\n",
              " <attribute '__doc__' of 'classmethod_descriptor' objects>,\n",
              " <attribute '__qualname__' of 'classmethod_descriptor' objects>,\n",
              " <attribute '__text_signature__' of 'classmethod_descriptor' objects>,\n",
              " <weakref at 0x7cabf72763e0; to 'type' at 0x950dc0 (classmethod_descriptor)>,\n",
              " {'__new__': <function classmethod.__new__(*args, **kwargs)>,\n",
              "  '__repr__': <slot wrapper '__repr__' of 'classmethod' objects>,\n",
              "  '__get__': <slot wrapper '__get__' of 'classmethod' objects>,\n",
              "  '__init__': <slot wrapper '__init__' of 'classmethod' objects>,\n",
              "  '__func__': <member '__func__' of 'classmethod' objects>,\n",
              "  '__wrapped__': <member '__wrapped__' of 'classmethod' objects>,\n",
              "  '__isabstractmethod__': <attribute '__isabstractmethod__' of 'classmethod' objects>,\n",
              "  '__dict__': <attribute '__dict__' of 'classmethod' objects>,\n",
              "  '__doc__': 'classmethod(function) -> method\\n\\nConvert a function to be a class method.\\n\\nA class method receives the class as implicit first argument,\\njust like an instance method receives the instance.\\nTo declare a class method, use this idiom:\\n\\n  class C:\\n      @classmethod\\n      def f(cls, arg1, arg2, ...):\\n          ...\\n\\nIt can be called either on the class (e.g. C.f()) or on an instance\\n(e.g. C().f()).  The instance is ignored except for its class.\\nIf a class method is called for a derived class, the derived class\\nobject is passed as the implied first argument.\\n\\nClass methods are different than C++ or Java static methods.\\nIf you want those, see the staticmethod builtin.'},\n",
              " <slot wrapper '__repr__' of 'classmethod' objects>,\n",
              " <slot wrapper '__get__' of 'classmethod' objects>,\n",
              " <slot wrapper '__init__' of 'classmethod' objects>,\n",
              " <member '__func__' of 'classmethod' objects>,\n",
              " <member '__wrapped__' of 'classmethod' objects>,\n",
              " <attribute '__isabstractmethod__' of 'classmethod' objects>,\n",
              " <attribute '__dict__' of 'classmethod' objects>,\n",
              " <weakref at 0x7cabf72765c0; to 'type' at 0x94e220 (classmethod)>,\n",
              " {'__new__': <function code.__new__(*args, **kwargs)>,\n",
              "  '__repr__': <slot wrapper '__repr__' of 'code' objects>,\n",
              "  '__hash__': <slot wrapper '__hash__' of 'code' objects>,\n",
              "  '__getattribute__': <slot wrapper '__getattribute__' of 'code' objects>,\n",
              "  '__lt__': <slot wrapper '__lt__' of 'code' objects>,\n",
              "  '__le__': <slot wrapper '__le__' of 'code' objects>,\n",
              "  '__eq__': <slot wrapper '__eq__' of 'code' objects>,\n",
              "  '__ne__': <slot wrapper '__ne__' of 'code' objects>,\n",
              "  '__gt__': <slot wrapper '__gt__' of 'code' objects>,\n",
              "  '__ge__': <slot wrapper '__ge__' of 'code' objects>,\n",
              "  '__sizeof__': <method '__sizeof__' of 'code' objects>,\n",
              "  'co_lines': <method 'co_lines' of 'code' objects>,\n",
              "  'replace': <method 'replace' of 'code' objects>,\n",
              "  'co_argcount': <member 'co_argcount' of 'code' objects>,\n",
              "  'co_posonlyargcount': <member 'co_posonlyargcount' of 'code' objects>,\n",
              "  'co_kwonlyargcount': <member 'co_kwonlyargcount' of 'code' objects>,\n",
              "  'co_nlocals': <member 'co_nlocals' of 'code' objects>,\n",
              "  'co_stacksize': <member 'co_stacksize' of 'code' objects>,\n",
              "  'co_flags': <member 'co_flags' of 'code' objects>,\n",
              "  'co_code': <member 'co_code' of 'code' objects>,\n",
              "  'co_consts': <member 'co_consts' of 'code' objects>,\n",
              "  'co_names': <member 'co_names' of 'code' objects>,\n",
              "  'co_varnames': <member 'co_varnames' of 'code' objects>,\n",
              "  'co_freevars': <member 'co_freevars' of 'code' objects>,\n",
              "  'co_cellvars': <member 'co_cellvars' of 'code' objects>,\n",
              "  'co_filename': <member 'co_filename' of 'code' objects>,\n",
              "  'co_name': <member 'co_name' of 'code' objects>,\n",
              "  'co_firstlineno': <member 'co_firstlineno' of 'code' objects>,\n",
              "  'co_linetable': <member 'co_linetable' of 'code' objects>,\n",
              "  'co_lnotab': <attribute 'co_lnotab' of 'code' objects>,\n",
              "  '__doc__': 'Create a code object.  Not for the faint of heart.'},\n",
              " <slot wrapper '__repr__' of 'code' objects>,\n",
              " <slot wrapper '__hash__' of 'code' objects>,\n",
              " <slot wrapper '__getattribute__' of 'code' objects>,\n",
              " <slot wrapper '__lt__' of 'code' objects>,\n",
              " <slot wrapper '__le__' of 'code' objects>,\n",
              " <slot wrapper '__eq__' of 'code' objects>,\n",
              " <slot wrapper '__ne__' of 'code' objects>,\n",
              " <slot wrapper '__gt__' of 'code' objects>,\n",
              " <slot wrapper '__ge__' of 'code' objects>,\n",
              " <method '__sizeof__' of 'code' objects>,\n",
              " <method 'co_lines' of 'code' objects>,\n",
              " <method 'replace' of 'code' objects>,\n",
              " <member 'co_argcount' of 'code' objects>,\n",
              " <member 'co_posonlyargcount' of 'code' objects>,\n",
              " <member 'co_kwonlyargcount' of 'code' objects>,\n",
              " <member 'co_nlocals' of 'code' objects>,\n",
              " <member 'co_stacksize' of 'code' objects>,\n",
              " <member 'co_flags' of 'code' objects>,\n",
              " <member 'co_code' of 'code' objects>,\n",
              " <member 'co_consts' of 'code' objects>,\n",
              " <member 'co_names' of 'code' objects>,\n",
              " <member 'co_varnames' of 'code' objects>,\n",
              " <member 'co_freevars' of 'code' objects>,\n",
              " <member 'co_cellvars' of 'code' objects>,\n",
              " <member 'co_filename' of 'code' objects>,\n",
              " <member 'co_name' of 'code' objects>,\n",
              " <member 'co_firstlineno' of 'code' objects>,\n",
              " <member 'co_linetable' of 'code' objects>,\n",
              " <attribute 'co_lnotab' of 'code' objects>,\n",
              " <weakref at 0x7cabf7276ac0; to 'type' at 0x952100 (code)>,\n",
              " {'__new__': <function complex.__new__(*args, **kwargs)>,\n",
              "  '__repr__': <slot wrapper '__repr__' of 'complex' objects>,\n",
              "  '__hash__': <slot wrapper '__hash__' of 'complex' objects>,\n",
              "  '__getattribute__': <slot wrapper '__getattribute__' of 'complex' objects>,\n",
              "  '__lt__': <slot wrapper '__lt__' of 'complex' objects>,\n",
              "  '__le__': <slot wrapper '__le__' of 'complex' objects>,\n",
              "  '__eq__': <slot wrapper '__eq__' of 'complex' objects>,\n",
              "  '__ne__': <slot wrapper '__ne__' of 'complex' objects>,\n",
              "  '__gt__': <slot wrapper '__gt__' of 'complex' objects>,\n",
              "  '__ge__': <slot wrapper '__ge__' of 'complex' objects>,\n",
              "  '__add__': <slot wrapper '__add__' of 'complex' objects>,\n",
              "  '__radd__': <slot wrapper '__radd__' of 'complex' objects>,\n",
              "  '__sub__': <slot wrapper '__sub__' of 'complex' objects>,\n",
              "  '__rsub__': <slot wrapper '__rsub__' of 'complex' objects>,\n",
              "  '__mul__': <slot wrapper '__mul__' of 'complex' objects>,\n",
              "  '__rmul__': <slot wrapper '__rmul__' of 'complex' objects>,\n",
              "  '__pow__': <slot wrapper '__pow__' of 'complex' objects>,\n",
              "  '__rpow__': <slot wrapper '__rpow__' of 'complex' objects>,\n",
              "  '__neg__': <slot wrapper '__neg__' of 'complex' objects>,\n",
              "  '__pos__': <slot wrapper '__pos__' of 'complex' objects>,\n",
              "  '__abs__': <slot wrapper '__abs__' of 'complex' objects>,\n",
              "  '__bool__': <slot wrapper '__bool__' of 'complex' objects>,\n",
              "  '__truediv__': <slot wrapper '__truediv__' of 'complex' objects>,\n",
              "  '__rtruediv__': <slot wrapper '__rtruediv__' of 'complex' objects>,\n",
              "  'conjugate': <method 'conjugate' of 'complex' objects>,\n",
              "  '__getnewargs__': <method '__getnewargs__' of 'complex' objects>,\n",
              "  '__format__': <method '__format__' of 'complex' objects>,\n",
              "  'real': <member 'real' of 'complex' objects>,\n",
              "  'imag': <member 'imag' of 'complex' objects>,\n",
              "  '__doc__': 'Create a complex number from a real part and an optional imaginary part.\\n\\nThis is equivalent to (real + imag*1j) where imag defaults to 0.'},\n",
              " <slot wrapper '__repr__' of 'complex' objects>,\n",
              " <slot wrapper '__hash__' of 'complex' objects>,\n",
              " <slot wrapper '__getattribute__' of 'complex' objects>,\n",
              " <slot wrapper '__lt__' of 'complex' objects>,\n",
              " <slot wrapper '__le__' of 'complex' objects>,\n",
              " <slot wrapper '__eq__' of 'complex' objects>,\n",
              " <slot wrapper '__ne__' of 'complex' objects>,\n",
              " <slot wrapper '__gt__' of 'complex' objects>,\n",
              " <slot wrapper '__ge__' of 'complex' objects>,\n",
              " <slot wrapper '__add__' of 'complex' objects>,\n",
              " <slot wrapper '__radd__' of 'complex' objects>,\n",
              " <slot wrapper '__sub__' of 'complex' objects>,\n",
              " <slot wrapper '__rsub__' of 'complex' objects>,\n",
              " <slot wrapper '__mul__' of 'complex' objects>,\n",
              " <slot wrapper '__rmul__' of 'complex' objects>,\n",
              " <slot wrapper '__pow__' of 'complex' objects>,\n",
              " <slot wrapper '__rpow__' of 'complex' objects>,\n",
              " <slot wrapper '__neg__' of 'complex' objects>,\n",
              " <slot wrapper '__pos__' of 'complex' objects>,\n",
              " <slot wrapper '__abs__' of 'complex' objects>,\n",
              " <slot wrapper '__bool__' of 'complex' objects>,\n",
              " <slot wrapper '__truediv__' of 'complex' objects>,\n",
              " <slot wrapper '__rtruediv__' of 'complex' objects>,\n",
              " <method 'conjugate' of 'complex' objects>,\n",
              " <method '__getnewargs__' of 'complex' objects>,\n",
              " <method '__format__' of 'complex' objects>,\n",
              " <member 'real' of 'complex' objects>,\n",
              " <member 'imag' of 'complex' objects>,\n",
              " <weakref at 0x7cabf7277380; to 'type' at 0x95eaa0 (complex)>,\n",
              " {'__repr__': <slot wrapper '__repr__' of 'coroutine' objects>,\n",
              "  '__getattribute__': <slot wrapper '__getattribute__' of 'coroutine' objects>,\n",
              "  '__del__': <slot wrapper '__del__' of 'coroutine' objects>,\n",
              "  '__await__': <slot wrapper '__await__' of 'coroutine' objects>,\n",
              "  'send': <method 'send' of 'coroutine' objects>,\n",
              "  'throw': <method 'throw' of 'coroutine' objects>,\n",
              "  'close': <method 'close' of 'coroutine' objects>,\n",
              "  'cr_frame': <member 'cr_frame' of 'coroutine' objects>,\n",
              "  'cr_code': <member 'cr_code' of 'coroutine' objects>,\n",
              "  'cr_origin': <member 'cr_origin' of 'coroutine' objects>,\n",
              "  '__name__': <attribute '__name__' of 'coroutine' objects>,\n",
              "  '__qualname__': <attribute '__qualname__' of 'coroutine' objects>,\n",
              "  'cr_await': <attribute 'cr_await' of 'coroutine' objects>,\n",
              "  'cr_running': <attribute 'cr_running' of 'coroutine' objects>,\n",
              "  '__doc__': None},\n",
              " <slot wrapper '__getattribute__' of 'coroutine' objects>,\n",
              " <slot wrapper '__del__' of 'coroutine' objects>,\n",
              " <slot wrapper '__await__' of 'coroutine' objects>,\n",
              " <method 'send' of 'coroutine' objects>,\n",
              " <method 'throw' of 'coroutine' objects>,\n",
              " <method 'close' of 'coroutine' objects>,\n",
              " <member 'cr_frame' of 'coroutine' objects>,\n",
              " <member 'cr_code' of 'coroutine' objects>,\n",
              " <member 'cr_origin' of 'coroutine' objects>,\n",
              " <attribute '__name__' of 'coroutine' objects>,\n",
              " <attribute '__qualname__' of 'coroutine' objects>,\n",
              " <attribute 'cr_await' of 'coroutine' objects>,\n",
              " <attribute 'cr_running' of 'coroutine' objects>,\n",
              " <weakref at 0x7cabf7277600; to 'type' at 0x94fd00 (coroutine)>,\n",
              " {'__repr__': <slot wrapper '__repr__' of 'dict_items' objects>,\n",
              "  '__getattribute__': <slot wrapper '__getattribute__' of 'dict_items' objects>,\n",
              "  '__lt__': <slot wrapper '__lt__' of 'dict_items' objects>,\n",
              "  '__le__': <slot wrapper '__le__' of 'dict_items' objects>,\n",
              "  '__eq__': <slot wrapper '__eq__' of 'dict_items' objects>,\n",
              "  '__ne__': <slot wrapper '__ne__' of 'dict_items' objects>,\n",
              "  '__gt__': <slot wrapper '__gt__' of 'dict_items' objects>,\n",
              "  '__ge__': <slot wrapper '__ge__' of 'dict_items' objects>,\n",
              "  '__iter__': <slot wrapper '__iter__' of 'dict_items' objects>,\n",
              "  '__sub__': <slot wrapper '__sub__' of 'dict_items' objects>,\n",
              "  '__rsub__': <slot wrapper '__rsub__' of 'dict_items' objects>,\n",
              "  '__and__': <slot wrapper '__and__' of 'dict_items' objects>,\n",
              "  '__rand__': <slot wrapper '__rand__' of 'dict_items' objects>,\n",
              "  '__xor__': <slot wrapper '__xor__' of 'dict_items' objects>,\n",
              "  '__rxor__': <slot wrapper '__rxor__' of 'dict_items' objects>,\n",
              "  '__or__': <slot wrapper '__or__' of 'dict_items' objects>,\n",
              "  '__ror__': <slot wrapper '__ror__' of 'dict_items' objects>,\n",
              "  '__len__': <slot wrapper '__len__' of 'dict_items' objects>,\n",
              "  '__contains__': <slot wrapper '__contains__' of 'dict_items' objects>,\n",
              "  'isdisjoint': <method 'isdisjoint' of 'dict_items' objects>,\n",
              "  '__reversed__': <method '__reversed__' of 'dict_items' objects>,\n",
              "  'mapping': <attribute 'mapping' of 'dict_items' objects>,\n",
              "  '__doc__': None,\n",
              "  '__hash__': None},\n",
              " <slot wrapper '__getattribute__' of 'dict_items' objects>,\n",
              " <slot wrapper '__lt__' of 'dict_items' objects>,\n",
              " <slot wrapper '__le__' of 'dict_items' objects>,\n",
              " <slot wrapper '__eq__' of 'dict_items' objects>,\n",
              " <slot wrapper '__ne__' of 'dict_items' objects>,\n",
              " <slot wrapper '__gt__' of 'dict_items' objects>,\n",
              " <slot wrapper '__ge__' of 'dict_items' objects>,\n",
              " <slot wrapper '__iter__' of 'dict_items' objects>,\n",
              " <slot wrapper '__sub__' of 'dict_items' objects>,\n",
              " <slot wrapper '__rsub__' of 'dict_items' objects>,\n",
              " <slot wrapper '__and__' of 'dict_items' objects>,\n",
              " <slot wrapper '__rand__' of 'dict_items' objects>,\n",
              " <slot wrapper '__xor__' of 'dict_items' objects>,\n",
              " <slot wrapper '__rxor__' of 'dict_items' objects>,\n",
              " <slot wrapper '__or__' of 'dict_items' objects>,\n",
              " <slot wrapper '__ror__' of 'dict_items' objects>,\n",
              " <slot wrapper '__len__' of 'dict_items' objects>,\n",
              " <slot wrapper '__contains__' of 'dict_items' objects>,\n",
              " <method 'isdisjoint' of 'dict_items' objects>,\n",
              " <method '__reversed__' of 'dict_items' objects>,\n",
              " <attribute 'mapping' of 'dict_items' objects>,\n",
              " <weakref at 0x7cabf7277ce0; to 'type' at 0x957100 (dict_items)>,\n",
              " {'__getattribute__': <slot wrapper '__getattribute__' of 'dict_itemiterator' objects>,\n",
              "  '__iter__': <slot wrapper '__iter__' of 'dict_itemiterator' objects>,\n",
              "  '__next__': <slot wrapper '__next__' of 'dict_itemiterator' objects>,\n",
              "  '__length_hint__': <method '__length_hint__' of 'dict_itemiterator' objects>,\n",
              "  '__reduce__': <method '__reduce__' of 'dict_itemiterator' objects>,\n",
              "  '__doc__': None},\n",
              " <slot wrapper '__iter__' of 'dict_itemiterator' objects>,\n",
              " <slot wrapper '__next__' of 'dict_itemiterator' objects>,\n",
              " <method '__length_hint__' of 'dict_itemiterator' objects>,\n",
              " <method '__reduce__' of 'dict_itemiterator' objects>,\n",
              " <weakref at 0x7cabf7277ec0; to 'type' at 0x957820 (dict_itemiterator)>,\n",
              " {'__getattribute__': <slot wrapper '__getattribute__' of 'dict_keyiterator' objects>,\n",
              "  '__iter__': <slot wrapper '__iter__' of 'dict_keyiterator' objects>,\n",
              "  '__next__': <slot wrapper '__next__' of 'dict_keyiterator' objects>,\n",
              "  '__length_hint__': <method '__length_hint__' of 'dict_keyiterator' objects>,\n",
              "  '__reduce__': <method '__reduce__' of 'dict_keyiterator' objects>,\n",
              "  '__doc__': None},\n",
              " <slot wrapper '__iter__' of 'dict_keyiterator' objects>,\n",
              " <slot wrapper '__next__' of 'dict_keyiterator' objects>,\n",
              " <method '__length_hint__' of 'dict_keyiterator' objects>,\n",
              " <method '__reduce__' of 'dict_keyiterator' objects>,\n",
              " <weakref at 0x7cabf72900e0; to 'type' at 0x957680 (dict_keyiterator)>,\n",
              " {'__getattribute__': <slot wrapper '__getattribute__' of 'dict_valueiterator' objects>,\n",
              "  '__iter__': <slot wrapper '__iter__' of 'dict_valueiterator' objects>,\n",
              "  '__next__': <slot wrapper '__next__' of 'dict_valueiterator' objects>,\n",
              "  '__length_hint__': <method '__length_hint__' of 'dict_valueiterator' objects>,\n",
              "  '__reduce__': <method '__reduce__' of 'dict_valueiterator' objects>,\n",
              "  '__doc__': None},\n",
              " <slot wrapper '__iter__' of 'dict_valueiterator' objects>,\n",
              " <slot wrapper '__next__' of 'dict_valueiterator' objects>,\n",
              " <method '__length_hint__' of 'dict_valueiterator' objects>,\n",
              " <method '__reduce__' of 'dict_valueiterator' objects>,\n",
              " <weakref at 0x7cabf72902c0; to 'type' at 0x956ea0 (dict_valueiterator)>,\n",
              " {'__repr__': <slot wrapper '__repr__' of 'dict_keys' objects>,\n",
              "  '__getattribute__': <slot wrapper '__getattribute__' of 'dict_keys' objects>,\n",
              "  '__lt__': <slot wrapper '__lt__' of 'dict_keys' objects>,\n",
              "  '__le__': <slot wrapper '__le__' of 'dict_keys' objects>,\n",
              "  '__eq__': <slot wrapper '__eq__' of 'dict_keys' objects>,\n",
              "  '__ne__': <slot wrapper '__ne__' of 'dict_keys' objects>,\n",
              "  '__gt__': <slot wrapper '__gt__' of 'dict_keys' objects>,\n",
              "  '__ge__': <slot wrapper '__ge__' of 'dict_keys' objects>,\n",
              "  '__iter__': <slot wrapper '__iter__' of 'dict_keys' objects>,\n",
              "  '__sub__': <slot wrapper '__sub__' of 'dict_keys' objects>,\n",
              "  '__rsub__': <slot wrapper '__rsub__' of 'dict_keys' objects>,\n",
              "  '__and__': <slot wrapper '__and__' of 'dict_keys' objects>,\n",
              "  '__rand__': <slot wrapper '__rand__' of 'dict_keys' objects>,\n",
              "  '__xor__': <slot wrapper '__xor__' of 'dict_keys' objects>,\n",
              "  '__rxor__': <slot wrapper '__rxor__' of 'dict_keys' objects>,\n",
              "  '__or__': <slot wrapper '__or__' of 'dict_keys' objects>,\n",
              "  '__ror__': <slot wrapper '__ror__' of 'dict_keys' objects>,\n",
              "  '__len__': <slot wrapper '__len__' of 'dict_keys' objects>,\n",
              "  '__contains__': <slot wrapper '__contains__' of 'dict_keys' objects>,\n",
              "  'isdisjoint': <method 'isdisjoint' of 'dict_keys' objects>,\n",
              "  '__reversed__': <method '__reversed__' of 'dict_keys' objects>,\n",
              "  'mapping': <attribute 'mapping' of 'dict_keys' objects>,\n",
              "  '__doc__': None,\n",
              "  '__hash__': None},\n",
              " <slot wrapper '__getattribute__' of 'dict_keys' objects>,\n",
              " <slot wrapper '__lt__' of 'dict_keys' objects>,\n",
              " <slot wrapper '__le__' of 'dict_keys' objects>,\n",
              " <slot wrapper '__eq__' of 'dict_keys' objects>,\n",
              " <slot wrapper '__ne__' of 'dict_keys' objects>,\n",
              " <slot wrapper '__gt__' of 'dict_keys' objects>,\n",
              " <slot wrapper '__ge__' of 'dict_keys' objects>,\n",
              " <slot wrapper '__iter__' of 'dict_keys' objects>,\n",
              " <slot wrapper '__sub__' of 'dict_keys' objects>,\n",
              " <slot wrapper '__rsub__' of 'dict_keys' objects>,\n",
              " <slot wrapper '__and__' of 'dict_keys' objects>,\n",
              " <slot wrapper '__rand__' of 'dict_keys' objects>,\n",
              " <slot wrapper '__xor__' of 'dict_keys' objects>,\n",
              " <slot wrapper '__rxor__' of 'dict_keys' objects>,\n",
              " <slot wrapper '__or__' of 'dict_keys' objects>,\n",
              " <slot wrapper '__ror__' of 'dict_keys' objects>,\n",
              " <slot wrapper '__len__' of 'dict_keys' objects>,\n",
              " <slot wrapper '__contains__' of 'dict_keys' objects>,\n",
              " <method 'isdisjoint' of 'dict_keys' objects>,\n",
              " <method '__reversed__' of 'dict_keys' objects>,\n",
              " <attribute 'mapping' of 'dict_keys' objects>,\n",
              " <weakref at 0x7cabf72909a0; to 'type' at 0x9574e0 (dict_keys)>,\n",
              " {'__new__': <function mappingproxy.__new__(*args, **kwargs)>,\n",
              "  '__repr__': <slot wrapper '__repr__' of 'mappingproxy' objects>,\n",
              "  '__str__': <slot wrapper '__str__' of 'mappingproxy' objects>,\n",
              "  '__getattribute__': <slot wrapper '__getattribute__' of 'mappingproxy' objects>,\n",
              "  '__lt__': <slot wrapper '__lt__' of 'mappingproxy' objects>,\n",
              "  '__le__': <slot wrapper '__le__' of 'mappingproxy' objects>,\n",
              "  '__eq__': <slot wrapper '__eq__' of 'mappingproxy' objects>,\n",
              "  '__ne__': <slot wrapper '__ne__' of 'mappingproxy' objects>,\n",
              "  '__gt__': <slot wrapper '__gt__' of 'mappingproxy' objects>,\n",
              "  '__ge__': <slot wrapper '__ge__' of 'mappingproxy' objects>,\n",
              "  '__iter__': <slot wrapper '__iter__' of 'mappingproxy' objects>,\n",
              "  '__or__': <slot wrapper '__or__' of 'mappingproxy' objects>,\n",
              "  '__ror__': <slot wrapper '__ror__' of 'mappingproxy' objects>,\n",
              "  '__ior__': <slot wrapper '__ior__' of 'mappingproxy' objects>,\n",
              "  '__len__': <slot wrapper '__len__' of 'mappingproxy' objects>,\n",
              "  '__getitem__': <slot wrapper '__getitem__' of 'mappingproxy' objects>,\n",
              "  '__contains__': <slot wrapper '__contains__' of 'mappingproxy' objects>,\n",
              "  'get': <method 'get' of 'mappingproxy' objects>,\n",
              "  'keys': <method 'keys' of 'mappingproxy' objects>,\n",
              "  'values': <method 'values' of 'mappingproxy' objects>,\n",
              "  'items': <method 'items' of 'mappingproxy' objects>,\n",
              "  'copy': <method 'copy' of 'mappingproxy' objects>,\n",
              "  '__class_getitem__': <method '__class_getitem__' of 'mappingproxy' objects>,\n",
              "  '__reversed__': <method '__reversed__' of 'mappingproxy' objects>,\n",
              "  '__doc__': None,\n",
              "  '__hash__': None},\n",
              " <slot wrapper '__repr__' of 'mappingproxy' objects>,\n",
              " <slot wrapper '__str__' of 'mappingproxy' objects>,\n",
              " <slot wrapper '__getattribute__' of 'mappingproxy' objects>,\n",
              " <slot wrapper '__lt__' of 'mappingproxy' objects>,\n",
              " <slot wrapper '__le__' of 'mappingproxy' objects>,\n",
              " <slot wrapper '__eq__' of 'mappingproxy' objects>,\n",
              " <slot wrapper '__ne__' of 'mappingproxy' objects>,\n",
              " <slot wrapper '__gt__' of 'mappingproxy' objects>,\n",
              " <slot wrapper '__ge__' of 'mappingproxy' objects>,\n",
              " <slot wrapper '__iter__' of 'mappingproxy' objects>,\n",
              " <slot wrapper '__or__' of 'mappingproxy' objects>,\n",
              " <slot wrapper '__ror__' of 'mappingproxy' objects>,\n",
              " <slot wrapper '__ior__' of 'mappingproxy' objects>,\n",
              " <slot wrapper '__len__' of 'mappingproxy' objects>,\n",
              " <slot wrapper '__getitem__' of 'mappingproxy' objects>,\n",
              " <slot wrapper '__contains__' of 'mappingproxy' objects>,\n",
              " <method 'get' of 'mappingproxy' objects>,\n",
              " <method 'keys' of 'mappingproxy' objects>,\n",
              " <method 'values' of 'mappingproxy' objects>,\n",
              " <method 'items' of 'mappingproxy' objects>,\n",
              " <method 'copy' of 'mappingproxy' objects>,\n",
              " <method '__class_getitem__' of 'mappingproxy' objects>,\n",
              " <method '__reversed__' of 'mappingproxy' objects>,\n",
              " <weakref at 0x7cabf7291170; to 'type' at 0x951880 (mappingproxy)>,\n",
              " {'__iter__': <slot wrapper '__iter__' of 'dict_reverseitemiterator' objects>,\n",
              "  '__next__': <slot wrapper '__next__' of 'dict_reverseitemiterator' objects>,\n",
              "  '__length_hint__': <method '__length_hint__' of 'dict_reverseitemiterator' objects>,\n",
              "  '__reduce__': <method '__reduce__' of 'dict_reverseitemiterator' objects>,\n",
              "  '__doc__': None},\n",
              " <slot wrapper '__next__' of 'dict_reverseitemiterator' objects>,\n",
              " <method '__length_hint__' of 'dict_reverseitemiterator' objects>,\n",
              " <method '__reduce__' of 'dict_reverseitemiterator' objects>,\n",
              " <weakref at 0x7cabf7291300; to 'type' at 0x957b60 (dict_reverseitemiterator)>,\n",
              " {'__iter__': <slot wrapper '__iter__' of 'dict_reversekeyiterator' objects>,\n",
              "  '__next__': <slot wrapper '__next__' of 'dict_reversekeyiterator' objects>,\n",
              "  '__length_hint__': <method '__length_hint__' of 'dict_reversekeyiterator' objects>,\n",
              "  '__reduce__': <method '__reduce__' of 'dict_reversekeyiterator' objects>,\n",
              "  '__doc__': None},\n",
              " <slot wrapper '__next__' of 'dict_reversekeyiterator' objects>,\n",
              " <method '__length_hint__' of 'dict_reversekeyiterator' objects>,\n",
              " <method '__reduce__' of 'dict_reversekeyiterator' objects>,\n",
              " <weakref at 0x7cabf7291490; to 'type' at 0x957d60 (dict_reversekeyiterator)>,\n",
              " {'__iter__': <slot wrapper '__iter__' of 'dict_reversevalueiterator' objects>,\n",
              "  '__next__': <slot wrapper '__next__' of 'dict_reversevalueiterator' objects>,\n",
              "  '__length_hint__': <method '__length_hint__' of 'dict_reversevalueiterator' objects>,\n",
              "  '__reduce__': <method '__reduce__' of 'dict_reversevalueiterator' objects>,\n",
              "  '__doc__': None},\n",
              " <slot wrapper '__next__' of 'dict_reversevalueiterator' objects>,\n",
              " <method '__length_hint__' of 'dict_reversevalueiterator' objects>,\n",
              " <method '__reduce__' of 'dict_reversevalueiterator' objects>,\n",
              " <weakref at 0x7cabf7291620; to 'type' at 0x9579c0 (dict_reversevalueiterator)>,\n",
              " {'__repr__': <slot wrapper '__repr__' of 'dict_values' objects>,\n",
              "  '__getattribute__': <slot wrapper '__getattribute__' of 'dict_values' objects>,\n",
              "  '__iter__': <slot wrapper '__iter__' of 'dict_values' objects>,\n",
              "  '__len__': <slot wrapper '__len__' of 'dict_values' objects>,\n",
              "  '__reversed__': <method '__reversed__' of 'dict_values' objects>,\n",
              "  'mapping': <attribute 'mapping' of 'dict_values' objects>,\n",
              "  '__doc__': None},\n",
              " <slot wrapper '__getattribute__' of 'dict_values' objects>,\n",
              " <slot wrapper '__iter__' of 'dict_values' objects>,\n",
              " <slot wrapper '__len__' of 'dict_values' objects>,\n",
              " <method '__reversed__' of 'dict_values' objects>,\n",
              " <attribute 'mapping' of 'dict_values' objects>,\n",
              " <weakref at 0x7cabf7291800; to 'type' at 0x956d00 (dict_values)>,\n",
              " {'__new__': <function dict.__new__(*args, **kwargs)>,\n",
              "  '__repr__': <slot wrapper '__repr__' of 'dict' objects>,\n",
              "  '__hash__': None,\n",
              "  '__getattribute__': <slot wrapper '__getattribute__' of 'dict' objects>,\n",
              "  '__lt__': <slot wrapper '__lt__' of 'dict' objects>,\n",
              "  '__le__': <slot wrapper '__le__' of 'dict' objects>,\n",
              "  '__eq__': <slot wrapper '__eq__' of 'dict' objects>,\n",
              "  '__ne__': <slot wrapper '__ne__' of 'dict' objects>,\n",
              "  '__gt__': <slot wrapper '__gt__' of 'dict' objects>,\n",
              "  '__ge__': <slot wrapper '__ge__' of 'dict' objects>,\n",
              "  '__iter__': <slot wrapper '__iter__' of 'dict' objects>,\n",
              "  '__init__': <slot wrapper '__init__' of 'dict' objects>,\n",
              "  '__or__': <slot wrapper '__or__' of 'dict' objects>,\n",
              "  '__ror__': <slot wrapper '__ror__' of 'dict' objects>,\n",
              "  '__ior__': <slot wrapper '__ior__' of 'dict' objects>,\n",
              "  '__len__': <slot wrapper '__len__' of 'dict' objects>,\n",
              "  '__getitem__': <method '__getitem__' of 'dict' objects>,\n",
              "  '__setitem__': <slot wrapper '__setitem__' of 'dict' objects>,\n",
              "  '__delitem__': <slot wrapper '__delitem__' of 'dict' objects>,\n",
              "  '__contains__': <method '__contains__' of 'dict' objects>,\n",
              "  '__sizeof__': <method '__sizeof__' of 'dict' objects>,\n",
              "  'get': <method 'get' of 'dict' objects>,\n",
              "  'setdefault': <method 'setdefault' of 'dict' objects>,\n",
              "  'pop': <method 'pop' of 'dict' objects>,\n",
              "  'popitem': <method 'popitem' of 'dict' objects>,\n",
              "  'keys': <method 'keys' of 'dict' objects>,\n",
              "  'items': <method 'items' of 'dict' objects>,\n",
              "  'values': <method 'values' of 'dict' objects>,\n",
              "  'update': <method 'update' of 'dict' objects>,\n",
              "  'fromkeys': <method 'fromkeys' of 'dict' objects>,\n",
              "  'clear': <method 'clear' of 'dict' objects>,\n",
              "  'copy': <method 'copy' of 'dict' objects>,\n",
              "  '__reversed__': <method '__reversed__' of 'dict' objects>,\n",
              "  '__class_getitem__': <method '__class_getitem__' of 'dict' objects>,\n",
              "  '__doc__': \"dict() -> new empty dictionary\\ndict(mapping) -> new dictionary initialized from a mapping object's\\n    (key, value) pairs\\ndict(iterable) -> new dictionary initialized as if via:\\n    d = {}\\n    for k, v in iterable:\\n        d[k] = v\\ndict(**kwargs) -> new dictionary initialized with the name=value pairs\\n    in the keyword argument list.  For example:  dict(one=1, two=2)\"},\n",
              " <slot wrapper '__repr__' of 'dict' objects>,\n",
              " <slot wrapper '__getattribute__' of 'dict' objects>,\n",
              " <slot wrapper '__lt__' of 'dict' objects>,\n",
              " <slot wrapper '__le__' of 'dict' objects>,\n",
              " <slot wrapper '__eq__' of 'dict' objects>,\n",
              " <slot wrapper '__ne__' of 'dict' objects>,\n",
              " <slot wrapper '__gt__' of 'dict' objects>,\n",
              " <slot wrapper '__ge__' of 'dict' objects>,\n",
              " <slot wrapper '__iter__' of 'dict' objects>,\n",
              " <slot wrapper '__init__' of 'dict' objects>,\n",
              " <slot wrapper '__or__' of 'dict' objects>,\n",
              " <slot wrapper '__ror__' of 'dict' objects>,\n",
              " <slot wrapper '__ior__' of 'dict' objects>,\n",
              " <slot wrapper '__len__' of 'dict' objects>,\n",
              " <slot wrapper '__setitem__' of 'dict' objects>,\n",
              " <slot wrapper '__delitem__' of 'dict' objects>,\n",
              " <method '__contains__' of 'dict' objects>,\n",
              " <method '__getitem__' of 'dict' objects>,\n",
              " <method '__sizeof__' of 'dict' objects>,\n",
              " <method 'get' of 'dict' objects>,\n",
              " <method 'setdefault' of 'dict' objects>,\n",
              " <method 'pop' of 'dict' objects>,\n",
              " <method 'popitem' of 'dict' objects>,\n",
              " <method 'keys' of 'dict' objects>,\n",
              " <method 'items' of 'dict' objects>,\n",
              " <method 'values' of 'dict' objects>,\n",
              " <method 'update' of 'dict' objects>,\n",
              " <method 'fromkeys' of 'dict' objects>,\n",
              " <method 'clear' of 'dict' objects>,\n",
              " <method 'copy' of 'dict' objects>,\n",
              " <method '__reversed__' of 'dict' objects>,\n",
              " <method '__class_getitem__' of 'dict' objects>,\n",
              " <weakref at 0x7cabf72922a0; to 'type' at 0x9582c0 (dict)>,\n",
              " {'__new__': <function ellipsis.__new__(*args, **kwargs)>,\n",
              "  '__repr__': <slot wrapper '__repr__' of 'ellipsis' objects>,\n",
              "  '__getattribute__': <slot wrapper '__getattribute__' of 'ellipsis' objects>,\n",
              "  '__reduce__': <method '__reduce__' of 'ellipsis' objects>,\n",
              "  '__doc__': None},\n",
              " <slot wrapper '__repr__' of 'ellipsis' objects>,\n",
              " <slot wrapper '__getattribute__' of 'ellipsis' objects>,\n",
              " <method '__reduce__' of 'ellipsis' objects>,\n",
              " <weakref at 0x7cabf7292430; to 'type' at 0x9547c0 (ellipsis)>,\n",
              " {'__new__': <function enumerate.__new__(*args, **kwargs)>,\n",
              "  '__getattribute__': <slot wrapper '__getattribute__' of 'enumerate' objects>,\n",
              "  '__iter__': <slot wrapper '__iter__' of 'enumerate' objects>,\n",
              "  '__next__': <slot wrapper '__next__' of 'enumerate' objects>,\n",
              "  '__reduce__': <method '__reduce__' of 'enumerate' objects>,\n",
              "  '__class_getitem__': <method '__class_getitem__' of 'enumerate' objects>,\n",
              "  '__doc__': 'Return an enumerate object.\\n\\n  iterable\\n    an object supporting iteration\\n\\nThe enumerate object yields pairs containing a count (from start, which\\ndefaults to zero) and a value yielded by the iterable argument.\\n\\nenumerate is useful for obtaining an indexed list:\\n    (0, seq[0]), (1, seq[1]), (2, seq[2]), ...'},\n",
              " <slot wrapper '__getattribute__' of 'enumerate' objects>,\n",
              " <slot wrapper '__iter__' of 'enumerate' objects>,\n",
              " <slot wrapper '__next__' of 'enumerate' objects>,\n",
              " <method '__reduce__' of 'enumerate' objects>,\n",
              " <method '__class_getitem__' of 'enumerate' objects>,\n",
              " <weakref at 0x7cabf7292660; to 'type' at 0x950380 (enumerate)>,\n",
              " {'__new__': <function float.__new__(*args, **kwargs)>,\n",
              "  '__repr__': <slot wrapper '__repr__' of 'float' objects>,\n",
              "  '__hash__': <slot wrapper '__hash__' of 'float' objects>,\n",
              "  '__getattribute__': <slot wrapper '__getattribute__' of 'float' objects>,\n",
              "  '__lt__': <slot wrapper '__lt__' of 'float' objects>,\n",
              "  '__le__': <slot wrapper '__le__' of 'float' objects>,\n",
              "  '__eq__': <slot wrapper '__eq__' of 'float' objects>,\n",
              "  '__ne__': <slot wrapper '__ne__' of 'float' objects>,\n",
              "  '__gt__': <slot wrapper '__gt__' of 'float' objects>,\n",
              "  '__ge__': <slot wrapper '__ge__' of 'float' objects>,\n",
              "  '__add__': <slot wrapper '__add__' of 'float' objects>,\n",
              "  '__radd__': <slot wrapper '__radd__' of 'float' objects>,\n",
              "  '__sub__': <slot wrapper '__sub__' of 'float' objects>,\n",
              "  '__rsub__': <slot wrapper '__rsub__' of 'float' objects>,\n",
              "  '__mul__': <slot wrapper '__mul__' of 'float' objects>,\n",
              "  '__rmul__': <slot wrapper '__rmul__' of 'float' objects>,\n",
              "  '__mod__': <slot wrapper '__mod__' of 'float' objects>,\n",
              "  '__rmod__': <slot wrapper '__rmod__' of 'float' objects>,\n",
              "  '__divmod__': <slot wrapper '__divmod__' of 'float' objects>,\n",
              "  '__rdivmod__': <slot wrapper '__rdivmod__' of 'float' objects>,\n",
              "  '__pow__': <slot wrapper '__pow__' of 'float' objects>,\n",
              "  '__rpow__': <slot wrapper '__rpow__' of 'float' objects>,\n",
              "  '__neg__': <slot wrapper '__neg__' of 'float' objects>,\n",
              "  '__pos__': <slot wrapper '__pos__' of 'float' objects>,\n",
              "  '__abs__': <slot wrapper '__abs__' of 'float' objects>,\n",
              "  '__bool__': <slot wrapper '__bool__' of 'float' objects>,\n",
              "  '__int__': <slot wrapper '__int__' of 'float' objects>,\n",
              "  '__float__': <slot wrapper '__float__' of 'float' objects>,\n",
              "  '__floordiv__': <slot wrapper '__floordiv__' of 'float' objects>,\n",
              "  '__rfloordiv__': <slot wrapper '__rfloordiv__' of 'float' objects>,\n",
              "  '__truediv__': <slot wrapper '__truediv__' of 'float' objects>,\n",
              "  '__rtruediv__': <slot wrapper '__rtruediv__' of 'float' objects>,\n",
              "  'conjugate': <method 'conjugate' of 'float' objects>,\n",
              "  '__trunc__': <method '__trunc__' of 'float' objects>,\n",
              "  '__floor__': <method '__floor__' of 'float' objects>,\n",
              "  '__ceil__': <method '__ceil__' of 'float' objects>,\n",
              "  '__round__': <method '__round__' of 'float' objects>,\n",
              "  'as_integer_ratio': <method 'as_integer_ratio' of 'float' objects>,\n",
              "  'fromhex': <method 'fromhex' of 'float' objects>,\n",
              "  'hex': <method 'hex' of 'float' objects>,\n",
              "  'is_integer': <method 'is_integer' of 'float' objects>,\n",
              "  '__getnewargs__': <method '__getnewargs__' of 'float' objects>,\n",
              "  '__getformat__': <method '__getformat__' of 'float' objects>,\n",
              "  '__setformat__': <method '__setformat__' of 'float' objects>,\n",
              "  '__format__': <method '__format__' of 'float' objects>,\n",
              "  'real': <attribute 'real' of 'float' objects>,\n",
              "  'imag': <attribute 'imag' of 'float' objects>,\n",
              "  '__doc__': 'Convert a string or number to a floating point number, if possible.'},\n",
              " <slot wrapper '__repr__' of 'float' objects>,\n",
              " <slot wrapper '__hash__' of 'float' objects>,\n",
              " <slot wrapper '__getattribute__' of 'float' objects>,\n",
              " <function object.__new__(*args, **kwargs)>,\n",
              " <function type.__new__(*args, **kwargs)>,\n",
              " <weakref at 0x7cabf725cef0; to 'type' at 0x95bbc0 (type)>,\n",
              " <slot wrapper '__repr__' of 'async_generator' objects>,\n",
              " <function int.__new__(*args, **kwargs)>,\n",
              " <function bool.__new__(*args, **kwargs)>,\n",
              " <weakref at 0x7cabf725e7a0; to 'type' at 0x9593c0 (bool)>,\n",
              " <slot wrapper '__getattribute__' of 'bytearray_iterator' objects>,\n",
              " <function bytearray.__new__(*args, **kwargs)>,\n",
              " <function bytearray.maketrans(frm, to, /)>,\n",
              " <slot wrapper '__getattribute__' of 'bytes_iterator' objects>,\n",
              " <function bytes.__new__(*args, **kwargs)>,\n",
              " <function bytes.maketrans(frm, to, /)>,\n",
              " <slot wrapper '__repr__' of 'builtin_function_or_method' objects>,\n",
              " <weakref at 0x7cabf7275d00; to 'type' at 0x94c640 (builtin_method)>,\n",
              " <slot wrapper '__getattribute__' of 'callable_iterator' objects>,\n",
              " <slot wrapper '__repr__' of 'PyCapsule' objects>,\n",
              " <function cell.__new__(*args, **kwargs)>,\n",
              " <slot wrapper '__repr__' of 'classmethod_descriptor' objects>,\n",
              " <function classmethod.__new__(*args, **kwargs)>,\n",
              " <function code.__new__(*args, **kwargs)>,\n",
              " <function complex.__new__(*args, **kwargs)>,\n",
              " <slot wrapper '__repr__' of 'coroutine' objects>,\n",
              " <slot wrapper '__repr__' of 'dict_items' objects>,\n",
              " <slot wrapper '__getattribute__' of 'dict_itemiterator' objects>,\n",
              " <slot wrapper '__getattribute__' of 'dict_keyiterator' objects>,\n",
              " <slot wrapper '__getattribute__' of 'dict_valueiterator' objects>,\n",
              " <slot wrapper '__repr__' of 'dict_keys' objects>,\n",
              " <function mappingproxy.__new__(*args, **kwargs)>,\n",
              " <slot wrapper '__iter__' of 'dict_reverseitemiterator' objects>,\n",
              " <slot wrapper '__iter__' of 'dict_reversekeyiterator' objects>,\n",
              " <slot wrapper '__iter__' of 'dict_reversevalueiterator' objects>,\n",
              " <slot wrapper '__repr__' of 'dict_values' objects>,\n",
              " <function dict.__new__(*args, **kwargs)>,\n",
              " <function ellipsis.__new__(*args, **kwargs)>,\n",
              " <function enumerate.__new__(*args, **kwargs)>,\n",
              " <function float.__new__(*args, **kwargs)>,\n",
              " <slot wrapper '__lt__' of 'float' objects>,\n",
              " <slot wrapper '__le__' of 'float' objects>,\n",
              " <slot wrapper '__eq__' of 'float' objects>,\n",
              " <slot wrapper '__ne__' of 'float' objects>,\n",
              " <slot wrapper '__gt__' of 'float' objects>,\n",
              " <slot wrapper '__ge__' of 'float' objects>,\n",
              " <slot wrapper '__add__' of 'float' objects>,\n",
              " <slot wrapper '__radd__' of 'float' objects>,\n",
              " <slot wrapper '__sub__' of 'float' objects>,\n",
              " <slot wrapper '__rsub__' of 'float' objects>,\n",
              " <slot wrapper '__mul__' of 'float' objects>,\n",
              " <slot wrapper '__rmul__' of 'float' objects>,\n",
              " <slot wrapper '__mod__' of 'float' objects>,\n",
              " <slot wrapper '__rmod__' of 'float' objects>,\n",
              " <slot wrapper '__divmod__' of 'float' objects>,\n",
              " <slot wrapper '__rdivmod__' of 'float' objects>,\n",
              " <slot wrapper '__pow__' of 'float' objects>,\n",
              " <slot wrapper '__rpow__' of 'float' objects>,\n",
              " <slot wrapper '__neg__' of 'float' objects>,\n",
              " <slot wrapper '__pos__' of 'float' objects>,\n",
              " <slot wrapper '__abs__' of 'float' objects>,\n",
              " <slot wrapper '__bool__' of 'float' objects>,\n",
              " <slot wrapper '__int__' of 'float' objects>,\n",
              " <slot wrapper '__float__' of 'float' objects>,\n",
              " <slot wrapper '__floordiv__' of 'float' objects>,\n",
              " <slot wrapper '__rfloordiv__' of 'float' objects>,\n",
              " <slot wrapper '__truediv__' of 'float' objects>,\n",
              " <slot wrapper '__rtruediv__' of 'float' objects>,\n",
              " <method 'conjugate' of 'float' objects>,\n",
              " <method '__trunc__' of 'float' objects>,\n",
              " <method '__floor__' of 'float' objects>,\n",
              " <method '__ceil__' of 'float' objects>,\n",
              " <method '__round__' of 'float' objects>,\n",
              " <method 'as_integer_ratio' of 'float' objects>,\n",
              " <method 'fromhex' of 'float' objects>,\n",
              " <method 'hex' of 'float' objects>,\n",
              " <method 'is_integer' of 'float' objects>,\n",
              " <method '__getnewargs__' of 'float' objects>,\n",
              " <method '__getformat__' of 'float' objects>,\n",
              " <method '__setformat__' of 'float' objects>,\n",
              " <method '__format__' of 'float' objects>,\n",
              " <attribute 'real' of 'float' objects>,\n",
              " <attribute 'imag' of 'float' objects>,\n",
              " <weakref at 0x7cabf72934c0; to 'type' at 0x95ec40 (float)>,\n",
              " {'__repr__': <slot wrapper '__repr__' of 'frame' objects>,\n",
              "  '__getattribute__': <slot wrapper '__getattribute__' of 'frame' objects>,\n",
              "  '__setattr__': <slot wrapper '__setattr__' of 'frame' objects>,\n",
              "  '__delattr__': <slot wrapper '__delattr__' of 'frame' objects>,\n",
              "  'clear': <method 'clear' of 'frame' objects>,\n",
              "  '__sizeof__': <method '__sizeof__' of 'frame' objects>,\n",
              "  'f_back': <member 'f_back' of 'frame' objects>,\n",
              "  'f_code': <member 'f_code' of 'frame' objects>,\n",
              "  'f_builtins': <member 'f_builtins' of 'frame' objects>,\n",
              "  'f_globals': <member 'f_globals' of 'frame' objects>,\n",
              "  'f_trace_lines': <member 'f_trace_lines' of 'frame' objects>,\n",
              "  'f_trace_opcodes': <member 'f_trace_opcodes' of 'frame' objects>,\n",
              "  'f_locals': <attribute 'f_locals' of 'frame' objects>,\n",
              "  'f_lineno': <attribute 'f_lineno' of 'frame' objects>,\n",
              "  'f_trace': <attribute 'f_trace' of 'frame' objects>,\n",
              "  'f_lasti': <attribute 'f_lasti' of 'frame' objects>,\n",
              "  '__doc__': None},\n",
              " <slot wrapper '__getattribute__' of 'frame' objects>,\n",
              " <slot wrapper '__setattr__' of 'frame' objects>,\n",
              " <slot wrapper '__delattr__' of 'frame' objects>,\n",
              " <method 'clear' of 'frame' objects>,\n",
              " <method '__sizeof__' of 'frame' objects>,\n",
              " <member 'f_back' of 'frame' objects>,\n",
              " <member 'f_code' of 'frame' objects>,\n",
              " <member 'f_builtins' of 'frame' objects>,\n",
              " <member 'f_globals' of 'frame' objects>,\n",
              " <member 'f_trace_lines' of 'frame' objects>,\n",
              " <member 'f_trace_opcodes' of 'frame' objects>,\n",
              " <attribute 'f_locals' of 'frame' objects>,\n",
              " <attribute 'f_lineno' of 'frame' objects>,\n",
              " <attribute 'f_trace' of 'frame' objects>,\n",
              " <attribute 'f_lasti' of 'frame' objects>,\n",
              " <weakref at 0x7cabf72936f0; to 'type' at 0x95e580 (frame)>,\n",
              " {'__new__': <function frozenset.__new__(*args, **kwargs)>,\n",
              "  '__repr__': <slot wrapper '__repr__' of 'frozenset' objects>,\n",
              "  '__hash__': <slot wrapper '__hash__' of 'frozenset' objects>,\n",
              "  '__getattribute__': <slot wrapper '__getattribute__' of 'frozenset' objects>,\n",
              "  '__lt__': <slot wrapper '__lt__' of 'frozenset' objects>,\n",
              "  '__le__': <slot wrapper '__le__' of 'frozenset' objects>,\n",
              "  '__eq__': <slot wrapper '__eq__' of 'frozenset' objects>,\n",
              "  '__ne__': <slot wrapper '__ne__' of 'frozenset' objects>,\n",
              "  '__gt__': <slot wrapper '__gt__' of 'frozenset' objects>,\n",
              "  '__ge__': <slot wrapper '__ge__' of 'frozenset' objects>,\n",
              "  '__iter__': <slot wrapper '__iter__' of 'frozenset' objects>,\n",
              "  '__sub__': <slot wrapper '__sub__' of 'frozenset' objects>,\n",
              "  '__rsub__': <slot wrapper '__rsub__' of 'frozenset' objects>,\n",
              "  '__and__': <slot wrapper '__and__' of 'frozenset' objects>,\n",
              "  '__rand__': <slot wrapper '__rand__' of 'frozenset' objects>,\n",
              "  '__xor__': <slot wrapper '__xor__' of 'frozenset' objects>,\n",
              "  '__rxor__': <slot wrapper '__rxor__' of 'frozenset' objects>,\n",
              "  '__or__': <slot wrapper '__or__' of 'frozenset' objects>,\n",
              "  '__ror__': <slot wrapper '__ror__' of 'frozenset' objects>,\n",
              "  '__len__': <slot wrapper '__len__' of 'frozenset' objects>,\n",
              "  '__contains__': <method '__contains__' of 'frozenset' objects>,\n",
              "  'copy': <method 'copy' of 'frozenset' objects>,\n",
              "  'difference': <method 'difference' of 'frozenset' objects>,\n",
              "  'intersection': <method 'intersection' of 'frozenset' objects>,\n",
              "  'isdisjoint': <method 'isdisjoint' of 'frozenset' objects>,\n",
              "  'issubset': <method 'issubset' of 'frozenset' objects>,\n",
              "  'issuperset': <method 'issuperset' of 'frozenset' objects>,\n",
              "  '__reduce__': <method '__reduce__' of 'frozenset' objects>,\n",
              "  '__sizeof__': <method '__sizeof__' of 'frozenset' objects>,\n",
              "  'symmetric_difference': <method 'symmetric_difference' of 'frozenset' objects>,\n",
              "  'union': <method 'union' of 'frozenset' objects>,\n",
              "  '__class_getitem__': <method '__class_getitem__' of 'frozenset' objects>,\n",
              "  '__doc__': 'frozenset() -> empty frozenset object\\nfrozenset(iterable) -> frozenset object\\n\\nBuild an immutable unordered collection of unique elements.'},\n",
              " <slot wrapper '__repr__' of 'frozenset' objects>,\n",
              " <slot wrapper '__hash__' of 'frozenset' objects>,\n",
              " <slot wrapper '__getattribute__' of 'frozenset' objects>,\n",
              " <slot wrapper '__lt__' of 'frozenset' objects>,\n",
              " <slot wrapper '__le__' of 'frozenset' objects>,\n",
              " <slot wrapper '__eq__' of 'frozenset' objects>,\n",
              " <slot wrapper '__ne__' of 'frozenset' objects>,\n",
              " <slot wrapper '__gt__' of 'frozenset' objects>,\n",
              " <slot wrapper '__ge__' of 'frozenset' objects>,\n",
              " <slot wrapper '__iter__' of 'frozenset' objects>,\n",
              " <slot wrapper '__sub__' of 'frozenset' objects>,\n",
              " <slot wrapper '__rsub__' of 'frozenset' objects>,\n",
              " <slot wrapper '__and__' of 'frozenset' objects>,\n",
              " <slot wrapper '__rand__' of 'frozenset' objects>,\n",
              " <slot wrapper '__xor__' of 'frozenset' objects>,\n",
              " <slot wrapper '__rxor__' of 'frozenset' objects>,\n",
              " <slot wrapper '__or__' of 'frozenset' objects>,\n",
              " <slot wrapper '__ror__' of 'frozenset' objects>,\n",
              " <slot wrapper '__len__' of 'frozenset' objects>,\n",
              " <method '__contains__' of 'frozenset' objects>,\n",
              " <method 'copy' of 'frozenset' objects>,\n",
              " <method 'difference' of 'frozenset' objects>,\n",
              " <method 'intersection' of 'frozenset' objects>,\n",
              " <method 'isdisjoint' of 'frozenset' objects>,\n",
              " <method 'issubset' of 'frozenset' objects>,\n",
              " <method 'issuperset' of 'frozenset' objects>,\n",
              " <method '__reduce__' of 'frozenset' objects>,\n",
              " <method '__sizeof__' of 'frozenset' objects>,\n",
              " <method 'symmetric_difference' of 'frozenset' objects>,\n",
              " <method 'union' of 'frozenset' objects>,\n",
              " <method '__class_getitem__' of 'frozenset' objects>,\n",
              " <weakref at 0x7cabf729c1d0; to 'type' at 0x9550c0 (frozenset)>,\n",
              " {'__new__': <function function.__new__(*args, **kwargs)>,\n",
              "  '__repr__': <slot wrapper '__repr__' of 'function' objects>,\n",
              "  '__call__': <slot wrapper '__call__' of 'function' objects>,\n",
              "  '__get__': <slot wrapper '__get__' of 'function' objects>,\n",
              "  '__closure__': <member '__closure__' of 'function' objects>,\n",
              "  '__doc__': <member '__doc__' of 'function' objects>,\n",
              "  '__globals__': <member '__globals__' of 'function' objects>,\n",
              "  '__module__': <member '__module__' of 'function' objects>,\n",
              "  '__builtins__': <member '__builtins__' of 'function' objects>,\n",
              "  '__code__': <attribute '__code__' of 'function' objects>,\n",
              "  '__defaults__': <attribute '__defaults__' of 'function' objects>,\n",
              "  '__kwdefaults__': <attribute '__kwdefaults__' of 'function' objects>,\n",
              "  '__annotations__': <attribute '__annotations__' of 'function' objects>,\n",
              "  '__dict__': <attribute '__dict__' of 'function' objects>,\n",
              "  '__name__': <attribute '__name__' of 'function' objects>,\n",
              "  '__qualname__': <attribute '__qualname__' of 'function' objects>},\n",
              " <slot wrapper '__repr__' of 'function' objects>,\n",
              " <slot wrapper '__call__' of 'function' objects>,\n",
              " <slot wrapper '__get__' of 'function' objects>,\n",
              " <member '__closure__' of 'function' objects>,\n",
              " <member '__doc__' of 'function' objects>,\n",
              " <member '__globals__' of 'function' objects>,\n",
              " <member '__module__' of 'function' objects>,\n",
              " <member '__builtins__' of 'function' objects>,\n",
              " <attribute '__code__' of 'function' objects>,\n",
              " <attribute '__defaults__' of 'function' objects>,\n",
              " <attribute '__kwdefaults__' of 'function' objects>,\n",
              " <attribute '__annotations__' of 'function' objects>,\n",
              " <attribute '__dict__' of 'function' objects>,\n",
              " <attribute '__name__' of 'function' objects>,\n",
              " <attribute '__qualname__' of 'function' objects>,\n",
              " <weakref at 0x7cabf729c360; to 'type' at 0x94e600 (function)>,\n",
              " {'__repr__': <slot wrapper '__repr__' of 'generator' objects>,\n",
              "  '__getattribute__': <slot wrapper '__getattribute__' of 'generator' objects>,\n",
              "  '__iter__': <slot wrapper '__iter__' of 'generator' objects>,\n",
              "  '__next__': <slot wrapper '__next__' of 'generator' objects>,\n",
              "  '__del__': <slot wrapper '__del__' of 'generator' objects>,\n",
              "  'send': <method 'send' of 'generator' objects>,\n",
              "  'throw': <method 'throw' of 'generator' objects>,\n",
              "  'close': <method 'close' of 'generator' objects>,\n",
              "  'gi_frame': <member 'gi_frame' of 'generator' objects>,\n",
              "  'gi_code': <member 'gi_code' of 'generator' objects>,\n",
              "  '__name__': <attribute '__name__' of 'generator' objects>,\n",
              "  '__qualname__': <attribute '__qualname__' of 'generator' objects>,\n",
              "  'gi_yieldfrom': <attribute 'gi_yieldfrom' of 'generator' objects>,\n",
              "  'gi_running': <attribute 'gi_running' of 'generator' objects>,\n",
              "  '__doc__': None},\n",
              " <slot wrapper '__getattribute__' of 'generator' objects>,\n",
              " <slot wrapper '__iter__' of 'generator' objects>,\n",
              " <slot wrapper '__next__' of 'generator' objects>,\n",
              " <slot wrapper '__del__' of 'generator' objects>,\n",
              " <method 'send' of 'generator' objects>,\n",
              " <method 'throw' of 'generator' objects>,\n",
              " <method 'close' of 'generator' objects>,\n",
              " <member 'gi_frame' of 'generator' objects>,\n",
              " <member 'gi_code' of 'generator' objects>,\n",
              " ...]"
            ]
          },
          "metadata": {},
          "execution_count": 23
        }
      ]
    },
    {
      "cell_type": "code",
      "source": [
        "def object_by_addr(addr):\n",
        "    for obj in gc.get_objects():\n",
        "        if id(obj) == addr:\n",
        "            print(\"Object Exist in gc\")\n",
        "            break\n",
        "    else:\n",
        "        print(\"Object Not found in gc\")"
      ],
      "metadata": {
        "id": "EbMDO_7JUe8R"
      },
      "execution_count": null,
      "outputs": []
    },
    {
      "cell_type": "code",
      "source": [
        "class A:\n",
        "    def __init__(self):\n",
        "        self.b = B(self)\n",
        "        # print(f\"Addr of A : {id(self)} Addr of A.b : {id(self.b)}\")\n",
        "\n",
        "class B:\n",
        "    def __init__(self, a):\n",
        "        self.a = a\n",
        "        # print(f\"Addr of B : {id(self)} Addr of B.a : {id(self.a)}\")"
      ],
      "metadata": {
        "id": "kBbwzu7OXw_6"
      },
      "execution_count": null,
      "outputs": []
    },
    {
      "cell_type": "code",
      "source": [
        "var_a = A()"
      ],
      "metadata": {
        "id": "5j2ygqS1YyHf"
      },
      "execution_count": null,
      "outputs": []
    },
    {
      "cell_type": "code",
      "source": [
        "gc.collect()\n",
        "# gc.disable()"
      ],
      "metadata": {
        "colab": {
          "base_uri": "https://localhost:8080/"
        },
        "id": "WntKuG7dcUNJ",
        "outputId": "555ad8ce-595b-4f44-8547-4f06dee45039"
      },
      "execution_count": null,
      "outputs": [
        {
          "output_type": "execute_result",
          "data": {
            "text/plain": [
              "102"
            ]
          },
          "metadata": {},
          "execution_count": 27
        }
      ]
    },
    {
      "cell_type": "code",
      "source": [
        "# a_addr = id(var_a)\n",
        "# b_addr = id(var_a.b)\n",
        "\n",
        "# print(f\"a : {a_addr}\")\n",
        "# print(f\"b : {b_addr}\")"
      ],
      "metadata": {
        "id": "dhamC-haYzkH"
      },
      "execution_count": null,
      "outputs": []
    },
    {
      "cell_type": "code",
      "source": [
        "ref_count(i)"
      ],
      "metadata": {
        "colab": {
          "base_uri": "https://localhost:8080/",
          "height": 169
        },
        "id": "BNj4cs70ZMvT",
        "outputId": "e3dbd598-4bed-4b09-e2bd-7169d562397a"
      },
      "execution_count": null,
      "outputs": [
        {
          "output_type": "error",
          "ename": "NameError",
          "evalue": "ignored",
          "traceback": [
            "\u001b[0;31m---------------------------------------------------------------------------\u001b[0m",
            "\u001b[0;31mNameError\u001b[0m                                 Traceback (most recent call last)",
            "\u001b[0;32m<ipython-input-29-66ca1e75b20c>\u001b[0m in \u001b[0;36m<cell line: 1>\u001b[0;34m()\u001b[0m\n\u001b[0;32m----> 1\u001b[0;31m \u001b[0mref_count\u001b[0m\u001b[0;34m(\u001b[0m\u001b[0mi\u001b[0m\u001b[0;34m)\u001b[0m\u001b[0;34m\u001b[0m\u001b[0;34m\u001b[0m\u001b[0m\n\u001b[0m",
            "\u001b[0;31mNameError\u001b[0m: name 'i' is not defined"
          ]
        }
      ]
    },
    {
      "cell_type": "code",
      "source": [
        "sys.getrefcount(var_a)"
      ],
      "metadata": {
        "colab": {
          "base_uri": "https://localhost:8080/"
        },
        "id": "edkDHtxfZUcT",
        "outputId": "902bc173-1dc6-4e49-ae6c-22c3bddb7bca"
      },
      "execution_count": null,
      "outputs": [
        {
          "output_type": "execute_result",
          "data": {
            "text/plain": [
              "4"
            ]
          },
          "metadata": {},
          "execution_count": 30
        }
      ]
    },
    {
      "cell_type": "code",
      "source": [
        "i = id(var_a)"
      ],
      "metadata": {
        "id": "MJihWfERcvnO"
      },
      "execution_count": null,
      "outputs": []
    },
    {
      "cell_type": "code",
      "source": [
        "object_by_addr(i)"
      ],
      "metadata": {
        "colab": {
          "base_uri": "https://localhost:8080/"
        },
        "id": "SxPs1feoltqV",
        "outputId": "39425f4f-7f2b-4e31-841d-7fb441b0fc3c"
      },
      "execution_count": null,
      "outputs": [
        {
          "output_type": "stream",
          "name": "stdout",
          "text": [
            "Object Exist in gc\n"
          ]
        }
      ]
    },
    {
      "cell_type": "code",
      "source": [
        "var_a = None"
      ],
      "metadata": {
        "id": "0iq5yzaNbdAs"
      },
      "execution_count": null,
      "outputs": []
    },
    {
      "cell_type": "code",
      "source": [
        "gc.collect()"
      ],
      "metadata": {
        "colab": {
          "base_uri": "https://localhost:8080/"
        },
        "id": "TbBh1oerlvU4",
        "outputId": "8c4d0bd1-f409-43ff-84c6-2036318edab1"
      },
      "execution_count": null,
      "outputs": [
        {
          "output_type": "execute_result",
          "data": {
            "text/plain": [
              "4"
            ]
          },
          "metadata": {},
          "execution_count": 34
        }
      ]
    },
    {
      "cell_type": "code",
      "source": [],
      "metadata": {
        "id": "ZPZ27PFnl224"
      },
      "execution_count": null,
      "outputs": []
    },
    {
      "cell_type": "markdown",
      "source": [
        "#### Object Mutability and Immutability"
      ],
      "metadata": {
        "id": "ofiCFj4S8h_2"
      }
    },
    {
      "cell_type": "code",
      "source": [
        "tup = (1, 2, 3) # Completely immutable object\n",
        "\n",
        "a = [1, 2] # mutable lists\n",
        "b = [2, 3]\n",
        "\n",
        "tup_of_ls = [a, b] # a and b itself can be mutated but ref to a or b will be the same\n",
        "a.append(3)\n",
        "b.append(4)\n",
        "tup_of_ls"
      ],
      "metadata": {
        "colab": {
          "base_uri": "https://localhost:8080/"
        },
        "id": "dPmJMEC78l7r",
        "outputId": "292607f7-7ca8-4363-e205-2859627d8dff"
      },
      "execution_count": null,
      "outputs": [
        {
          "output_type": "execute_result",
          "data": {
            "text/plain": [
              "[[1, 2, 3], [2, 3, 4]]"
            ]
          },
          "metadata": {},
          "execution_count": 37
        }
      ]
    },
    {
      "cell_type": "markdown",
      "source": [
        "`list` is mutable, we have to understand that which methods or operations mutate list object and which creates a new object gives new ref.\n",
        "\n",
        "Note: `append` method mutate a `list` object."
      ],
      "metadata": {
        "id": "RwS3iAbpRMOk"
      }
    },
    {
      "cell_type": "code",
      "source": [
        "ls = [1, 2, 3]\n",
        "print(ls)\n",
        "id(ls)"
      ],
      "metadata": {
        "colab": {
          "base_uri": "https://localhost:8080/"
        },
        "id": "HA-FqoU0LDRm",
        "outputId": "4b8d6663-cd69-47c0-bfb4-4fa0b76e7b96"
      },
      "execution_count": null,
      "outputs": [
        {
          "output_type": "stream",
          "name": "stdout",
          "text": [
            "[1, 2, 3]\n"
          ]
        },
        {
          "output_type": "execute_result",
          "data": {
            "text/plain": [
              "137077120521216"
            ]
          },
          "metadata": {},
          "execution_count": 40
        }
      ]
    },
    {
      "cell_type": "code",
      "source": [
        "ls.append(10)\n",
        "print(ls)\n",
        "id(ls) # same id as before but the state of the object is changed"
      ],
      "metadata": {
        "colab": {
          "base_uri": "https://localhost:8080/"
        },
        "id": "1dDTaus-RRe4",
        "outputId": "f045a16f-5c88-4e2f-b175-90f9c7ee7302"
      },
      "execution_count": null,
      "outputs": [
        {
          "output_type": "stream",
          "name": "stdout",
          "text": [
            "[1, 2, 3, 10]\n"
          ]
        },
        {
          "output_type": "execute_result",
          "data": {
            "text/plain": [
              "137077120521216"
            ]
          },
          "metadata": {},
          "execution_count": 41
        }
      ]
    },
    {
      "cell_type": "markdown",
      "source": [
        "concating two `list` objects using `+` operator creates a new obj"
      ],
      "metadata": {
        "id": "PI3jTf57Ski_"
      }
    },
    {
      "cell_type": "code",
      "source": [
        "ls = ls + [1]\n",
        "print(ls)\n",
        "print(id(ls))"
      ],
      "metadata": {
        "colab": {
          "base_uri": "https://localhost:8080/"
        },
        "id": "Zg0jSqvNRUE8",
        "outputId": "9ad1f5de-cd28-4fe6-97a2-b84bcea466e1"
      },
      "execution_count": null,
      "outputs": [
        {
          "output_type": "stream",
          "name": "stdout",
          "text": [
            "[1, 2, 3, 10, 1]\n",
            "137077123751296\n"
          ]
        }
      ]
    },
    {
      "cell_type": "markdown",
      "source": [
        "`dict` objects are mutable."
      ],
      "metadata": {
        "id": "yHSYqMxWS4gT"
      }
    },
    {
      "cell_type": "markdown",
      "source": [
        "`tuple` objs are **immutable**"
      ],
      "metadata": {
        "id": "S41Bw9TaS83z"
      }
    },
    {
      "cell_type": "markdown",
      "source": [
        "#### Function Arguments and mutability\n",
        "variables may or may not be affected when we pass them to a function"
      ],
      "metadata": {
        "id": "pKUC_JJjTIbZ"
      }
    },
    {
      "cell_type": "code",
      "source": [],
      "metadata": {
        "id": "QQth-TmHSuq9"
      },
      "execution_count": null,
      "outputs": []
    },
    {
      "cell_type": "markdown",
      "source": [
        "#### Shared References and Mutability"
      ],
      "metadata": {
        "id": "rsMTYzWA6dtt"
      }
    },
    {
      "cell_type": "markdown",
      "source": [
        "Shared references"
      ],
      "metadata": {
        "id": "go6MJl2n7YVr"
      }
    },
    {
      "cell_type": "code",
      "source": [
        "a = \"object\"\n",
        "b = a\n",
        "\n",
        "print(id(a))\n",
        "print(id(b))"
      ],
      "metadata": {
        "id": "aepvFFMh7Upb"
      },
      "execution_count": null,
      "outputs": []
    },
    {
      "cell_type": "markdown",
      "source": [
        "python uses shared reference for immutable objects for memory optimisation. Here `a` and `b` are variable holding refs to immutable objects having same value.\n",
        "\n",
        "Both variables point to the same object addr, means that there's only one obj exist. This optimize the memory."
      ],
      "metadata": {
        "id": "3gT7HjOX7j-q"
      }
    },
    {
      "cell_type": "code",
      "source": [
        "a = 20\n",
        "b = 20\n",
        "\n",
        "print(id(a))\n",
        "print(id(b))"
      ],
      "metadata": {
        "colab": {
          "base_uri": "https://localhost:8080/"
        },
        "id": "g8Noheib6fKe",
        "outputId": "41e687e8-d4f9-4e9b-eafd-37d9f8aa18cf"
      },
      "execution_count": null,
      "outputs": [
        {
          "output_type": "stream",
          "name": "stdout",
          "text": [
            "137078027649872\n",
            "137078027649872\n"
          ]
        }
      ]
    },
    {
      "cell_type": "markdown",
      "source": [
        "with mutable objects python won’t create shared references. There will be unacceptable consequences  if it will be done !"
      ],
      "metadata": {
        "id": "9shpQkS27zHN"
      }
    },
    {
      "cell_type": "code",
      "source": [
        "a = [1, 2, 3]\n",
        "b = a\n",
        "b.append(100)\n",
        "print(a)"
      ],
      "metadata": {
        "colab": {
          "base_uri": "https://localhost:8080/"
        },
        "id": "6Vw88tCQ8k18",
        "outputId": "38e2170a-395c-484e-c1c7-eb74d7ff9ef2"
      },
      "execution_count": null,
      "outputs": [
        {
          "output_type": "stream",
          "name": "stdout",
          "text": [
            "[1, 2, 3, 100]\n"
          ]
        }
      ]
    },
    {
      "cell_type": "code",
      "source": [
        "a = [1, 2, 3]\n",
        "b = [1, 2, 3]\n",
        "\n",
        "print(id(a))\n",
        "print(id(b))"
      ],
      "metadata": {
        "colab": {
          "base_uri": "https://localhost:8080/"
        },
        "id": "9cMER4pv6kya",
        "outputId": "afed3e03-0732-425e-91c2-7066ad057e3c"
      },
      "execution_count": null,
      "outputs": [
        {
          "output_type": "stream",
          "name": "stdout",
          "text": [
            "137076745028224\n",
            "137076745033792\n"
          ]
        }
      ]
    },
    {
      "cell_type": "markdown",
      "source": [
        "**Note** : It isn’t always the case of using shared refs, don’t rely on it !! sometimes python does shared refs sometime it doesn’t .\n",
        "\n",
        "Ex:"
      ],
      "metadata": {
        "id": "LAhEAy3f9Pw3"
      }
    },
    {
      "cell_type": "code",
      "source": [
        "a = 2000\n",
        "b = 2000\n",
        "\n",
        "print(id(a))\n",
        "print(id(b))"
      ],
      "metadata": {
        "colab": {
          "base_uri": "https://localhost:8080/"
        },
        "id": "tSgOg5X87J7s",
        "outputId": "3e769cfd-5a28-4ea0-e07d-a50555e7586f"
      },
      "execution_count": null,
      "outputs": [
        {
          "output_type": "stream",
          "name": "stdout",
          "text": [
            "137076747808944\n",
            "137076747807376\n"
          ]
        }
      ]
    },
    {
      "cell_type": "markdown",
      "source": [
        "#### Var equality"
      ],
      "metadata": {
        "id": "1Cz_D3njEqzG"
      }
    },
    {
      "cell_type": "markdown",
      "source": [
        "having the same address"
      ],
      "metadata": {
        "id": "LvRms-K1GsKh"
      }
    },
    {
      "cell_type": "code",
      "source": [
        "a = 109\n",
        "b = a\n",
        "print(a is b)\n",
        "print(a == b)"
      ],
      "metadata": {
        "colab": {
          "base_uri": "https://localhost:8080/"
        },
        "id": "Q_86Q7wJ9SOC",
        "outputId": "301e714b-bb60-427c-c106-be6884336554"
      },
      "execution_count": null,
      "outputs": [
        {
          "output_type": "stream",
          "name": "stdout",
          "text": [
            "True\n",
            "True\n"
          ]
        }
      ]
    },
    {
      "cell_type": "markdown",
      "source": [
        "variable having shared refs"
      ],
      "metadata": {
        "id": "sGPbGAGiGu7v"
      }
    },
    {
      "cell_type": "code",
      "source": [
        "a = \"109\"\n",
        "b = \"109\"\n",
        "print(a is b) # dont rely of this !!\n",
        "print(a == b)"
      ],
      "metadata": {
        "colab": {
          "base_uri": "https://localhost:8080/"
        },
        "id": "MLDSQ4CjExBO",
        "outputId": "72b21629-c6b4-4032-b48c-9054d904b6d2"
      },
      "execution_count": null,
      "outputs": [
        {
          "output_type": "stream",
          "name": "stdout",
          "text": [
            "True\n",
            "True\n"
          ]
        }
      ]
    },
    {
      "cell_type": "markdown",
      "source": [
        "You can not rely on `is` expecting that you will be having shared refs. Don't rely on shared refs"
      ],
      "metadata": {
        "id": "tnajcwnuGxZE"
      }
    },
    {
      "cell_type": "code",
      "source": [
        "a = 2000\n",
        "b = 2000\n",
        "\n",
        "print(a is b) # False - both vars wont have the same address\n",
        "print(a == b) # True -"
      ],
      "metadata": {
        "colab": {
          "base_uri": "https://localhost:8080/"
        },
        "id": "Wa8S0krlG60H",
        "outputId": "a0b4f9db-5528-44c1-9601-07efb82e8a5c"
      },
      "execution_count": null,
      "outputs": [
        {
          "output_type": "stream",
          "name": "stdout",
          "text": [
            "False\n",
            "True\n"
          ]
        }
      ]
    },
    {
      "cell_type": "code",
      "source": [
        "a = [1, 2, 3]\n",
        "b = [1, 2, 3]\n",
        "\n",
        "print(a is b)\n",
        "print(a == b)"
      ],
      "metadata": {
        "colab": {
          "base_uri": "https://localhost:8080/"
        },
        "id": "mMdKg1rJE0OU",
        "outputId": "d9975cd0-5891-4b51-ccd3-e65c80a709ce"
      },
      "execution_count": null,
      "outputs": [
        {
          "output_type": "stream",
          "name": "stdout",
          "text": [
            "False\n",
            "True\n"
          ]
        }
      ]
    },
    {
      "cell_type": "markdown",
      "source": [
        "floats have different issues with equally due to we dont have exact representation of the float in memory, since we have right now equality will be `True`."
      ],
      "metadata": {
        "id": "lHqqCLVZFPmD"
      }
    },
    {
      "cell_type": "code",
      "source": [
        "a = 10\n",
        "b = 10.0\n",
        "print(a is b)\n",
        "print(a == b) #"
      ],
      "metadata": {
        "colab": {
          "base_uri": "https://localhost:8080/"
        },
        "id": "9VC3pmSyE7Ug",
        "outputId": "03c7b63f-c2fa-46aa-b4c4-9418481bb43e"
      },
      "execution_count": null,
      "outputs": [
        {
          "output_type": "stream",
          "name": "stdout",
          "text": [
            "False\n",
            "True\n"
          ]
        }
      ]
    },
    {
      "cell_type": "markdown",
      "source": [
        "`None` is special type of object which shows that variable does not contain anything or it is empty.\n",
        "\n",
        "watch: last two mins of 24. Variable Equality\n"
      ],
      "metadata": {
        "id": "tjRatU2POAIt"
      }
    },
    {
      "cell_type": "code",
      "source": [
        "print(id(None))\n",
        "print(type(None))"
      ],
      "metadata": {
        "colab": {
          "base_uri": "https://localhost:8080/"
        },
        "id": "CcJZHsvpFLEd",
        "outputId": "0b77a221-f124-4345-9d23-a0f883d42bd7"
      },
      "execution_count": null,
      "outputs": [
        {
          "output_type": "stream",
          "name": "stdout",
          "text": [
            "9826176\n",
            "<class 'NoneType'>\n"
          ]
        }
      ]
    },
    {
      "cell_type": "code",
      "source": [
        "a = None\n",
        "b = None\n",
        "c = None"
      ],
      "metadata": {
        "id": "Qt62cgflOOk3"
      },
      "execution_count": null,
      "outputs": []
    },
    {
      "cell_type": "markdown",
      "source": [
        "#### Everything is an Object"
      ],
      "metadata": {
        "id": "7aq4bu9YQMvq"
      }
    },
    {
      "cell_type": "markdown",
      "source": [
        "Intergers in python are objects of `int` class."
      ],
      "metadata": {
        "id": "hAwzwPkxQf6q"
      }
    },
    {
      "cell_type": "code",
      "source": [
        "a = 10\n",
        "print(type(a))\n",
        "a = int(10)\n",
        "print(type(a))"
      ],
      "metadata": {
        "colab": {
          "base_uri": "https://localhost:8080/"
        },
        "id": "BjxFcZmiQkZx",
        "outputId": "cfc3188f-17f9-40df-c3bd-c00292498f5c"
      },
      "execution_count": null,
      "outputs": [
        {
          "output_type": "stream",
          "name": "stdout",
          "text": [
            "<class 'int'>\n",
            "<class 'int'>\n"
          ]
        }
      ]
    },
    {
      "cell_type": "code",
      "source": [
        "# help(int) # documentation on any class/function"
      ],
      "metadata": {
        "id": "tySZJSW1Qv2E"
      },
      "execution_count": null,
      "outputs": []
    },
    {
      "cell_type": "code",
      "source": [
        "x = int()\n",
        "print(x)\n",
        "y = int(\"100\", base=2)\n",
        "print(y)"
      ],
      "metadata": {
        "colab": {
          "base_uri": "https://localhost:8080/"
        },
        "id": "t4T62miuQ-zv",
        "outputId": "119cc04b-7037-4d93-aeb9-9cf50be472ea"
      },
      "execution_count": null,
      "outputs": [
        {
          "output_type": "stream",
          "name": "stdout",
          "text": [
            "0\n",
            "4\n"
          ]
        }
      ]
    },
    {
      "cell_type": "markdown",
      "source": [
        "## Numbers\n",
        "\n",
        "#### Integer range in python"
      ],
      "metadata": {
        "id": "OW-x0QLkXgB4"
      }
    },
    {
      "cell_type": "code",
      "source": [
        "import sys"
      ],
      "metadata": {
        "id": "Ce2n_1JYRhve"
      },
      "execution_count": null,
      "outputs": []
    },
    {
      "cell_type": "code",
      "source": [
        "help(sys.getsizeof)"
      ],
      "metadata": {
        "colab": {
          "base_uri": "https://localhost:8080/"
        },
        "id": "X3J24AjmRhnp",
        "outputId": "de3025e3-3e92-4e15-8429-1078fd531067"
      },
      "execution_count": null,
      "outputs": [
        {
          "output_type": "stream",
          "name": "stdout",
          "text": [
            "Help on built-in function getsizeof in module sys:\n",
            "\n",
            "getsizeof(...)\n",
            "    getsizeof(object [, default]) -> int\n",
            "    \n",
            "    Return the size of object in bytes.\n",
            "\n"
          ]
        }
      ]
    },
    {
      "cell_type": "code",
      "source": [
        "print(sys.getsizeof(0)) # min space required to store an it\n",
        "print(sys.getsizeof(1))\n",
        "print(sys.getsizeof(10))\n",
        "print(sys.getsizeof(100))\n",
        "print(sys.getsizeof(1000))\n",
        "print(sys.getsizeof(2**1000))"
      ],
      "metadata": {
        "colab": {
          "base_uri": "https://localhost:8080/"
        },
        "id": "uq2E3NEYXvTV",
        "outputId": "8cea01eb-6cb6-45e4-9e0c-64d9969180c8"
      },
      "execution_count": null,
      "outputs": [
        {
          "output_type": "stream",
          "name": "stdout",
          "text": [
            "24\n",
            "28\n",
            "28\n",
            "28\n",
            "28\n",
            "160\n"
          ]
        }
      ]
    },
    {
      "cell_type": "markdown",
      "source": [
        "larger the number, more time CPU will take on operations"
      ],
      "metadata": {
        "id": "XU1ozIhJa3x8"
      }
    },
    {
      "cell_type": "code",
      "source": [
        "import time"
      ],
      "metadata": {
        "id": "KqabZLeZaNi8"
      },
      "execution_count": null,
      "outputs": []
    },
    {
      "cell_type": "code",
      "source": [
        "def compute(num):\n",
        "    for i in range(1000000):\n",
        "        2 * num"
      ],
      "metadata": {
        "id": "nvvVRDgOa-vF"
      },
      "execution_count": null,
      "outputs": []
    },
    {
      "cell_type": "code",
      "source": [
        "start = time.perf_counter()\n",
        "compute(10)\n",
        "end = time.perf_counter()\n",
        "\n",
        "print(end - start)"
      ],
      "metadata": {
        "colab": {
          "base_uri": "https://localhost:8080/"
        },
        "id": "GICvHJkAbIJT",
        "outputId": "c05d854a-36e2-47b4-bb45-49906472e4ec"
      },
      "execution_count": null,
      "outputs": [
        {
          "output_type": "stream",
          "name": "stdout",
          "text": [
            "0.04266776200165623\n"
          ]
        }
      ]
    },
    {
      "cell_type": "code",
      "source": [
        "2**100"
      ],
      "metadata": {
        "colab": {
          "base_uri": "https://localhost:8080/"
        },
        "id": "ZD03AAvebo67",
        "outputId": "a23042c7-af28-42ce-c610-2504d4bdeaf6"
      },
      "execution_count": null,
      "outputs": [
        {
          "output_type": "execute_result",
          "data": {
            "text/plain": [
              "1267650600228229401496703205376"
            ]
          },
          "metadata": {},
          "execution_count": 103
        }
      ]
    },
    {
      "cell_type": "code",
      "source": [
        "start = time.perf_counter()\n",
        "compute(2**1000)\n",
        "end = time.perf_counter()\n",
        "\n",
        "print(end - start)"
      ],
      "metadata": {
        "colab": {
          "base_uri": "https://localhost:8080/"
        },
        "id": "2IhmegJMbQuU",
        "outputId": "51547bd0-5d79-46dd-d4d9-21cedb45c325"
      },
      "execution_count": null,
      "outputs": [
        {
          "output_type": "stream",
          "name": "stdout",
          "text": [
            "0.11665883299792768\n"
          ]
        }
      ]
    },
    {
      "cell_type": "markdown",
      "source": [
        "### Operations"
      ],
      "metadata": {
        "id": "9JWVQo-TdjzU"
      }
    },
    {
      "cell_type": "code",
      "source": [
        "print(3 // 2)\n",
        "print(3.6 // 2)\n",
        "print(-3.6 // 2)"
      ],
      "metadata": {
        "colab": {
          "base_uri": "https://localhost:8080/"
        },
        "id": "QM3ggSR3bX9U",
        "outputId": "6fad41ec-24de-4d68-a6e4-836e7d39df37"
      },
      "execution_count": null,
      "outputs": [
        {
          "output_type": "stream",
          "name": "stdout",
          "text": [
            "1\n",
            "1.0\n",
            "-2.0\n"
          ]
        }
      ]
    },
    {
      "cell_type": "code",
      "source": [
        "import math"
      ],
      "metadata": {
        "id": "YxK8lLKodykE"
      },
      "execution_count": 109,
      "outputs": []
    },
    {
      "cell_type": "code",
      "source": [
        "print(math.floor(4.2))\n",
        "print(math.floor(-4.2))\n",
        "print(math.floor(-4.000000000000002))\n",
        "print(math.floor(-4.000000000000000002))"
      ],
      "metadata": {
        "colab": {
          "base_uri": "https://localhost:8080/"
        },
        "id": "Kr4GnvNrhiBN",
        "outputId": "33b334cc-b380-4dc8-dfeb-1ed8e79a7c17"
      },
      "execution_count": 118,
      "outputs": [
        {
          "output_type": "stream",
          "name": "stdout",
          "text": [
            "4\n",
            "-5\n",
            "-5\n",
            "-4\n"
          ]
        }
      ]
    },
    {
      "cell_type": "code",
      "source": [
        "math.trunc"
      ],
      "metadata": {
        "id": "E9OGl7blhn2L"
      },
      "execution_count": null,
      "outputs": []
    },
    {
      "cell_type": "markdown",
      "source": [
        "### Integer Constructors and Bases"
      ],
      "metadata": {
        "id": "eGEKrsDgiSPK"
      }
    },
    {
      "cell_type": "code",
      "source": [
        "a = int(123)\n",
        "b = int(-13)\n",
        "c = int(312.321)\n",
        "d = int(-123.123)\n",
        "\n",
        "print(a)\n",
        "print(b)\n",
        "print(c)\n",
        "print(d)"
      ],
      "metadata": {
        "colab": {
          "base_uri": "https://localhost:8080/"
        },
        "id": "7ef4fQ0PiSnN",
        "outputId": "4804e797-4fa3-492f-e3a6-a2bd337b0532"
      },
      "execution_count": 121,
      "outputs": [
        {
          "output_type": "stream",
          "name": "stdout",
          "text": [
            "123\n",
            "-13\n",
            "312\n",
            "-123\n"
          ]
        }
      ]
    },
    {
      "cell_type": "code",
      "source": [],
      "metadata": {
        "id": "eGIQKUK5iigJ"
      },
      "execution_count": null,
      "outputs": []
    }
  ]
}