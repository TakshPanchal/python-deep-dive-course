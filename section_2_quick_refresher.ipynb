{
 "cells": [
  {
   "cell_type": "markdown",
   "metadata": {},
   "source": [
    "# Quick Refresher"
   ]
  },
  {
   "cell_type": "markdown",
   "metadata": {},
   "source": [
    "Basic Data Structures available in python"
   ]
  },
  {
   "cell_type": "code",
   "execution_count": null,
   "metadata": {},
   "outputs": [],
   "source": [
    "ls = [1, 2, 3] # list\n",
    "tup = (1, 2, 3) # Tuple\n",
    "s = {1, 2, 3} # Set\n",
    "mp = {\n",
    "    1: \"One\",\n",
    "    2: \"Two\"\n",
    "} # Map"
   ]
  },
  {
   "cell_type": "markdown",
   "metadata": {},
   "source": [
    "## Multiline Statements and Strings"
   ]
  },
  {
   "cell_type": "markdown",
   "metadata": {},
   "source": [
    "This type of implicit newline will work with all data-structes and also with function parameters and arguments."
   ]
  },
  {
   "cell_type": "code",
   "execution_count": 1,
   "metadata": {},
   "outputs": [],
   "source": [
    "ls = [\n",
    "    \"This is really long string value\",  # Inplicit newline in the code\n",
    "    \"This is also really long string value\",\n",
    "]"
   ]
  },
  {
   "cell_type": "markdown",
   "metadata": {},
   "source": [
    "sometimes lines got bigger in code but we need to keep the length of the line to certain char as per PEP guideline, in that cases we will saparate logical lines by adding `\\` to create multiple physical lines.\n",
    "\n",
    "**Note** : Indetation won't matter between saparated line."
   ]
  },
  {
   "cell_type": "code",
   "execution_count": 2,
   "metadata": {},
   "outputs": [
    {
     "name": "stdout",
     "output_type": "stream",
     "text": [
      "yes\n"
     ]
    }
   ],
   "source": [
    "a = 5\n",
    "b = 10\n",
    "c = 12\n",
    "\n",
    "# Note about the indentation bcz after all in the final code there will be single line only\n",
    "if a > 0 and b > 0 and c > 10:\n",
    "    print(\"yes\")"
   ]
  },
  {
   "cell_type": "markdown",
   "metadata": {},
   "source": [
    "Note that don't intend multiline strings, indentaions will be printed as it is."
   ]
  },
  {
   "cell_type": "code",
   "execution_count": 4,
   "metadata": {},
   "outputs": [
    {
     "name": "stdout",
     "output_type": "stream",
     "text": [
      " This is a really long\n",
      "  multiline string .\n",
      "  a tab \t char\n"
     ]
    }
   ],
   "source": [
    "mul_string = \"\"\" This is a really long\n",
    "  multiline string .\n",
    "  a tab \\t char\"\"\"\n",
    "\n",
    "print(mul_string)  # note all the newline char and spaces and tabs are also printed."
   ]
  },
  {
   "cell_type": "markdown",
   "metadata": {},
   "source": [
    "## Function"
   ]
  },
  {
   "cell_type": "code",
   "execution_count": 15,
   "metadata": {},
   "outputs": [
    {
     "data": {
      "text/plain": [
       "function"
      ]
     },
     "execution_count": 15,
     "metadata": {},
     "output_type": "execute_result"
    }
   ],
   "source": [
    "def func_1():\n",
    "    print(\"inside function 1\")\n",
    "\n",
    "\n",
    "type(func_1)  # It is just another object in the memory"
   ]
  },
  {
   "cell_type": "code",
   "execution_count": 16,
   "metadata": {},
   "outputs": [
    {
     "name": "stdout",
     "output_type": "stream",
     "text": [
      "<function <lambda> at 0x105693700>\n",
      "12\n"
     ]
    }
   ],
   "source": [
    "print(lambda x: x + 2)  # Note: this will return a function obj which is callable\n",
    "print(\n",
    "    (lambda x: x + 2)(10)\n",
    ")  # It is mostly used when a single line manipulation is required to pass to another function\n",
    "fn_l = lambda y: y**2  # also can be assigned to a variable"
   ]
  },
  {
   "cell_type": "code",
   "execution_count": 17,
   "metadata": {},
   "outputs": [
    {
     "name": "stdout",
     "output_type": "stream",
     "text": [
      "asfa\n"
     ]
    }
   ],
   "source": [
    "MIN_LEN = 2\n",
    "\n",
    "# name = input(\"Enter name: \")\n",
    "\n",
    "# while not(len(name) >= MIN_LEN and name.isprintable() and name.isalpha()):\n",
    "#   name = input(\"Enter name: \")\n",
    "\n",
    "\n",
    "# using break stmt\n",
    "while True:\n",
    "    name = input(\"Enter Name:\")\n",
    "\n",
    "    if len(name) >= MIN_LEN and name.isprintable() and name.isalpha():\n",
    "        break\n",
    "\n",
    "print(name)"
   ]
  },
  {
   "cell_type": "markdown",
   "metadata": {},
   "source": [
    "`else` clause after `while` loop"
   ]
  },
  {
   "cell_type": "code",
   "execution_count": 18,
   "metadata": {},
   "outputs": [
    {
     "name": "stdout",
     "output_type": "stream",
     "text": [
      "No val found\n",
      "[1, 2, 3, 10]\n"
     ]
    }
   ],
   "source": [
    "# find if element is exist in a list, if not then append it to the\n",
    "l = [1, 2, 3]\n",
    "val = 10\n",
    "\n",
    "idx = 0\n",
    "\n",
    "while idx < len(l):\n",
    "    if l[idx] == val:\n",
    "        break\n",
    "    idx += 1\n",
    "else:\n",
    "    # This will be run when while loop ended by False cond\n",
    "    print(\"No val found\")\n",
    "    l.append(val)\n",
    "\n",
    "print(l)"
   ]
  },
  {
   "cell_type": "markdown",
   "metadata": {},
   "source": [
    "## Clases"
   ]
  },
  {
   "cell_type": "markdown",
   "metadata": {},
   "source": [
    "getters and setters are hidden from the user and implemented by decorators"
   ]
  },
  {
   "cell_type": "code",
   "execution_count": 19,
   "metadata": {},
   "outputs": [],
   "source": [
    "class Circle:\n",
    "    def __init__(self, radius):\n",
    "        # setter is used here\n",
    "        self.radius = radius\n",
    "\n",
    "    @property\n",
    "    def radius(self):\n",
    "        return self._radius\n",
    "\n",
    "    @radius.setter\n",
    "    def radius(self, radius):\n",
    "        if radius < 0:\n",
    "            raise ValueError(\"Negative value of the radius is not acceptable.\")\n",
    "        self._radius = radius\n",
    "\n",
    "    def __str__(self):\n",
    "        return f\"Circle : radius={self.radius}\"\n",
    "\n",
    "    def __repr__(self):\n",
    "        return f\"Circle({self.radius})\""
   ]
  },
  {
   "cell_type": "code",
   "execution_count": 20,
   "metadata": {},
   "outputs": [
    {
     "data": {
      "text/plain": [
       "Circle(25)"
      ]
     },
     "execution_count": 20,
     "metadata": {},
     "output_type": "execute_result"
    }
   ],
   "source": [
    "c = Circle(25)\n",
    "c"
   ]
  },
  {
   "cell_type": "code",
   "execution_count": 21,
   "metadata": {},
   "outputs": [
    {
     "ename": "ValueError",
     "evalue": "Negative value of the radius is not acceptable.",
     "output_type": "error",
     "traceback": [
      "\u001b[0;31m---------------------------------------------------------------------------\u001b[0m",
      "\u001b[0;31mValueError\u001b[0m                                Traceback (most recent call last)",
      "Cell \u001b[0;32mIn[21], line 5\u001b[0m\n\u001b[1;32m      3\u001b[0m c\u001b[39m.\u001b[39mradius \u001b[39m=\u001b[39m \u001b[39m11\u001b[39m\n\u001b[1;32m      4\u001b[0m c\n\u001b[0;32m----> 5\u001b[0m c2 \u001b[39m=\u001b[39m Circle(\u001b[39m-\u001b[39;49m\u001b[39m25\u001b[39;49m)\n\u001b[1;32m      6\u001b[0m c2\n",
      "Cell \u001b[0;32mIn[19], line 4\u001b[0m, in \u001b[0;36mCircle.__init__\u001b[0;34m(self, radius)\u001b[0m\n\u001b[1;32m      2\u001b[0m \u001b[39mdef\u001b[39;00m \u001b[39m__init__\u001b[39m(\u001b[39mself\u001b[39m, radius):\n\u001b[1;32m      3\u001b[0m     \u001b[39m# setter is used here\u001b[39;00m\n\u001b[0;32m----> 4\u001b[0m     \u001b[39mself\u001b[39;49m\u001b[39m.\u001b[39;49mradius \u001b[39m=\u001b[39m radius\n",
      "Cell \u001b[0;32mIn[19], line 13\u001b[0m, in \u001b[0;36mCircle.radius\u001b[0;34m(self, radius)\u001b[0m\n\u001b[1;32m     10\u001b[0m \u001b[39m@radius\u001b[39m\u001b[39m.\u001b[39msetter\n\u001b[1;32m     11\u001b[0m \u001b[39mdef\u001b[39;00m \u001b[39mradius\u001b[39m(\u001b[39mself\u001b[39m, radius):\n\u001b[1;32m     12\u001b[0m     \u001b[39mif\u001b[39;00m radius \u001b[39m<\u001b[39m \u001b[39m0\u001b[39m:\n\u001b[0;32m---> 13\u001b[0m         \u001b[39mraise\u001b[39;00m \u001b[39mValueError\u001b[39;00m(\u001b[39m\"\u001b[39m\u001b[39mNegative value of the radius is not acceptable.\u001b[39m\u001b[39m\"\u001b[39m)\n\u001b[1;32m     14\u001b[0m     \u001b[39mself\u001b[39m\u001b[39m.\u001b[39m_radius \u001b[39m=\u001b[39m radius\n",
      "\u001b[0;31mValueError\u001b[0m: Negative value of the radius is not acceptable."
     ]
    }
   ],
   "source": [
    "c = Circle(25)\n",
    "c\n",
    "c.radius = 11\n",
    "c\n",
    "c2 = Circle(-25)\n",
    "c2"
   ]
  }
 ],
 "metadata": {
  "kernelspec": {
   "display_name": "Python 3",
   "language": "python",
   "name": "python3"
  },
  "language_info": {
   "codemirror_mode": {
    "name": "ipython",
    "version": 3
   },
   "file_extension": ".py",
   "mimetype": "text/x-python",
   "name": "python",
   "nbconvert_exporter": "python",
   "pygments_lexer": "ipython3",
   "version": "3.9.6"
  },
  "orig_nbformat": 4
 },
 "nbformat": 4,
 "nbformat_minor": 2
}
